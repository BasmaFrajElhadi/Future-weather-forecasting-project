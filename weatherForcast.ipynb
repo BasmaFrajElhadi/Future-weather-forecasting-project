{
 "cells": [
  {
   "cell_type": "markdown",
   "metadata": {},
   "source": [
    "# Future weather forecasting project"
   ]
  },
  {
   "cell_type": "markdown",
   "metadata": {},
   "source": [
    "##### My project is a forecast of the weather in the future, and although it appears to be an easy project, it is not really so. Trying to predict the weather and getting an approximate value is considered an achievement!"
   ]
  },
  {
   "cell_type": "markdown",
   "metadata": {},
   "source": [
    "The data will be collected (scraping) from the website [Wunderground](https://www.wunderground.com/).And i will use Selenium framework and a Chrome browser to scrape the data from the website."
   ]
  },
  {
   "cell_type": "markdown",
   "metadata": {},
   "source": [
    "New York City was chosen to be a source of data from the station (LAGUARDIA AIRPORT STATION|CHANGE) because America is one of the leading countries in meteorology"
   ]
  },
  {
   "cell_type": "code",
   "execution_count": 226,
   "metadata": {},
   "outputs": [],
   "source": [
    "import pandas as pd\n",
    "import numpy as np\n",
    "import plotly.express as px\n",
    "import plotly.graph_objects as go\n",
    "from statsmodels.tsa.api import VAR\n",
    "from sklearn.preprocessing import MinMaxScaler\n",
    "from sklearn.preprocessing import OneHotEncoder\n",
    "from statsmodels.tsa.stattools import adfuller\n",
    "from sklearn.metrics import mean_squared_error\n",
    "from sklearn.model_selection import train_test_split\n",
    "from statsmodels.tools.eval_measures import rmse"
   ]
  },
  {
   "cell_type": "code",
   "execution_count": 227,
   "metadata": {},
   "outputs": [],
   "source": [
    "df = pd.read_csv('weather.csv')"
   ]
  },
  {
   "cell_type": "code",
   "execution_count": 228,
   "metadata": {},
   "outputs": [
    {
     "data": {
      "text/html": [
       "<div>\n",
       "<style scoped>\n",
       "    .dataframe tbody tr th:only-of-type {\n",
       "        vertical-align: middle;\n",
       "    }\n",
       "\n",
       "    .dataframe tbody tr th {\n",
       "        vertical-align: top;\n",
       "    }\n",
       "\n",
       "    .dataframe thead th {\n",
       "        text-align: right;\n",
       "    }\n",
       "</style>\n",
       "<table border=\"1\" class=\"dataframe\">\n",
       "  <thead>\n",
       "    <tr style=\"text-align: right;\">\n",
       "      <th></th>\n",
       "      <th>Unnamed: 0</th>\n",
       "      <th>Date</th>\n",
       "      <th>Humidity_Avg</th>\n",
       "      <th>Wind_Type</th>\n",
       "      <th>Pressure_Avg</th>\n",
       "      <th>Condition</th>\n",
       "      <th>Temperature_Avg</th>\n",
       "      <th>Temperature_Historic</th>\n",
       "      <th>Precipitation_Actual</th>\n",
       "      <th>Precipitation_Historic</th>\n",
       "      <th>Dew_Point</th>\n",
       "      <th>Max_Wind_Speed</th>\n",
       "      <th>Sea_Level_Pressure</th>\n",
       "      <th>Day_Length</th>\n",
       "    </tr>\n",
       "  </thead>\n",
       "  <tbody>\n",
       "    <tr>\n",
       "      <th>0</th>\n",
       "      <td>0</td>\n",
       "      <td>2009-01-01 00:00:00</td>\n",
       "      <td>57 %</td>\n",
       "      <td>NW</td>\n",
       "      <td>30.24 in</td>\n",
       "      <td>Fair /</td>\n",
       "      <td>21.79</td>\n",
       "      <td>36.1</td>\n",
       "      <td>0.0</td>\n",
       "      <td>5.7</td>\n",
       "      <td>4.33</td>\n",
       "      <td>29.0</td>\n",
       "      <td>30.26</td>\n",
       "      <td>9h 18m</td>\n",
       "    </tr>\n",
       "    <tr>\n",
       "      <th>1</th>\n",
       "      <td>1</td>\n",
       "      <td>2009-01-02 00:00:00</td>\n",
       "      <td>75 %</td>\n",
       "      <td>SW</td>\n",
       "      <td>29.74 in</td>\n",
       "      <td>Cloudy</td>\n",
       "      <td>31.23</td>\n",
       "      <td>35.9</td>\n",
       "      <td>0.0</td>\n",
       "      <td>5.7</td>\n",
       "      <td>18.37</td>\n",
       "      <td>18.0</td>\n",
       "      <td>30.18</td>\n",
       "      <td>9h 19m</td>\n",
       "    </tr>\n",
       "    <tr>\n",
       "      <th>2</th>\n",
       "      <td>2</td>\n",
       "      <td>2009-01-03 00:00:00</td>\n",
       "      <td>46 %</td>\n",
       "      <td>WNW</td>\n",
       "      <td>29.95 in</td>\n",
       "      <td>Fair</td>\n",
       "      <td>34.33</td>\n",
       "      <td>35.7</td>\n",
       "      <td>0.0</td>\n",
       "      <td>5.7</td>\n",
       "      <td>17.29</td>\n",
       "      <td>25.0</td>\n",
       "      <td>30.05</td>\n",
       "      <td>9h 20m</td>\n",
       "    </tr>\n",
       "    <tr>\n",
       "      <th>3</th>\n",
       "      <td>3</td>\n",
       "      <td>2009-01-04 00:00:00</td>\n",
       "      <td>53 %</td>\n",
       "      <td>WNW</td>\n",
       "      <td>30.01 in</td>\n",
       "      <td>Fair</td>\n",
       "      <td>34.04</td>\n",
       "      <td>35.5</td>\n",
       "      <td>0.0</td>\n",
       "      <td>5.7</td>\n",
       "      <td>13.13</td>\n",
       "      <td>23.0</td>\n",
       "      <td>30.09</td>\n",
       "      <td>9h 21m</td>\n",
       "    </tr>\n",
       "    <tr>\n",
       "      <th>4</th>\n",
       "      <td>4</td>\n",
       "      <td>2009-01-05 00:00:00</td>\n",
       "      <td>53 %</td>\n",
       "      <td>NW</td>\n",
       "      <td>29.90 in</td>\n",
       "      <td>Cloudy</td>\n",
       "      <td>41.89</td>\n",
       "      <td>35.4</td>\n",
       "      <td>0.0</td>\n",
       "      <td>5.7</td>\n",
       "      <td>22.33</td>\n",
       "      <td>18.0</td>\n",
       "      <td>29.98</td>\n",
       "      <td>9h 22m</td>\n",
       "    </tr>\n",
       "  </tbody>\n",
       "</table>\n",
       "</div>"
      ],
      "text/plain": [
       "   Unnamed: 0                 Date Humidity_Avg Wind_Type Pressure_Avg  \\\n",
       "0           0  2009-01-01 00:00:00         57 %        NW     30.24 in   \n",
       "1           1  2009-01-02 00:00:00         75 %        SW     29.74 in   \n",
       "2           2  2009-01-03 00:00:00         46 %       WNW     29.95 in   \n",
       "3           3  2009-01-04 00:00:00         53 %       WNW     30.01 in   \n",
       "4           4  2009-01-05 00:00:00         53 %        NW     29.90 in   \n",
       "\n",
       "  Condition  Temperature_Avg  Temperature_Historic  Precipitation_Actual  \\\n",
       "0    Fair /            21.79                  36.1                   0.0   \n",
       "1    Cloudy            31.23                  35.9                   0.0   \n",
       "2      Fair            34.33                  35.7                   0.0   \n",
       "3      Fair            34.04                  35.5                   0.0   \n",
       "4    Cloudy            41.89                  35.4                   0.0   \n",
       "\n",
       "   Precipitation_Historic  Dew_Point  Max_Wind_Speed  Sea_Level_Pressure  \\\n",
       "0                     5.7       4.33            29.0               30.26   \n",
       "1                     5.7      18.37            18.0               30.18   \n",
       "2                     5.7      17.29            25.0               30.05   \n",
       "3                     5.7      13.13            23.0               30.09   \n",
       "4                     5.7      22.33            18.0               29.98   \n",
       "\n",
       "  Day_Length  \n",
       "0     9h 18m  \n",
       "1     9h 19m  \n",
       "2     9h 20m  \n",
       "3     9h 21m  \n",
       "4     9h 22m  "
      ]
     },
     "execution_count": 228,
     "metadata": {},
     "output_type": "execute_result"
    }
   ],
   "source": [
    "df.head()"
   ]
  },
  {
   "cell_type": "code",
   "execution_count": 229,
   "metadata": {},
   "outputs": [
    {
     "data": {
      "text/html": [
       "<div>\n",
       "<style scoped>\n",
       "    .dataframe tbody tr th:only-of-type {\n",
       "        vertical-align: middle;\n",
       "    }\n",
       "\n",
       "    .dataframe tbody tr th {\n",
       "        vertical-align: top;\n",
       "    }\n",
       "\n",
       "    .dataframe thead th {\n",
       "        text-align: right;\n",
       "    }\n",
       "</style>\n",
       "<table border=\"1\" class=\"dataframe\">\n",
       "  <thead>\n",
       "    <tr style=\"text-align: right;\">\n",
       "      <th></th>\n",
       "      <th>Unnamed: 0</th>\n",
       "      <th>Date</th>\n",
       "      <th>Humidity_Avg</th>\n",
       "      <th>Wind_Type</th>\n",
       "      <th>Pressure_Avg</th>\n",
       "      <th>Condition</th>\n",
       "      <th>Temperature_Avg</th>\n",
       "      <th>Temperature_Historic</th>\n",
       "      <th>Precipitation_Actual</th>\n",
       "      <th>Precipitation_Historic</th>\n",
       "      <th>Dew_Point</th>\n",
       "      <th>Max_Wind_Speed</th>\n",
       "      <th>Sea_Level_Pressure</th>\n",
       "      <th>Day_Length</th>\n",
       "    </tr>\n",
       "  </thead>\n",
       "  <tbody>\n",
       "    <tr>\n",
       "      <th>5447</th>\n",
       "      <td>1047</td>\n",
       "      <td>2023-12-26 00:00:00</td>\n",
       "      <td>89 %</td>\n",
       "      <td>ENE</td>\n",
       "      <td>30.32 in</td>\n",
       "      <td>Cloudy</td>\n",
       "      <td>44.76</td>\n",
       "      <td>37.4</td>\n",
       "      <td>0.00</td>\n",
       "      <td>5.7</td>\n",
       "      <td>41.65</td>\n",
       "      <td>7.0</td>\n",
       "      <td>30.35</td>\n",
       "      <td>9h 15m</td>\n",
       "    </tr>\n",
       "    <tr>\n",
       "      <th>5448</th>\n",
       "      <td>1048</td>\n",
       "      <td>2023-12-27 00:00:00</td>\n",
       "      <td>93 %</td>\n",
       "      <td>NE</td>\n",
       "      <td>30.13 in</td>\n",
       "      <td>Light Rain</td>\n",
       "      <td>44.53</td>\n",
       "      <td>37.2</td>\n",
       "      <td>0.00</td>\n",
       "      <td>5.7</td>\n",
       "      <td>42.08</td>\n",
       "      <td>20.0</td>\n",
       "      <td>30.17</td>\n",
       "      <td>9h 15m</td>\n",
       "    </tr>\n",
       "    <tr>\n",
       "      <th>5449</th>\n",
       "      <td>1049</td>\n",
       "      <td>2023-12-28 00:00:00</td>\n",
       "      <td>93 %</td>\n",
       "      <td>NE</td>\n",
       "      <td>29.67 in</td>\n",
       "      <td>Light Drizzle</td>\n",
       "      <td>49.80</td>\n",
       "      <td>37.0</td>\n",
       "      <td>1.31</td>\n",
       "      <td>5.7</td>\n",
       "      <td>47.43</td>\n",
       "      <td>29.0</td>\n",
       "      <td>29.77</td>\n",
       "      <td>9h 16m</td>\n",
       "    </tr>\n",
       "    <tr>\n",
       "      <th>5450</th>\n",
       "      <td>1050</td>\n",
       "      <td>2023-12-29 00:00:00</td>\n",
       "      <td>93 %</td>\n",
       "      <td>NE</td>\n",
       "      <td>29.65 in</td>\n",
       "      <td>Mostly Cloudy</td>\n",
       "      <td>48.74</td>\n",
       "      <td>36.7</td>\n",
       "      <td>0.09</td>\n",
       "      <td>5.7</td>\n",
       "      <td>43.45</td>\n",
       "      <td>17.0</td>\n",
       "      <td>29.66</td>\n",
       "      <td>9h 16m</td>\n",
       "    </tr>\n",
       "    <tr>\n",
       "      <th>5451</th>\n",
       "      <td>1051</td>\n",
       "      <td>2023-12-30 00:00:00</td>\n",
       "      <td>58 %</td>\n",
       "      <td>W</td>\n",
       "      <td>29.59 in</td>\n",
       "      <td>Mostly Cloudy</td>\n",
       "      <td>43.60</td>\n",
       "      <td>36.5</td>\n",
       "      <td>0.00</td>\n",
       "      <td>5.7</td>\n",
       "      <td>30.36</td>\n",
       "      <td>20.0</td>\n",
       "      <td>29.80</td>\n",
       "      <td>9h 16m</td>\n",
       "    </tr>\n",
       "  </tbody>\n",
       "</table>\n",
       "</div>"
      ],
      "text/plain": [
       "      Unnamed: 0                 Date Humidity_Avg Wind_Type Pressure_Avg  \\\n",
       "5447        1047  2023-12-26 00:00:00         89 %       ENE     30.32 in   \n",
       "5448        1048  2023-12-27 00:00:00         93 %        NE     30.13 in   \n",
       "5449        1049  2023-12-28 00:00:00         93 %        NE     29.67 in   \n",
       "5450        1050  2023-12-29 00:00:00         93 %        NE     29.65 in   \n",
       "5451        1051  2023-12-30 00:00:00         58 %         W     29.59 in   \n",
       "\n",
       "          Condition  Temperature_Avg  Temperature_Historic  \\\n",
       "5447         Cloudy            44.76                  37.4   \n",
       "5448     Light Rain            44.53                  37.2   \n",
       "5449  Light Drizzle            49.80                  37.0   \n",
       "5450  Mostly Cloudy            48.74                  36.7   \n",
       "5451  Mostly Cloudy            43.60                  36.5   \n",
       "\n",
       "      Precipitation_Actual  Precipitation_Historic  Dew_Point  Max_Wind_Speed  \\\n",
       "5447                  0.00                     5.7      41.65             7.0   \n",
       "5448                  0.00                     5.7      42.08            20.0   \n",
       "5449                  1.31                     5.7      47.43            29.0   \n",
       "5450                  0.09                     5.7      43.45            17.0   \n",
       "5451                  0.00                     5.7      30.36            20.0   \n",
       "\n",
       "      Sea_Level_Pressure Day_Length  \n",
       "5447               30.35     9h 15m  \n",
       "5448               30.17     9h 15m  \n",
       "5449               29.77     9h 16m  \n",
       "5450               29.66     9h 16m  \n",
       "5451               29.80     9h 16m  "
      ]
     },
     "execution_count": 229,
     "metadata": {},
     "output_type": "execute_result"
    }
   ],
   "source": [
    "df.tail()"
   ]
  },
  {
   "cell_type": "markdown",
   "metadata": {},
   "source": [
    "<ul>\n",
    "<li>The feature \"Unnamed: 0\" should be removed.</li>\n",
    "<li>Some properties contain units of measurement. To deal with these properties better, the units must be removed.</li>\n",
    "<li>For an unclear reason, the \"Condition\" feature contains a slash at the index zero.</li>\n",
    "</ul>"
   ]
  },
  {
   "cell_type": "code",
   "execution_count": 230,
   "metadata": {},
   "outputs": [
    {
     "data": {
      "text/plain": [
       "(5452, 14)"
      ]
     },
     "execution_count": 230,
     "metadata": {},
     "output_type": "execute_result"
    }
   ],
   "source": [
    "df.shape"
   ]
  },
  {
   "cell_type": "code",
   "execution_count": 231,
   "metadata": {},
   "outputs": [
    {
     "data": {
      "text/plain": [
       "Index(['Unnamed: 0', 'Date', 'Humidity_Avg', 'Wind_Type', 'Pressure_Avg',\n",
       "       'Condition', 'Temperature_Avg', 'Temperature_Historic',\n",
       "       'Precipitation_Actual', 'Precipitation_Historic', 'Dew_Point',\n",
       "       'Max_Wind_Speed', 'Sea_Level_Pressure', 'Day_Length'],\n",
       "      dtype='object')"
      ]
     },
     "execution_count": 231,
     "metadata": {},
     "output_type": "execute_result"
    }
   ],
   "source": [
    "df.columns"
   ]
  },
  {
   "cell_type": "markdown",
   "metadata": {},
   "source": [
    "The features names do not need to be modified."
   ]
  },
  {
   "cell_type": "code",
   "execution_count": 232,
   "metadata": {},
   "outputs": [
    {
     "name": "stdout",
     "output_type": "stream",
     "text": [
      "<class 'pandas.core.frame.DataFrame'>\n",
      "RangeIndex: 5452 entries, 0 to 5451\n",
      "Data columns (total 14 columns):\n",
      " #   Column                  Non-Null Count  Dtype  \n",
      "---  ------                  --------------  -----  \n",
      " 0   Unnamed: 0              5452 non-null   int64  \n",
      " 1   Date                    5452 non-null   object \n",
      " 2   Humidity_Avg            5378 non-null   object \n",
      " 3   Wind_Type               5378 non-null   object \n",
      " 4   Pressure_Avg            5378 non-null   object \n",
      " 5   Condition               5378 non-null   object \n",
      " 6   Temperature_Avg         5361 non-null   float64\n",
      " 7   Temperature_Historic    5391 non-null   float64\n",
      " 8   Precipitation_Actual    5398 non-null   float64\n",
      " 9   Precipitation_Historic  5399 non-null   float64\n",
      " 10  Dew_Point               5399 non-null   float64\n",
      " 11  Max_Wind_Speed          5399 non-null   float64\n",
      " 12  Sea_Level_Pressure      5399 non-null   float64\n",
      " 13  Day_Length              5394 non-null   object \n",
      "dtypes: float64(7), int64(1), object(6)\n",
      "memory usage: 596.4+ KB\n"
     ]
    }
   ],
   "source": [
    "df.info()"
   ]
  },
  {
   "cell_type": "markdown",
   "metadata": {},
   "source": [
    "<ul>\n",
    "  <li>It is noted that there are some missing values.</li>\n",
    "  <li>There are some features that need to have their data types converted: Date, Pressure_Avg, Humidity_Avg, and Day_length.</li>\n",
    "</ul>\n"
   ]
  },
  {
   "cell_type": "code",
   "execution_count": 233,
   "metadata": {},
   "outputs": [
    {
     "data": {
      "text/html": [
       "<div>\n",
       "<style scoped>\n",
       "    .dataframe tbody tr th:only-of-type {\n",
       "        vertical-align: middle;\n",
       "    }\n",
       "\n",
       "    .dataframe tbody tr th {\n",
       "        vertical-align: top;\n",
       "    }\n",
       "\n",
       "    .dataframe thead th {\n",
       "        text-align: right;\n",
       "    }\n",
       "</style>\n",
       "<table border=\"1\" class=\"dataframe\">\n",
       "  <thead>\n",
       "    <tr style=\"text-align: right;\">\n",
       "      <th></th>\n",
       "      <th>Unnamed: 0</th>\n",
       "      <th>Temperature_Avg</th>\n",
       "      <th>Temperature_Historic</th>\n",
       "      <th>Precipitation_Actual</th>\n",
       "      <th>Precipitation_Historic</th>\n",
       "      <th>Dew_Point</th>\n",
       "      <th>Max_Wind_Speed</th>\n",
       "      <th>Sea_Level_Pressure</th>\n",
       "    </tr>\n",
       "  </thead>\n",
       "  <tbody>\n",
       "    <tr>\n",
       "      <th>count</th>\n",
       "      <td>5452.000000</td>\n",
       "      <td>5361.000000</td>\n",
       "      <td>5391.000000</td>\n",
       "      <td>5398.000000</td>\n",
       "      <td>5399.000000</td>\n",
       "      <td>5399.000000</td>\n",
       "      <td>5399.000000</td>\n",
       "      <td>5399.000000</td>\n",
       "    </tr>\n",
       "    <tr>\n",
       "      <th>mean</th>\n",
       "      <td>1116.553375</td>\n",
       "      <td>56.854587</td>\n",
       "      <td>56.910722</td>\n",
       "      <td>0.085773</td>\n",
       "      <td>4.743638</td>\n",
       "      <td>41.861221</td>\n",
       "      <td>18.085201</td>\n",
       "      <td>30.097990</td>\n",
       "    </tr>\n",
       "    <tr>\n",
       "      <th>std</th>\n",
       "      <td>944.522066</td>\n",
       "      <td>17.029709</td>\n",
       "      <td>15.801785</td>\n",
       "      <td>0.304303</td>\n",
       "      <td>0.758811</td>\n",
       "      <td>18.306307</td>\n",
       "      <td>5.629324</td>\n",
       "      <td>0.211808</td>\n",
       "    </tr>\n",
       "    <tr>\n",
       "      <th>min</th>\n",
       "      <td>0.000000</td>\n",
       "      <td>9.170000</td>\n",
       "      <td>33.800000</td>\n",
       "      <td>0.000000</td>\n",
       "      <td>2.900000</td>\n",
       "      <td>-12.130000</td>\n",
       "      <td>7.000000</td>\n",
       "      <td>29.300000</td>\n",
       "    </tr>\n",
       "    <tr>\n",
       "      <th>25%</th>\n",
       "      <td>340.000000</td>\n",
       "      <td>43.050000</td>\n",
       "      <td>41.600000</td>\n",
       "      <td>0.000000</td>\n",
       "      <td>4.500000</td>\n",
       "      <td>26.865000</td>\n",
       "      <td>14.000000</td>\n",
       "      <td>29.950000</td>\n",
       "    </tr>\n",
       "    <tr>\n",
       "      <th>50%</th>\n",
       "      <td>773.000000</td>\n",
       "      <td>57.130000</td>\n",
       "      <td>57.100000</td>\n",
       "      <td>0.000000</td>\n",
       "      <td>4.800000</td>\n",
       "      <td>43.140000</td>\n",
       "      <td>17.000000</td>\n",
       "      <td>30.090000</td>\n",
       "    </tr>\n",
       "    <tr>\n",
       "      <th>75%</th>\n",
       "      <td>1857.250000</td>\n",
       "      <td>72.130000</td>\n",
       "      <td>72.450000</td>\n",
       "      <td>0.000000</td>\n",
       "      <td>5.500000</td>\n",
       "      <td>57.880000</td>\n",
       "      <td>21.000000</td>\n",
       "      <td>30.240000</td>\n",
       "    </tr>\n",
       "    <tr>\n",
       "      <th>max</th>\n",
       "      <td>3220.000000</td>\n",
       "      <td>93.830000</td>\n",
       "      <td>79.600000</td>\n",
       "      <td>6.860000</td>\n",
       "      <td>5.700000</td>\n",
       "      <td>75.830000</td>\n",
       "      <td>56.000000</td>\n",
       "      <td>30.820000</td>\n",
       "    </tr>\n",
       "  </tbody>\n",
       "</table>\n",
       "</div>"
      ],
      "text/plain": [
       "        Unnamed: 0  Temperature_Avg  Temperature_Historic  \\\n",
       "count  5452.000000      5361.000000           5391.000000   \n",
       "mean   1116.553375        56.854587             56.910722   \n",
       "std     944.522066        17.029709             15.801785   \n",
       "min       0.000000         9.170000             33.800000   \n",
       "25%     340.000000        43.050000             41.600000   \n",
       "50%     773.000000        57.130000             57.100000   \n",
       "75%    1857.250000        72.130000             72.450000   \n",
       "max    3220.000000        93.830000             79.600000   \n",
       "\n",
       "       Precipitation_Actual  Precipitation_Historic    Dew_Point  \\\n",
       "count           5398.000000             5399.000000  5399.000000   \n",
       "mean               0.085773                4.743638    41.861221   \n",
       "std                0.304303                0.758811    18.306307   \n",
       "min                0.000000                2.900000   -12.130000   \n",
       "25%                0.000000                4.500000    26.865000   \n",
       "50%                0.000000                4.800000    43.140000   \n",
       "75%                0.000000                5.500000    57.880000   \n",
       "max                6.860000                5.700000    75.830000   \n",
       "\n",
       "       Max_Wind_Speed  Sea_Level_Pressure  \n",
       "count     5399.000000         5399.000000  \n",
       "mean        18.085201           30.097990  \n",
       "std          5.629324            0.211808  \n",
       "min          7.000000           29.300000  \n",
       "25%         14.000000           29.950000  \n",
       "50%         17.000000           30.090000  \n",
       "75%         21.000000           30.240000  \n",
       "max         56.000000           30.820000  "
      ]
     },
     "execution_count": 233,
     "metadata": {},
     "output_type": "execute_result"
    }
   ],
   "source": [
    "# A description for numeric datatype \n",
    "df.describe()"
   ]
  },
  {
   "cell_type": "markdown",
   "metadata": {},
   "source": [
    "## Feature Selection"
   ]
  },
  {
   "cell_type": "markdown",
   "metadata": {},
   "source": [
    "There is no benefit from the feature \"Unnamed: 0\""
   ]
  },
  {
   "cell_type": "code",
   "execution_count": 235,
   "metadata": {},
   "outputs": [],
   "source": [
    "df.drop('Unnamed: 0',axis=1,inplace=True)"
   ]
  },
  {
   "cell_type": "markdown",
   "metadata": {},
   "source": [
    "## Analysing missing values"
   ]
  },
  {
   "cell_type": "code",
   "execution_count": 236,
   "metadata": {},
   "outputs": [
    {
     "data": {
      "text/plain": [
       "Date                       0\n",
       "Humidity_Avg              74\n",
       "Wind_Type                 74\n",
       "Pressure_Avg              74\n",
       "Condition                 74\n",
       "Temperature_Avg           91\n",
       "Temperature_Historic      61\n",
       "Precipitation_Actual      54\n",
       "Precipitation_Historic    53\n",
       "Dew_Point                 53\n",
       "Max_Wind_Speed            53\n",
       "Sea_Level_Pressure        53\n",
       "Day_Length                58\n",
       "dtype: int64"
      ]
     },
     "execution_count": 236,
     "metadata": {},
     "output_type": "execute_result"
    }
   ],
   "source": [
    "df.isna().sum()"
   ]
  },
  {
   "cell_type": "code",
   "execution_count": 237,
   "metadata": {},
   "outputs": [
    {
     "data": {
      "text/plain": [
       "Date                      0.000000\n",
       "Humidity_Avg              0.013573\n",
       "Wind_Type                 0.013573\n",
       "Pressure_Avg              0.013573\n",
       "Condition                 0.013573\n",
       "Temperature_Avg           0.016691\n",
       "Temperature_Historic      0.011189\n",
       "Precipitation_Actual      0.009905\n",
       "Precipitation_Historic    0.009721\n",
       "Dew_Point                 0.009721\n",
       "Max_Wind_Speed            0.009721\n",
       "Sea_Level_Pressure        0.009721\n",
       "Day_Length                0.010638\n",
       "dtype: float64"
      ]
     },
     "execution_count": 237,
     "metadata": {},
     "output_type": "execute_result"
    }
   ],
   "source": [
    "df.isnull().sum()/len(df) "
   ]
  },
  {
   "cell_type": "markdown",
   "metadata": {},
   "source": [
    "Missing values are few for the size of the data"
   ]
  },
  {
   "cell_type": "code",
   "execution_count": 238,
   "metadata": {},
   "outputs": [],
   "source": [
    "df.dropna(inplace=True)"
   ]
  },
  {
   "cell_type": "code",
   "execution_count": 239,
   "metadata": {},
   "outputs": [
    {
     "data": {
      "text/plain": [
       "Date                      0\n",
       "Humidity_Avg              0\n",
       "Wind_Type                 0\n",
       "Pressure_Avg              0\n",
       "Condition                 0\n",
       "Temperature_Avg           0\n",
       "Temperature_Historic      0\n",
       "Precipitation_Actual      0\n",
       "Precipitation_Historic    0\n",
       "Dew_Point                 0\n",
       "Max_Wind_Speed            0\n",
       "Sea_Level_Pressure        0\n",
       "Day_Length                0\n",
       "dtype: int64"
      ]
     },
     "execution_count": 239,
     "metadata": {},
     "output_type": "execute_result"
    }
   ],
   "source": [
    "# check\n",
    "df.isna().sum()"
   ]
  },
  {
   "cell_type": "markdown",
   "metadata": {},
   "source": [
    "## Sorting the Dataset by date "
   ]
  },
  {
   "cell_type": "code",
   "execution_count": 240,
   "metadata": {},
   "outputs": [
    {
     "data": {
      "text/html": [
       "<div>\n",
       "<style scoped>\n",
       "    .dataframe tbody tr th:only-of-type {\n",
       "        vertical-align: middle;\n",
       "    }\n",
       "\n",
       "    .dataframe tbody tr th {\n",
       "        vertical-align: top;\n",
       "    }\n",
       "\n",
       "    .dataframe thead th {\n",
       "        text-align: right;\n",
       "    }\n",
       "</style>\n",
       "<table border=\"1\" class=\"dataframe\">\n",
       "  <thead>\n",
       "    <tr style=\"text-align: right;\">\n",
       "      <th></th>\n",
       "      <th>Date</th>\n",
       "      <th>Humidity_Avg</th>\n",
       "      <th>Wind_Type</th>\n",
       "      <th>Pressure_Avg</th>\n",
       "      <th>Condition</th>\n",
       "      <th>Temperature_Avg</th>\n",
       "      <th>Temperature_Historic</th>\n",
       "      <th>Precipitation_Actual</th>\n",
       "      <th>Precipitation_Historic</th>\n",
       "      <th>Dew_Point</th>\n",
       "      <th>Max_Wind_Speed</th>\n",
       "      <th>Sea_Level_Pressure</th>\n",
       "      <th>Day_Length</th>\n",
       "    </tr>\n",
       "  </thead>\n",
       "  <tbody>\n",
       "    <tr>\n",
       "      <th>0</th>\n",
       "      <td>2009-01-01 00:00:00</td>\n",
       "      <td>57 %</td>\n",
       "      <td>NW</td>\n",
       "      <td>30.24 in</td>\n",
       "      <td>Fair /</td>\n",
       "      <td>21.79</td>\n",
       "      <td>36.1</td>\n",
       "      <td>0.0</td>\n",
       "      <td>5.7</td>\n",
       "      <td>4.33</td>\n",
       "      <td>29.0</td>\n",
       "      <td>30.26</td>\n",
       "      <td>9h 18m</td>\n",
       "    </tr>\n",
       "    <tr>\n",
       "      <th>1</th>\n",
       "      <td>2009-01-02 00:00:00</td>\n",
       "      <td>75 %</td>\n",
       "      <td>SW</td>\n",
       "      <td>29.74 in</td>\n",
       "      <td>Cloudy</td>\n",
       "      <td>31.23</td>\n",
       "      <td>35.9</td>\n",
       "      <td>0.0</td>\n",
       "      <td>5.7</td>\n",
       "      <td>18.37</td>\n",
       "      <td>18.0</td>\n",
       "      <td>30.18</td>\n",
       "      <td>9h 19m</td>\n",
       "    </tr>\n",
       "    <tr>\n",
       "      <th>2</th>\n",
       "      <td>2009-01-03 00:00:00</td>\n",
       "      <td>46 %</td>\n",
       "      <td>WNW</td>\n",
       "      <td>29.95 in</td>\n",
       "      <td>Fair</td>\n",
       "      <td>34.33</td>\n",
       "      <td>35.7</td>\n",
       "      <td>0.0</td>\n",
       "      <td>5.7</td>\n",
       "      <td>17.29</td>\n",
       "      <td>25.0</td>\n",
       "      <td>30.05</td>\n",
       "      <td>9h 20m</td>\n",
       "    </tr>\n",
       "    <tr>\n",
       "      <th>3</th>\n",
       "      <td>2009-01-04 00:00:00</td>\n",
       "      <td>53 %</td>\n",
       "      <td>WNW</td>\n",
       "      <td>30.01 in</td>\n",
       "      <td>Fair</td>\n",
       "      <td>34.04</td>\n",
       "      <td>35.5</td>\n",
       "      <td>0.0</td>\n",
       "      <td>5.7</td>\n",
       "      <td>13.13</td>\n",
       "      <td>23.0</td>\n",
       "      <td>30.09</td>\n",
       "      <td>9h 21m</td>\n",
       "    </tr>\n",
       "    <tr>\n",
       "      <th>4</th>\n",
       "      <td>2009-01-05 00:00:00</td>\n",
       "      <td>53 %</td>\n",
       "      <td>NW</td>\n",
       "      <td>29.90 in</td>\n",
       "      <td>Cloudy</td>\n",
       "      <td>41.89</td>\n",
       "      <td>35.4</td>\n",
       "      <td>0.0</td>\n",
       "      <td>5.7</td>\n",
       "      <td>22.33</td>\n",
       "      <td>18.0</td>\n",
       "      <td>29.98</td>\n",
       "      <td>9h 22m</td>\n",
       "    </tr>\n",
       "  </tbody>\n",
       "</table>\n",
       "</div>"
      ],
      "text/plain": [
       "                  Date Humidity_Avg Wind_Type Pressure_Avg Condition  \\\n",
       "0  2009-01-01 00:00:00         57 %        NW     30.24 in    Fair /   \n",
       "1  2009-01-02 00:00:00         75 %        SW     29.74 in    Cloudy   \n",
       "2  2009-01-03 00:00:00         46 %       WNW     29.95 in      Fair   \n",
       "3  2009-01-04 00:00:00         53 %       WNW     30.01 in      Fair   \n",
       "4  2009-01-05 00:00:00         53 %        NW     29.90 in    Cloudy   \n",
       "\n",
       "   Temperature_Avg  Temperature_Historic  Precipitation_Actual  \\\n",
       "0            21.79                  36.1                   0.0   \n",
       "1            31.23                  35.9                   0.0   \n",
       "2            34.33                  35.7                   0.0   \n",
       "3            34.04                  35.5                   0.0   \n",
       "4            41.89                  35.4                   0.0   \n",
       "\n",
       "   Precipitation_Historic  Dew_Point  Max_Wind_Speed  Sea_Level_Pressure  \\\n",
       "0                     5.7       4.33            29.0               30.26   \n",
       "1                     5.7      18.37            18.0               30.18   \n",
       "2                     5.7      17.29            25.0               30.05   \n",
       "3                     5.7      13.13            23.0               30.09   \n",
       "4                     5.7      22.33            18.0               29.98   \n",
       "\n",
       "  Day_Length  \n",
       "0     9h 18m  \n",
       "1     9h 19m  \n",
       "2     9h 20m  \n",
       "3     9h 21m  \n",
       "4     9h 22m  "
      ]
     },
     "execution_count": 240,
     "metadata": {},
     "output_type": "execute_result"
    }
   ],
   "source": [
    "df = df.sort_values(by='Date').reset_index(drop=True)\n",
    "df.head()"
   ]
  },
  {
   "cell_type": "markdown",
   "metadata": {},
   "source": [
    "## Parsing Date"
   ]
  },
  {
   "cell_type": "code",
   "execution_count": 241,
   "metadata": {},
   "outputs": [
    {
     "name": "stdout",
     "output_type": "stream",
     "text": [
      "<class 'pandas.core.frame.DataFrame'>\n",
      "RangeIndex: 5331 entries, 0 to 5330\n",
      "Data columns (total 13 columns):\n",
      " #   Column                  Non-Null Count  Dtype         \n",
      "---  ------                  --------------  -----         \n",
      " 0   Date                    5331 non-null   datetime64[ns]\n",
      " 1   Humidity_Avg            5331 non-null   object        \n",
      " 2   Wind_Type               5331 non-null   object        \n",
      " 3   Pressure_Avg            5331 non-null   object        \n",
      " 4   Condition               5331 non-null   object        \n",
      " 5   Temperature_Avg         5331 non-null   float64       \n",
      " 6   Temperature_Historic    5331 non-null   float64       \n",
      " 7   Precipitation_Actual    5331 non-null   float64       \n",
      " 8   Precipitation_Historic  5331 non-null   float64       \n",
      " 9   Dew_Point               5331 non-null   float64       \n",
      " 10  Max_Wind_Speed          5331 non-null   float64       \n",
      " 11  Sea_Level_Pressure      5331 non-null   float64       \n",
      " 12  Day_Length              5331 non-null   object        \n",
      "dtypes: datetime64[ns](1), float64(7), object(5)\n",
      "memory usage: 541.6+ KB\n"
     ]
    }
   ],
   "source": [
    "df['Date'] = pd.to_datetime(df['Date'])\n",
    "df.info()"
   ]
  },
  {
   "cell_type": "markdown",
   "metadata": {},
   "source": [
    "Extract the (year), (month),(Day of the weak) and (day Of the year) for later analysis."
   ]
  },
  {
   "cell_type": "code",
   "execution_count": 242,
   "metadata": {},
   "outputs": [],
   "source": [
    "df['Year'] = df['Date'].dt.year\n",
    "df['Month'] = df['Date'].dt.month\n",
    "df['Day_of_weak'] = df['Date'].dt.dayofweek \n",
    "df['DayOfYear'] = df['Date'].dt.dayofyear"
   ]
  },
  {
   "cell_type": "code",
   "execution_count": 243,
   "metadata": {},
   "outputs": [
    {
     "data": {
      "text/html": [
       "<div>\n",
       "<style scoped>\n",
       "    .dataframe tbody tr th:only-of-type {\n",
       "        vertical-align: middle;\n",
       "    }\n",
       "\n",
       "    .dataframe tbody tr th {\n",
       "        vertical-align: top;\n",
       "    }\n",
       "\n",
       "    .dataframe thead th {\n",
       "        text-align: right;\n",
       "    }\n",
       "</style>\n",
       "<table border=\"1\" class=\"dataframe\">\n",
       "  <thead>\n",
       "    <tr style=\"text-align: right;\">\n",
       "      <th></th>\n",
       "      <th>Date</th>\n",
       "      <th>Humidity_Avg</th>\n",
       "      <th>Wind_Type</th>\n",
       "      <th>Pressure_Avg</th>\n",
       "      <th>Condition</th>\n",
       "      <th>Temperature_Avg</th>\n",
       "      <th>Temperature_Historic</th>\n",
       "      <th>Precipitation_Actual</th>\n",
       "      <th>Precipitation_Historic</th>\n",
       "      <th>Dew_Point</th>\n",
       "      <th>Max_Wind_Speed</th>\n",
       "      <th>Sea_Level_Pressure</th>\n",
       "      <th>Day_Length</th>\n",
       "      <th>Year</th>\n",
       "      <th>Month</th>\n",
       "      <th>Day_of_weak</th>\n",
       "      <th>DayOfYear</th>\n",
       "    </tr>\n",
       "  </thead>\n",
       "  <tbody>\n",
       "    <tr>\n",
       "      <th>0</th>\n",
       "      <td>2009-01-01</td>\n",
       "      <td>57 %</td>\n",
       "      <td>NW</td>\n",
       "      <td>30.24 in</td>\n",
       "      <td>Fair /</td>\n",
       "      <td>21.79</td>\n",
       "      <td>36.1</td>\n",
       "      <td>0.0</td>\n",
       "      <td>5.7</td>\n",
       "      <td>4.33</td>\n",
       "      <td>29.0</td>\n",
       "      <td>30.26</td>\n",
       "      <td>9h 18m</td>\n",
       "      <td>2009</td>\n",
       "      <td>1</td>\n",
       "      <td>3</td>\n",
       "      <td>1</td>\n",
       "    </tr>\n",
       "    <tr>\n",
       "      <th>1</th>\n",
       "      <td>2009-01-02</td>\n",
       "      <td>75 %</td>\n",
       "      <td>SW</td>\n",
       "      <td>29.74 in</td>\n",
       "      <td>Cloudy</td>\n",
       "      <td>31.23</td>\n",
       "      <td>35.9</td>\n",
       "      <td>0.0</td>\n",
       "      <td>5.7</td>\n",
       "      <td>18.37</td>\n",
       "      <td>18.0</td>\n",
       "      <td>30.18</td>\n",
       "      <td>9h 19m</td>\n",
       "      <td>2009</td>\n",
       "      <td>1</td>\n",
       "      <td>4</td>\n",
       "      <td>2</td>\n",
       "    </tr>\n",
       "    <tr>\n",
       "      <th>2</th>\n",
       "      <td>2009-01-03</td>\n",
       "      <td>46 %</td>\n",
       "      <td>WNW</td>\n",
       "      <td>29.95 in</td>\n",
       "      <td>Fair</td>\n",
       "      <td>34.33</td>\n",
       "      <td>35.7</td>\n",
       "      <td>0.0</td>\n",
       "      <td>5.7</td>\n",
       "      <td>17.29</td>\n",
       "      <td>25.0</td>\n",
       "      <td>30.05</td>\n",
       "      <td>9h 20m</td>\n",
       "      <td>2009</td>\n",
       "      <td>1</td>\n",
       "      <td>5</td>\n",
       "      <td>3</td>\n",
       "    </tr>\n",
       "    <tr>\n",
       "      <th>3</th>\n",
       "      <td>2009-01-04</td>\n",
       "      <td>53 %</td>\n",
       "      <td>WNW</td>\n",
       "      <td>30.01 in</td>\n",
       "      <td>Fair</td>\n",
       "      <td>34.04</td>\n",
       "      <td>35.5</td>\n",
       "      <td>0.0</td>\n",
       "      <td>5.7</td>\n",
       "      <td>13.13</td>\n",
       "      <td>23.0</td>\n",
       "      <td>30.09</td>\n",
       "      <td>9h 21m</td>\n",
       "      <td>2009</td>\n",
       "      <td>1</td>\n",
       "      <td>6</td>\n",
       "      <td>4</td>\n",
       "    </tr>\n",
       "    <tr>\n",
       "      <th>4</th>\n",
       "      <td>2009-01-05</td>\n",
       "      <td>53 %</td>\n",
       "      <td>NW</td>\n",
       "      <td>29.90 in</td>\n",
       "      <td>Cloudy</td>\n",
       "      <td>41.89</td>\n",
       "      <td>35.4</td>\n",
       "      <td>0.0</td>\n",
       "      <td>5.7</td>\n",
       "      <td>22.33</td>\n",
       "      <td>18.0</td>\n",
       "      <td>29.98</td>\n",
       "      <td>9h 22m</td>\n",
       "      <td>2009</td>\n",
       "      <td>1</td>\n",
       "      <td>0</td>\n",
       "      <td>5</td>\n",
       "    </tr>\n",
       "  </tbody>\n",
       "</table>\n",
       "</div>"
      ],
      "text/plain": [
       "        Date Humidity_Avg Wind_Type Pressure_Avg Condition  Temperature_Avg  \\\n",
       "0 2009-01-01         57 %        NW     30.24 in    Fair /            21.79   \n",
       "1 2009-01-02         75 %        SW     29.74 in    Cloudy            31.23   \n",
       "2 2009-01-03         46 %       WNW     29.95 in      Fair            34.33   \n",
       "3 2009-01-04         53 %       WNW     30.01 in      Fair            34.04   \n",
       "4 2009-01-05         53 %        NW     29.90 in    Cloudy            41.89   \n",
       "\n",
       "   Temperature_Historic  Precipitation_Actual  Precipitation_Historic  \\\n",
       "0                  36.1                   0.0                     5.7   \n",
       "1                  35.9                   0.0                     5.7   \n",
       "2                  35.7                   0.0                     5.7   \n",
       "3                  35.5                   0.0                     5.7   \n",
       "4                  35.4                   0.0                     5.7   \n",
       "\n",
       "   Dew_Point  Max_Wind_Speed  Sea_Level_Pressure Day_Length  Year  Month  \\\n",
       "0       4.33            29.0               30.26     9h 18m  2009      1   \n",
       "1      18.37            18.0               30.18     9h 19m  2009      1   \n",
       "2      17.29            25.0               30.05     9h 20m  2009      1   \n",
       "3      13.13            23.0               30.09     9h 21m  2009      1   \n",
       "4      22.33            18.0               29.98     9h 22m  2009      1   \n",
       "\n",
       "   Day_of_weak  DayOfYear  \n",
       "0            3          1  \n",
       "1            4          2  \n",
       "2            5          3  \n",
       "3            6          4  \n",
       "4            0          5  "
      ]
     },
     "execution_count": 243,
     "metadata": {},
     "output_type": "execute_result"
    }
   ],
   "source": [
    "# check\n",
    "df.head()"
   ]
  },
  {
   "cell_type": "markdown",
   "metadata": {},
   "source": [
    "## Cleaning Inconsistent Data"
   ]
  },
  {
   "cell_type": "markdown",
   "metadata": {},
   "source": [
    "To make the data consistent, I will remove the units of measurement from 'Humidity_Avg' , 'Pressure_Avg', and convert them to numeric values."
   ]
  },
  {
   "cell_type": "code",
   "execution_count": 244,
   "metadata": {},
   "outputs": [],
   "source": [
    "# Remove % from 'Humidity_Avg' and convert to numeric\n",
    "df['Humidity_Avg'] = df['Humidity_Avg'].str.replace('%', '').astype(float)\n",
    "\n",
    "# Remove 'in' from 'Pressure_Avg' and convert to numeric\n",
    "df['Pressure_Avg'] = df['Pressure_Avg'].str.replace(' in', '').astype(float)"
   ]
  },
  {
   "cell_type": "markdown",
   "metadata": {},
   "source": [
    "Remove any special Character from 'Condition'"
   ]
  },
  {
   "cell_type": "code",
   "execution_count": 245,
   "metadata": {},
   "outputs": [
    {
     "data": {
      "text/plain": [
       "Condition\n",
       "Mostly Cloudy    1782\n",
       "Cloudy           1376\n",
       "Fair             1256\n",
       "Partly Cloudy     482\n",
       "Light Rain        238\n",
       "Light Snow         54\n",
       "Fog                41\n",
       "Fair /             37\n",
       "Cloudy /           32\n",
       "Light Drizzle      12\n",
       "Wintry Mix          5\n",
       "Haze                3\n",
       "Smoke               3\n",
       "Snow /              2\n",
       "Heavy Rain          2\n",
       "Rain                2\n",
       "Rain and            1\n",
       "Snow                1\n",
       "Rain /              1\n",
       "Mist                1\n",
       "Name: count, dtype: int64"
      ]
     },
     "execution_count": 245,
     "metadata": {},
     "output_type": "execute_result"
    }
   ],
   "source": [
    "# check\n",
    "df['Condition'].value_counts()"
   ]
  },
  {
   "cell_type": "markdown",
   "metadata": {},
   "source": [
    "It also seems that there is an incomplete value (Rain and), but it doesn't hurt to have it too much."
   ]
  },
  {
   "cell_type": "code",
   "execution_count": 246,
   "metadata": {},
   "outputs": [
    {
     "data": {
      "text/html": [
       "<div>\n",
       "<style scoped>\n",
       "    .dataframe tbody tr th:only-of-type {\n",
       "        vertical-align: middle;\n",
       "    }\n",
       "\n",
       "    .dataframe tbody tr th {\n",
       "        vertical-align: top;\n",
       "    }\n",
       "\n",
       "    .dataframe thead th {\n",
       "        text-align: right;\n",
       "    }\n",
       "</style>\n",
       "<table border=\"1\" class=\"dataframe\">\n",
       "  <thead>\n",
       "    <tr style=\"text-align: right;\">\n",
       "      <th></th>\n",
       "      <th>Date</th>\n",
       "      <th>Humidity_Avg</th>\n",
       "      <th>Wind_Type</th>\n",
       "      <th>Pressure_Avg</th>\n",
       "      <th>Condition</th>\n",
       "      <th>Temperature_Avg</th>\n",
       "      <th>Temperature_Historic</th>\n",
       "      <th>Precipitation_Actual</th>\n",
       "      <th>Precipitation_Historic</th>\n",
       "      <th>Dew_Point</th>\n",
       "      <th>Max_Wind_Speed</th>\n",
       "      <th>Sea_Level_Pressure</th>\n",
       "      <th>Day_Length</th>\n",
       "      <th>Year</th>\n",
       "      <th>Month</th>\n",
       "      <th>Day_of_weak</th>\n",
       "      <th>DayOfYear</th>\n",
       "    </tr>\n",
       "  </thead>\n",
       "  <tbody>\n",
       "    <tr>\n",
       "      <th>0</th>\n",
       "      <td>2009-01-01</td>\n",
       "      <td>57.0</td>\n",
       "      <td>NW</td>\n",
       "      <td>30.24</td>\n",
       "      <td>Fair</td>\n",
       "      <td>21.79</td>\n",
       "      <td>36.1</td>\n",
       "      <td>0.0</td>\n",
       "      <td>5.7</td>\n",
       "      <td>4.33</td>\n",
       "      <td>29.0</td>\n",
       "      <td>30.26</td>\n",
       "      <td>9h 18m</td>\n",
       "      <td>2009</td>\n",
       "      <td>1</td>\n",
       "      <td>3</td>\n",
       "      <td>1</td>\n",
       "    </tr>\n",
       "    <tr>\n",
       "      <th>1</th>\n",
       "      <td>2009-01-02</td>\n",
       "      <td>75.0</td>\n",
       "      <td>SW</td>\n",
       "      <td>29.74</td>\n",
       "      <td>Cloudy</td>\n",
       "      <td>31.23</td>\n",
       "      <td>35.9</td>\n",
       "      <td>0.0</td>\n",
       "      <td>5.7</td>\n",
       "      <td>18.37</td>\n",
       "      <td>18.0</td>\n",
       "      <td>30.18</td>\n",
       "      <td>9h 19m</td>\n",
       "      <td>2009</td>\n",
       "      <td>1</td>\n",
       "      <td>4</td>\n",
       "      <td>2</td>\n",
       "    </tr>\n",
       "    <tr>\n",
       "      <th>2</th>\n",
       "      <td>2009-01-03</td>\n",
       "      <td>46.0</td>\n",
       "      <td>WNW</td>\n",
       "      <td>29.95</td>\n",
       "      <td>Fair</td>\n",
       "      <td>34.33</td>\n",
       "      <td>35.7</td>\n",
       "      <td>0.0</td>\n",
       "      <td>5.7</td>\n",
       "      <td>17.29</td>\n",
       "      <td>25.0</td>\n",
       "      <td>30.05</td>\n",
       "      <td>9h 20m</td>\n",
       "      <td>2009</td>\n",
       "      <td>1</td>\n",
       "      <td>5</td>\n",
       "      <td>3</td>\n",
       "    </tr>\n",
       "    <tr>\n",
       "      <th>3</th>\n",
       "      <td>2009-01-04</td>\n",
       "      <td>53.0</td>\n",
       "      <td>WNW</td>\n",
       "      <td>30.01</td>\n",
       "      <td>Fair</td>\n",
       "      <td>34.04</td>\n",
       "      <td>35.5</td>\n",
       "      <td>0.0</td>\n",
       "      <td>5.7</td>\n",
       "      <td>13.13</td>\n",
       "      <td>23.0</td>\n",
       "      <td>30.09</td>\n",
       "      <td>9h 21m</td>\n",
       "      <td>2009</td>\n",
       "      <td>1</td>\n",
       "      <td>6</td>\n",
       "      <td>4</td>\n",
       "    </tr>\n",
       "    <tr>\n",
       "      <th>4</th>\n",
       "      <td>2009-01-05</td>\n",
       "      <td>53.0</td>\n",
       "      <td>NW</td>\n",
       "      <td>29.90</td>\n",
       "      <td>Cloudy</td>\n",
       "      <td>41.89</td>\n",
       "      <td>35.4</td>\n",
       "      <td>0.0</td>\n",
       "      <td>5.7</td>\n",
       "      <td>22.33</td>\n",
       "      <td>18.0</td>\n",
       "      <td>29.98</td>\n",
       "      <td>9h 22m</td>\n",
       "      <td>2009</td>\n",
       "      <td>1</td>\n",
       "      <td>0</td>\n",
       "      <td>5</td>\n",
       "    </tr>\n",
       "  </tbody>\n",
       "</table>\n",
       "</div>"
      ],
      "text/plain": [
       "        Date  Humidity_Avg Wind_Type  Pressure_Avg Condition  Temperature_Avg  \\\n",
       "0 2009-01-01          57.0        NW         30.24      Fair            21.79   \n",
       "1 2009-01-02          75.0        SW         29.74    Cloudy            31.23   \n",
       "2 2009-01-03          46.0       WNW         29.95      Fair            34.33   \n",
       "3 2009-01-04          53.0       WNW         30.01      Fair            34.04   \n",
       "4 2009-01-05          53.0        NW         29.90    Cloudy            41.89   \n",
       "\n",
       "   Temperature_Historic  Precipitation_Actual  Precipitation_Historic  \\\n",
       "0                  36.1                   0.0                     5.7   \n",
       "1                  35.9                   0.0                     5.7   \n",
       "2                  35.7                   0.0                     5.7   \n",
       "3                  35.5                   0.0                     5.7   \n",
       "4                  35.4                   0.0                     5.7   \n",
       "\n",
       "   Dew_Point  Max_Wind_Speed  Sea_Level_Pressure Day_Length  Year  Month  \\\n",
       "0       4.33            29.0               30.26     9h 18m  2009      1   \n",
       "1      18.37            18.0               30.18     9h 19m  2009      1   \n",
       "2      17.29            25.0               30.05     9h 20m  2009      1   \n",
       "3      13.13            23.0               30.09     9h 21m  2009      1   \n",
       "4      22.33            18.0               29.98     9h 22m  2009      1   \n",
       "\n",
       "   Day_of_weak  DayOfYear  \n",
       "0            3          1  \n",
       "1            4          2  \n",
       "2            5          3  \n",
       "3            6          4  \n",
       "4            0          5  "
      ]
     },
     "execution_count": 246,
     "metadata": {},
     "output_type": "execute_result"
    }
   ],
   "source": [
    "df['Condition'] = df['Condition'].str.replace('[^\\w\\s]','', regex=True).str.strip()\n",
    "df.head()"
   ]
  },
  {
   "cell_type": "markdown",
   "metadata": {},
   "source": [
    "I will do the same for Day_Length converting it to minutes"
   ]
  },
  {
   "cell_type": "code",
   "execution_count": 247,
   "metadata": {},
   "outputs": [],
   "source": [
    "def convert_to_minutes(day_length):\n",
    "    \"\"\" \n",
    "    Converts a time duration from hours and minutes to total minutes.\n",
    "\n",
    "    Args:\n",
    "        day_length (str): The time duration in the format 'H hours M minutes'.\n",
    "\n",
    "    Returns:\n",
    "        float: The time duration converted to total minutes.\n",
    "    \"\"\"\n",
    "    hours, minutes = day_length.split()\n",
    "    total_minutes = float(hours[:-1]) * 60 + float(minutes[:-1])\n",
    "    return total_minutes\n"
   ]
  },
  {
   "cell_type": "code",
   "execution_count": 248,
   "metadata": {},
   "outputs": [],
   "source": [
    "df['Day_Length'] = df['Day_Length'].apply(convert_to_minutes)"
   ]
  },
  {
   "cell_type": "markdown",
   "metadata": {},
   "source": [
    "Add units of measurement to the column names"
   ]
  },
  {
   "cell_type": "code",
   "execution_count": 249,
   "metadata": {},
   "outputs": [],
   "source": [
    "df.rename({'Humidity_Avg': 'Humidity_Avg(%)','Pressure_Avg':'Pressure_Avg(in)', 'Day_Length': 'Day_Length(Minutes)'}, axis='columns',inplace=True)"
   ]
  },
  {
   "cell_type": "code",
   "execution_count": 250,
   "metadata": {},
   "outputs": [
    {
     "data": {
      "text/html": [
       "<div>\n",
       "<style scoped>\n",
       "    .dataframe tbody tr th:only-of-type {\n",
       "        vertical-align: middle;\n",
       "    }\n",
       "\n",
       "    .dataframe tbody tr th {\n",
       "        vertical-align: top;\n",
       "    }\n",
       "\n",
       "    .dataframe thead th {\n",
       "        text-align: right;\n",
       "    }\n",
       "</style>\n",
       "<table border=\"1\" class=\"dataframe\">\n",
       "  <thead>\n",
       "    <tr style=\"text-align: right;\">\n",
       "      <th></th>\n",
       "      <th>Date</th>\n",
       "      <th>Humidity_Avg(%)</th>\n",
       "      <th>Wind_Type</th>\n",
       "      <th>Pressure_Avg(in)</th>\n",
       "      <th>Condition</th>\n",
       "      <th>Temperature_Avg</th>\n",
       "      <th>Temperature_Historic</th>\n",
       "      <th>Precipitation_Actual</th>\n",
       "      <th>Precipitation_Historic</th>\n",
       "      <th>Dew_Point</th>\n",
       "      <th>Max_Wind_Speed</th>\n",
       "      <th>Sea_Level_Pressure</th>\n",
       "      <th>Day_Length(Minutes)</th>\n",
       "      <th>Year</th>\n",
       "      <th>Month</th>\n",
       "      <th>Day_of_weak</th>\n",
       "      <th>DayOfYear</th>\n",
       "    </tr>\n",
       "  </thead>\n",
       "  <tbody>\n",
       "    <tr>\n",
       "      <th>0</th>\n",
       "      <td>2009-01-01</td>\n",
       "      <td>57.0</td>\n",
       "      <td>NW</td>\n",
       "      <td>30.24</td>\n",
       "      <td>Fair</td>\n",
       "      <td>21.79</td>\n",
       "      <td>36.1</td>\n",
       "      <td>0.0</td>\n",
       "      <td>5.7</td>\n",
       "      <td>4.33</td>\n",
       "      <td>29.0</td>\n",
       "      <td>30.26</td>\n",
       "      <td>558.0</td>\n",
       "      <td>2009</td>\n",
       "      <td>1</td>\n",
       "      <td>3</td>\n",
       "      <td>1</td>\n",
       "    </tr>\n",
       "    <tr>\n",
       "      <th>1</th>\n",
       "      <td>2009-01-02</td>\n",
       "      <td>75.0</td>\n",
       "      <td>SW</td>\n",
       "      <td>29.74</td>\n",
       "      <td>Cloudy</td>\n",
       "      <td>31.23</td>\n",
       "      <td>35.9</td>\n",
       "      <td>0.0</td>\n",
       "      <td>5.7</td>\n",
       "      <td>18.37</td>\n",
       "      <td>18.0</td>\n",
       "      <td>30.18</td>\n",
       "      <td>559.0</td>\n",
       "      <td>2009</td>\n",
       "      <td>1</td>\n",
       "      <td>4</td>\n",
       "      <td>2</td>\n",
       "    </tr>\n",
       "    <tr>\n",
       "      <th>2</th>\n",
       "      <td>2009-01-03</td>\n",
       "      <td>46.0</td>\n",
       "      <td>WNW</td>\n",
       "      <td>29.95</td>\n",
       "      <td>Fair</td>\n",
       "      <td>34.33</td>\n",
       "      <td>35.7</td>\n",
       "      <td>0.0</td>\n",
       "      <td>5.7</td>\n",
       "      <td>17.29</td>\n",
       "      <td>25.0</td>\n",
       "      <td>30.05</td>\n",
       "      <td>560.0</td>\n",
       "      <td>2009</td>\n",
       "      <td>1</td>\n",
       "      <td>5</td>\n",
       "      <td>3</td>\n",
       "    </tr>\n",
       "    <tr>\n",
       "      <th>3</th>\n",
       "      <td>2009-01-04</td>\n",
       "      <td>53.0</td>\n",
       "      <td>WNW</td>\n",
       "      <td>30.01</td>\n",
       "      <td>Fair</td>\n",
       "      <td>34.04</td>\n",
       "      <td>35.5</td>\n",
       "      <td>0.0</td>\n",
       "      <td>5.7</td>\n",
       "      <td>13.13</td>\n",
       "      <td>23.0</td>\n",
       "      <td>30.09</td>\n",
       "      <td>561.0</td>\n",
       "      <td>2009</td>\n",
       "      <td>1</td>\n",
       "      <td>6</td>\n",
       "      <td>4</td>\n",
       "    </tr>\n",
       "    <tr>\n",
       "      <th>4</th>\n",
       "      <td>2009-01-05</td>\n",
       "      <td>53.0</td>\n",
       "      <td>NW</td>\n",
       "      <td>29.90</td>\n",
       "      <td>Cloudy</td>\n",
       "      <td>41.89</td>\n",
       "      <td>35.4</td>\n",
       "      <td>0.0</td>\n",
       "      <td>5.7</td>\n",
       "      <td>22.33</td>\n",
       "      <td>18.0</td>\n",
       "      <td>29.98</td>\n",
       "      <td>562.0</td>\n",
       "      <td>2009</td>\n",
       "      <td>1</td>\n",
       "      <td>0</td>\n",
       "      <td>5</td>\n",
       "    </tr>\n",
       "  </tbody>\n",
       "</table>\n",
       "</div>"
      ],
      "text/plain": [
       "        Date  Humidity_Avg(%) Wind_Type  Pressure_Avg(in) Condition  \\\n",
       "0 2009-01-01             57.0        NW             30.24      Fair   \n",
       "1 2009-01-02             75.0        SW             29.74    Cloudy   \n",
       "2 2009-01-03             46.0       WNW             29.95      Fair   \n",
       "3 2009-01-04             53.0       WNW             30.01      Fair   \n",
       "4 2009-01-05             53.0        NW             29.90    Cloudy   \n",
       "\n",
       "   Temperature_Avg  Temperature_Historic  Precipitation_Actual  \\\n",
       "0            21.79                  36.1                   0.0   \n",
       "1            31.23                  35.9                   0.0   \n",
       "2            34.33                  35.7                   0.0   \n",
       "3            34.04                  35.5                   0.0   \n",
       "4            41.89                  35.4                   0.0   \n",
       "\n",
       "   Precipitation_Historic  Dew_Point  Max_Wind_Speed  Sea_Level_Pressure  \\\n",
       "0                     5.7       4.33            29.0               30.26   \n",
       "1                     5.7      18.37            18.0               30.18   \n",
       "2                     5.7      17.29            25.0               30.05   \n",
       "3                     5.7      13.13            23.0               30.09   \n",
       "4                     5.7      22.33            18.0               29.98   \n",
       "\n",
       "   Day_Length(Minutes)  Year  Month  Day_of_weak  DayOfYear  \n",
       "0                558.0  2009      1            3          1  \n",
       "1                559.0  2009      1            4          2  \n",
       "2                560.0  2009      1            5          3  \n",
       "3                561.0  2009      1            6          4  \n",
       "4                562.0  2009      1            0          5  "
      ]
     },
     "execution_count": 250,
     "metadata": {},
     "output_type": "execute_result"
    }
   ],
   "source": [
    "# check\n",
    "df.head()"
   ]
  },
  {
   "cell_type": "markdown",
   "metadata": {},
   "source": [
    "## EDA"
   ]
  },
  {
   "cell_type": "markdown",
   "metadata": {},
   "source": [
    "#### Q1 : How does the weather change during the months?"
   ]
  },
  {
   "cell_type": "code",
   "execution_count": 251,
   "metadata": {},
   "outputs": [],
   "source": [
    "# Get only the numeric features\n",
    "numeric_columns = df.select_dtypes(include=np.number).columns"
   ]
  },
  {
   "cell_type": "code",
   "execution_count": 252,
   "metadata": {},
   "outputs": [
    {
     "data": {
      "text/html": [
       "<div>\n",
       "<style scoped>\n",
       "    .dataframe tbody tr th:only-of-type {\n",
       "        vertical-align: middle;\n",
       "    }\n",
       "\n",
       "    .dataframe tbody tr th {\n",
       "        vertical-align: top;\n",
       "    }\n",
       "\n",
       "    .dataframe thead th {\n",
       "        text-align: right;\n",
       "    }\n",
       "</style>\n",
       "<table border=\"1\" class=\"dataframe\">\n",
       "  <thead>\n",
       "    <tr style=\"text-align: right;\">\n",
       "      <th></th>\n",
       "      <th>Humidity_Avg(%)</th>\n",
       "      <th>Pressure_Avg(in)</th>\n",
       "      <th>Temperature_Avg</th>\n",
       "      <th>Temperature_Historic</th>\n",
       "      <th>Precipitation_Actual</th>\n",
       "      <th>Precipitation_Historic</th>\n",
       "      <th>Dew_Point</th>\n",
       "      <th>Max_Wind_Speed</th>\n",
       "      <th>Sea_Level_Pressure</th>\n",
       "    </tr>\n",
       "    <tr>\n",
       "      <th>Month</th>\n",
       "      <th></th>\n",
       "      <th></th>\n",
       "      <th></th>\n",
       "      <th></th>\n",
       "      <th></th>\n",
       "      <th></th>\n",
       "      <th></th>\n",
       "      <th></th>\n",
       "      <th></th>\n",
       "    </tr>\n",
       "  </thead>\n",
       "  <tbody>\n",
       "    <tr>\n",
       "      <th>1</th>\n",
       "      <td>62.646532</td>\n",
       "      <td>30.018300</td>\n",
       "      <td>34.422953</td>\n",
       "      <td>34.411409</td>\n",
       "      <td>0.077964</td>\n",
       "      <td>5.605817</td>\n",
       "      <td>20.291969</td>\n",
       "      <td>19.617450</td>\n",
       "      <td>30.158568</td>\n",
       "    </tr>\n",
       "    <tr>\n",
       "      <th>2</th>\n",
       "      <td>63.683575</td>\n",
       "      <td>30.006739</td>\n",
       "      <td>36.704082</td>\n",
       "      <td>36.312802</td>\n",
       "      <td>0.066159</td>\n",
       "      <td>5.557729</td>\n",
       "      <td>21.954807</td>\n",
       "      <td>19.934783</td>\n",
       "      <td>30.164710</td>\n",
       "    </tr>\n",
       "    <tr>\n",
       "      <th>3</th>\n",
       "      <td>60.462555</td>\n",
       "      <td>29.886608</td>\n",
       "      <td>42.978965</td>\n",
       "      <td>43.032379</td>\n",
       "      <td>0.068414</td>\n",
       "      <td>5.134141</td>\n",
       "      <td>25.935771</td>\n",
       "      <td>20.160793</td>\n",
       "      <td>30.151211</td>\n",
       "    </tr>\n",
       "    <tr>\n",
       "      <th>4</th>\n",
       "      <td>61.909931</td>\n",
       "      <td>29.947621</td>\n",
       "      <td>53.113464</td>\n",
       "      <td>53.657506</td>\n",
       "      <td>0.086051</td>\n",
       "      <td>4.549885</td>\n",
       "      <td>35.228568</td>\n",
       "      <td>19.755196</td>\n",
       "      <td>30.067275</td>\n",
       "    </tr>\n",
       "    <tr>\n",
       "      <th>5</th>\n",
       "      <td>66.872807</td>\n",
       "      <td>29.991754</td>\n",
       "      <td>63.163772</td>\n",
       "      <td>63.771711</td>\n",
       "      <td>0.096820</td>\n",
       "      <td>4.610526</td>\n",
       "      <td>47.823443</td>\n",
       "      <td>17.521930</td>\n",
       "      <td>30.073860</td>\n",
       "    </tr>\n",
       "    <tr>\n",
       "      <th>6</th>\n",
       "      <td>67.851259</td>\n",
       "      <td>29.905103</td>\n",
       "      <td>72.301259</td>\n",
       "      <td>73.422654</td>\n",
       "      <td>0.071098</td>\n",
       "      <td>4.988101</td>\n",
       "      <td>56.970618</td>\n",
       "      <td>17.013730</td>\n",
       "      <td>29.977048</td>\n",
       "    </tr>\n",
       "    <tr>\n",
       "      <th>7</th>\n",
       "      <td>66.909890</td>\n",
       "      <td>29.867978</td>\n",
       "      <td>79.117912</td>\n",
       "      <td>79.159121</td>\n",
       "      <td>0.102835</td>\n",
       "      <td>4.957582</td>\n",
       "      <td>63.444571</td>\n",
       "      <td>16.613187</td>\n",
       "      <td>29.988308</td>\n",
       "    </tr>\n",
       "    <tr>\n",
       "      <th>8</th>\n",
       "      <td>67.805252</td>\n",
       "      <td>29.965098</td>\n",
       "      <td>77.478271</td>\n",
       "      <td>77.768053</td>\n",
       "      <td>0.088359</td>\n",
       "      <td>4.173523</td>\n",
       "      <td>62.527090</td>\n",
       "      <td>16.210066</td>\n",
       "      <td>30.024902</td>\n",
       "    </tr>\n",
       "    <tr>\n",
       "      <th>9</th>\n",
       "      <td>69.569476</td>\n",
       "      <td>30.028519</td>\n",
       "      <td>70.932711</td>\n",
       "      <td>70.792938</td>\n",
       "      <td>0.100615</td>\n",
       "      <td>3.249203</td>\n",
       "      <td>57.398542</td>\n",
       "      <td>16.202733</td>\n",
       "      <td>30.103462</td>\n",
       "    </tr>\n",
       "    <tr>\n",
       "      <th>10</th>\n",
       "      <td>68.958425</td>\n",
       "      <td>29.991882</td>\n",
       "      <td>60.214683</td>\n",
       "      <td>59.652516</td>\n",
       "      <td>0.091860</td>\n",
       "      <td>3.625164</td>\n",
       "      <td>46.767090</td>\n",
       "      <td>17.301969</td>\n",
       "      <td>30.093786</td>\n",
       "    </tr>\n",
       "    <tr>\n",
       "      <th>11</th>\n",
       "      <td>63.351163</td>\n",
       "      <td>30.072372</td>\n",
       "      <td>49.041884</td>\n",
       "      <td>49.074419</td>\n",
       "      <td>0.069721</td>\n",
       "      <td>4.935814</td>\n",
       "      <td>33.948977</td>\n",
       "      <td>18.090698</td>\n",
       "      <td>30.197907</td>\n",
       "    </tr>\n",
       "    <tr>\n",
       "      <th>12</th>\n",
       "      <td>66.612832</td>\n",
       "      <td>30.033385</td>\n",
       "      <td>40.910310</td>\n",
       "      <td>40.049779</td>\n",
       "      <td>0.101416</td>\n",
       "      <td>5.596681</td>\n",
       "      <td>28.201748</td>\n",
       "      <td>18.794248</td>\n",
       "      <td>30.177743</td>\n",
       "    </tr>\n",
       "  </tbody>\n",
       "</table>\n",
       "</div>"
      ],
      "text/plain": [
       "       Humidity_Avg(%)  Pressure_Avg(in)  Temperature_Avg  \\\n",
       "Month                                                       \n",
       "1            62.646532         30.018300        34.422953   \n",
       "2            63.683575         30.006739        36.704082   \n",
       "3            60.462555         29.886608        42.978965   \n",
       "4            61.909931         29.947621        53.113464   \n",
       "5            66.872807         29.991754        63.163772   \n",
       "6            67.851259         29.905103        72.301259   \n",
       "7            66.909890         29.867978        79.117912   \n",
       "8            67.805252         29.965098        77.478271   \n",
       "9            69.569476         30.028519        70.932711   \n",
       "10           68.958425         29.991882        60.214683   \n",
       "11           63.351163         30.072372        49.041884   \n",
       "12           66.612832         30.033385        40.910310   \n",
       "\n",
       "       Temperature_Historic  Precipitation_Actual  Precipitation_Historic  \\\n",
       "Month                                                                       \n",
       "1                 34.411409              0.077964                5.605817   \n",
       "2                 36.312802              0.066159                5.557729   \n",
       "3                 43.032379              0.068414                5.134141   \n",
       "4                 53.657506              0.086051                4.549885   \n",
       "5                 63.771711              0.096820                4.610526   \n",
       "6                 73.422654              0.071098                4.988101   \n",
       "7                 79.159121              0.102835                4.957582   \n",
       "8                 77.768053              0.088359                4.173523   \n",
       "9                 70.792938              0.100615                3.249203   \n",
       "10                59.652516              0.091860                3.625164   \n",
       "11                49.074419              0.069721                4.935814   \n",
       "12                40.049779              0.101416                5.596681   \n",
       "\n",
       "       Dew_Point  Max_Wind_Speed  Sea_Level_Pressure  \n",
       "Month                                                 \n",
       "1      20.291969       19.617450           30.158568  \n",
       "2      21.954807       19.934783           30.164710  \n",
       "3      25.935771       20.160793           30.151211  \n",
       "4      35.228568       19.755196           30.067275  \n",
       "5      47.823443       17.521930           30.073860  \n",
       "6      56.970618       17.013730           29.977048  \n",
       "7      63.444571       16.613187           29.988308  \n",
       "8      62.527090       16.210066           30.024902  \n",
       "9      57.398542       16.202733           30.103462  \n",
       "10     46.767090       17.301969           30.093786  \n",
       "11     33.948977       18.090698           30.197907  \n",
       "12     28.201748       18.794248           30.177743  "
      ]
     },
     "execution_count": 252,
     "metadata": {},
     "output_type": "execute_result"
    }
   ],
   "source": [
    "group_by_month = df.groupby(df['Month'])[numeric_columns[:9]].mean()\n",
    "group_by_month"
   ]
  },
  {
   "cell_type": "code",
   "execution_count": 253,
   "metadata": {},
   "outputs": [
    {
     "data": {
      "application/vnd.plotly.v1+json": {
       "config": {
        "plotlyServerURL": "https://plot.ly"
       },
       "data": [
        {
         "hovertemplate": "variable=Humidity_Avg(%)<br>Month=%{x}<br>value=%{y}<extra></extra>",
         "legendgroup": "Humidity_Avg(%)",
         "line": {
          "color": "#636efa",
          "dash": "solid"
         },
         "marker": {
          "symbol": "circle"
         },
         "mode": "lines",
         "name": "Humidity_Avg(%)",
         "orientation": "v",
         "showlegend": true,
         "type": "scatter",
         "x": [
          1,
          2,
          3,
          4,
          5,
          6,
          7,
          8,
          9,
          10,
          11,
          12
         ],
         "xaxis": "x",
         "y": [
          62.64653243847875,
          63.68357487922705,
          60.4625550660793,
          61.90993071593533,
          66.87280701754386,
          67.8512585812357,
          66.90989010989011,
          67.80525164113786,
          69.56947608200456,
          68.95842450765865,
          63.35116279069767,
          66.61283185840708
         ],
         "yaxis": "y"
        },
        {
         "hovertemplate": "variable=Pressure_Avg(in)<br>Month=%{x}<br>value=%{y}<extra></extra>",
         "legendgroup": "Pressure_Avg(in)",
         "line": {
          "color": "#EF553B",
          "dash": "solid"
         },
         "marker": {
          "symbol": "circle"
         },
         "mode": "lines",
         "name": "Pressure_Avg(in)",
         "orientation": "v",
         "showlegend": true,
         "type": "scatter",
         "x": [
          1,
          2,
          3,
          4,
          5,
          6,
          7,
          8,
          9,
          10,
          11,
          12
         ],
         "xaxis": "x",
         "y": [
          30.018299776286355,
          30.006739130434784,
          29.88660792951542,
          29.94762124711316,
          29.99175438596491,
          29.905102974828377,
          29.867978021978022,
          29.965098468271332,
          30.02851936218679,
          29.9918818380744,
          30.072372093023258,
          30.03338495575221
         ],
         "yaxis": "y"
        },
        {
         "hovertemplate": "variable=Temperature_Avg<br>Month=%{x}<br>value=%{y}<extra></extra>",
         "legendgroup": "Temperature_Avg",
         "line": {
          "color": "#00cc96",
          "dash": "solid"
         },
         "marker": {
          "symbol": "circle"
         },
         "mode": "lines",
         "name": "Temperature_Avg",
         "orientation": "v",
         "showlegend": true,
         "type": "scatter",
         "x": [
          1,
          2,
          3,
          4,
          5,
          6,
          7,
          8,
          9,
          10,
          11,
          12
         ],
         "xaxis": "x",
         "y": [
          34.42295302013423,
          36.70408212560386,
          42.97896475770925,
          53.11346420323326,
          63.16377192982456,
          72.3012585812357,
          79.11791208791209,
          77.47827133479213,
          70.93271070615035,
          60.21468271334792,
          49.04188372093023,
          40.91030973451327
         ],
         "yaxis": "y"
        },
        {
         "hovertemplate": "variable=Temperature_Historic<br>Month=%{x}<br>value=%{y}<extra></extra>",
         "legendgroup": "Temperature_Historic",
         "line": {
          "color": "#ab63fa",
          "dash": "solid"
         },
         "marker": {
          "symbol": "circle"
         },
         "mode": "lines",
         "name": "Temperature_Historic",
         "orientation": "v",
         "showlegend": true,
         "type": "scatter",
         "x": [
          1,
          2,
          3,
          4,
          5,
          6,
          7,
          8,
          9,
          10,
          11,
          12
         ],
         "xaxis": "x",
         "y": [
          34.41140939597315,
          36.31280193236715,
          43.032378854625556,
          53.65750577367206,
          63.77171052631579,
          73.42265446224256,
          79.15912087912088,
          77.76805251641137,
          70.79293849658313,
          59.652516411378556,
          49.074418604651164,
          40.049778761061944
         ],
         "yaxis": "y"
        },
        {
         "hovertemplate": "variable=Precipitation_Actual<br>Month=%{x}<br>value=%{y}<extra></extra>",
         "legendgroup": "Precipitation_Actual",
         "line": {
          "color": "#FFA15A",
          "dash": "solid"
         },
         "marker": {
          "symbol": "circle"
         },
         "mode": "lines",
         "name": "Precipitation_Actual",
         "orientation": "v",
         "showlegend": true,
         "type": "scatter",
         "x": [
          1,
          2,
          3,
          4,
          5,
          6,
          7,
          8,
          9,
          10,
          11,
          12
         ],
         "xaxis": "x",
         "y": [
          0.07796420581655482,
          0.06615942028985507,
          0.06841409691629956,
          0.08605080831408775,
          0.09682017543859649,
          0.07109839816933639,
          0.10283516483516483,
          0.08835886214442014,
          0.10061503416856492,
          0.09185995623632384,
          0.06972093023255814,
          0.10141592920353981
         ],
         "yaxis": "y"
        },
        {
         "hovertemplate": "variable=Precipitation_Historic<br>Month=%{x}<br>value=%{y}<extra></extra>",
         "legendgroup": "Precipitation_Historic",
         "line": {
          "color": "#19d3f3",
          "dash": "solid"
         },
         "marker": {
          "symbol": "circle"
         },
         "mode": "lines",
         "name": "Precipitation_Historic",
         "orientation": "v",
         "showlegend": true,
         "type": "scatter",
         "x": [
          1,
          2,
          3,
          4,
          5,
          6,
          7,
          8,
          9,
          10,
          11,
          12
         ],
         "xaxis": "x",
         "y": [
          5.605816554809844,
          5.557729468599034,
          5.134140969162996,
          4.549884526558891,
          4.610526315789474,
          4.988100686498856,
          4.957582417582417,
          4.173522975929978,
          3.249202733485194,
          3.625164113785558,
          4.935813953488372,
          5.596681415929203
         ],
         "yaxis": "y"
        },
        {
         "hovertemplate": "variable=Dew_Point<br>Month=%{x}<br>value=%{y}<extra></extra>",
         "legendgroup": "Dew_Point",
         "line": {
          "color": "#FF6692",
          "dash": "solid"
         },
         "marker": {
          "symbol": "circle"
         },
         "mode": "lines",
         "name": "Dew_Point",
         "orientation": "v",
         "showlegend": true,
         "type": "scatter",
         "x": [
          1,
          2,
          3,
          4,
          5,
          6,
          7,
          8,
          9,
          10,
          11,
          12
         ],
         "xaxis": "x",
         "y": [
          20.291968680089486,
          21.954806763285028,
          25.935770925110134,
          35.228568129330256,
          47.82344298245614,
          56.97061784897025,
          63.44457142857143,
          62.52708971553611,
          57.39854214123007,
          46.76708971553611,
          33.94897674418605,
          28.20174778761062
         ],
         "yaxis": "y"
        },
        {
         "hovertemplate": "variable=Max_Wind_Speed<br>Month=%{x}<br>value=%{y}<extra></extra>",
         "legendgroup": "Max_Wind_Speed",
         "line": {
          "color": "#B6E880",
          "dash": "solid"
         },
         "marker": {
          "symbol": "circle"
         },
         "mode": "lines",
         "name": "Max_Wind_Speed",
         "orientation": "v",
         "showlegend": true,
         "type": "scatter",
         "x": [
          1,
          2,
          3,
          4,
          5,
          6,
          7,
          8,
          9,
          10,
          11,
          12
         ],
         "xaxis": "x",
         "y": [
          19.61744966442953,
          19.934782608695652,
          20.16079295154185,
          19.755196304849886,
          17.521929824561404,
          17.013729977116704,
          16.613186813186815,
          16.210065645514224,
          16.202733485193622,
          17.301969365426697,
          18.090697674418603,
          18.79424778761062
         ],
         "yaxis": "y"
        },
        {
         "hovertemplate": "variable=Sea_Level_Pressure<br>Month=%{x}<br>value=%{y}<extra></extra>",
         "legendgroup": "Sea_Level_Pressure",
         "line": {
          "color": "#FF97FF",
          "dash": "solid"
         },
         "marker": {
          "symbol": "circle"
         },
         "mode": "lines",
         "name": "Sea_Level_Pressure",
         "orientation": "v",
         "showlegend": true,
         "type": "scatter",
         "x": [
          1,
          2,
          3,
          4,
          5,
          6,
          7,
          8,
          9,
          10,
          11,
          12
         ],
         "xaxis": "x",
         "y": [
          30.15856823266219,
          30.164710144927536,
          30.15121145374449,
          30.067274826789838,
          30.07385964912281,
          29.97704805491991,
          29.988307692307693,
          30.024901531728663,
          30.103462414578587,
          30.093785557986873,
          30.197906976744186,
          30.17774336283186
         ],
         "yaxis": "y"
        }
       ],
       "layout": {
        "legend": {
         "title": {
          "text": "variable"
         },
         "tracegroupgap": 0
        },
        "margin": {
         "t": 60
        },
        "template": {
         "data": {
          "bar": [
           {
            "error_x": {
             "color": "#2a3f5f"
            },
            "error_y": {
             "color": "#2a3f5f"
            },
            "marker": {
             "line": {
              "color": "#E5ECF6",
              "width": 0.5
             },
             "pattern": {
              "fillmode": "overlay",
              "size": 10,
              "solidity": 0.2
             }
            },
            "type": "bar"
           }
          ],
          "barpolar": [
           {
            "marker": {
             "line": {
              "color": "#E5ECF6",
              "width": 0.5
             },
             "pattern": {
              "fillmode": "overlay",
              "size": 10,
              "solidity": 0.2
             }
            },
            "type": "barpolar"
           }
          ],
          "carpet": [
           {
            "aaxis": {
             "endlinecolor": "#2a3f5f",
             "gridcolor": "white",
             "linecolor": "white",
             "minorgridcolor": "white",
             "startlinecolor": "#2a3f5f"
            },
            "baxis": {
             "endlinecolor": "#2a3f5f",
             "gridcolor": "white",
             "linecolor": "white",
             "minorgridcolor": "white",
             "startlinecolor": "#2a3f5f"
            },
            "type": "carpet"
           }
          ],
          "choropleth": [
           {
            "colorbar": {
             "outlinewidth": 0,
             "ticks": ""
            },
            "type": "choropleth"
           }
          ],
          "contour": [
           {
            "colorbar": {
             "outlinewidth": 0,
             "ticks": ""
            },
            "colorscale": [
             [
              0,
              "#0d0887"
             ],
             [
              0.1111111111111111,
              "#46039f"
             ],
             [
              0.2222222222222222,
              "#7201a8"
             ],
             [
              0.3333333333333333,
              "#9c179e"
             ],
             [
              0.4444444444444444,
              "#bd3786"
             ],
             [
              0.5555555555555556,
              "#d8576b"
             ],
             [
              0.6666666666666666,
              "#ed7953"
             ],
             [
              0.7777777777777778,
              "#fb9f3a"
             ],
             [
              0.8888888888888888,
              "#fdca26"
             ],
             [
              1,
              "#f0f921"
             ]
            ],
            "type": "contour"
           }
          ],
          "contourcarpet": [
           {
            "colorbar": {
             "outlinewidth": 0,
             "ticks": ""
            },
            "type": "contourcarpet"
           }
          ],
          "heatmap": [
           {
            "colorbar": {
             "outlinewidth": 0,
             "ticks": ""
            },
            "colorscale": [
             [
              0,
              "#0d0887"
             ],
             [
              0.1111111111111111,
              "#46039f"
             ],
             [
              0.2222222222222222,
              "#7201a8"
             ],
             [
              0.3333333333333333,
              "#9c179e"
             ],
             [
              0.4444444444444444,
              "#bd3786"
             ],
             [
              0.5555555555555556,
              "#d8576b"
             ],
             [
              0.6666666666666666,
              "#ed7953"
             ],
             [
              0.7777777777777778,
              "#fb9f3a"
             ],
             [
              0.8888888888888888,
              "#fdca26"
             ],
             [
              1,
              "#f0f921"
             ]
            ],
            "type": "heatmap"
           }
          ],
          "heatmapgl": [
           {
            "colorbar": {
             "outlinewidth": 0,
             "ticks": ""
            },
            "colorscale": [
             [
              0,
              "#0d0887"
             ],
             [
              0.1111111111111111,
              "#46039f"
             ],
             [
              0.2222222222222222,
              "#7201a8"
             ],
             [
              0.3333333333333333,
              "#9c179e"
             ],
             [
              0.4444444444444444,
              "#bd3786"
             ],
             [
              0.5555555555555556,
              "#d8576b"
             ],
             [
              0.6666666666666666,
              "#ed7953"
             ],
             [
              0.7777777777777778,
              "#fb9f3a"
             ],
             [
              0.8888888888888888,
              "#fdca26"
             ],
             [
              1,
              "#f0f921"
             ]
            ],
            "type": "heatmapgl"
           }
          ],
          "histogram": [
           {
            "marker": {
             "pattern": {
              "fillmode": "overlay",
              "size": 10,
              "solidity": 0.2
             }
            },
            "type": "histogram"
           }
          ],
          "histogram2d": [
           {
            "colorbar": {
             "outlinewidth": 0,
             "ticks": ""
            },
            "colorscale": [
             [
              0,
              "#0d0887"
             ],
             [
              0.1111111111111111,
              "#46039f"
             ],
             [
              0.2222222222222222,
              "#7201a8"
             ],
             [
              0.3333333333333333,
              "#9c179e"
             ],
             [
              0.4444444444444444,
              "#bd3786"
             ],
             [
              0.5555555555555556,
              "#d8576b"
             ],
             [
              0.6666666666666666,
              "#ed7953"
             ],
             [
              0.7777777777777778,
              "#fb9f3a"
             ],
             [
              0.8888888888888888,
              "#fdca26"
             ],
             [
              1,
              "#f0f921"
             ]
            ],
            "type": "histogram2d"
           }
          ],
          "histogram2dcontour": [
           {
            "colorbar": {
             "outlinewidth": 0,
             "ticks": ""
            },
            "colorscale": [
             [
              0,
              "#0d0887"
             ],
             [
              0.1111111111111111,
              "#46039f"
             ],
             [
              0.2222222222222222,
              "#7201a8"
             ],
             [
              0.3333333333333333,
              "#9c179e"
             ],
             [
              0.4444444444444444,
              "#bd3786"
             ],
             [
              0.5555555555555556,
              "#d8576b"
             ],
             [
              0.6666666666666666,
              "#ed7953"
             ],
             [
              0.7777777777777778,
              "#fb9f3a"
             ],
             [
              0.8888888888888888,
              "#fdca26"
             ],
             [
              1,
              "#f0f921"
             ]
            ],
            "type": "histogram2dcontour"
           }
          ],
          "mesh3d": [
           {
            "colorbar": {
             "outlinewidth": 0,
             "ticks": ""
            },
            "type": "mesh3d"
           }
          ],
          "parcoords": [
           {
            "line": {
             "colorbar": {
              "outlinewidth": 0,
              "ticks": ""
             }
            },
            "type": "parcoords"
           }
          ],
          "pie": [
           {
            "automargin": true,
            "type": "pie"
           }
          ],
          "scatter": [
           {
            "fillpattern": {
             "fillmode": "overlay",
             "size": 10,
             "solidity": 0.2
            },
            "type": "scatter"
           }
          ],
          "scatter3d": [
           {
            "line": {
             "colorbar": {
              "outlinewidth": 0,
              "ticks": ""
             }
            },
            "marker": {
             "colorbar": {
              "outlinewidth": 0,
              "ticks": ""
             }
            },
            "type": "scatter3d"
           }
          ],
          "scattercarpet": [
           {
            "marker": {
             "colorbar": {
              "outlinewidth": 0,
              "ticks": ""
             }
            },
            "type": "scattercarpet"
           }
          ],
          "scattergeo": [
           {
            "marker": {
             "colorbar": {
              "outlinewidth": 0,
              "ticks": ""
             }
            },
            "type": "scattergeo"
           }
          ],
          "scattergl": [
           {
            "marker": {
             "colorbar": {
              "outlinewidth": 0,
              "ticks": ""
             }
            },
            "type": "scattergl"
           }
          ],
          "scattermapbox": [
           {
            "marker": {
             "colorbar": {
              "outlinewidth": 0,
              "ticks": ""
             }
            },
            "type": "scattermapbox"
           }
          ],
          "scatterpolar": [
           {
            "marker": {
             "colorbar": {
              "outlinewidth": 0,
              "ticks": ""
             }
            },
            "type": "scatterpolar"
           }
          ],
          "scatterpolargl": [
           {
            "marker": {
             "colorbar": {
              "outlinewidth": 0,
              "ticks": ""
             }
            },
            "type": "scatterpolargl"
           }
          ],
          "scatterternary": [
           {
            "marker": {
             "colorbar": {
              "outlinewidth": 0,
              "ticks": ""
             }
            },
            "type": "scatterternary"
           }
          ],
          "surface": [
           {
            "colorbar": {
             "outlinewidth": 0,
             "ticks": ""
            },
            "colorscale": [
             [
              0,
              "#0d0887"
             ],
             [
              0.1111111111111111,
              "#46039f"
             ],
             [
              0.2222222222222222,
              "#7201a8"
             ],
             [
              0.3333333333333333,
              "#9c179e"
             ],
             [
              0.4444444444444444,
              "#bd3786"
             ],
             [
              0.5555555555555556,
              "#d8576b"
             ],
             [
              0.6666666666666666,
              "#ed7953"
             ],
             [
              0.7777777777777778,
              "#fb9f3a"
             ],
             [
              0.8888888888888888,
              "#fdca26"
             ],
             [
              1,
              "#f0f921"
             ]
            ],
            "type": "surface"
           }
          ],
          "table": [
           {
            "cells": {
             "fill": {
              "color": "#EBF0F8"
             },
             "line": {
              "color": "white"
             }
            },
            "header": {
             "fill": {
              "color": "#C8D4E3"
             },
             "line": {
              "color": "white"
             }
            },
            "type": "table"
           }
          ]
         },
         "layout": {
          "annotationdefaults": {
           "arrowcolor": "#2a3f5f",
           "arrowhead": 0,
           "arrowwidth": 1
          },
          "autotypenumbers": "strict",
          "coloraxis": {
           "colorbar": {
            "outlinewidth": 0,
            "ticks": ""
           }
          },
          "colorscale": {
           "diverging": [
            [
             0,
             "#8e0152"
            ],
            [
             0.1,
             "#c51b7d"
            ],
            [
             0.2,
             "#de77ae"
            ],
            [
             0.3,
             "#f1b6da"
            ],
            [
             0.4,
             "#fde0ef"
            ],
            [
             0.5,
             "#f7f7f7"
            ],
            [
             0.6,
             "#e6f5d0"
            ],
            [
             0.7,
             "#b8e186"
            ],
            [
             0.8,
             "#7fbc41"
            ],
            [
             0.9,
             "#4d9221"
            ],
            [
             1,
             "#276419"
            ]
           ],
           "sequential": [
            [
             0,
             "#0d0887"
            ],
            [
             0.1111111111111111,
             "#46039f"
            ],
            [
             0.2222222222222222,
             "#7201a8"
            ],
            [
             0.3333333333333333,
             "#9c179e"
            ],
            [
             0.4444444444444444,
             "#bd3786"
            ],
            [
             0.5555555555555556,
             "#d8576b"
            ],
            [
             0.6666666666666666,
             "#ed7953"
            ],
            [
             0.7777777777777778,
             "#fb9f3a"
            ],
            [
             0.8888888888888888,
             "#fdca26"
            ],
            [
             1,
             "#f0f921"
            ]
           ],
           "sequentialminus": [
            [
             0,
             "#0d0887"
            ],
            [
             0.1111111111111111,
             "#46039f"
            ],
            [
             0.2222222222222222,
             "#7201a8"
            ],
            [
             0.3333333333333333,
             "#9c179e"
            ],
            [
             0.4444444444444444,
             "#bd3786"
            ],
            [
             0.5555555555555556,
             "#d8576b"
            ],
            [
             0.6666666666666666,
             "#ed7953"
            ],
            [
             0.7777777777777778,
             "#fb9f3a"
            ],
            [
             0.8888888888888888,
             "#fdca26"
            ],
            [
             1,
             "#f0f921"
            ]
           ]
          },
          "colorway": [
           "#636efa",
           "#EF553B",
           "#00cc96",
           "#ab63fa",
           "#FFA15A",
           "#19d3f3",
           "#FF6692",
           "#B6E880",
           "#FF97FF",
           "#FECB52"
          ],
          "font": {
           "color": "#2a3f5f"
          },
          "geo": {
           "bgcolor": "white",
           "lakecolor": "white",
           "landcolor": "#E5ECF6",
           "showlakes": true,
           "showland": true,
           "subunitcolor": "white"
          },
          "hoverlabel": {
           "align": "left"
          },
          "hovermode": "closest",
          "mapbox": {
           "style": "light"
          },
          "paper_bgcolor": "white",
          "plot_bgcolor": "#E5ECF6",
          "polar": {
           "angularaxis": {
            "gridcolor": "white",
            "linecolor": "white",
            "ticks": ""
           },
           "bgcolor": "#E5ECF6",
           "radialaxis": {
            "gridcolor": "white",
            "linecolor": "white",
            "ticks": ""
           }
          },
          "scene": {
           "xaxis": {
            "backgroundcolor": "#E5ECF6",
            "gridcolor": "white",
            "gridwidth": 2,
            "linecolor": "white",
            "showbackground": true,
            "ticks": "",
            "zerolinecolor": "white"
           },
           "yaxis": {
            "backgroundcolor": "#E5ECF6",
            "gridcolor": "white",
            "gridwidth": 2,
            "linecolor": "white",
            "showbackground": true,
            "ticks": "",
            "zerolinecolor": "white"
           },
           "zaxis": {
            "backgroundcolor": "#E5ECF6",
            "gridcolor": "white",
            "gridwidth": 2,
            "linecolor": "white",
            "showbackground": true,
            "ticks": "",
            "zerolinecolor": "white"
           }
          },
          "shapedefaults": {
           "line": {
            "color": "#2a3f5f"
           }
          },
          "ternary": {
           "aaxis": {
            "gridcolor": "white",
            "linecolor": "white",
            "ticks": ""
           },
           "baxis": {
            "gridcolor": "white",
            "linecolor": "white",
            "ticks": ""
           },
           "bgcolor": "#E5ECF6",
           "caxis": {
            "gridcolor": "white",
            "linecolor": "white",
            "ticks": ""
           }
          },
          "title": {
           "x": 0.05
          },
          "xaxis": {
           "automargin": true,
           "gridcolor": "white",
           "linecolor": "white",
           "ticks": "",
           "title": {
            "standoff": 15
           },
           "zerolinecolor": "white",
           "zerolinewidth": 2
          },
          "yaxis": {
           "automargin": true,
           "gridcolor": "white",
           "linecolor": "white",
           "ticks": "",
           "title": {
            "standoff": 15
           },
           "zerolinecolor": "white",
           "zerolinewidth": 2
          }
         }
        },
        "title": {
         "text": "weather Over Months"
        },
        "xaxis": {
         "anchor": "y",
         "domain": [
          0,
          1
         ],
         "title": {
          "text": "Date"
         }
        },
        "yaxis": {
         "anchor": "x",
         "domain": [
          0,
          1
         ],
         "title": {
          "text": "Weather properties"
         }
        }
       }
      }
     },
     "metadata": {},
     "output_type": "display_data"
    }
   ],
   "source": [
    "fig = px.line(group_by_month)\n",
    "fig.update_layout(title='weather Over Months',\n",
    "                  xaxis_title='Date',\n",
    "                  yaxis_title='Weather properties')\n",
    "fig.show()"
   ]
  },
  {
   "cell_type": "markdown",
   "metadata": {},
   "source": [
    "- The highest humidity is in June and the lowest in March.\n",
    "- The highest pressure is in November and the lowest in July.\n",
    "- The highest temperature is in July and the lowest in January.\n",
    "- The highest precipitation is in July and the lowest in February.\n",
    "- The highest dew point is in July and the lowest in January.\n",
    "- The highest wind speed is in March and the lowest in September.\n",
    "- The highest sea level pressure is in November and the lowest in June.\n",
    "- The values between \"Temperature_Avg\" and \"Temperature_Historic\" are very close.\n",
    "- The values between \"Precipitatio_Actual\" and \"Precipitation_Historic\" are far,\n",
    "This may be due to an error in calculating \"Precipitation_Historic\" or because the weather is very volatile and there is a deviation from the historical values."
   ]
  },
  {
   "cell_type": "markdown",
   "metadata": {},
   "source": [
    "#### Q2 : How does the weather change during the years?"
   ]
  },
  {
   "cell_type": "code",
   "execution_count": 254,
   "metadata": {},
   "outputs": [
    {
     "data": {
      "text/html": [
       "<div>\n",
       "<style scoped>\n",
       "    .dataframe tbody tr th:only-of-type {\n",
       "        vertical-align: middle;\n",
       "    }\n",
       "\n",
       "    .dataframe tbody tr th {\n",
       "        vertical-align: top;\n",
       "    }\n",
       "\n",
       "    .dataframe thead th {\n",
       "        text-align: right;\n",
       "    }\n",
       "</style>\n",
       "<table border=\"1\" class=\"dataframe\">\n",
       "  <thead>\n",
       "    <tr style=\"text-align: right;\">\n",
       "      <th></th>\n",
       "      <th>Humidity_Avg(%)</th>\n",
       "      <th>Pressure_Avg(in)</th>\n",
       "      <th>Temperature_Avg</th>\n",
       "      <th>Temperature_Historic</th>\n",
       "      <th>Precipitation_Actual</th>\n",
       "      <th>Precipitation_Historic</th>\n",
       "      <th>Dew_Point</th>\n",
       "      <th>Max_Wind_Speed</th>\n",
       "      <th>Sea_Level_Pressure</th>\n",
       "    </tr>\n",
       "    <tr>\n",
       "      <th>Year</th>\n",
       "      <th></th>\n",
       "      <th></th>\n",
       "      <th></th>\n",
       "      <th></th>\n",
       "      <th></th>\n",
       "      <th></th>\n",
       "      <th></th>\n",
       "      <th></th>\n",
       "      <th></th>\n",
       "    </tr>\n",
       "  </thead>\n",
       "  <tbody>\n",
       "    <tr>\n",
       "      <th>2009</th>\n",
       "      <td>66.665746</td>\n",
       "      <td>29.990249</td>\n",
       "      <td>54.336575</td>\n",
       "      <td>56.801381</td>\n",
       "      <td>0.000000</td>\n",
       "      <td>4.746133</td>\n",
       "      <td>40.087790</td>\n",
       "      <td>18.232044</td>\n",
       "      <td>30.097459</td>\n",
       "    </tr>\n",
       "    <tr>\n",
       "      <th>2010</th>\n",
       "      <td>62.632597</td>\n",
       "      <td>29.901050</td>\n",
       "      <td>57.485387</td>\n",
       "      <td>56.870994</td>\n",
       "      <td>0.000000</td>\n",
       "      <td>4.743923</td>\n",
       "      <td>41.010525</td>\n",
       "      <td>18.726519</td>\n",
       "      <td>29.996823</td>\n",
       "    </tr>\n",
       "    <tr>\n",
       "      <th>2011</th>\n",
       "      <td>67.085635</td>\n",
       "      <td>29.968674</td>\n",
       "      <td>56.215028</td>\n",
       "      <td>56.772376</td>\n",
       "      <td>0.000000</td>\n",
       "      <td>4.751105</td>\n",
       "      <td>41.704309</td>\n",
       "      <td>17.483425</td>\n",
       "      <td>30.076326</td>\n",
       "    </tr>\n",
       "    <tr>\n",
       "      <th>2012</th>\n",
       "      <td>66.582633</td>\n",
       "      <td>29.976415</td>\n",
       "      <td>58.361653</td>\n",
       "      <td>57.077031</td>\n",
       "      <td>0.000000</td>\n",
       "      <td>4.731933</td>\n",
       "      <td>43.362101</td>\n",
       "      <td>17.775910</td>\n",
       "      <td>30.071401</td>\n",
       "    </tr>\n",
       "    <tr>\n",
       "      <th>2013</th>\n",
       "      <td>66.169811</td>\n",
       "      <td>30.021981</td>\n",
       "      <td>55.642170</td>\n",
       "      <td>56.840566</td>\n",
       "      <td>0.000000</td>\n",
       "      <td>4.749057</td>\n",
       "      <td>40.343428</td>\n",
       "      <td>17.814465</td>\n",
       "      <td>30.118585</td>\n",
       "    </tr>\n",
       "    <tr>\n",
       "      <th>2014</th>\n",
       "      <td>63.972299</td>\n",
       "      <td>29.995014</td>\n",
       "      <td>54.362659</td>\n",
       "      <td>57.014681</td>\n",
       "      <td>0.115706</td>\n",
       "      <td>4.741551</td>\n",
       "      <td>39.394044</td>\n",
       "      <td>18.008310</td>\n",
       "      <td>30.104377</td>\n",
       "    </tr>\n",
       "    <tr>\n",
       "      <th>2015</th>\n",
       "      <td>64.558333</td>\n",
       "      <td>30.030722</td>\n",
       "      <td>56.286528</td>\n",
       "      <td>56.867500</td>\n",
       "      <td>0.099167</td>\n",
       "      <td>4.746111</td>\n",
       "      <td>41.425528</td>\n",
       "      <td>17.650000</td>\n",
       "      <td>30.139333</td>\n",
       "    </tr>\n",
       "    <tr>\n",
       "      <th>2016</th>\n",
       "      <td>64.754144</td>\n",
       "      <td>29.913674</td>\n",
       "      <td>58.173260</td>\n",
       "      <td>56.716298</td>\n",
       "      <td>0.102735</td>\n",
       "      <td>4.751105</td>\n",
       "      <td>42.826050</td>\n",
       "      <td>18.464088</td>\n",
       "      <td>30.106492</td>\n",
       "    </tr>\n",
       "    <tr>\n",
       "      <th>2017</th>\n",
       "      <td>67.924157</td>\n",
       "      <td>29.984382</td>\n",
       "      <td>57.657865</td>\n",
       "      <td>57.149719</td>\n",
       "      <td>0.111236</td>\n",
       "      <td>4.733427</td>\n",
       "      <td>43.648904</td>\n",
       "      <td>18.227528</td>\n",
       "      <td>30.097640</td>\n",
       "    </tr>\n",
       "    <tr>\n",
       "      <th>2018</th>\n",
       "      <td>68.745665</td>\n",
       "      <td>30.029884</td>\n",
       "      <td>57.044509</td>\n",
       "      <td>57.399133</td>\n",
       "      <td>0.177197</td>\n",
       "      <td>4.722254</td>\n",
       "      <td>43.718324</td>\n",
       "      <td>18.312139</td>\n",
       "      <td>30.143092</td>\n",
       "    </tr>\n",
       "    <tr>\n",
       "      <th>2019</th>\n",
       "      <td>67.132022</td>\n",
       "      <td>29.835674</td>\n",
       "      <td>56.158961</td>\n",
       "      <td>57.019663</td>\n",
       "      <td>0.141938</td>\n",
       "      <td>4.741292</td>\n",
       "      <td>41.675618</td>\n",
       "      <td>18.182584</td>\n",
       "      <td>30.120871</td>\n",
       "    </tr>\n",
       "    <tr>\n",
       "      <th>2020</th>\n",
       "      <td>65.783934</td>\n",
       "      <td>30.005263</td>\n",
       "      <td>58.182216</td>\n",
       "      <td>56.782825</td>\n",
       "      <td>0.112992</td>\n",
       "      <td>4.748753</td>\n",
       "      <td>42.849391</td>\n",
       "      <td>18.686981</td>\n",
       "      <td>30.114571</td>\n",
       "    </tr>\n",
       "    <tr>\n",
       "      <th>2021</th>\n",
       "      <td>63.138028</td>\n",
       "      <td>29.997408</td>\n",
       "      <td>58.119296</td>\n",
       "      <td>56.895211</td>\n",
       "      <td>0.132423</td>\n",
       "      <td>4.750141</td>\n",
       "      <td>42.230141</td>\n",
       "      <td>18.115493</td>\n",
       "      <td>30.090423</td>\n",
       "    </tr>\n",
       "    <tr>\n",
       "      <th>2022</th>\n",
       "      <td>62.946779</td>\n",
       "      <td>30.021232</td>\n",
       "      <td>56.711513</td>\n",
       "      <td>56.791597</td>\n",
       "      <td>0.119496</td>\n",
       "      <td>4.750420</td>\n",
       "      <td>40.662353</td>\n",
       "      <td>18.033613</td>\n",
       "      <td>30.123333</td>\n",
       "    </tr>\n",
       "    <tr>\n",
       "      <th>2023</th>\n",
       "      <td>65.806180</td>\n",
       "      <td>29.971489</td>\n",
       "      <td>58.120478</td>\n",
       "      <td>56.849719</td>\n",
       "      <td>0.163933</td>\n",
       "      <td>4.746348</td>\n",
       "      <td>43.173680</td>\n",
       "      <td>17.539326</td>\n",
       "      <td>30.067809</td>\n",
       "    </tr>\n",
       "  </tbody>\n",
       "</table>\n",
       "</div>"
      ],
      "text/plain": [
       "      Humidity_Avg(%)  Pressure_Avg(in)  Temperature_Avg  \\\n",
       "Year                                                       \n",
       "2009        66.665746         29.990249        54.336575   \n",
       "2010        62.632597         29.901050        57.485387   \n",
       "2011        67.085635         29.968674        56.215028   \n",
       "2012        66.582633         29.976415        58.361653   \n",
       "2013        66.169811         30.021981        55.642170   \n",
       "2014        63.972299         29.995014        54.362659   \n",
       "2015        64.558333         30.030722        56.286528   \n",
       "2016        64.754144         29.913674        58.173260   \n",
       "2017        67.924157         29.984382        57.657865   \n",
       "2018        68.745665         30.029884        57.044509   \n",
       "2019        67.132022         29.835674        56.158961   \n",
       "2020        65.783934         30.005263        58.182216   \n",
       "2021        63.138028         29.997408        58.119296   \n",
       "2022        62.946779         30.021232        56.711513   \n",
       "2023        65.806180         29.971489        58.120478   \n",
       "\n",
       "      Temperature_Historic  Precipitation_Actual  Precipitation_Historic  \\\n",
       "Year                                                                       \n",
       "2009             56.801381              0.000000                4.746133   \n",
       "2010             56.870994              0.000000                4.743923   \n",
       "2011             56.772376              0.000000                4.751105   \n",
       "2012             57.077031              0.000000                4.731933   \n",
       "2013             56.840566              0.000000                4.749057   \n",
       "2014             57.014681              0.115706                4.741551   \n",
       "2015             56.867500              0.099167                4.746111   \n",
       "2016             56.716298              0.102735                4.751105   \n",
       "2017             57.149719              0.111236                4.733427   \n",
       "2018             57.399133              0.177197                4.722254   \n",
       "2019             57.019663              0.141938                4.741292   \n",
       "2020             56.782825              0.112992                4.748753   \n",
       "2021             56.895211              0.132423                4.750141   \n",
       "2022             56.791597              0.119496                4.750420   \n",
       "2023             56.849719              0.163933                4.746348   \n",
       "\n",
       "      Dew_Point  Max_Wind_Speed  Sea_Level_Pressure  \n",
       "Year                                                 \n",
       "2009  40.087790       18.232044           30.097459  \n",
       "2010  41.010525       18.726519           29.996823  \n",
       "2011  41.704309       17.483425           30.076326  \n",
       "2012  43.362101       17.775910           30.071401  \n",
       "2013  40.343428       17.814465           30.118585  \n",
       "2014  39.394044       18.008310           30.104377  \n",
       "2015  41.425528       17.650000           30.139333  \n",
       "2016  42.826050       18.464088           30.106492  \n",
       "2017  43.648904       18.227528           30.097640  \n",
       "2018  43.718324       18.312139           30.143092  \n",
       "2019  41.675618       18.182584           30.120871  \n",
       "2020  42.849391       18.686981           30.114571  \n",
       "2021  42.230141       18.115493           30.090423  \n",
       "2022  40.662353       18.033613           30.123333  \n",
       "2023  43.173680       17.539326           30.067809  "
      ]
     },
     "execution_count": 254,
     "metadata": {},
     "output_type": "execute_result"
    }
   ],
   "source": [
    "group_by_years = df.groupby(df['Year'])[numeric_columns[:9]].mean()\n",
    "group_by_years"
   ]
  },
  {
   "cell_type": "code",
   "execution_count": 255,
   "metadata": {},
   "outputs": [
    {
     "data": {
      "application/vnd.plotly.v1+json": {
       "config": {
        "plotlyServerURL": "https://plot.ly"
       },
       "data": [
        {
         "hovertemplate": "variable=Humidity_Avg(%)<br>Year=%{x}<br>value=%{y}<extra></extra>",
         "legendgroup": "Humidity_Avg(%)",
         "line": {
          "color": "#636efa",
          "dash": "solid"
         },
         "marker": {
          "symbol": "circle"
         },
         "mode": "lines",
         "name": "Humidity_Avg(%)",
         "orientation": "v",
         "showlegend": true,
         "type": "scatter",
         "x": [
          2009,
          2010,
          2011,
          2012,
          2013,
          2014,
          2015,
          2016,
          2017,
          2018,
          2019,
          2020,
          2021,
          2022,
          2023
         ],
         "xaxis": "x",
         "y": [
          66.6657458563536,
          62.63259668508287,
          67.08563535911603,
          66.58263305322129,
          66.16981132075472,
          63.97229916897507,
          64.55833333333334,
          64.75414364640883,
          67.92415730337079,
          68.74566473988439,
          67.13202247191012,
          65.78393351800554,
          63.138028169014085,
          62.94677871148459,
          65.8061797752809
         ],
         "yaxis": "y"
        },
        {
         "hovertemplate": "variable=Pressure_Avg(in)<br>Year=%{x}<br>value=%{y}<extra></extra>",
         "legendgroup": "Pressure_Avg(in)",
         "line": {
          "color": "#EF553B",
          "dash": "solid"
         },
         "marker": {
          "symbol": "circle"
         },
         "mode": "lines",
         "name": "Pressure_Avg(in)",
         "orientation": "v",
         "showlegend": true,
         "type": "scatter",
         "x": [
          2009,
          2010,
          2011,
          2012,
          2013,
          2014,
          2015,
          2016,
          2017,
          2018,
          2019,
          2020,
          2021,
          2022,
          2023
         ],
         "xaxis": "x",
         "y": [
          29.990248618784527,
          29.901049723756906,
          29.96867403314917,
          29.97641456582633,
          30.02198113207547,
          29.995013850415514,
          30.03072222222222,
          29.91367403314917,
          29.984382022471912,
          30.029884393063583,
          29.83567415730337,
          30.005263157894735,
          29.997408450704224,
          30.0212324929972,
          29.971488764044945
         ],
         "yaxis": "y"
        },
        {
         "hovertemplate": "variable=Temperature_Avg<br>Year=%{x}<br>value=%{y}<extra></extra>",
         "legendgroup": "Temperature_Avg",
         "line": {
          "color": "#00cc96",
          "dash": "solid"
         },
         "marker": {
          "symbol": "circle"
         },
         "mode": "lines",
         "name": "Temperature_Avg",
         "orientation": "v",
         "showlegend": true,
         "type": "scatter",
         "x": [
          2009,
          2010,
          2011,
          2012,
          2013,
          2014,
          2015,
          2016,
          2017,
          2018,
          2019,
          2020,
          2021,
          2022,
          2023
         ],
         "xaxis": "x",
         "y": [
          54.33657458563536,
          57.48538674033149,
          56.21502762430939,
          58.361652661064426,
          55.642169811320755,
          54.36265927977839,
          56.286527777777785,
          58.173259668508294,
          57.65786516853933,
          57.04450867052024,
          56.158960674157306,
          58.18221606648199,
          58.11929577464788,
          56.71151260504201,
          58.120477528089886
         ],
         "yaxis": "y"
        },
        {
         "hovertemplate": "variable=Temperature_Historic<br>Year=%{x}<br>value=%{y}<extra></extra>",
         "legendgroup": "Temperature_Historic",
         "line": {
          "color": "#ab63fa",
          "dash": "solid"
         },
         "marker": {
          "symbol": "circle"
         },
         "mode": "lines",
         "name": "Temperature_Historic",
         "orientation": "v",
         "showlegend": true,
         "type": "scatter",
         "x": [
          2009,
          2010,
          2011,
          2012,
          2013,
          2014,
          2015,
          2016,
          2017,
          2018,
          2019,
          2020,
          2021,
          2022,
          2023
         ],
         "xaxis": "x",
         "y": [
          56.80138121546961,
          56.87099447513812,
          56.77237569060773,
          57.07703081232493,
          56.84056603773585,
          57.01468144044321,
          56.8675,
          56.716298342541435,
          57.149719101123594,
          57.399132947976874,
          57.01966292134831,
          56.78282548476454,
          56.89521126760563,
          56.791596638655456,
          56.8497191011236
         ],
         "yaxis": "y"
        },
        {
         "hovertemplate": "variable=Precipitation_Actual<br>Year=%{x}<br>value=%{y}<extra></extra>",
         "legendgroup": "Precipitation_Actual",
         "line": {
          "color": "#FFA15A",
          "dash": "solid"
         },
         "marker": {
          "symbol": "circle"
         },
         "mode": "lines",
         "name": "Precipitation_Actual",
         "orientation": "v",
         "showlegend": true,
         "type": "scatter",
         "x": [
          2009,
          2010,
          2011,
          2012,
          2013,
          2014,
          2015,
          2016,
          2017,
          2018,
          2019,
          2020,
          2021,
          2022,
          2023
         ],
         "xaxis": "x",
         "y": [
          0,
          0,
          0,
          0,
          0,
          0.11570637119113575,
          0.09916666666666668,
          0.10273480662983425,
          0.11123595505617978,
          0.17719653179190753,
          0.141938202247191,
          0.11299168975069251,
          0.1324225352112676,
          0.11949579831932772,
          0.16393258426966292
         ],
         "yaxis": "y"
        },
        {
         "hovertemplate": "variable=Precipitation_Historic<br>Year=%{x}<br>value=%{y}<extra></extra>",
         "legendgroup": "Precipitation_Historic",
         "line": {
          "color": "#19d3f3",
          "dash": "solid"
         },
         "marker": {
          "symbol": "circle"
         },
         "mode": "lines",
         "name": "Precipitation_Historic",
         "orientation": "v",
         "showlegend": true,
         "type": "scatter",
         "x": [
          2009,
          2010,
          2011,
          2012,
          2013,
          2014,
          2015,
          2016,
          2017,
          2018,
          2019,
          2020,
          2021,
          2022,
          2023
         ],
         "xaxis": "x",
         "y": [
          4.746132596685083,
          4.743922651933701,
          4.751104972375691,
          4.731932773109244,
          4.749056603773585,
          4.741551246537396,
          4.7461111111111105,
          4.751104972375691,
          4.733426966292135,
          4.722254335260116,
          4.741292134831461,
          4.748753462603878,
          4.750140845070423,
          4.750420168067227,
          4.746348314606742
         ],
         "yaxis": "y"
        },
        {
         "hovertemplate": "variable=Dew_Point<br>Year=%{x}<br>value=%{y}<extra></extra>",
         "legendgroup": "Dew_Point",
         "line": {
          "color": "#FF6692",
          "dash": "solid"
         },
         "marker": {
          "symbol": "circle"
         },
         "mode": "lines",
         "name": "Dew_Point",
         "orientation": "v",
         "showlegend": true,
         "type": "scatter",
         "x": [
          2009,
          2010,
          2011,
          2012,
          2013,
          2014,
          2015,
          2016,
          2017,
          2018,
          2019,
          2020,
          2021,
          2022,
          2023
         ],
         "xaxis": "x",
         "y": [
          40.08779005524862,
          41.01052486187845,
          41.70430939226519,
          43.36210084033613,
          40.343427672955976,
          39.39404432132964,
          41.42552777777778,
          42.82604972375691,
          43.64890449438202,
          43.718323699421966,
          41.67561797752809,
          42.84939058171745,
          42.23014084507042,
          40.662352941176465,
          43.173679775280895
         ],
         "yaxis": "y"
        },
        {
         "hovertemplate": "variable=Max_Wind_Speed<br>Year=%{x}<br>value=%{y}<extra></extra>",
         "legendgroup": "Max_Wind_Speed",
         "line": {
          "color": "#B6E880",
          "dash": "solid"
         },
         "marker": {
          "symbol": "circle"
         },
         "mode": "lines",
         "name": "Max_Wind_Speed",
         "orientation": "v",
         "showlegend": true,
         "type": "scatter",
         "x": [
          2009,
          2010,
          2011,
          2012,
          2013,
          2014,
          2015,
          2016,
          2017,
          2018,
          2019,
          2020,
          2021,
          2022,
          2023
         ],
         "xaxis": "x",
         "y": [
          18.23204419889503,
          18.726519337016576,
          17.483425414364643,
          17.77591036414566,
          17.81446540880503,
          18.008310249307478,
          17.65,
          18.464088397790054,
          18.22752808988764,
          18.3121387283237,
          18.18258426966292,
          18.68698060941828,
          18.11549295774648,
          18.03361344537815,
          17.53932584269663
         ],
         "yaxis": "y"
        },
        {
         "hovertemplate": "variable=Sea_Level_Pressure<br>Year=%{x}<br>value=%{y}<extra></extra>",
         "legendgroup": "Sea_Level_Pressure",
         "line": {
          "color": "#FF97FF",
          "dash": "solid"
         },
         "marker": {
          "symbol": "circle"
         },
         "mode": "lines",
         "name": "Sea_Level_Pressure",
         "orientation": "v",
         "showlegend": true,
         "type": "scatter",
         "x": [
          2009,
          2010,
          2011,
          2012,
          2013,
          2014,
          2015,
          2016,
          2017,
          2018,
          2019,
          2020,
          2021,
          2022,
          2023
         ],
         "xaxis": "x",
         "y": [
          30.097458563535913,
          29.99682320441989,
          30.076325966850828,
          30.071400560224088,
          30.118584905660374,
          30.10437673130194,
          30.139333333333333,
          30.10649171270718,
          30.097640449438202,
          30.143092485549133,
          30.120870786516857,
          30.114570637119115,
          30.090422535211268,
          30.123333333333335,
          30.067808988764043
         ],
         "yaxis": "y"
        }
       ],
       "layout": {
        "legend": {
         "title": {
          "text": "variable"
         },
         "tracegroupgap": 0
        },
        "margin": {
         "t": 60
        },
        "template": {
         "data": {
          "bar": [
           {
            "error_x": {
             "color": "#2a3f5f"
            },
            "error_y": {
             "color": "#2a3f5f"
            },
            "marker": {
             "line": {
              "color": "#E5ECF6",
              "width": 0.5
             },
             "pattern": {
              "fillmode": "overlay",
              "size": 10,
              "solidity": 0.2
             }
            },
            "type": "bar"
           }
          ],
          "barpolar": [
           {
            "marker": {
             "line": {
              "color": "#E5ECF6",
              "width": 0.5
             },
             "pattern": {
              "fillmode": "overlay",
              "size": 10,
              "solidity": 0.2
             }
            },
            "type": "barpolar"
           }
          ],
          "carpet": [
           {
            "aaxis": {
             "endlinecolor": "#2a3f5f",
             "gridcolor": "white",
             "linecolor": "white",
             "minorgridcolor": "white",
             "startlinecolor": "#2a3f5f"
            },
            "baxis": {
             "endlinecolor": "#2a3f5f",
             "gridcolor": "white",
             "linecolor": "white",
             "minorgridcolor": "white",
             "startlinecolor": "#2a3f5f"
            },
            "type": "carpet"
           }
          ],
          "choropleth": [
           {
            "colorbar": {
             "outlinewidth": 0,
             "ticks": ""
            },
            "type": "choropleth"
           }
          ],
          "contour": [
           {
            "colorbar": {
             "outlinewidth": 0,
             "ticks": ""
            },
            "colorscale": [
             [
              0,
              "#0d0887"
             ],
             [
              0.1111111111111111,
              "#46039f"
             ],
             [
              0.2222222222222222,
              "#7201a8"
             ],
             [
              0.3333333333333333,
              "#9c179e"
             ],
             [
              0.4444444444444444,
              "#bd3786"
             ],
             [
              0.5555555555555556,
              "#d8576b"
             ],
             [
              0.6666666666666666,
              "#ed7953"
             ],
             [
              0.7777777777777778,
              "#fb9f3a"
             ],
             [
              0.8888888888888888,
              "#fdca26"
             ],
             [
              1,
              "#f0f921"
             ]
            ],
            "type": "contour"
           }
          ],
          "contourcarpet": [
           {
            "colorbar": {
             "outlinewidth": 0,
             "ticks": ""
            },
            "type": "contourcarpet"
           }
          ],
          "heatmap": [
           {
            "colorbar": {
             "outlinewidth": 0,
             "ticks": ""
            },
            "colorscale": [
             [
              0,
              "#0d0887"
             ],
             [
              0.1111111111111111,
              "#46039f"
             ],
             [
              0.2222222222222222,
              "#7201a8"
             ],
             [
              0.3333333333333333,
              "#9c179e"
             ],
             [
              0.4444444444444444,
              "#bd3786"
             ],
             [
              0.5555555555555556,
              "#d8576b"
             ],
             [
              0.6666666666666666,
              "#ed7953"
             ],
             [
              0.7777777777777778,
              "#fb9f3a"
             ],
             [
              0.8888888888888888,
              "#fdca26"
             ],
             [
              1,
              "#f0f921"
             ]
            ],
            "type": "heatmap"
           }
          ],
          "heatmapgl": [
           {
            "colorbar": {
             "outlinewidth": 0,
             "ticks": ""
            },
            "colorscale": [
             [
              0,
              "#0d0887"
             ],
             [
              0.1111111111111111,
              "#46039f"
             ],
             [
              0.2222222222222222,
              "#7201a8"
             ],
             [
              0.3333333333333333,
              "#9c179e"
             ],
             [
              0.4444444444444444,
              "#bd3786"
             ],
             [
              0.5555555555555556,
              "#d8576b"
             ],
             [
              0.6666666666666666,
              "#ed7953"
             ],
             [
              0.7777777777777778,
              "#fb9f3a"
             ],
             [
              0.8888888888888888,
              "#fdca26"
             ],
             [
              1,
              "#f0f921"
             ]
            ],
            "type": "heatmapgl"
           }
          ],
          "histogram": [
           {
            "marker": {
             "pattern": {
              "fillmode": "overlay",
              "size": 10,
              "solidity": 0.2
             }
            },
            "type": "histogram"
           }
          ],
          "histogram2d": [
           {
            "colorbar": {
             "outlinewidth": 0,
             "ticks": ""
            },
            "colorscale": [
             [
              0,
              "#0d0887"
             ],
             [
              0.1111111111111111,
              "#46039f"
             ],
             [
              0.2222222222222222,
              "#7201a8"
             ],
             [
              0.3333333333333333,
              "#9c179e"
             ],
             [
              0.4444444444444444,
              "#bd3786"
             ],
             [
              0.5555555555555556,
              "#d8576b"
             ],
             [
              0.6666666666666666,
              "#ed7953"
             ],
             [
              0.7777777777777778,
              "#fb9f3a"
             ],
             [
              0.8888888888888888,
              "#fdca26"
             ],
             [
              1,
              "#f0f921"
             ]
            ],
            "type": "histogram2d"
           }
          ],
          "histogram2dcontour": [
           {
            "colorbar": {
             "outlinewidth": 0,
             "ticks": ""
            },
            "colorscale": [
             [
              0,
              "#0d0887"
             ],
             [
              0.1111111111111111,
              "#46039f"
             ],
             [
              0.2222222222222222,
              "#7201a8"
             ],
             [
              0.3333333333333333,
              "#9c179e"
             ],
             [
              0.4444444444444444,
              "#bd3786"
             ],
             [
              0.5555555555555556,
              "#d8576b"
             ],
             [
              0.6666666666666666,
              "#ed7953"
             ],
             [
              0.7777777777777778,
              "#fb9f3a"
             ],
             [
              0.8888888888888888,
              "#fdca26"
             ],
             [
              1,
              "#f0f921"
             ]
            ],
            "type": "histogram2dcontour"
           }
          ],
          "mesh3d": [
           {
            "colorbar": {
             "outlinewidth": 0,
             "ticks": ""
            },
            "type": "mesh3d"
           }
          ],
          "parcoords": [
           {
            "line": {
             "colorbar": {
              "outlinewidth": 0,
              "ticks": ""
             }
            },
            "type": "parcoords"
           }
          ],
          "pie": [
           {
            "automargin": true,
            "type": "pie"
           }
          ],
          "scatter": [
           {
            "fillpattern": {
             "fillmode": "overlay",
             "size": 10,
             "solidity": 0.2
            },
            "type": "scatter"
           }
          ],
          "scatter3d": [
           {
            "line": {
             "colorbar": {
              "outlinewidth": 0,
              "ticks": ""
             }
            },
            "marker": {
             "colorbar": {
              "outlinewidth": 0,
              "ticks": ""
             }
            },
            "type": "scatter3d"
           }
          ],
          "scattercarpet": [
           {
            "marker": {
             "colorbar": {
              "outlinewidth": 0,
              "ticks": ""
             }
            },
            "type": "scattercarpet"
           }
          ],
          "scattergeo": [
           {
            "marker": {
             "colorbar": {
              "outlinewidth": 0,
              "ticks": ""
             }
            },
            "type": "scattergeo"
           }
          ],
          "scattergl": [
           {
            "marker": {
             "colorbar": {
              "outlinewidth": 0,
              "ticks": ""
             }
            },
            "type": "scattergl"
           }
          ],
          "scattermapbox": [
           {
            "marker": {
             "colorbar": {
              "outlinewidth": 0,
              "ticks": ""
             }
            },
            "type": "scattermapbox"
           }
          ],
          "scatterpolar": [
           {
            "marker": {
             "colorbar": {
              "outlinewidth": 0,
              "ticks": ""
             }
            },
            "type": "scatterpolar"
           }
          ],
          "scatterpolargl": [
           {
            "marker": {
             "colorbar": {
              "outlinewidth": 0,
              "ticks": ""
             }
            },
            "type": "scatterpolargl"
           }
          ],
          "scatterternary": [
           {
            "marker": {
             "colorbar": {
              "outlinewidth": 0,
              "ticks": ""
             }
            },
            "type": "scatterternary"
           }
          ],
          "surface": [
           {
            "colorbar": {
             "outlinewidth": 0,
             "ticks": ""
            },
            "colorscale": [
             [
              0,
              "#0d0887"
             ],
             [
              0.1111111111111111,
              "#46039f"
             ],
             [
              0.2222222222222222,
              "#7201a8"
             ],
             [
              0.3333333333333333,
              "#9c179e"
             ],
             [
              0.4444444444444444,
              "#bd3786"
             ],
             [
              0.5555555555555556,
              "#d8576b"
             ],
             [
              0.6666666666666666,
              "#ed7953"
             ],
             [
              0.7777777777777778,
              "#fb9f3a"
             ],
             [
              0.8888888888888888,
              "#fdca26"
             ],
             [
              1,
              "#f0f921"
             ]
            ],
            "type": "surface"
           }
          ],
          "table": [
           {
            "cells": {
             "fill": {
              "color": "#EBF0F8"
             },
             "line": {
              "color": "white"
             }
            },
            "header": {
             "fill": {
              "color": "#C8D4E3"
             },
             "line": {
              "color": "white"
             }
            },
            "type": "table"
           }
          ]
         },
         "layout": {
          "annotationdefaults": {
           "arrowcolor": "#2a3f5f",
           "arrowhead": 0,
           "arrowwidth": 1
          },
          "autotypenumbers": "strict",
          "coloraxis": {
           "colorbar": {
            "outlinewidth": 0,
            "ticks": ""
           }
          },
          "colorscale": {
           "diverging": [
            [
             0,
             "#8e0152"
            ],
            [
             0.1,
             "#c51b7d"
            ],
            [
             0.2,
             "#de77ae"
            ],
            [
             0.3,
             "#f1b6da"
            ],
            [
             0.4,
             "#fde0ef"
            ],
            [
             0.5,
             "#f7f7f7"
            ],
            [
             0.6,
             "#e6f5d0"
            ],
            [
             0.7,
             "#b8e186"
            ],
            [
             0.8,
             "#7fbc41"
            ],
            [
             0.9,
             "#4d9221"
            ],
            [
             1,
             "#276419"
            ]
           ],
           "sequential": [
            [
             0,
             "#0d0887"
            ],
            [
             0.1111111111111111,
             "#46039f"
            ],
            [
             0.2222222222222222,
             "#7201a8"
            ],
            [
             0.3333333333333333,
             "#9c179e"
            ],
            [
             0.4444444444444444,
             "#bd3786"
            ],
            [
             0.5555555555555556,
             "#d8576b"
            ],
            [
             0.6666666666666666,
             "#ed7953"
            ],
            [
             0.7777777777777778,
             "#fb9f3a"
            ],
            [
             0.8888888888888888,
             "#fdca26"
            ],
            [
             1,
             "#f0f921"
            ]
           ],
           "sequentialminus": [
            [
             0,
             "#0d0887"
            ],
            [
             0.1111111111111111,
             "#46039f"
            ],
            [
             0.2222222222222222,
             "#7201a8"
            ],
            [
             0.3333333333333333,
             "#9c179e"
            ],
            [
             0.4444444444444444,
             "#bd3786"
            ],
            [
             0.5555555555555556,
             "#d8576b"
            ],
            [
             0.6666666666666666,
             "#ed7953"
            ],
            [
             0.7777777777777778,
             "#fb9f3a"
            ],
            [
             0.8888888888888888,
             "#fdca26"
            ],
            [
             1,
             "#f0f921"
            ]
           ]
          },
          "colorway": [
           "#636efa",
           "#EF553B",
           "#00cc96",
           "#ab63fa",
           "#FFA15A",
           "#19d3f3",
           "#FF6692",
           "#B6E880",
           "#FF97FF",
           "#FECB52"
          ],
          "font": {
           "color": "#2a3f5f"
          },
          "geo": {
           "bgcolor": "white",
           "lakecolor": "white",
           "landcolor": "#E5ECF6",
           "showlakes": true,
           "showland": true,
           "subunitcolor": "white"
          },
          "hoverlabel": {
           "align": "left"
          },
          "hovermode": "closest",
          "mapbox": {
           "style": "light"
          },
          "paper_bgcolor": "white",
          "plot_bgcolor": "#E5ECF6",
          "polar": {
           "angularaxis": {
            "gridcolor": "white",
            "linecolor": "white",
            "ticks": ""
           },
           "bgcolor": "#E5ECF6",
           "radialaxis": {
            "gridcolor": "white",
            "linecolor": "white",
            "ticks": ""
           }
          },
          "scene": {
           "xaxis": {
            "backgroundcolor": "#E5ECF6",
            "gridcolor": "white",
            "gridwidth": 2,
            "linecolor": "white",
            "showbackground": true,
            "ticks": "",
            "zerolinecolor": "white"
           },
           "yaxis": {
            "backgroundcolor": "#E5ECF6",
            "gridcolor": "white",
            "gridwidth": 2,
            "linecolor": "white",
            "showbackground": true,
            "ticks": "",
            "zerolinecolor": "white"
           },
           "zaxis": {
            "backgroundcolor": "#E5ECF6",
            "gridcolor": "white",
            "gridwidth": 2,
            "linecolor": "white",
            "showbackground": true,
            "ticks": "",
            "zerolinecolor": "white"
           }
          },
          "shapedefaults": {
           "line": {
            "color": "#2a3f5f"
           }
          },
          "ternary": {
           "aaxis": {
            "gridcolor": "white",
            "linecolor": "white",
            "ticks": ""
           },
           "baxis": {
            "gridcolor": "white",
            "linecolor": "white",
            "ticks": ""
           },
           "bgcolor": "#E5ECF6",
           "caxis": {
            "gridcolor": "white",
            "linecolor": "white",
            "ticks": ""
           }
          },
          "title": {
           "x": 0.05
          },
          "xaxis": {
           "automargin": true,
           "gridcolor": "white",
           "linecolor": "white",
           "ticks": "",
           "title": {
            "standoff": 15
           },
           "zerolinecolor": "white",
           "zerolinewidth": 2
          },
          "yaxis": {
           "automargin": true,
           "gridcolor": "white",
           "linecolor": "white",
           "ticks": "",
           "title": {
            "standoff": 15
           },
           "zerolinecolor": "white",
           "zerolinewidth": 2
          }
         }
        },
        "title": {
         "text": "weather Over Years"
        },
        "xaxis": {
         "anchor": "y",
         "domain": [
          0,
          1
         ],
         "title": {
          "text": "Date"
         }
        },
        "yaxis": {
         "anchor": "x",
         "domain": [
          0,
          1
         ],
         "title": {
          "text": "Weather properties"
         }
        }
       }
      }
     },
     "metadata": {},
     "output_type": "display_data"
    }
   ],
   "source": [
    "fig = px.line(group_by_years)\n",
    "fig.update_layout(title='weather Over Years',\n",
    "                  xaxis_title='Date',\n",
    "                  yaxis_title='Weather properties')\n",
    "fig.show()"
   ]
  },
  {
   "cell_type": "markdown",
   "metadata": {},
   "source": [
    "- The lowest temperature and dew point were recorded in 2024, attributed to the worst winter storm America has faced in 20 years. Additionally, there is a noticeable difference between \"Temperature_Avg\" and \"Temperature_Historic\", particularly in the year 2014.\n",
    "<br>\n",
    "- From 2009, \"Precipitatio_Actual\" was a constant value (0.000000), then it increased from 2014, then it increased from 2014, and there remains a distinct contrast between \"Precipitatio_Actual\" and \"Precipitation_Historic\" during these years.\n",
    "<br>\n",
    "\n",
    "- It is worth noting that wind speeds remained low from 2013 until 2011, after which they began to increase. This trend is attributed to climate issues that led to an uptick in wind speed."
   ]
  },
  {
   "cell_type": "markdown",
   "metadata": {},
   "source": [
    "#### Q3: How is the number of daylight hours distributed per year? "
   ]
  },
  {
   "cell_type": "code",
   "execution_count": 256,
   "metadata": {},
   "outputs": [
    {
     "data": {
      "text/plain": [
       "Month\n",
       "1     577.507830\n",
       "2     638.920290\n",
       "3     716.852423\n",
       "4     798.355658\n",
       "5     867.359649\n",
       "6     902.210526\n",
       "7     884.962637\n",
       "8     824.969365\n",
       "9     747.047836\n",
       "10    666.280088\n",
       "11    594.904651\n",
       "12    557.834071\n",
       "Name: Day_Length(Minutes), dtype: float64"
      ]
     },
     "execution_count": 256,
     "metadata": {},
     "output_type": "execute_result"
    }
   ],
   "source": [
    "day_length_over_year = df.groupby(df['Month'])['Day_Length(Minutes)'].mean()\n",
    "day_length_over_year"
   ]
  },
  {
   "cell_type": "code",
   "execution_count": 257,
   "metadata": {},
   "outputs": [
    {
     "data": {
      "application/vnd.plotly.v1+json": {
       "config": {
        "plotlyServerURL": "https://plot.ly"
       },
       "data": [
        {
         "hovertemplate": "variable=Day_Length(Minutes)<br>Month=%{x}<br>value=%{y}<extra></extra>",
         "legendgroup": "Day_Length(Minutes)",
         "line": {
          "color": "#636efa",
          "dash": "solid"
         },
         "marker": {
          "symbol": "circle"
         },
         "mode": "lines",
         "name": "Day_Length(Minutes)",
         "orientation": "v",
         "showlegend": true,
         "type": "scatter",
         "x": [
          1,
          2,
          3,
          4,
          5,
          6,
          7,
          8,
          9,
          10,
          11,
          12
         ],
         "xaxis": "x",
         "y": [
          577.5078299776286,
          638.9202898550725,
          716.852422907489,
          798.3556581986143,
          867.359649122807,
          902.2105263157895,
          884.9626373626373,
          824.9693654266958,
          747.0478359908884,
          666.2800875273523,
          594.9046511627907,
          557.8340707964602
         ],
         "yaxis": "y"
        }
       ],
       "layout": {
        "legend": {
         "title": {
          "text": "variable"
         },
         "tracegroupgap": 0
        },
        "margin": {
         "t": 60
        },
        "template": {
         "data": {
          "bar": [
           {
            "error_x": {
             "color": "#2a3f5f"
            },
            "error_y": {
             "color": "#2a3f5f"
            },
            "marker": {
             "line": {
              "color": "#E5ECF6",
              "width": 0.5
             },
             "pattern": {
              "fillmode": "overlay",
              "size": 10,
              "solidity": 0.2
             }
            },
            "type": "bar"
           }
          ],
          "barpolar": [
           {
            "marker": {
             "line": {
              "color": "#E5ECF6",
              "width": 0.5
             },
             "pattern": {
              "fillmode": "overlay",
              "size": 10,
              "solidity": 0.2
             }
            },
            "type": "barpolar"
           }
          ],
          "carpet": [
           {
            "aaxis": {
             "endlinecolor": "#2a3f5f",
             "gridcolor": "white",
             "linecolor": "white",
             "minorgridcolor": "white",
             "startlinecolor": "#2a3f5f"
            },
            "baxis": {
             "endlinecolor": "#2a3f5f",
             "gridcolor": "white",
             "linecolor": "white",
             "minorgridcolor": "white",
             "startlinecolor": "#2a3f5f"
            },
            "type": "carpet"
           }
          ],
          "choropleth": [
           {
            "colorbar": {
             "outlinewidth": 0,
             "ticks": ""
            },
            "type": "choropleth"
           }
          ],
          "contour": [
           {
            "colorbar": {
             "outlinewidth": 0,
             "ticks": ""
            },
            "colorscale": [
             [
              0,
              "#0d0887"
             ],
             [
              0.1111111111111111,
              "#46039f"
             ],
             [
              0.2222222222222222,
              "#7201a8"
             ],
             [
              0.3333333333333333,
              "#9c179e"
             ],
             [
              0.4444444444444444,
              "#bd3786"
             ],
             [
              0.5555555555555556,
              "#d8576b"
             ],
             [
              0.6666666666666666,
              "#ed7953"
             ],
             [
              0.7777777777777778,
              "#fb9f3a"
             ],
             [
              0.8888888888888888,
              "#fdca26"
             ],
             [
              1,
              "#f0f921"
             ]
            ],
            "type": "contour"
           }
          ],
          "contourcarpet": [
           {
            "colorbar": {
             "outlinewidth": 0,
             "ticks": ""
            },
            "type": "contourcarpet"
           }
          ],
          "heatmap": [
           {
            "colorbar": {
             "outlinewidth": 0,
             "ticks": ""
            },
            "colorscale": [
             [
              0,
              "#0d0887"
             ],
             [
              0.1111111111111111,
              "#46039f"
             ],
             [
              0.2222222222222222,
              "#7201a8"
             ],
             [
              0.3333333333333333,
              "#9c179e"
             ],
             [
              0.4444444444444444,
              "#bd3786"
             ],
             [
              0.5555555555555556,
              "#d8576b"
             ],
             [
              0.6666666666666666,
              "#ed7953"
             ],
             [
              0.7777777777777778,
              "#fb9f3a"
             ],
             [
              0.8888888888888888,
              "#fdca26"
             ],
             [
              1,
              "#f0f921"
             ]
            ],
            "type": "heatmap"
           }
          ],
          "heatmapgl": [
           {
            "colorbar": {
             "outlinewidth": 0,
             "ticks": ""
            },
            "colorscale": [
             [
              0,
              "#0d0887"
             ],
             [
              0.1111111111111111,
              "#46039f"
             ],
             [
              0.2222222222222222,
              "#7201a8"
             ],
             [
              0.3333333333333333,
              "#9c179e"
             ],
             [
              0.4444444444444444,
              "#bd3786"
             ],
             [
              0.5555555555555556,
              "#d8576b"
             ],
             [
              0.6666666666666666,
              "#ed7953"
             ],
             [
              0.7777777777777778,
              "#fb9f3a"
             ],
             [
              0.8888888888888888,
              "#fdca26"
             ],
             [
              1,
              "#f0f921"
             ]
            ],
            "type": "heatmapgl"
           }
          ],
          "histogram": [
           {
            "marker": {
             "pattern": {
              "fillmode": "overlay",
              "size": 10,
              "solidity": 0.2
             }
            },
            "type": "histogram"
           }
          ],
          "histogram2d": [
           {
            "colorbar": {
             "outlinewidth": 0,
             "ticks": ""
            },
            "colorscale": [
             [
              0,
              "#0d0887"
             ],
             [
              0.1111111111111111,
              "#46039f"
             ],
             [
              0.2222222222222222,
              "#7201a8"
             ],
             [
              0.3333333333333333,
              "#9c179e"
             ],
             [
              0.4444444444444444,
              "#bd3786"
             ],
             [
              0.5555555555555556,
              "#d8576b"
             ],
             [
              0.6666666666666666,
              "#ed7953"
             ],
             [
              0.7777777777777778,
              "#fb9f3a"
             ],
             [
              0.8888888888888888,
              "#fdca26"
             ],
             [
              1,
              "#f0f921"
             ]
            ],
            "type": "histogram2d"
           }
          ],
          "histogram2dcontour": [
           {
            "colorbar": {
             "outlinewidth": 0,
             "ticks": ""
            },
            "colorscale": [
             [
              0,
              "#0d0887"
             ],
             [
              0.1111111111111111,
              "#46039f"
             ],
             [
              0.2222222222222222,
              "#7201a8"
             ],
             [
              0.3333333333333333,
              "#9c179e"
             ],
             [
              0.4444444444444444,
              "#bd3786"
             ],
             [
              0.5555555555555556,
              "#d8576b"
             ],
             [
              0.6666666666666666,
              "#ed7953"
             ],
             [
              0.7777777777777778,
              "#fb9f3a"
             ],
             [
              0.8888888888888888,
              "#fdca26"
             ],
             [
              1,
              "#f0f921"
             ]
            ],
            "type": "histogram2dcontour"
           }
          ],
          "mesh3d": [
           {
            "colorbar": {
             "outlinewidth": 0,
             "ticks": ""
            },
            "type": "mesh3d"
           }
          ],
          "parcoords": [
           {
            "line": {
             "colorbar": {
              "outlinewidth": 0,
              "ticks": ""
             }
            },
            "type": "parcoords"
           }
          ],
          "pie": [
           {
            "automargin": true,
            "type": "pie"
           }
          ],
          "scatter": [
           {
            "fillpattern": {
             "fillmode": "overlay",
             "size": 10,
             "solidity": 0.2
            },
            "type": "scatter"
           }
          ],
          "scatter3d": [
           {
            "line": {
             "colorbar": {
              "outlinewidth": 0,
              "ticks": ""
             }
            },
            "marker": {
             "colorbar": {
              "outlinewidth": 0,
              "ticks": ""
             }
            },
            "type": "scatter3d"
           }
          ],
          "scattercarpet": [
           {
            "marker": {
             "colorbar": {
              "outlinewidth": 0,
              "ticks": ""
             }
            },
            "type": "scattercarpet"
           }
          ],
          "scattergeo": [
           {
            "marker": {
             "colorbar": {
              "outlinewidth": 0,
              "ticks": ""
             }
            },
            "type": "scattergeo"
           }
          ],
          "scattergl": [
           {
            "marker": {
             "colorbar": {
              "outlinewidth": 0,
              "ticks": ""
             }
            },
            "type": "scattergl"
           }
          ],
          "scattermapbox": [
           {
            "marker": {
             "colorbar": {
              "outlinewidth": 0,
              "ticks": ""
             }
            },
            "type": "scattermapbox"
           }
          ],
          "scatterpolar": [
           {
            "marker": {
             "colorbar": {
              "outlinewidth": 0,
              "ticks": ""
             }
            },
            "type": "scatterpolar"
           }
          ],
          "scatterpolargl": [
           {
            "marker": {
             "colorbar": {
              "outlinewidth": 0,
              "ticks": ""
             }
            },
            "type": "scatterpolargl"
           }
          ],
          "scatterternary": [
           {
            "marker": {
             "colorbar": {
              "outlinewidth": 0,
              "ticks": ""
             }
            },
            "type": "scatterternary"
           }
          ],
          "surface": [
           {
            "colorbar": {
             "outlinewidth": 0,
             "ticks": ""
            },
            "colorscale": [
             [
              0,
              "#0d0887"
             ],
             [
              0.1111111111111111,
              "#46039f"
             ],
             [
              0.2222222222222222,
              "#7201a8"
             ],
             [
              0.3333333333333333,
              "#9c179e"
             ],
             [
              0.4444444444444444,
              "#bd3786"
             ],
             [
              0.5555555555555556,
              "#d8576b"
             ],
             [
              0.6666666666666666,
              "#ed7953"
             ],
             [
              0.7777777777777778,
              "#fb9f3a"
             ],
             [
              0.8888888888888888,
              "#fdca26"
             ],
             [
              1,
              "#f0f921"
             ]
            ],
            "type": "surface"
           }
          ],
          "table": [
           {
            "cells": {
             "fill": {
              "color": "#EBF0F8"
             },
             "line": {
              "color": "white"
             }
            },
            "header": {
             "fill": {
              "color": "#C8D4E3"
             },
             "line": {
              "color": "white"
             }
            },
            "type": "table"
           }
          ]
         },
         "layout": {
          "annotationdefaults": {
           "arrowcolor": "#2a3f5f",
           "arrowhead": 0,
           "arrowwidth": 1
          },
          "autotypenumbers": "strict",
          "coloraxis": {
           "colorbar": {
            "outlinewidth": 0,
            "ticks": ""
           }
          },
          "colorscale": {
           "diverging": [
            [
             0,
             "#8e0152"
            ],
            [
             0.1,
             "#c51b7d"
            ],
            [
             0.2,
             "#de77ae"
            ],
            [
             0.3,
             "#f1b6da"
            ],
            [
             0.4,
             "#fde0ef"
            ],
            [
             0.5,
             "#f7f7f7"
            ],
            [
             0.6,
             "#e6f5d0"
            ],
            [
             0.7,
             "#b8e186"
            ],
            [
             0.8,
             "#7fbc41"
            ],
            [
             0.9,
             "#4d9221"
            ],
            [
             1,
             "#276419"
            ]
           ],
           "sequential": [
            [
             0,
             "#0d0887"
            ],
            [
             0.1111111111111111,
             "#46039f"
            ],
            [
             0.2222222222222222,
             "#7201a8"
            ],
            [
             0.3333333333333333,
             "#9c179e"
            ],
            [
             0.4444444444444444,
             "#bd3786"
            ],
            [
             0.5555555555555556,
             "#d8576b"
            ],
            [
             0.6666666666666666,
             "#ed7953"
            ],
            [
             0.7777777777777778,
             "#fb9f3a"
            ],
            [
             0.8888888888888888,
             "#fdca26"
            ],
            [
             1,
             "#f0f921"
            ]
           ],
           "sequentialminus": [
            [
             0,
             "#0d0887"
            ],
            [
             0.1111111111111111,
             "#46039f"
            ],
            [
             0.2222222222222222,
             "#7201a8"
            ],
            [
             0.3333333333333333,
             "#9c179e"
            ],
            [
             0.4444444444444444,
             "#bd3786"
            ],
            [
             0.5555555555555556,
             "#d8576b"
            ],
            [
             0.6666666666666666,
             "#ed7953"
            ],
            [
             0.7777777777777778,
             "#fb9f3a"
            ],
            [
             0.8888888888888888,
             "#fdca26"
            ],
            [
             1,
             "#f0f921"
            ]
           ]
          },
          "colorway": [
           "#636efa",
           "#EF553B",
           "#00cc96",
           "#ab63fa",
           "#FFA15A",
           "#19d3f3",
           "#FF6692",
           "#B6E880",
           "#FF97FF",
           "#FECB52"
          ],
          "font": {
           "color": "#2a3f5f"
          },
          "geo": {
           "bgcolor": "white",
           "lakecolor": "white",
           "landcolor": "#E5ECF6",
           "showlakes": true,
           "showland": true,
           "subunitcolor": "white"
          },
          "hoverlabel": {
           "align": "left"
          },
          "hovermode": "closest",
          "mapbox": {
           "style": "light"
          },
          "paper_bgcolor": "white",
          "plot_bgcolor": "#E5ECF6",
          "polar": {
           "angularaxis": {
            "gridcolor": "white",
            "linecolor": "white",
            "ticks": ""
           },
           "bgcolor": "#E5ECF6",
           "radialaxis": {
            "gridcolor": "white",
            "linecolor": "white",
            "ticks": ""
           }
          },
          "scene": {
           "xaxis": {
            "backgroundcolor": "#E5ECF6",
            "gridcolor": "white",
            "gridwidth": 2,
            "linecolor": "white",
            "showbackground": true,
            "ticks": "",
            "zerolinecolor": "white"
           },
           "yaxis": {
            "backgroundcolor": "#E5ECF6",
            "gridcolor": "white",
            "gridwidth": 2,
            "linecolor": "white",
            "showbackground": true,
            "ticks": "",
            "zerolinecolor": "white"
           },
           "zaxis": {
            "backgroundcolor": "#E5ECF6",
            "gridcolor": "white",
            "gridwidth": 2,
            "linecolor": "white",
            "showbackground": true,
            "ticks": "",
            "zerolinecolor": "white"
           }
          },
          "shapedefaults": {
           "line": {
            "color": "#2a3f5f"
           }
          },
          "ternary": {
           "aaxis": {
            "gridcolor": "white",
            "linecolor": "white",
            "ticks": ""
           },
           "baxis": {
            "gridcolor": "white",
            "linecolor": "white",
            "ticks": ""
           },
           "bgcolor": "#E5ECF6",
           "caxis": {
            "gridcolor": "white",
            "linecolor": "white",
            "ticks": ""
           }
          },
          "title": {
           "x": 0.05
          },
          "xaxis": {
           "automargin": true,
           "gridcolor": "white",
           "linecolor": "white",
           "ticks": "",
           "title": {
            "standoff": 15
           },
           "zerolinecolor": "white",
           "zerolinewidth": 2
          },
          "yaxis": {
           "automargin": true,
           "gridcolor": "white",
           "linecolor": "white",
           "ticks": "",
           "title": {
            "standoff": 15
           },
           "zerolinecolor": "white",
           "zerolinewidth": 2
          }
         }
        },
        "title": {
         "text": "Day length Over Year"
        },
        "xaxis": {
         "anchor": "y",
         "domain": [
          0,
          1
         ],
         "title": {
          "text": "Date"
         }
        },
        "yaxis": {
         "anchor": "x",
         "domain": [
          0,
          1
         ],
         "title": {
          "text": "Day length"
         }
        }
       }
      }
     },
     "metadata": {},
     "output_type": "display_data"
    }
   ],
   "source": [
    "fig = px.line(day_length_over_year)\n",
    "fig.update_layout(title='Day length Over Year',\n",
    "                  xaxis_title='Date',\n",
    "                  yaxis_title='Day length')\n",
    "fig.show()"
   ]
  },
  {
   "cell_type": "markdown",
   "metadata": {},
   "source": [
    "The longest days was in June and the shortest days was in December"
   ]
  },
  {
   "cell_type": "markdown",
   "metadata": {},
   "source": [
    "#### Q4 : How does the weather change during the weak?"
   ]
  },
  {
   "cell_type": "code",
   "execution_count": 258,
   "metadata": {},
   "outputs": [
    {
     "data": {
      "text/html": [
       "<div>\n",
       "<style scoped>\n",
       "    .dataframe tbody tr th:only-of-type {\n",
       "        vertical-align: middle;\n",
       "    }\n",
       "\n",
       "    .dataframe tbody tr th {\n",
       "        vertical-align: top;\n",
       "    }\n",
       "\n",
       "    .dataframe thead th {\n",
       "        text-align: right;\n",
       "    }\n",
       "</style>\n",
       "<table border=\"1\" class=\"dataframe\">\n",
       "  <thead>\n",
       "    <tr style=\"text-align: right;\">\n",
       "      <th></th>\n",
       "      <th>Humidity_Avg(%)</th>\n",
       "      <th>Pressure_Avg(in)</th>\n",
       "      <th>Temperature_Avg</th>\n",
       "      <th>Temperature_Historic</th>\n",
       "      <th>Precipitation_Actual</th>\n",
       "      <th>Precipitation_Historic</th>\n",
       "      <th>Dew_Point</th>\n",
       "      <th>Max_Wind_Speed</th>\n",
       "      <th>Sea_Level_Pressure</th>\n",
       "    </tr>\n",
       "    <tr>\n",
       "      <th>Day_of_weak</th>\n",
       "      <th></th>\n",
       "      <th></th>\n",
       "      <th></th>\n",
       "      <th></th>\n",
       "      <th></th>\n",
       "      <th></th>\n",
       "      <th></th>\n",
       "      <th></th>\n",
       "      <th></th>\n",
       "    </tr>\n",
       "  </thead>\n",
       "  <tbody>\n",
       "    <tr>\n",
       "      <th>0</th>\n",
       "      <td>65.547244</td>\n",
       "      <td>29.953150</td>\n",
       "      <td>56.857218</td>\n",
       "      <td>56.914829</td>\n",
       "      <td>0.091811</td>\n",
       "      <td>4.740551</td>\n",
       "      <td>41.790669</td>\n",
       "      <td>18.203412</td>\n",
       "      <td>30.102612</td>\n",
       "    </tr>\n",
       "    <tr>\n",
       "      <th>1</th>\n",
       "      <td>65.918182</td>\n",
       "      <td>29.994013</td>\n",
       "      <td>57.057805</td>\n",
       "      <td>56.893636</td>\n",
       "      <td>0.088506</td>\n",
       "      <td>4.748182</td>\n",
       "      <td>42.342039</td>\n",
       "      <td>17.872727</td>\n",
       "      <td>30.093117</td>\n",
       "    </tr>\n",
       "    <tr>\n",
       "      <th>2</th>\n",
       "      <td>66.242464</td>\n",
       "      <td>29.985924</td>\n",
       "      <td>57.137510</td>\n",
       "      <td>56.935911</td>\n",
       "      <td>0.071337</td>\n",
       "      <td>4.743119</td>\n",
       "      <td>42.393539</td>\n",
       "      <td>17.950197</td>\n",
       "      <td>30.091678</td>\n",
       "    </tr>\n",
       "    <tr>\n",
       "      <th>3</th>\n",
       "      <td>66.270806</td>\n",
       "      <td>29.987926</td>\n",
       "      <td>56.992048</td>\n",
       "      <td>56.815852</td>\n",
       "      <td>0.088877</td>\n",
       "      <td>4.748745</td>\n",
       "      <td>42.297543</td>\n",
       "      <td>18.202114</td>\n",
       "      <td>30.086975</td>\n",
       "    </tr>\n",
       "    <tr>\n",
       "      <th>4</th>\n",
       "      <td>65.431937</td>\n",
       "      <td>29.982395</td>\n",
       "      <td>56.834974</td>\n",
       "      <td>56.977880</td>\n",
       "      <td>0.093312</td>\n",
       "      <td>4.740707</td>\n",
       "      <td>41.869935</td>\n",
       "      <td>18.352094</td>\n",
       "      <td>30.095366</td>\n",
       "    </tr>\n",
       "    <tr>\n",
       "      <th>5</th>\n",
       "      <td>65.414570</td>\n",
       "      <td>29.998159</td>\n",
       "      <td>56.391192</td>\n",
       "      <td>56.921325</td>\n",
       "      <td>0.087934</td>\n",
       "      <td>4.738013</td>\n",
       "      <td>41.115868</td>\n",
       "      <td>17.968212</td>\n",
       "      <td>30.105881</td>\n",
       "    </tr>\n",
       "    <tr>\n",
       "      <th>6</th>\n",
       "      <td>64.228947</td>\n",
       "      <td>29.928434</td>\n",
       "      <td>56.761632</td>\n",
       "      <td>56.996053</td>\n",
       "      <td>0.075553</td>\n",
       "      <td>4.745789</td>\n",
       "      <td>41.323303</td>\n",
       "      <td>18.052632</td>\n",
       "      <td>30.107632</td>\n",
       "    </tr>\n",
       "  </tbody>\n",
       "</table>\n",
       "</div>"
      ],
      "text/plain": [
       "             Humidity_Avg(%)  Pressure_Avg(in)  Temperature_Avg  \\\n",
       "Day_of_weak                                                       \n",
       "0                  65.547244         29.953150        56.857218   \n",
       "1                  65.918182         29.994013        57.057805   \n",
       "2                  66.242464         29.985924        57.137510   \n",
       "3                  66.270806         29.987926        56.992048   \n",
       "4                  65.431937         29.982395        56.834974   \n",
       "5                  65.414570         29.998159        56.391192   \n",
       "6                  64.228947         29.928434        56.761632   \n",
       "\n",
       "             Temperature_Historic  Precipitation_Actual  \\\n",
       "Day_of_weak                                               \n",
       "0                       56.914829              0.091811   \n",
       "1                       56.893636              0.088506   \n",
       "2                       56.935911              0.071337   \n",
       "3                       56.815852              0.088877   \n",
       "4                       56.977880              0.093312   \n",
       "5                       56.921325              0.087934   \n",
       "6                       56.996053              0.075553   \n",
       "\n",
       "             Precipitation_Historic  Dew_Point  Max_Wind_Speed  \\\n",
       "Day_of_weak                                                      \n",
       "0                          4.740551  41.790669       18.203412   \n",
       "1                          4.748182  42.342039       17.872727   \n",
       "2                          4.743119  42.393539       17.950197   \n",
       "3                          4.748745  42.297543       18.202114   \n",
       "4                          4.740707  41.869935       18.352094   \n",
       "5                          4.738013  41.115868       17.968212   \n",
       "6                          4.745789  41.323303       18.052632   \n",
       "\n",
       "             Sea_Level_Pressure  \n",
       "Day_of_weak                      \n",
       "0                     30.102612  \n",
       "1                     30.093117  \n",
       "2                     30.091678  \n",
       "3                     30.086975  \n",
       "4                     30.095366  \n",
       "5                     30.105881  \n",
       "6                     30.107632  "
      ]
     },
     "execution_count": 258,
     "metadata": {},
     "output_type": "execute_result"
    }
   ],
   "source": [
    "group_by_weak = df.groupby(df['Day_of_weak'])[numeric_columns[:9]].mean()\n",
    "group_by_weak"
   ]
  },
  {
   "cell_type": "markdown",
   "metadata": {},
   "source": [
    "I will replace the numbers with the names of days to make the plot easier to understand"
   ]
  },
  {
   "cell_type": "code",
   "execution_count": 259,
   "metadata": {},
   "outputs": [
    {
     "data": {
      "text/html": [
       "<div>\n",
       "<style scoped>\n",
       "    .dataframe tbody tr th:only-of-type {\n",
       "        vertical-align: middle;\n",
       "    }\n",
       "\n",
       "    .dataframe tbody tr th {\n",
       "        vertical-align: top;\n",
       "    }\n",
       "\n",
       "    .dataframe thead th {\n",
       "        text-align: right;\n",
       "    }\n",
       "</style>\n",
       "<table border=\"1\" class=\"dataframe\">\n",
       "  <thead>\n",
       "    <tr style=\"text-align: right;\">\n",
       "      <th></th>\n",
       "      <th>Humidity_Avg(%)</th>\n",
       "      <th>Pressure_Avg(in)</th>\n",
       "      <th>Temperature_Avg</th>\n",
       "      <th>Temperature_Historic</th>\n",
       "      <th>Precipitation_Actual</th>\n",
       "      <th>Precipitation_Historic</th>\n",
       "      <th>Dew_Point</th>\n",
       "      <th>Max_Wind_Speed</th>\n",
       "      <th>Sea_Level_Pressure</th>\n",
       "    </tr>\n",
       "    <tr>\n",
       "      <th>Day_of_weak</th>\n",
       "      <th></th>\n",
       "      <th></th>\n",
       "      <th></th>\n",
       "      <th></th>\n",
       "      <th></th>\n",
       "      <th></th>\n",
       "      <th></th>\n",
       "      <th></th>\n",
       "      <th></th>\n",
       "    </tr>\n",
       "  </thead>\n",
       "  <tbody>\n",
       "    <tr>\n",
       "      <th>Monday</th>\n",
       "      <td>65.547244</td>\n",
       "      <td>29.953150</td>\n",
       "      <td>56.857218</td>\n",
       "      <td>56.914829</td>\n",
       "      <td>0.091811</td>\n",
       "      <td>4.740551</td>\n",
       "      <td>41.790669</td>\n",
       "      <td>18.203412</td>\n",
       "      <td>30.102612</td>\n",
       "    </tr>\n",
       "    <tr>\n",
       "      <th>Tuesday</th>\n",
       "      <td>65.918182</td>\n",
       "      <td>29.994013</td>\n",
       "      <td>57.057805</td>\n",
       "      <td>56.893636</td>\n",
       "      <td>0.088506</td>\n",
       "      <td>4.748182</td>\n",
       "      <td>42.342039</td>\n",
       "      <td>17.872727</td>\n",
       "      <td>30.093117</td>\n",
       "    </tr>\n",
       "    <tr>\n",
       "      <th>Wednesday</th>\n",
       "      <td>66.242464</td>\n",
       "      <td>29.985924</td>\n",
       "      <td>57.137510</td>\n",
       "      <td>56.935911</td>\n",
       "      <td>0.071337</td>\n",
       "      <td>4.743119</td>\n",
       "      <td>42.393539</td>\n",
       "      <td>17.950197</td>\n",
       "      <td>30.091678</td>\n",
       "    </tr>\n",
       "    <tr>\n",
       "      <th>Thursday</th>\n",
       "      <td>66.270806</td>\n",
       "      <td>29.987926</td>\n",
       "      <td>56.992048</td>\n",
       "      <td>56.815852</td>\n",
       "      <td>0.088877</td>\n",
       "      <td>4.748745</td>\n",
       "      <td>42.297543</td>\n",
       "      <td>18.202114</td>\n",
       "      <td>30.086975</td>\n",
       "    </tr>\n",
       "    <tr>\n",
       "      <th>Friday</th>\n",
       "      <td>65.431937</td>\n",
       "      <td>29.982395</td>\n",
       "      <td>56.834974</td>\n",
       "      <td>56.977880</td>\n",
       "      <td>0.093312</td>\n",
       "      <td>4.740707</td>\n",
       "      <td>41.869935</td>\n",
       "      <td>18.352094</td>\n",
       "      <td>30.095366</td>\n",
       "    </tr>\n",
       "    <tr>\n",
       "      <th>Saturday</th>\n",
       "      <td>65.414570</td>\n",
       "      <td>29.998159</td>\n",
       "      <td>56.391192</td>\n",
       "      <td>56.921325</td>\n",
       "      <td>0.087934</td>\n",
       "      <td>4.738013</td>\n",
       "      <td>41.115868</td>\n",
       "      <td>17.968212</td>\n",
       "      <td>30.105881</td>\n",
       "    </tr>\n",
       "    <tr>\n",
       "      <th>Sunday</th>\n",
       "      <td>64.228947</td>\n",
       "      <td>29.928434</td>\n",
       "      <td>56.761632</td>\n",
       "      <td>56.996053</td>\n",
       "      <td>0.075553</td>\n",
       "      <td>4.745789</td>\n",
       "      <td>41.323303</td>\n",
       "      <td>18.052632</td>\n",
       "      <td>30.107632</td>\n",
       "    </tr>\n",
       "  </tbody>\n",
       "</table>\n",
       "</div>"
      ],
      "text/plain": [
       "             Humidity_Avg(%)  Pressure_Avg(in)  Temperature_Avg  \\\n",
       "Day_of_weak                                                       \n",
       "Monday             65.547244         29.953150        56.857218   \n",
       "Tuesday            65.918182         29.994013        57.057805   \n",
       "Wednesday          66.242464         29.985924        57.137510   \n",
       "Thursday           66.270806         29.987926        56.992048   \n",
       "Friday             65.431937         29.982395        56.834974   \n",
       "Saturday           65.414570         29.998159        56.391192   \n",
       "Sunday             64.228947         29.928434        56.761632   \n",
       "\n",
       "             Temperature_Historic  Precipitation_Actual  \\\n",
       "Day_of_weak                                               \n",
       "Monday                  56.914829              0.091811   \n",
       "Tuesday                 56.893636              0.088506   \n",
       "Wednesday               56.935911              0.071337   \n",
       "Thursday                56.815852              0.088877   \n",
       "Friday                  56.977880              0.093312   \n",
       "Saturday                56.921325              0.087934   \n",
       "Sunday                  56.996053              0.075553   \n",
       "\n",
       "             Precipitation_Historic  Dew_Point  Max_Wind_Speed  \\\n",
       "Day_of_weak                                                      \n",
       "Monday                     4.740551  41.790669       18.203412   \n",
       "Tuesday                    4.748182  42.342039       17.872727   \n",
       "Wednesday                  4.743119  42.393539       17.950197   \n",
       "Thursday                   4.748745  42.297543       18.202114   \n",
       "Friday                     4.740707  41.869935       18.352094   \n",
       "Saturday                   4.738013  41.115868       17.968212   \n",
       "Sunday                     4.745789  41.323303       18.052632   \n",
       "\n",
       "             Sea_Level_Pressure  \n",
       "Day_of_weak                      \n",
       "Monday                30.102612  \n",
       "Tuesday               30.093117  \n",
       "Wednesday             30.091678  \n",
       "Thursday              30.086975  \n",
       "Friday                30.095366  \n",
       "Saturday              30.105881  \n",
       "Sunday                30.107632  "
      ]
     },
     "execution_count": 259,
     "metadata": {},
     "output_type": "execute_result"
    }
   ],
   "source": [
    "day_dict = {0: 'Monday', 1: 'Tuesday', 2: 'Wednesday', 3: 'Thursday', 4: 'Friday', 5: 'Saturday', 6: 'Sunday'}\n",
    "\n",
    "# Replace the day numbers with names in the copy DataFrame\n",
    "group_by_weak.index = group_by_weak.index.map(day_dict)\n",
    "group_by_weak"
   ]
  },
  {
   "cell_type": "code",
   "execution_count": 260,
   "metadata": {},
   "outputs": [
    {
     "data": {
      "application/vnd.plotly.v1+json": {
       "config": {
        "plotlyServerURL": "https://plot.ly"
       },
       "data": [
        {
         "hovertemplate": "variable=Humidity_Avg(%)<br>Day_of_weak=%{x}<br>value=%{y}<extra></extra>",
         "legendgroup": "Humidity_Avg(%)",
         "line": {
          "color": "#636efa",
          "dash": "solid"
         },
         "marker": {
          "symbol": "circle"
         },
         "mode": "lines",
         "name": "Humidity_Avg(%)",
         "orientation": "v",
         "showlegend": true,
         "type": "scatter",
         "x": [
          "Monday",
          "Tuesday",
          "Wednesday",
          "Thursday",
          "Friday",
          "Saturday",
          "Sunday"
         ],
         "xaxis": "x",
         "y": [
          65.54724409448819,
          65.91818181818182,
          66.24246395806028,
          66.27080581241744,
          65.43193717277487,
          65.41456953642384,
          64.22894736842105
         ],
         "yaxis": "y"
        },
        {
         "hovertemplate": "variable=Pressure_Avg(in)<br>Day_of_weak=%{x}<br>value=%{y}<extra></extra>",
         "legendgroup": "Pressure_Avg(in)",
         "line": {
          "color": "#EF553B",
          "dash": "solid"
         },
         "marker": {
          "symbol": "circle"
         },
         "mode": "lines",
         "name": "Pressure_Avg(in)",
         "orientation": "v",
         "showlegend": true,
         "type": "scatter",
         "x": [
          "Monday",
          "Tuesday",
          "Wednesday",
          "Thursday",
          "Friday",
          "Saturday",
          "Sunday"
         ],
         "xaxis": "x",
         "y": [
          29.953149606299213,
          29.994012987012987,
          29.985923984272606,
          29.987926023778073,
          29.982395287958113,
          29.998158940397353,
          29.928434210526316
         ],
         "yaxis": "y"
        },
        {
         "hovertemplate": "variable=Temperature_Avg<br>Day_of_weak=%{x}<br>value=%{y}<extra></extra>",
         "legendgroup": "Temperature_Avg",
         "line": {
          "color": "#00cc96",
          "dash": "solid"
         },
         "marker": {
          "symbol": "circle"
         },
         "mode": "lines",
         "name": "Temperature_Avg",
         "orientation": "v",
         "showlegend": true,
         "type": "scatter",
         "x": [
          "Monday",
          "Tuesday",
          "Wednesday",
          "Thursday",
          "Friday",
          "Saturday",
          "Sunday"
         ],
         "xaxis": "x",
         "y": [
          56.85721784776902,
          57.0578051948052,
          57.137509829619916,
          56.99204755614267,
          56.83497382198953,
          56.39119205298013,
          56.761631578947366
         ],
         "yaxis": "y"
        },
        {
         "hovertemplate": "variable=Temperature_Historic<br>Day_of_weak=%{x}<br>value=%{y}<extra></extra>",
         "legendgroup": "Temperature_Historic",
         "line": {
          "color": "#ab63fa",
          "dash": "solid"
         },
         "marker": {
          "symbol": "circle"
         },
         "mode": "lines",
         "name": "Temperature_Historic",
         "orientation": "v",
         "showlegend": true,
         "type": "scatter",
         "x": [
          "Monday",
          "Tuesday",
          "Wednesday",
          "Thursday",
          "Friday",
          "Saturday",
          "Sunday"
         ],
         "xaxis": "x",
         "y": [
          56.91482939632546,
          56.89363636363636,
          56.93591087811271,
          56.81585204755614,
          56.97787958115183,
          56.921324503311254,
          56.99605263157895
         ],
         "yaxis": "y"
        },
        {
         "hovertemplate": "variable=Precipitation_Actual<br>Day_of_weak=%{x}<br>value=%{y}<extra></extra>",
         "legendgroup": "Precipitation_Actual",
         "line": {
          "color": "#FFA15A",
          "dash": "solid"
         },
         "marker": {
          "symbol": "circle"
         },
         "mode": "lines",
         "name": "Precipitation_Actual",
         "orientation": "v",
         "showlegend": true,
         "type": "scatter",
         "x": [
          "Monday",
          "Tuesday",
          "Wednesday",
          "Thursday",
          "Friday",
          "Saturday",
          "Sunday"
         ],
         "xaxis": "x",
         "y": [
          0.09181102362204724,
          0.08850649350649352,
          0.07133682830930538,
          0.08887714663143989,
          0.09331151832460734,
          0.08793377483443708,
          0.07555263157894737
         ],
         "yaxis": "y"
        },
        {
         "hovertemplate": "variable=Precipitation_Historic<br>Day_of_weak=%{x}<br>value=%{y}<extra></extra>",
         "legendgroup": "Precipitation_Historic",
         "line": {
          "color": "#19d3f3",
          "dash": "solid"
         },
         "marker": {
          "symbol": "circle"
         },
         "mode": "lines",
         "name": "Precipitation_Historic",
         "orientation": "v",
         "showlegend": true,
         "type": "scatter",
         "x": [
          "Monday",
          "Tuesday",
          "Wednesday",
          "Thursday",
          "Friday",
          "Saturday",
          "Sunday"
         ],
         "xaxis": "x",
         "y": [
          4.740551181102362,
          4.748181818181818,
          4.743119266055046,
          4.748745046235139,
          4.740706806282723,
          4.7380132450331125,
          4.74578947368421
         ],
         "yaxis": "y"
        },
        {
         "hovertemplate": "variable=Dew_Point<br>Day_of_weak=%{x}<br>value=%{y}<extra></extra>",
         "legendgroup": "Dew_Point",
         "line": {
          "color": "#FF6692",
          "dash": "solid"
         },
         "marker": {
          "symbol": "circle"
         },
         "mode": "lines",
         "name": "Dew_Point",
         "orientation": "v",
         "showlegend": true,
         "type": "scatter",
         "x": [
          "Monday",
          "Tuesday",
          "Wednesday",
          "Thursday",
          "Friday",
          "Saturday",
          "Sunday"
         ],
         "xaxis": "x",
         "y": [
          41.79066929133858,
          42.34203896103896,
          42.39353866317169,
          42.2975429326288,
          41.869934554973824,
          41.11586754966887,
          41.32330263157895
         ],
         "yaxis": "y"
        },
        {
         "hovertemplate": "variable=Max_Wind_Speed<br>Day_of_weak=%{x}<br>value=%{y}<extra></extra>",
         "legendgroup": "Max_Wind_Speed",
         "line": {
          "color": "#B6E880",
          "dash": "solid"
         },
         "marker": {
          "symbol": "circle"
         },
         "mode": "lines",
         "name": "Max_Wind_Speed",
         "orientation": "v",
         "showlegend": true,
         "type": "scatter",
         "x": [
          "Monday",
          "Tuesday",
          "Wednesday",
          "Thursday",
          "Friday",
          "Saturday",
          "Sunday"
         ],
         "xaxis": "x",
         "y": [
          18.203412073490814,
          17.87272727272727,
          17.950196592398427,
          18.20211360634082,
          18.352094240837697,
          17.9682119205298,
          18.05263157894737
         ],
         "yaxis": "y"
        },
        {
         "hovertemplate": "variable=Sea_Level_Pressure<br>Day_of_weak=%{x}<br>value=%{y}<extra></extra>",
         "legendgroup": "Sea_Level_Pressure",
         "line": {
          "color": "#FF97FF",
          "dash": "solid"
         },
         "marker": {
          "symbol": "circle"
         },
         "mode": "lines",
         "name": "Sea_Level_Pressure",
         "orientation": "v",
         "showlegend": true,
         "type": "scatter",
         "x": [
          "Monday",
          "Tuesday",
          "Wednesday",
          "Thursday",
          "Friday",
          "Saturday",
          "Sunday"
         ],
         "xaxis": "x",
         "y": [
          30.10261154855643,
          30.093116883116885,
          30.09167758846658,
          30.0869749009247,
          30.0953664921466,
          30.105880794701985,
          30.107631578947366
         ],
         "yaxis": "y"
        }
       ],
       "layout": {
        "legend": {
         "title": {
          "text": "variable"
         },
         "tracegroupgap": 0
        },
        "margin": {
         "t": 60
        },
        "template": {
         "data": {
          "bar": [
           {
            "error_x": {
             "color": "#2a3f5f"
            },
            "error_y": {
             "color": "#2a3f5f"
            },
            "marker": {
             "line": {
              "color": "#E5ECF6",
              "width": 0.5
             },
             "pattern": {
              "fillmode": "overlay",
              "size": 10,
              "solidity": 0.2
             }
            },
            "type": "bar"
           }
          ],
          "barpolar": [
           {
            "marker": {
             "line": {
              "color": "#E5ECF6",
              "width": 0.5
             },
             "pattern": {
              "fillmode": "overlay",
              "size": 10,
              "solidity": 0.2
             }
            },
            "type": "barpolar"
           }
          ],
          "carpet": [
           {
            "aaxis": {
             "endlinecolor": "#2a3f5f",
             "gridcolor": "white",
             "linecolor": "white",
             "minorgridcolor": "white",
             "startlinecolor": "#2a3f5f"
            },
            "baxis": {
             "endlinecolor": "#2a3f5f",
             "gridcolor": "white",
             "linecolor": "white",
             "minorgridcolor": "white",
             "startlinecolor": "#2a3f5f"
            },
            "type": "carpet"
           }
          ],
          "choropleth": [
           {
            "colorbar": {
             "outlinewidth": 0,
             "ticks": ""
            },
            "type": "choropleth"
           }
          ],
          "contour": [
           {
            "colorbar": {
             "outlinewidth": 0,
             "ticks": ""
            },
            "colorscale": [
             [
              0,
              "#0d0887"
             ],
             [
              0.1111111111111111,
              "#46039f"
             ],
             [
              0.2222222222222222,
              "#7201a8"
             ],
             [
              0.3333333333333333,
              "#9c179e"
             ],
             [
              0.4444444444444444,
              "#bd3786"
             ],
             [
              0.5555555555555556,
              "#d8576b"
             ],
             [
              0.6666666666666666,
              "#ed7953"
             ],
             [
              0.7777777777777778,
              "#fb9f3a"
             ],
             [
              0.8888888888888888,
              "#fdca26"
             ],
             [
              1,
              "#f0f921"
             ]
            ],
            "type": "contour"
           }
          ],
          "contourcarpet": [
           {
            "colorbar": {
             "outlinewidth": 0,
             "ticks": ""
            },
            "type": "contourcarpet"
           }
          ],
          "heatmap": [
           {
            "colorbar": {
             "outlinewidth": 0,
             "ticks": ""
            },
            "colorscale": [
             [
              0,
              "#0d0887"
             ],
             [
              0.1111111111111111,
              "#46039f"
             ],
             [
              0.2222222222222222,
              "#7201a8"
             ],
             [
              0.3333333333333333,
              "#9c179e"
             ],
             [
              0.4444444444444444,
              "#bd3786"
             ],
             [
              0.5555555555555556,
              "#d8576b"
             ],
             [
              0.6666666666666666,
              "#ed7953"
             ],
             [
              0.7777777777777778,
              "#fb9f3a"
             ],
             [
              0.8888888888888888,
              "#fdca26"
             ],
             [
              1,
              "#f0f921"
             ]
            ],
            "type": "heatmap"
           }
          ],
          "heatmapgl": [
           {
            "colorbar": {
             "outlinewidth": 0,
             "ticks": ""
            },
            "colorscale": [
             [
              0,
              "#0d0887"
             ],
             [
              0.1111111111111111,
              "#46039f"
             ],
             [
              0.2222222222222222,
              "#7201a8"
             ],
             [
              0.3333333333333333,
              "#9c179e"
             ],
             [
              0.4444444444444444,
              "#bd3786"
             ],
             [
              0.5555555555555556,
              "#d8576b"
             ],
             [
              0.6666666666666666,
              "#ed7953"
             ],
             [
              0.7777777777777778,
              "#fb9f3a"
             ],
             [
              0.8888888888888888,
              "#fdca26"
             ],
             [
              1,
              "#f0f921"
             ]
            ],
            "type": "heatmapgl"
           }
          ],
          "histogram": [
           {
            "marker": {
             "pattern": {
              "fillmode": "overlay",
              "size": 10,
              "solidity": 0.2
             }
            },
            "type": "histogram"
           }
          ],
          "histogram2d": [
           {
            "colorbar": {
             "outlinewidth": 0,
             "ticks": ""
            },
            "colorscale": [
             [
              0,
              "#0d0887"
             ],
             [
              0.1111111111111111,
              "#46039f"
             ],
             [
              0.2222222222222222,
              "#7201a8"
             ],
             [
              0.3333333333333333,
              "#9c179e"
             ],
             [
              0.4444444444444444,
              "#bd3786"
             ],
             [
              0.5555555555555556,
              "#d8576b"
             ],
             [
              0.6666666666666666,
              "#ed7953"
             ],
             [
              0.7777777777777778,
              "#fb9f3a"
             ],
             [
              0.8888888888888888,
              "#fdca26"
             ],
             [
              1,
              "#f0f921"
             ]
            ],
            "type": "histogram2d"
           }
          ],
          "histogram2dcontour": [
           {
            "colorbar": {
             "outlinewidth": 0,
             "ticks": ""
            },
            "colorscale": [
             [
              0,
              "#0d0887"
             ],
             [
              0.1111111111111111,
              "#46039f"
             ],
             [
              0.2222222222222222,
              "#7201a8"
             ],
             [
              0.3333333333333333,
              "#9c179e"
             ],
             [
              0.4444444444444444,
              "#bd3786"
             ],
             [
              0.5555555555555556,
              "#d8576b"
             ],
             [
              0.6666666666666666,
              "#ed7953"
             ],
             [
              0.7777777777777778,
              "#fb9f3a"
             ],
             [
              0.8888888888888888,
              "#fdca26"
             ],
             [
              1,
              "#f0f921"
             ]
            ],
            "type": "histogram2dcontour"
           }
          ],
          "mesh3d": [
           {
            "colorbar": {
             "outlinewidth": 0,
             "ticks": ""
            },
            "type": "mesh3d"
           }
          ],
          "parcoords": [
           {
            "line": {
             "colorbar": {
              "outlinewidth": 0,
              "ticks": ""
             }
            },
            "type": "parcoords"
           }
          ],
          "pie": [
           {
            "automargin": true,
            "type": "pie"
           }
          ],
          "scatter": [
           {
            "fillpattern": {
             "fillmode": "overlay",
             "size": 10,
             "solidity": 0.2
            },
            "type": "scatter"
           }
          ],
          "scatter3d": [
           {
            "line": {
             "colorbar": {
              "outlinewidth": 0,
              "ticks": ""
             }
            },
            "marker": {
             "colorbar": {
              "outlinewidth": 0,
              "ticks": ""
             }
            },
            "type": "scatter3d"
           }
          ],
          "scattercarpet": [
           {
            "marker": {
             "colorbar": {
              "outlinewidth": 0,
              "ticks": ""
             }
            },
            "type": "scattercarpet"
           }
          ],
          "scattergeo": [
           {
            "marker": {
             "colorbar": {
              "outlinewidth": 0,
              "ticks": ""
             }
            },
            "type": "scattergeo"
           }
          ],
          "scattergl": [
           {
            "marker": {
             "colorbar": {
              "outlinewidth": 0,
              "ticks": ""
             }
            },
            "type": "scattergl"
           }
          ],
          "scattermapbox": [
           {
            "marker": {
             "colorbar": {
              "outlinewidth": 0,
              "ticks": ""
             }
            },
            "type": "scattermapbox"
           }
          ],
          "scatterpolar": [
           {
            "marker": {
             "colorbar": {
              "outlinewidth": 0,
              "ticks": ""
             }
            },
            "type": "scatterpolar"
           }
          ],
          "scatterpolargl": [
           {
            "marker": {
             "colorbar": {
              "outlinewidth": 0,
              "ticks": ""
             }
            },
            "type": "scatterpolargl"
           }
          ],
          "scatterternary": [
           {
            "marker": {
             "colorbar": {
              "outlinewidth": 0,
              "ticks": ""
             }
            },
            "type": "scatterternary"
           }
          ],
          "surface": [
           {
            "colorbar": {
             "outlinewidth": 0,
             "ticks": ""
            },
            "colorscale": [
             [
              0,
              "#0d0887"
             ],
             [
              0.1111111111111111,
              "#46039f"
             ],
             [
              0.2222222222222222,
              "#7201a8"
             ],
             [
              0.3333333333333333,
              "#9c179e"
             ],
             [
              0.4444444444444444,
              "#bd3786"
             ],
             [
              0.5555555555555556,
              "#d8576b"
             ],
             [
              0.6666666666666666,
              "#ed7953"
             ],
             [
              0.7777777777777778,
              "#fb9f3a"
             ],
             [
              0.8888888888888888,
              "#fdca26"
             ],
             [
              1,
              "#f0f921"
             ]
            ],
            "type": "surface"
           }
          ],
          "table": [
           {
            "cells": {
             "fill": {
              "color": "#EBF0F8"
             },
             "line": {
              "color": "white"
             }
            },
            "header": {
             "fill": {
              "color": "#C8D4E3"
             },
             "line": {
              "color": "white"
             }
            },
            "type": "table"
           }
          ]
         },
         "layout": {
          "annotationdefaults": {
           "arrowcolor": "#2a3f5f",
           "arrowhead": 0,
           "arrowwidth": 1
          },
          "autotypenumbers": "strict",
          "coloraxis": {
           "colorbar": {
            "outlinewidth": 0,
            "ticks": ""
           }
          },
          "colorscale": {
           "diverging": [
            [
             0,
             "#8e0152"
            ],
            [
             0.1,
             "#c51b7d"
            ],
            [
             0.2,
             "#de77ae"
            ],
            [
             0.3,
             "#f1b6da"
            ],
            [
             0.4,
             "#fde0ef"
            ],
            [
             0.5,
             "#f7f7f7"
            ],
            [
             0.6,
             "#e6f5d0"
            ],
            [
             0.7,
             "#b8e186"
            ],
            [
             0.8,
             "#7fbc41"
            ],
            [
             0.9,
             "#4d9221"
            ],
            [
             1,
             "#276419"
            ]
           ],
           "sequential": [
            [
             0,
             "#0d0887"
            ],
            [
             0.1111111111111111,
             "#46039f"
            ],
            [
             0.2222222222222222,
             "#7201a8"
            ],
            [
             0.3333333333333333,
             "#9c179e"
            ],
            [
             0.4444444444444444,
             "#bd3786"
            ],
            [
             0.5555555555555556,
             "#d8576b"
            ],
            [
             0.6666666666666666,
             "#ed7953"
            ],
            [
             0.7777777777777778,
             "#fb9f3a"
            ],
            [
             0.8888888888888888,
             "#fdca26"
            ],
            [
             1,
             "#f0f921"
            ]
           ],
           "sequentialminus": [
            [
             0,
             "#0d0887"
            ],
            [
             0.1111111111111111,
             "#46039f"
            ],
            [
             0.2222222222222222,
             "#7201a8"
            ],
            [
             0.3333333333333333,
             "#9c179e"
            ],
            [
             0.4444444444444444,
             "#bd3786"
            ],
            [
             0.5555555555555556,
             "#d8576b"
            ],
            [
             0.6666666666666666,
             "#ed7953"
            ],
            [
             0.7777777777777778,
             "#fb9f3a"
            ],
            [
             0.8888888888888888,
             "#fdca26"
            ],
            [
             1,
             "#f0f921"
            ]
           ]
          },
          "colorway": [
           "#636efa",
           "#EF553B",
           "#00cc96",
           "#ab63fa",
           "#FFA15A",
           "#19d3f3",
           "#FF6692",
           "#B6E880",
           "#FF97FF",
           "#FECB52"
          ],
          "font": {
           "color": "#2a3f5f"
          },
          "geo": {
           "bgcolor": "white",
           "lakecolor": "white",
           "landcolor": "#E5ECF6",
           "showlakes": true,
           "showland": true,
           "subunitcolor": "white"
          },
          "hoverlabel": {
           "align": "left"
          },
          "hovermode": "closest",
          "mapbox": {
           "style": "light"
          },
          "paper_bgcolor": "white",
          "plot_bgcolor": "#E5ECF6",
          "polar": {
           "angularaxis": {
            "gridcolor": "white",
            "linecolor": "white",
            "ticks": ""
           },
           "bgcolor": "#E5ECF6",
           "radialaxis": {
            "gridcolor": "white",
            "linecolor": "white",
            "ticks": ""
           }
          },
          "scene": {
           "xaxis": {
            "backgroundcolor": "#E5ECF6",
            "gridcolor": "white",
            "gridwidth": 2,
            "linecolor": "white",
            "showbackground": true,
            "ticks": "",
            "zerolinecolor": "white"
           },
           "yaxis": {
            "backgroundcolor": "#E5ECF6",
            "gridcolor": "white",
            "gridwidth": 2,
            "linecolor": "white",
            "showbackground": true,
            "ticks": "",
            "zerolinecolor": "white"
           },
           "zaxis": {
            "backgroundcolor": "#E5ECF6",
            "gridcolor": "white",
            "gridwidth": 2,
            "linecolor": "white",
            "showbackground": true,
            "ticks": "",
            "zerolinecolor": "white"
           }
          },
          "shapedefaults": {
           "line": {
            "color": "#2a3f5f"
           }
          },
          "ternary": {
           "aaxis": {
            "gridcolor": "white",
            "linecolor": "white",
            "ticks": ""
           },
           "baxis": {
            "gridcolor": "white",
            "linecolor": "white",
            "ticks": ""
           },
           "bgcolor": "#E5ECF6",
           "caxis": {
            "gridcolor": "white",
            "linecolor": "white",
            "ticks": ""
           }
          },
          "title": {
           "x": 0.05
          },
          "xaxis": {
           "automargin": true,
           "gridcolor": "white",
           "linecolor": "white",
           "ticks": "",
           "title": {
            "standoff": 15
           },
           "zerolinecolor": "white",
           "zerolinewidth": 2
          },
          "yaxis": {
           "automargin": true,
           "gridcolor": "white",
           "linecolor": "white",
           "ticks": "",
           "title": {
            "standoff": 15
           },
           "zerolinecolor": "white",
           "zerolinewidth": 2
          }
         }
        },
        "title": {
         "text": "weather Over Weak"
        },
        "xaxis": {
         "anchor": "y",
         "domain": [
          0,
          1
         ],
         "title": {
          "text": "Date"
         }
        },
        "yaxis": {
         "anchor": "x",
         "domain": [
          0,
          1
         ],
         "title": {
          "text": "Weather properties"
         }
        }
       }
      }
     },
     "metadata": {},
     "output_type": "display_data"
    }
   ],
   "source": [
    "fig = px.line(group_by_weak)\n",
    "fig.update_layout(title='weather Over Weak',\n",
    "                  xaxis_title='Date',\n",
    "                  yaxis_title='Weather properties')\n",
    "fig.show()"
   ]
  },
  {
   "cell_type": "markdown",
   "metadata": {},
   "source": [
    "- **Humidity**: The average humidity seems to be fairly consistent throughout the week, ranging from around 64.23% to 66.27%. The highest average humidity is observed on Thursday, while the lowest is on Sunday.\n",
    "\n",
    "- **Pressure**: The average pressure also remains relatively stable throughout the week, with minor fluctuations. The highest average pressure is observed on Saturday, while the lowest is on Sunday.\n",
    "\n",
    "- **Temperature**: The average temperature varies slightly throughout the week. The highest average temperature is observed on Wednesday, while the lowest is on Saturday.\n",
    "\n",
    "- **Precipitation**: The actual average precipitation is fairly consistent throughout the week, with minor variations. The highest average precipitation is observed on Friday, while the lowest is on Wednesday.\n",
    "\n",
    "- **Dew Point**: It is varies throughout the week. The highest average dew point is observed on Wednesday, while the lowest is on Saturday.\n",
    "\n",
    "- **Wind Speed**: The maximum wind speed fluctuates throughout the week. The highest average maximum wind speed is observed on Friday, while the lowest is on Tuesday.\n",
    "\n",
    "- **Sea Level Pressure**: The sea level pressure is relatively stable throughout the week, with minor fluctuations. The highest average sea level pressure is observed on Sunday, while the lowest is on Thursday.\n",
    "\n",
    "-  The weather in New York City does show some variability throughout the week, but these changes are relatively small and consistent these variations are normal and expected as weather is inherently variable due to the complex interactions of atmospheric conditions.\n"
   ]
  },
  {
   "cell_type": "markdown",
   "metadata": {},
   "source": [
    "#### Q5: When does the warm season start and end in New York?"
   ]
  },
  {
   "cell_type": "markdown",
   "metadata": {},
   "source": [
    "The warm season with an average daily high temperature above 76°F"
   ]
  },
  {
   "cell_type": "code",
   "execution_count": 261,
   "metadata": {},
   "outputs": [],
   "source": [
    "def get_season_plot(df,seasonal_condition_df):\n",
    "    \"\"\" \n",
    "    Plots the average daily temperature over time and overlays the season periods.\n",
    "\n",
    "    Args:\n",
    "        df (pd.DataFrame): The DataFrame containing the weather data. It should have columns 'DayOfYear' and 'Temperature_Avg'.\n",
    "        seasonal_condition_df (pd.DataFrame): The DataFrame containing the seasonal condition data. It should have columns 'DayOfYear', 'Temperature_Avg', and 'Month'.\n",
    "\n",
    "    Returns:\n",
    "        None. The function displays a Plotly figure.\n",
    "    \"\"\"\n",
    "    average_daily_temps = df.groupby('DayOfYear')['Temperature_Avg'].mean().reset_index()\n",
    "    average_daily_condtion_temps = seasonal_condition_df.groupby('DayOfYear')['Temperature_Avg'].mean().reset_index()\n",
    "    average_daily_condtion_temps['Month'] = seasonal_condition_df.groupby('DayOfYear')['Month'].first().values\n",
    "\n",
    "    fig = go.Figure()\n",
    "\n",
    "    # Plot temperature over time grouped by Dayes of the year\n",
    "    fig.add_trace(go.Scatter(x=average_daily_temps['DayOfYear'],\n",
    "                            y=average_daily_temps['Temperature_Avg'],\n",
    "                            mode='lines',\n",
    "                            name='Temperature'))\n",
    "\n",
    "    # layer over season periods\n",
    "    for index in range(len(average_daily_condtion_temps) - 1):\n",
    "        # The weather is volatile, Hence it was necessary to ensure that the observed values were consistent\n",
    "        #  and did not occur randomly within a given month\n",
    "        if average_daily_condtion_temps.loc[index, 'Month'] == average_daily_condtion_temps.loc[index + 1, 'Month']:\n",
    "            fig.add_vrect(x0=average_daily_condtion_temps.loc[index, 'DayOfYear'], \n",
    "                        x1=average_daily_condtion_temps.loc[index + 1, 'DayOfYear'], \n",
    "                        fillcolor=\"Red\", opacity=0.2, line_width=0)\n",
    "\n",
    "    fig.update_layout(title='Season Over Time',\n",
    "                    xaxis_title='Date', yaxis_title='Temperature (F)')\n",
    "\n",
    "    fig.show()    "
   ]
  },
  {
   "cell_type": "code",
   "execution_count": 262,
   "metadata": {},
   "outputs": [
    {
     "data": {
      "application/vnd.plotly.v1+json": {
       "config": {
        "plotlyServerURL": "https://plot.ly"
       },
       "data": [
        {
         "mode": "lines",
         "name": "Temperature",
         "type": "scatter",
         "x": [
          1,
          2,
          3,
          4,
          5,
          6,
          7,
          8,
          9,
          10,
          11,
          12,
          13,
          14,
          15,
          16,
          17,
          18,
          19,
          20,
          21,
          22,
          23,
          24,
          25,
          26,
          27,
          28,
          29,
          30,
          31,
          32,
          33,
          34,
          35,
          36,
          37,
          38,
          39,
          40,
          41,
          42,
          43,
          44,
          45,
          46,
          47,
          48,
          49,
          50,
          51,
          52,
          53,
          54,
          55,
          56,
          57,
          58,
          59,
          60,
          61,
          62,
          63,
          64,
          65,
          66,
          67,
          68,
          69,
          70,
          71,
          72,
          73,
          74,
          75,
          76,
          77,
          78,
          79,
          80,
          81,
          82,
          83,
          84,
          85,
          86,
          87,
          88,
          89,
          90,
          91,
          92,
          93,
          94,
          95,
          96,
          97,
          98,
          99,
          100,
          101,
          102,
          103,
          104,
          105,
          106,
          107,
          108,
          109,
          110,
          111,
          112,
          113,
          114,
          115,
          116,
          117,
          118,
          119,
          120,
          121,
          122,
          123,
          124,
          125,
          126,
          127,
          128,
          129,
          130,
          131,
          132,
          133,
          134,
          135,
          136,
          137,
          138,
          139,
          140,
          141,
          142,
          143,
          144,
          145,
          146,
          147,
          148,
          149,
          150,
          151,
          152,
          153,
          154,
          155,
          156,
          157,
          158,
          159,
          160,
          161,
          162,
          163,
          164,
          165,
          166,
          167,
          168,
          169,
          170,
          171,
          172,
          173,
          174,
          175,
          176,
          177,
          178,
          179,
          180,
          181,
          182,
          183,
          184,
          185,
          186,
          187,
          188,
          189,
          190,
          191,
          192,
          193,
          194,
          195,
          196,
          197,
          198,
          199,
          200,
          201,
          202,
          203,
          204,
          205,
          206,
          207,
          208,
          209,
          210,
          211,
          212,
          213,
          214,
          215,
          216,
          217,
          218,
          219,
          220,
          221,
          222,
          223,
          224,
          225,
          226,
          227,
          228,
          229,
          230,
          231,
          232,
          233,
          234,
          235,
          236,
          237,
          238,
          239,
          240,
          241,
          242,
          243,
          244,
          245,
          246,
          247,
          248,
          249,
          250,
          251,
          252,
          253,
          254,
          255,
          256,
          257,
          258,
          259,
          260,
          261,
          262,
          263,
          264,
          265,
          266,
          267,
          268,
          269,
          270,
          271,
          272,
          273,
          274,
          275,
          276,
          277,
          278,
          279,
          280,
          281,
          282,
          283,
          284,
          285,
          286,
          287,
          288,
          289,
          290,
          291,
          292,
          293,
          294,
          295,
          296,
          297,
          298,
          299,
          300,
          301,
          302,
          303,
          304,
          305,
          306,
          307,
          308,
          309,
          310,
          311,
          312,
          313,
          314,
          315,
          316,
          317,
          318,
          319,
          320,
          321,
          322,
          323,
          324,
          325,
          326,
          327,
          328,
          329,
          330,
          331,
          332,
          333,
          334,
          335,
          336,
          337,
          338,
          339,
          340,
          341,
          342,
          343,
          344,
          345,
          346,
          347,
          348,
          349,
          350,
          351,
          352,
          353,
          354,
          355,
          356,
          357,
          358,
          359,
          360,
          361,
          362,
          363,
          364,
          365,
          366
         ],
         "y": [
          38.78933333333334,
          37.96928571428572,
          34.025999999999996,
          35.278666666666666,
          34.78666666666666,
          34.90933333333333,
          33.472857142857144,
          31.021428571428572,
          33.34285714285714,
          33.939230769230775,
          36.09533333333333,
          39.67785714285714,
          37.14214285714286,
          33.53066666666667,
          34.08571428571428,
          34.842,
          34.11214285714286,
          35.40642857142857,
          36.73533333333333,
          36.04846153846154,
          28.98785714285714,
          31.16,
          32.92733333333333,
          33.153571428571425,
          34.95333333333333,
          33.842666666666666,
          36.37866666666666,
          34.602,
          32.758,
          31.715,
          30.939333333333334,
          35.64933333333333,
          35.94785714285714,
          34.15133333333333,
          35.42066666666667,
          34.71066666666666,
          34.45466666666666,
          35.769285714285715,
          37.15923076923077,
          33.307857142857145,
          35.37733333333333,
          36.36,
          35.733333333333334,
          33.35133333333333,
          34.65333333333333,
          35.85066666666667,
          37.97266666666667,
          37.55285714285714,
          37.400666666666666,
          38.211999999999996,
          36.61266666666667,
          38.38133333333334,
          40.120666666666665,
          40.19133333333333,
          39.559333333333335,
          40.065384615384616,
          36.05266666666667,
          38.28,
          38.93928571428571,
          39.716,
          38.40642857142858,
          35.73066666666667,
          36.234,
          37.077999999999996,
          38.111999999999995,
          40.29933333333334,
          42.99066666666667,
          46.034285714285716,
          43.51533333333334,
          48.29846153846154,
          43.977999999999994,
          39.474666666666664,
          44.26428571428572,
          44.29533333333334,
          43.28357142857143,
          43.25466666666667,
          45.132666666666665,
          44.306000000000004,
          44.928,
          45.24333333333333,
          45.74142857142857,
          42.355333333333334,
          44.43333333333333,
          45.394,
          44.42428571428571,
          43.166666666666664,
          43.67466666666667,
          45.76357142857143,
          46.21,
          46.604,
          47.823846153846155,
          47.53928571428571,
          48.861999999999995,
          49.471333333333334,
          49.75214285714286,
          48.6,
          50.343333333333334,
          51.722142857142856,
          51.93,
          51.45428571428572,
          53.17857142857143,
          53.84533333333333,
          57.104285714285716,
          57.843333333333334,
          53.93733333333333,
          53.473333333333336,
          54.055,
          54.43866666666667,
          53.58266666666667,
          53.868,
          54.816428571428574,
          54.26933333333333,
          53.553999999999995,
          55.266666666666666,
          53.754000000000005,
          56.22933333333333,
          54.43642857142857,
          55.81923076923077,
          56.72642857142857,
          54.85066666666667,
          57.17133333333333,
          60.692,
          59.35933333333333,
          58.64142857142857,
          58.882,
          59.01307692307692,
          58.2,
          58.666000000000004,
          56.987142857142864,
          60.059285714285714,
          61.46142857142858,
          61.15266666666666,
          58.966,
          60.21333333333334,
          63.842666666666666,
          65.19666666666667,
          65.39266666666667,
          62.55928571428571,
          62.632,
          64.868,
          66.53333333333333,
          64.86066666666666,
          64.50533333333334,
          64.81857142857143,
          65.41866666666667,
          69.58266666666667,
          69.8457142857143,
          65.95533333333334,
          67.04733333333334,
          70.06733333333334,
          70.86866666666667,
          69.62666666666668,
          70.46333333333334,
          67.33142857142857,
          66.94642857142857,
          68.34400000000001,
          69.27642857142857,
          69.61285714285715,
          71.628,
          70.56285714285714,
          70.62733333333334,
          70.66499999999999,
          70.97857142857143,
          71.69133333333333,
          69.36999999999999,
          69.87571428571428,
          70.88266666666667,
          72.28533333333333,
          72.28642857142857,
          72.14933333333333,
          72.54533333333333,
          74.924,
          74.4057142857143,
          74.87666666666668,
          75.17333333333333,
          75.97666666666667,
          76.05428571428571,
          74.92133333333332,
          76.72399999999999,
          78.288,
          77.88214285714285,
          77.48857142857142,
          77.95333333333333,
          77.586,
          77.74133333333333,
          78.882,
          81.19428571428571,
          80.30266666666667,
          78.62599999999999,
          77.89133333333332,
          77.80153846153846,
          77.93214285714285,
          79.04533333333333,
          78.48466666666667,
          77.88428571428572,
          78.54533333333333,
          80.35799999999999,
          80.36533333333334,
          80.81866666666666,
          81.56666666666666,
          81.53714285714285,
          80.07933333333334,
          80.22071428571428,
          79.502,
          80.00533333333333,
          77.22666666666667,
          78.00333333333333,
          80.03333333333333,
          81.02285714285713,
          79.86571428571428,
          77.93733333333333,
          77.64,
          76.90466666666666,
          77.25733333333332,
          77.57600000000001,
          78.43466666666667,
          79.17,
          78.69133333333333,
          77.72666666666667,
          77.17785714285715,
          78.72933333333334,
          79.18266666666666,
          78.86866666666667,
          78.52928571428572,
          77.85733333333334,
          77.11066666666667,
          76.65133333333333,
          77.15666666666667,
          78.42133333333332,
          77.694,
          77.412,
          78.04714285714284,
          77.79666666666667,
          76.57199999999999,
          75.22600000000001,
          75.60266666666666,
          77.124,
          77.46866666666666,
          76.80142857142857,
          75.77928571428572,
          76.07785714285714,
          77.438,
          76.70142857142856,
          75.41733333333333,
          74.62866666666667,
          75.05846153846154,
          76.89733333333334,
          76.28428571428572,
          73.55333333333333,
          73.19800000000001,
          74.29285714285713,
          71.838,
          72.36714285714285,
          72.91333333333334,
          72.09928571428571,
          71.556,
          70.99733333333333,
          71.34933333333333,
          68.82666666666667,
          68.88571428571429,
          69.52066666666666,
          69.13266666666667,
          68.65666666666667,
          68.64071428571428,
          70.05199999999999,
          68.86999999999999,
          70.23153846153846,
          68.566,
          67.742,
          68.396,
          68.99733333333333,
          67.94642857142857,
          64.792,
          63.775333333333336,
          64.66266666666667,
          62.754,
          64.17333333333333,
          62.61071428571428,
          65.00285714285714,
          66.81533333333333,
          63.76133333333333,
          63.586,
          63.38666666666666,
          63.45466666666666,
          61.06066666666666,
          59.832857142857144,
          60.11266666666666,
          60.876,
          60.223571428571425,
          57.89928571428572,
          56.568,
          57.09,
          61.03,
          60.705333333333336,
          59.86333333333334,
          57.472142857142856,
          57.644999999999996,
          59.31066666666666,
          57.04933333333334,
          57.12866666666666,
          57.54066666666667,
          54.74066666666667,
          53.92928571428571,
          55.242,
          53.144,
          53.284,
          53.405833333333334,
          52.675000000000004,
          53.92066666666667,
          53.68357142857143,
          53.587999999999994,
          49.176923076923075,
          50.32142857142857,
          53.282000000000004,
          51.892857142857146,
          52.071333333333335,
          48.519285714285715,
          46.96142857142858,
          48.10153846153847,
          49.40266666666666,
          48.87714285714286,
          47.95214285714286,
          45.90333333333333,
          46.01,
          45.39266666666666,
          47.20642857142857,
          44.864285714285714,
          45.27333333333333,
          46.422000000000004,
          47.09428571428571,
          47.782000000000004,
          44.833999999999996,
          43.20399999999999,
          46.32071428571429,
          47.207142857142856,
          45.656666666666666,
          46.26428571428572,
          44.495333333333335,
          44.577999999999996,
          45.22785714285714,
          41.13066666666667,
          39.065714285714286,
          40.474000000000004,
          40.93642857142857,
          39.840714285714284,
          42.158461538461545,
          40.91733333333333,
          41.15642857142857,
          42.716,
          39.961999999999996,
          39.09733333333334,
          36.788000000000004,
          37.34866666666667,
          36.376,
          39.733333333333334,
          43.519999999999996,
          42.008,
          38.99,
          39.68866666666667,
          39.702666666666666,
          39.949285714285715,
          41.19733333333333,
          38.73357142857143,
          38.032000000000004,
          38.06428571428571,
          42.47
         ]
        }
       ],
       "layout": {
        "shapes": [
         {
          "fillcolor": "Red",
          "line": {
           "width": 0
          },
          "opacity": 0.2,
          "type": "rect",
          "x0": 103,
          "x1": 104,
          "xref": "x",
          "y0": 0,
          "y1": 1,
          "yref": "y domain"
         },
         {
          "fillcolor": "Red",
          "line": {
           "width": 0
          },
          "opacity": 0.2,
          "type": "rect",
          "x0": 104,
          "x1": 116,
          "xref": "x",
          "y0": 0,
          "y1": 1,
          "yref": "y domain"
         },
         {
          "fillcolor": "Red",
          "line": {
           "width": 0
          },
          "opacity": 0.2,
          "type": "rect",
          "x0": 116,
          "x1": 118,
          "xref": "x",
          "y0": 0,
          "y1": 1,
          "yref": "y domain"
         },
         {
          "fillcolor": "Red",
          "line": {
           "width": 0
          },
          "opacity": 0.2,
          "type": "rect",
          "x0": 122,
          "x1": 123,
          "xref": "x",
          "y0": 0,
          "y1": 1,
          "yref": "y domain"
         },
         {
          "fillcolor": "Red",
          "line": {
           "width": 0
          },
          "opacity": 0.2,
          "type": "rect",
          "x0": 123,
          "x1": 124,
          "xref": "x",
          "y0": 0,
          "y1": 1,
          "yref": "y domain"
         },
         {
          "fillcolor": "Red",
          "line": {
           "width": 0
          },
          "opacity": 0.2,
          "type": "rect",
          "x0": 124,
          "x1": 132,
          "xref": "x",
          "y0": 0,
          "y1": 1,
          "yref": "y domain"
         },
         {
          "fillcolor": "Red",
          "line": {
           "width": 0
          },
          "opacity": 0.2,
          "type": "rect",
          "x0": 132,
          "x1": 133,
          "xref": "x",
          "y0": 0,
          "y1": 1,
          "yref": "y domain"
         },
         {
          "fillcolor": "Red",
          "line": {
           "width": 0
          },
          "opacity": 0.2,
          "type": "rect",
          "x0": 133,
          "x1": 137,
          "xref": "x",
          "y0": 0,
          "y1": 1,
          "yref": "y domain"
         },
         {
          "fillcolor": "Red",
          "line": {
           "width": 0
          },
          "opacity": 0.2,
          "type": "rect",
          "x0": 137,
          "x1": 138,
          "xref": "x",
          "y0": 0,
          "y1": 1,
          "yref": "y domain"
         },
         {
          "fillcolor": "Red",
          "line": {
           "width": 0
          },
          "opacity": 0.2,
          "type": "rect",
          "x0": 138,
          "x1": 139,
          "xref": "x",
          "y0": 0,
          "y1": 1,
          "yref": "y domain"
         },
         {
          "fillcolor": "Red",
          "line": {
           "width": 0
          },
          "opacity": 0.2,
          "type": "rect",
          "x0": 139,
          "x1": 140,
          "xref": "x",
          "y0": 0,
          "y1": 1,
          "yref": "y domain"
         },
         {
          "fillcolor": "Red",
          "line": {
           "width": 0
          },
          "opacity": 0.2,
          "type": "rect",
          "x0": 140,
          "x1": 141,
          "xref": "x",
          "y0": 0,
          "y1": 1,
          "yref": "y domain"
         },
         {
          "fillcolor": "Red",
          "line": {
           "width": 0
          },
          "opacity": 0.2,
          "type": "rect",
          "x0": 141,
          "x1": 142,
          "xref": "x",
          "y0": 0,
          "y1": 1,
          "yref": "y domain"
         },
         {
          "fillcolor": "Red",
          "line": {
           "width": 0
          },
          "opacity": 0.2,
          "type": "rect",
          "x0": 142,
          "x1": 143,
          "xref": "x",
          "y0": 0,
          "y1": 1,
          "yref": "y domain"
         },
         {
          "fillcolor": "Red",
          "line": {
           "width": 0
          },
          "opacity": 0.2,
          "type": "rect",
          "x0": 143,
          "x1": 145,
          "xref": "x",
          "y0": 0,
          "y1": 1,
          "yref": "y domain"
         },
         {
          "fillcolor": "Red",
          "line": {
           "width": 0
          },
          "opacity": 0.2,
          "type": "rect",
          "x0": 145,
          "x1": 146,
          "xref": "x",
          "y0": 0,
          "y1": 1,
          "yref": "y domain"
         },
         {
          "fillcolor": "Red",
          "line": {
           "width": 0
          },
          "opacity": 0.2,
          "type": "rect",
          "x0": 146,
          "x1": 147,
          "xref": "x",
          "y0": 0,
          "y1": 1,
          "yref": "y domain"
         },
         {
          "fillcolor": "Red",
          "line": {
           "width": 0
          },
          "opacity": 0.2,
          "type": "rect",
          "x0": 147,
          "x1": 148,
          "xref": "x",
          "y0": 0,
          "y1": 1,
          "yref": "y domain"
         },
         {
          "fillcolor": "Red",
          "line": {
           "width": 0
          },
          "opacity": 0.2,
          "type": "rect",
          "x0": 148,
          "x1": 149,
          "xref": "x",
          "y0": 0,
          "y1": 1,
          "yref": "y domain"
         },
         {
          "fillcolor": "Red",
          "line": {
           "width": 0
          },
          "opacity": 0.2,
          "type": "rect",
          "x0": 149,
          "x1": 150,
          "xref": "x",
          "y0": 0,
          "y1": 1,
          "yref": "y domain"
         },
         {
          "fillcolor": "Red",
          "line": {
           "width": 0
          },
          "opacity": 0.2,
          "type": "rect",
          "x0": 150,
          "x1": 151,
          "xref": "x",
          "y0": 0,
          "y1": 1,
          "yref": "y domain"
         },
         {
          "fillcolor": "Red",
          "line": {
           "width": 0
          },
          "opacity": 0.2,
          "type": "rect",
          "x0": 152,
          "x1": 153,
          "xref": "x",
          "y0": 0,
          "y1": 1,
          "yref": "y domain"
         },
         {
          "fillcolor": "Red",
          "line": {
           "width": 0
          },
          "opacity": 0.2,
          "type": "rect",
          "x0": 153,
          "x1": 154,
          "xref": "x",
          "y0": 0,
          "y1": 1,
          "yref": "y domain"
         },
         {
          "fillcolor": "Red",
          "line": {
           "width": 0
          },
          "opacity": 0.2,
          "type": "rect",
          "x0": 154,
          "x1": 155,
          "xref": "x",
          "y0": 0,
          "y1": 1,
          "yref": "y domain"
         },
         {
          "fillcolor": "Red",
          "line": {
           "width": 0
          },
          "opacity": 0.2,
          "type": "rect",
          "x0": 155,
          "x1": 156,
          "xref": "x",
          "y0": 0,
          "y1": 1,
          "yref": "y domain"
         },
         {
          "fillcolor": "Red",
          "line": {
           "width": 0
          },
          "opacity": 0.2,
          "type": "rect",
          "x0": 156,
          "x1": 157,
          "xref": "x",
          "y0": 0,
          "y1": 1,
          "yref": "y domain"
         },
         {
          "fillcolor": "Red",
          "line": {
           "width": 0
          },
          "opacity": 0.2,
          "type": "rect",
          "x0": 157,
          "x1": 158,
          "xref": "x",
          "y0": 0,
          "y1": 1,
          "yref": "y domain"
         },
         {
          "fillcolor": "Red",
          "line": {
           "width": 0
          },
          "opacity": 0.2,
          "type": "rect",
          "x0": 158,
          "x1": 159,
          "xref": "x",
          "y0": 0,
          "y1": 1,
          "yref": "y domain"
         },
         {
          "fillcolor": "Red",
          "line": {
           "width": 0
          },
          "opacity": 0.2,
          "type": "rect",
          "x0": 159,
          "x1": 160,
          "xref": "x",
          "y0": 0,
          "y1": 1,
          "yref": "y domain"
         },
         {
          "fillcolor": "Red",
          "line": {
           "width": 0
          },
          "opacity": 0.2,
          "type": "rect",
          "x0": 160,
          "x1": 161,
          "xref": "x",
          "y0": 0,
          "y1": 1,
          "yref": "y domain"
         },
         {
          "fillcolor": "Red",
          "line": {
           "width": 0
          },
          "opacity": 0.2,
          "type": "rect",
          "x0": 161,
          "x1": 162,
          "xref": "x",
          "y0": 0,
          "y1": 1,
          "yref": "y domain"
         },
         {
          "fillcolor": "Red",
          "line": {
           "width": 0
          },
          "opacity": 0.2,
          "type": "rect",
          "x0": 162,
          "x1": 163,
          "xref": "x",
          "y0": 0,
          "y1": 1,
          "yref": "y domain"
         },
         {
          "fillcolor": "Red",
          "line": {
           "width": 0
          },
          "opacity": 0.2,
          "type": "rect",
          "x0": 163,
          "x1": 164,
          "xref": "x",
          "y0": 0,
          "y1": 1,
          "yref": "y domain"
         },
         {
          "fillcolor": "Red",
          "line": {
           "width": 0
          },
          "opacity": 0.2,
          "type": "rect",
          "x0": 164,
          "x1": 165,
          "xref": "x",
          "y0": 0,
          "y1": 1,
          "yref": "y domain"
         },
         {
          "fillcolor": "Red",
          "line": {
           "width": 0
          },
          "opacity": 0.2,
          "type": "rect",
          "x0": 165,
          "x1": 167,
          "xref": "x",
          "y0": 0,
          "y1": 1,
          "yref": "y domain"
         },
         {
          "fillcolor": "Red",
          "line": {
           "width": 0
          },
          "opacity": 0.2,
          "type": "rect",
          "x0": 167,
          "x1": 168,
          "xref": "x",
          "y0": 0,
          "y1": 1,
          "yref": "y domain"
         },
         {
          "fillcolor": "Red",
          "line": {
           "width": 0
          },
          "opacity": 0.2,
          "type": "rect",
          "x0": 168,
          "x1": 169,
          "xref": "x",
          "y0": 0,
          "y1": 1,
          "yref": "y domain"
         },
         {
          "fillcolor": "Red",
          "line": {
           "width": 0
          },
          "opacity": 0.2,
          "type": "rect",
          "x0": 169,
          "x1": 170,
          "xref": "x",
          "y0": 0,
          "y1": 1,
          "yref": "y domain"
         },
         {
          "fillcolor": "Red",
          "line": {
           "width": 0
          },
          "opacity": 0.2,
          "type": "rect",
          "x0": 170,
          "x1": 171,
          "xref": "x",
          "y0": 0,
          "y1": 1,
          "yref": "y domain"
         },
         {
          "fillcolor": "Red",
          "line": {
           "width": 0
          },
          "opacity": 0.2,
          "type": "rect",
          "x0": 171,
          "x1": 172,
          "xref": "x",
          "y0": 0,
          "y1": 1,
          "yref": "y domain"
         },
         {
          "fillcolor": "Red",
          "line": {
           "width": 0
          },
          "opacity": 0.2,
          "type": "rect",
          "x0": 172,
          "x1": 173,
          "xref": "x",
          "y0": 0,
          "y1": 1,
          "yref": "y domain"
         },
         {
          "fillcolor": "Red",
          "line": {
           "width": 0
          },
          "opacity": 0.2,
          "type": "rect",
          "x0": 173,
          "x1": 174,
          "xref": "x",
          "y0": 0,
          "y1": 1,
          "yref": "y domain"
         },
         {
          "fillcolor": "Red",
          "line": {
           "width": 0
          },
          "opacity": 0.2,
          "type": "rect",
          "x0": 174,
          "x1": 175,
          "xref": "x",
          "y0": 0,
          "y1": 1,
          "yref": "y domain"
         },
         {
          "fillcolor": "Red",
          "line": {
           "width": 0
          },
          "opacity": 0.2,
          "type": "rect",
          "x0": 175,
          "x1": 176,
          "xref": "x",
          "y0": 0,
          "y1": 1,
          "yref": "y domain"
         },
         {
          "fillcolor": "Red",
          "line": {
           "width": 0
          },
          "opacity": 0.2,
          "type": "rect",
          "x0": 176,
          "x1": 177,
          "xref": "x",
          "y0": 0,
          "y1": 1,
          "yref": "y domain"
         },
         {
          "fillcolor": "Red",
          "line": {
           "width": 0
          },
          "opacity": 0.2,
          "type": "rect",
          "x0": 177,
          "x1": 178,
          "xref": "x",
          "y0": 0,
          "y1": 1,
          "yref": "y domain"
         },
         {
          "fillcolor": "Red",
          "line": {
           "width": 0
          },
          "opacity": 0.2,
          "type": "rect",
          "x0": 178,
          "x1": 179,
          "xref": "x",
          "y0": 0,
          "y1": 1,
          "yref": "y domain"
         },
         {
          "fillcolor": "Red",
          "line": {
           "width": 0
          },
          "opacity": 0.2,
          "type": "rect",
          "x0": 179,
          "x1": 180,
          "xref": "x",
          "y0": 0,
          "y1": 1,
          "yref": "y domain"
         },
         {
          "fillcolor": "Red",
          "line": {
           "width": 0
          },
          "opacity": 0.2,
          "type": "rect",
          "x0": 180,
          "x1": 181,
          "xref": "x",
          "y0": 0,
          "y1": 1,
          "yref": "y domain"
         },
         {
          "fillcolor": "Red",
          "line": {
           "width": 0
          },
          "opacity": 0.2,
          "type": "rect",
          "x0": 181,
          "x1": 182,
          "xref": "x",
          "y0": 0,
          "y1": 1,
          "yref": "y domain"
         },
         {
          "fillcolor": "Red",
          "line": {
           "width": 0
          },
          "opacity": 0.2,
          "type": "rect",
          "x0": 183,
          "x1": 184,
          "xref": "x",
          "y0": 0,
          "y1": 1,
          "yref": "y domain"
         },
         {
          "fillcolor": "Red",
          "line": {
           "width": 0
          },
          "opacity": 0.2,
          "type": "rect",
          "x0": 184,
          "x1": 185,
          "xref": "x",
          "y0": 0,
          "y1": 1,
          "yref": "y domain"
         },
         {
          "fillcolor": "Red",
          "line": {
           "width": 0
          },
          "opacity": 0.2,
          "type": "rect",
          "x0": 185,
          "x1": 186,
          "xref": "x",
          "y0": 0,
          "y1": 1,
          "yref": "y domain"
         },
         {
          "fillcolor": "Red",
          "line": {
           "width": 0
          },
          "opacity": 0.2,
          "type": "rect",
          "x0": 186,
          "x1": 187,
          "xref": "x",
          "y0": 0,
          "y1": 1,
          "yref": "y domain"
         },
         {
          "fillcolor": "Red",
          "line": {
           "width": 0
          },
          "opacity": 0.2,
          "type": "rect",
          "x0": 187,
          "x1": 188,
          "xref": "x",
          "y0": 0,
          "y1": 1,
          "yref": "y domain"
         },
         {
          "fillcolor": "Red",
          "line": {
           "width": 0
          },
          "opacity": 0.2,
          "type": "rect",
          "x0": 188,
          "x1": 189,
          "xref": "x",
          "y0": 0,
          "y1": 1,
          "yref": "y domain"
         },
         {
          "fillcolor": "Red",
          "line": {
           "width": 0
          },
          "opacity": 0.2,
          "type": "rect",
          "x0": 189,
          "x1": 190,
          "xref": "x",
          "y0": 0,
          "y1": 1,
          "yref": "y domain"
         },
         {
          "fillcolor": "Red",
          "line": {
           "width": 0
          },
          "opacity": 0.2,
          "type": "rect",
          "x0": 190,
          "x1": 191,
          "xref": "x",
          "y0": 0,
          "y1": 1,
          "yref": "y domain"
         },
         {
          "fillcolor": "Red",
          "line": {
           "width": 0
          },
          "opacity": 0.2,
          "type": "rect",
          "x0": 191,
          "x1": 192,
          "xref": "x",
          "y0": 0,
          "y1": 1,
          "yref": "y domain"
         },
         {
          "fillcolor": "Red",
          "line": {
           "width": 0
          },
          "opacity": 0.2,
          "type": "rect",
          "x0": 192,
          "x1": 193,
          "xref": "x",
          "y0": 0,
          "y1": 1,
          "yref": "y domain"
         },
         {
          "fillcolor": "Red",
          "line": {
           "width": 0
          },
          "opacity": 0.2,
          "type": "rect",
          "x0": 193,
          "x1": 194,
          "xref": "x",
          "y0": 0,
          "y1": 1,
          "yref": "y domain"
         },
         {
          "fillcolor": "Red",
          "line": {
           "width": 0
          },
          "opacity": 0.2,
          "type": "rect",
          "x0": 194,
          "x1": 195,
          "xref": "x",
          "y0": 0,
          "y1": 1,
          "yref": "y domain"
         },
         {
          "fillcolor": "Red",
          "line": {
           "width": 0
          },
          "opacity": 0.2,
          "type": "rect",
          "x0": 195,
          "x1": 196,
          "xref": "x",
          "y0": 0,
          "y1": 1,
          "yref": "y domain"
         },
         {
          "fillcolor": "Red",
          "line": {
           "width": 0
          },
          "opacity": 0.2,
          "type": "rect",
          "x0": 196,
          "x1": 197,
          "xref": "x",
          "y0": 0,
          "y1": 1,
          "yref": "y domain"
         },
         {
          "fillcolor": "Red",
          "line": {
           "width": 0
          },
          "opacity": 0.2,
          "type": "rect",
          "x0": 197,
          "x1": 198,
          "xref": "x",
          "y0": 0,
          "y1": 1,
          "yref": "y domain"
         },
         {
          "fillcolor": "Red",
          "line": {
           "width": 0
          },
          "opacity": 0.2,
          "type": "rect",
          "x0": 198,
          "x1": 199,
          "xref": "x",
          "y0": 0,
          "y1": 1,
          "yref": "y domain"
         },
         {
          "fillcolor": "Red",
          "line": {
           "width": 0
          },
          "opacity": 0.2,
          "type": "rect",
          "x0": 199,
          "x1": 200,
          "xref": "x",
          "y0": 0,
          "y1": 1,
          "yref": "y domain"
         },
         {
          "fillcolor": "Red",
          "line": {
           "width": 0
          },
          "opacity": 0.2,
          "type": "rect",
          "x0": 200,
          "x1": 201,
          "xref": "x",
          "y0": 0,
          "y1": 1,
          "yref": "y domain"
         },
         {
          "fillcolor": "Red",
          "line": {
           "width": 0
          },
          "opacity": 0.2,
          "type": "rect",
          "x0": 201,
          "x1": 202,
          "xref": "x",
          "y0": 0,
          "y1": 1,
          "yref": "y domain"
         },
         {
          "fillcolor": "Red",
          "line": {
           "width": 0
          },
          "opacity": 0.2,
          "type": "rect",
          "x0": 202,
          "x1": 203,
          "xref": "x",
          "y0": 0,
          "y1": 1,
          "yref": "y domain"
         },
         {
          "fillcolor": "Red",
          "line": {
           "width": 0
          },
          "opacity": 0.2,
          "type": "rect",
          "x0": 203,
          "x1": 204,
          "xref": "x",
          "y0": 0,
          "y1": 1,
          "yref": "y domain"
         },
         {
          "fillcolor": "Red",
          "line": {
           "width": 0
          },
          "opacity": 0.2,
          "type": "rect",
          "x0": 204,
          "x1": 205,
          "xref": "x",
          "y0": 0,
          "y1": 1,
          "yref": "y domain"
         },
         {
          "fillcolor": "Red",
          "line": {
           "width": 0
          },
          "opacity": 0.2,
          "type": "rect",
          "x0": 205,
          "x1": 206,
          "xref": "x",
          "y0": 0,
          "y1": 1,
          "yref": "y domain"
         },
         {
          "fillcolor": "Red",
          "line": {
           "width": 0
          },
          "opacity": 0.2,
          "type": "rect",
          "x0": 206,
          "x1": 207,
          "xref": "x",
          "y0": 0,
          "y1": 1,
          "yref": "y domain"
         },
         {
          "fillcolor": "Red",
          "line": {
           "width": 0
          },
          "opacity": 0.2,
          "type": "rect",
          "x0": 207,
          "x1": 208,
          "xref": "x",
          "y0": 0,
          "y1": 1,
          "yref": "y domain"
         },
         {
          "fillcolor": "Red",
          "line": {
           "width": 0
          },
          "opacity": 0.2,
          "type": "rect",
          "x0": 208,
          "x1": 209,
          "xref": "x",
          "y0": 0,
          "y1": 1,
          "yref": "y domain"
         },
         {
          "fillcolor": "Red",
          "line": {
           "width": 0
          },
          "opacity": 0.2,
          "type": "rect",
          "x0": 209,
          "x1": 210,
          "xref": "x",
          "y0": 0,
          "y1": 1,
          "yref": "y domain"
         },
         {
          "fillcolor": "Red",
          "line": {
           "width": 0
          },
          "opacity": 0.2,
          "type": "rect",
          "x0": 210,
          "x1": 211,
          "xref": "x",
          "y0": 0,
          "y1": 1,
          "yref": "y domain"
         },
         {
          "fillcolor": "Red",
          "line": {
           "width": 0
          },
          "opacity": 0.2,
          "type": "rect",
          "x0": 211,
          "x1": 212,
          "xref": "x",
          "y0": 0,
          "y1": 1,
          "yref": "y domain"
         },
         {
          "fillcolor": "Red",
          "line": {
           "width": 0
          },
          "opacity": 0.2,
          "type": "rect",
          "x0": 213,
          "x1": 214,
          "xref": "x",
          "y0": 0,
          "y1": 1,
          "yref": "y domain"
         },
         {
          "fillcolor": "Red",
          "line": {
           "width": 0
          },
          "opacity": 0.2,
          "type": "rect",
          "x0": 214,
          "x1": 215,
          "xref": "x",
          "y0": 0,
          "y1": 1,
          "yref": "y domain"
         },
         {
          "fillcolor": "Red",
          "line": {
           "width": 0
          },
          "opacity": 0.2,
          "type": "rect",
          "x0": 215,
          "x1": 216,
          "xref": "x",
          "y0": 0,
          "y1": 1,
          "yref": "y domain"
         },
         {
          "fillcolor": "Red",
          "line": {
           "width": 0
          },
          "opacity": 0.2,
          "type": "rect",
          "x0": 216,
          "x1": 217,
          "xref": "x",
          "y0": 0,
          "y1": 1,
          "yref": "y domain"
         },
         {
          "fillcolor": "Red",
          "line": {
           "width": 0
          },
          "opacity": 0.2,
          "type": "rect",
          "x0": 217,
          "x1": 218,
          "xref": "x",
          "y0": 0,
          "y1": 1,
          "yref": "y domain"
         },
         {
          "fillcolor": "Red",
          "line": {
           "width": 0
          },
          "opacity": 0.2,
          "type": "rect",
          "x0": 218,
          "x1": 219,
          "xref": "x",
          "y0": 0,
          "y1": 1,
          "yref": "y domain"
         },
         {
          "fillcolor": "Red",
          "line": {
           "width": 0
          },
          "opacity": 0.2,
          "type": "rect",
          "x0": 219,
          "x1": 220,
          "xref": "x",
          "y0": 0,
          "y1": 1,
          "yref": "y domain"
         },
         {
          "fillcolor": "Red",
          "line": {
           "width": 0
          },
          "opacity": 0.2,
          "type": "rect",
          "x0": 220,
          "x1": 221,
          "xref": "x",
          "y0": 0,
          "y1": 1,
          "yref": "y domain"
         },
         {
          "fillcolor": "Red",
          "line": {
           "width": 0
          },
          "opacity": 0.2,
          "type": "rect",
          "x0": 221,
          "x1": 222,
          "xref": "x",
          "y0": 0,
          "y1": 1,
          "yref": "y domain"
         },
         {
          "fillcolor": "Red",
          "line": {
           "width": 0
          },
          "opacity": 0.2,
          "type": "rect",
          "x0": 222,
          "x1": 223,
          "xref": "x",
          "y0": 0,
          "y1": 1,
          "yref": "y domain"
         },
         {
          "fillcolor": "Red",
          "line": {
           "width": 0
          },
          "opacity": 0.2,
          "type": "rect",
          "x0": 223,
          "x1": 224,
          "xref": "x",
          "y0": 0,
          "y1": 1,
          "yref": "y domain"
         },
         {
          "fillcolor": "Red",
          "line": {
           "width": 0
          },
          "opacity": 0.2,
          "type": "rect",
          "x0": 224,
          "x1": 225,
          "xref": "x",
          "y0": 0,
          "y1": 1,
          "yref": "y domain"
         },
         {
          "fillcolor": "Red",
          "line": {
           "width": 0
          },
          "opacity": 0.2,
          "type": "rect",
          "x0": 225,
          "x1": 226,
          "xref": "x",
          "y0": 0,
          "y1": 1,
          "yref": "y domain"
         },
         {
          "fillcolor": "Red",
          "line": {
           "width": 0
          },
          "opacity": 0.2,
          "type": "rect",
          "x0": 226,
          "x1": 227,
          "xref": "x",
          "y0": 0,
          "y1": 1,
          "yref": "y domain"
         },
         {
          "fillcolor": "Red",
          "line": {
           "width": 0
          },
          "opacity": 0.2,
          "type": "rect",
          "x0": 227,
          "x1": 228,
          "xref": "x",
          "y0": 0,
          "y1": 1,
          "yref": "y domain"
         },
         {
          "fillcolor": "Red",
          "line": {
           "width": 0
          },
          "opacity": 0.2,
          "type": "rect",
          "x0": 228,
          "x1": 229,
          "xref": "x",
          "y0": 0,
          "y1": 1,
          "yref": "y domain"
         },
         {
          "fillcolor": "Red",
          "line": {
           "width": 0
          },
          "opacity": 0.2,
          "type": "rect",
          "x0": 229,
          "x1": 230,
          "xref": "x",
          "y0": 0,
          "y1": 1,
          "yref": "y domain"
         },
         {
          "fillcolor": "Red",
          "line": {
           "width": 0
          },
          "opacity": 0.2,
          "type": "rect",
          "x0": 230,
          "x1": 231,
          "xref": "x",
          "y0": 0,
          "y1": 1,
          "yref": "y domain"
         },
         {
          "fillcolor": "Red",
          "line": {
           "width": 0
          },
          "opacity": 0.2,
          "type": "rect",
          "x0": 231,
          "x1": 232,
          "xref": "x",
          "y0": 0,
          "y1": 1,
          "yref": "y domain"
         },
         {
          "fillcolor": "Red",
          "line": {
           "width": 0
          },
          "opacity": 0.2,
          "type": "rect",
          "x0": 232,
          "x1": 233,
          "xref": "x",
          "y0": 0,
          "y1": 1,
          "yref": "y domain"
         },
         {
          "fillcolor": "Red",
          "line": {
           "width": 0
          },
          "opacity": 0.2,
          "type": "rect",
          "x0": 233,
          "x1": 234,
          "xref": "x",
          "y0": 0,
          "y1": 1,
          "yref": "y domain"
         },
         {
          "fillcolor": "Red",
          "line": {
           "width": 0
          },
          "opacity": 0.2,
          "type": "rect",
          "x0": 234,
          "x1": 235,
          "xref": "x",
          "y0": 0,
          "y1": 1,
          "yref": "y domain"
         },
         {
          "fillcolor": "Red",
          "line": {
           "width": 0
          },
          "opacity": 0.2,
          "type": "rect",
          "x0": 235,
          "x1": 236,
          "xref": "x",
          "y0": 0,
          "y1": 1,
          "yref": "y domain"
         },
         {
          "fillcolor": "Red",
          "line": {
           "width": 0
          },
          "opacity": 0.2,
          "type": "rect",
          "x0": 236,
          "x1": 237,
          "xref": "x",
          "y0": 0,
          "y1": 1,
          "yref": "y domain"
         },
         {
          "fillcolor": "Red",
          "line": {
           "width": 0
          },
          "opacity": 0.2,
          "type": "rect",
          "x0": 237,
          "x1": 238,
          "xref": "x",
          "y0": 0,
          "y1": 1,
          "yref": "y domain"
         },
         {
          "fillcolor": "Red",
          "line": {
           "width": 0
          },
          "opacity": 0.2,
          "type": "rect",
          "x0": 238,
          "x1": 239,
          "xref": "x",
          "y0": 0,
          "y1": 1,
          "yref": "y domain"
         },
         {
          "fillcolor": "Red",
          "line": {
           "width": 0
          },
          "opacity": 0.2,
          "type": "rect",
          "x0": 239,
          "x1": 240,
          "xref": "x",
          "y0": 0,
          "y1": 1,
          "yref": "y domain"
         },
         {
          "fillcolor": "Red",
          "line": {
           "width": 0
          },
          "opacity": 0.2,
          "type": "rect",
          "x0": 240,
          "x1": 241,
          "xref": "x",
          "y0": 0,
          "y1": 1,
          "yref": "y domain"
         },
         {
          "fillcolor": "Red",
          "line": {
           "width": 0
          },
          "opacity": 0.2,
          "type": "rect",
          "x0": 241,
          "x1": 242,
          "xref": "x",
          "y0": 0,
          "y1": 1,
          "yref": "y domain"
         },
         {
          "fillcolor": "Red",
          "line": {
           "width": 0
          },
          "opacity": 0.2,
          "type": "rect",
          "x0": 242,
          "x1": 243,
          "xref": "x",
          "y0": 0,
          "y1": 1,
          "yref": "y domain"
         },
         {
          "fillcolor": "Red",
          "line": {
           "width": 0
          },
          "opacity": 0.2,
          "type": "rect",
          "x0": 244,
          "x1": 245,
          "xref": "x",
          "y0": 0,
          "y1": 1,
          "yref": "y domain"
         },
         {
          "fillcolor": "Red",
          "line": {
           "width": 0
          },
          "opacity": 0.2,
          "type": "rect",
          "x0": 245,
          "x1": 246,
          "xref": "x",
          "y0": 0,
          "y1": 1,
          "yref": "y domain"
         },
         {
          "fillcolor": "Red",
          "line": {
           "width": 0
          },
          "opacity": 0.2,
          "type": "rect",
          "x0": 246,
          "x1": 247,
          "xref": "x",
          "y0": 0,
          "y1": 1,
          "yref": "y domain"
         },
         {
          "fillcolor": "Red",
          "line": {
           "width": 0
          },
          "opacity": 0.2,
          "type": "rect",
          "x0": 247,
          "x1": 248,
          "xref": "x",
          "y0": 0,
          "y1": 1,
          "yref": "y domain"
         },
         {
          "fillcolor": "Red",
          "line": {
           "width": 0
          },
          "opacity": 0.2,
          "type": "rect",
          "x0": 248,
          "x1": 249,
          "xref": "x",
          "y0": 0,
          "y1": 1,
          "yref": "y domain"
         },
         {
          "fillcolor": "Red",
          "line": {
           "width": 0
          },
          "opacity": 0.2,
          "type": "rect",
          "x0": 249,
          "x1": 250,
          "xref": "x",
          "y0": 0,
          "y1": 1,
          "yref": "y domain"
         },
         {
          "fillcolor": "Red",
          "line": {
           "width": 0
          },
          "opacity": 0.2,
          "type": "rect",
          "x0": 250,
          "x1": 251,
          "xref": "x",
          "y0": 0,
          "y1": 1,
          "yref": "y domain"
         },
         {
          "fillcolor": "Red",
          "line": {
           "width": 0
          },
          "opacity": 0.2,
          "type": "rect",
          "x0": 251,
          "x1": 252,
          "xref": "x",
          "y0": 0,
          "y1": 1,
          "yref": "y domain"
         },
         {
          "fillcolor": "Red",
          "line": {
           "width": 0
          },
          "opacity": 0.2,
          "type": "rect",
          "x0": 252,
          "x1": 253,
          "xref": "x",
          "y0": 0,
          "y1": 1,
          "yref": "y domain"
         },
         {
          "fillcolor": "Red",
          "line": {
           "width": 0
          },
          "opacity": 0.2,
          "type": "rect",
          "x0": 253,
          "x1": 254,
          "xref": "x",
          "y0": 0,
          "y1": 1,
          "yref": "y domain"
         },
         {
          "fillcolor": "Red",
          "line": {
           "width": 0
          },
          "opacity": 0.2,
          "type": "rect",
          "x0": 254,
          "x1": 255,
          "xref": "x",
          "y0": 0,
          "y1": 1,
          "yref": "y domain"
         },
         {
          "fillcolor": "Red",
          "line": {
           "width": 0
          },
          "opacity": 0.2,
          "type": "rect",
          "x0": 255,
          "x1": 256,
          "xref": "x",
          "y0": 0,
          "y1": 1,
          "yref": "y domain"
         },
         {
          "fillcolor": "Red",
          "line": {
           "width": 0
          },
          "opacity": 0.2,
          "type": "rect",
          "x0": 256,
          "x1": 257,
          "xref": "x",
          "y0": 0,
          "y1": 1,
          "yref": "y domain"
         },
         {
          "fillcolor": "Red",
          "line": {
           "width": 0
          },
          "opacity": 0.2,
          "type": "rect",
          "x0": 257,
          "x1": 258,
          "xref": "x",
          "y0": 0,
          "y1": 1,
          "yref": "y domain"
         },
         {
          "fillcolor": "Red",
          "line": {
           "width": 0
          },
          "opacity": 0.2,
          "type": "rect",
          "x0": 258,
          "x1": 259,
          "xref": "x",
          "y0": 0,
          "y1": 1,
          "yref": "y domain"
         },
         {
          "fillcolor": "Red",
          "line": {
           "width": 0
          },
          "opacity": 0.2,
          "type": "rect",
          "x0": 259,
          "x1": 260,
          "xref": "x",
          "y0": 0,
          "y1": 1,
          "yref": "y domain"
         },
         {
          "fillcolor": "Red",
          "line": {
           "width": 0
          },
          "opacity": 0.2,
          "type": "rect",
          "x0": 260,
          "x1": 261,
          "xref": "x",
          "y0": 0,
          "y1": 1,
          "yref": "y domain"
         },
         {
          "fillcolor": "Red",
          "line": {
           "width": 0
          },
          "opacity": 0.2,
          "type": "rect",
          "x0": 261,
          "x1": 262,
          "xref": "x",
          "y0": 0,
          "y1": 1,
          "yref": "y domain"
         },
         {
          "fillcolor": "Red",
          "line": {
           "width": 0
          },
          "opacity": 0.2,
          "type": "rect",
          "x0": 262,
          "x1": 265,
          "xref": "x",
          "y0": 0,
          "y1": 1,
          "yref": "y domain"
         },
         {
          "fillcolor": "Red",
          "line": {
           "width": 0
          },
          "opacity": 0.2,
          "type": "rect",
          "x0": 265,
          "x1": 266,
          "xref": "x",
          "y0": 0,
          "y1": 1,
          "yref": "y domain"
         },
         {
          "fillcolor": "Red",
          "line": {
           "width": 0
          },
          "opacity": 0.2,
          "type": "rect",
          "x0": 266,
          "x1": 267,
          "xref": "x",
          "y0": 0,
          "y1": 1,
          "yref": "y domain"
         },
         {
          "fillcolor": "Red",
          "line": {
           "width": 0
          },
          "opacity": 0.2,
          "type": "rect",
          "x0": 267,
          "x1": 268,
          "xref": "x",
          "y0": 0,
          "y1": 1,
          "yref": "y domain"
         },
         {
          "fillcolor": "Red",
          "line": {
           "width": 0
          },
          "opacity": 0.2,
          "type": "rect",
          "x0": 268,
          "x1": 270,
          "xref": "x",
          "y0": 0,
          "y1": 1,
          "yref": "y domain"
         },
         {
          "fillcolor": "Red",
          "line": {
           "width": 0
          },
          "opacity": 0.2,
          "type": "rect",
          "x0": 275,
          "x1": 293,
          "xref": "x",
          "y0": 0,
          "y1": 1,
          "yref": "y domain"
         }
        ],
        "template": {
         "data": {
          "bar": [
           {
            "error_x": {
             "color": "#2a3f5f"
            },
            "error_y": {
             "color": "#2a3f5f"
            },
            "marker": {
             "line": {
              "color": "#E5ECF6",
              "width": 0.5
             },
             "pattern": {
              "fillmode": "overlay",
              "size": 10,
              "solidity": 0.2
             }
            },
            "type": "bar"
           }
          ],
          "barpolar": [
           {
            "marker": {
             "line": {
              "color": "#E5ECF6",
              "width": 0.5
             },
             "pattern": {
              "fillmode": "overlay",
              "size": 10,
              "solidity": 0.2
             }
            },
            "type": "barpolar"
           }
          ],
          "carpet": [
           {
            "aaxis": {
             "endlinecolor": "#2a3f5f",
             "gridcolor": "white",
             "linecolor": "white",
             "minorgridcolor": "white",
             "startlinecolor": "#2a3f5f"
            },
            "baxis": {
             "endlinecolor": "#2a3f5f",
             "gridcolor": "white",
             "linecolor": "white",
             "minorgridcolor": "white",
             "startlinecolor": "#2a3f5f"
            },
            "type": "carpet"
           }
          ],
          "choropleth": [
           {
            "colorbar": {
             "outlinewidth": 0,
             "ticks": ""
            },
            "type": "choropleth"
           }
          ],
          "contour": [
           {
            "colorbar": {
             "outlinewidth": 0,
             "ticks": ""
            },
            "colorscale": [
             [
              0,
              "#0d0887"
             ],
             [
              0.1111111111111111,
              "#46039f"
             ],
             [
              0.2222222222222222,
              "#7201a8"
             ],
             [
              0.3333333333333333,
              "#9c179e"
             ],
             [
              0.4444444444444444,
              "#bd3786"
             ],
             [
              0.5555555555555556,
              "#d8576b"
             ],
             [
              0.6666666666666666,
              "#ed7953"
             ],
             [
              0.7777777777777778,
              "#fb9f3a"
             ],
             [
              0.8888888888888888,
              "#fdca26"
             ],
             [
              1,
              "#f0f921"
             ]
            ],
            "type": "contour"
           }
          ],
          "contourcarpet": [
           {
            "colorbar": {
             "outlinewidth": 0,
             "ticks": ""
            },
            "type": "contourcarpet"
           }
          ],
          "heatmap": [
           {
            "colorbar": {
             "outlinewidth": 0,
             "ticks": ""
            },
            "colorscale": [
             [
              0,
              "#0d0887"
             ],
             [
              0.1111111111111111,
              "#46039f"
             ],
             [
              0.2222222222222222,
              "#7201a8"
             ],
             [
              0.3333333333333333,
              "#9c179e"
             ],
             [
              0.4444444444444444,
              "#bd3786"
             ],
             [
              0.5555555555555556,
              "#d8576b"
             ],
             [
              0.6666666666666666,
              "#ed7953"
             ],
             [
              0.7777777777777778,
              "#fb9f3a"
             ],
             [
              0.8888888888888888,
              "#fdca26"
             ],
             [
              1,
              "#f0f921"
             ]
            ],
            "type": "heatmap"
           }
          ],
          "heatmapgl": [
           {
            "colorbar": {
             "outlinewidth": 0,
             "ticks": ""
            },
            "colorscale": [
             [
              0,
              "#0d0887"
             ],
             [
              0.1111111111111111,
              "#46039f"
             ],
             [
              0.2222222222222222,
              "#7201a8"
             ],
             [
              0.3333333333333333,
              "#9c179e"
             ],
             [
              0.4444444444444444,
              "#bd3786"
             ],
             [
              0.5555555555555556,
              "#d8576b"
             ],
             [
              0.6666666666666666,
              "#ed7953"
             ],
             [
              0.7777777777777778,
              "#fb9f3a"
             ],
             [
              0.8888888888888888,
              "#fdca26"
             ],
             [
              1,
              "#f0f921"
             ]
            ],
            "type": "heatmapgl"
           }
          ],
          "histogram": [
           {
            "marker": {
             "pattern": {
              "fillmode": "overlay",
              "size": 10,
              "solidity": 0.2
             }
            },
            "type": "histogram"
           }
          ],
          "histogram2d": [
           {
            "colorbar": {
             "outlinewidth": 0,
             "ticks": ""
            },
            "colorscale": [
             [
              0,
              "#0d0887"
             ],
             [
              0.1111111111111111,
              "#46039f"
             ],
             [
              0.2222222222222222,
              "#7201a8"
             ],
             [
              0.3333333333333333,
              "#9c179e"
             ],
             [
              0.4444444444444444,
              "#bd3786"
             ],
             [
              0.5555555555555556,
              "#d8576b"
             ],
             [
              0.6666666666666666,
              "#ed7953"
             ],
             [
              0.7777777777777778,
              "#fb9f3a"
             ],
             [
              0.8888888888888888,
              "#fdca26"
             ],
             [
              1,
              "#f0f921"
             ]
            ],
            "type": "histogram2d"
           }
          ],
          "histogram2dcontour": [
           {
            "colorbar": {
             "outlinewidth": 0,
             "ticks": ""
            },
            "colorscale": [
             [
              0,
              "#0d0887"
             ],
             [
              0.1111111111111111,
              "#46039f"
             ],
             [
              0.2222222222222222,
              "#7201a8"
             ],
             [
              0.3333333333333333,
              "#9c179e"
             ],
             [
              0.4444444444444444,
              "#bd3786"
             ],
             [
              0.5555555555555556,
              "#d8576b"
             ],
             [
              0.6666666666666666,
              "#ed7953"
             ],
             [
              0.7777777777777778,
              "#fb9f3a"
             ],
             [
              0.8888888888888888,
              "#fdca26"
             ],
             [
              1,
              "#f0f921"
             ]
            ],
            "type": "histogram2dcontour"
           }
          ],
          "mesh3d": [
           {
            "colorbar": {
             "outlinewidth": 0,
             "ticks": ""
            },
            "type": "mesh3d"
           }
          ],
          "parcoords": [
           {
            "line": {
             "colorbar": {
              "outlinewidth": 0,
              "ticks": ""
             }
            },
            "type": "parcoords"
           }
          ],
          "pie": [
           {
            "automargin": true,
            "type": "pie"
           }
          ],
          "scatter": [
           {
            "fillpattern": {
             "fillmode": "overlay",
             "size": 10,
             "solidity": 0.2
            },
            "type": "scatter"
           }
          ],
          "scatter3d": [
           {
            "line": {
             "colorbar": {
              "outlinewidth": 0,
              "ticks": ""
             }
            },
            "marker": {
             "colorbar": {
              "outlinewidth": 0,
              "ticks": ""
             }
            },
            "type": "scatter3d"
           }
          ],
          "scattercarpet": [
           {
            "marker": {
             "colorbar": {
              "outlinewidth": 0,
              "ticks": ""
             }
            },
            "type": "scattercarpet"
           }
          ],
          "scattergeo": [
           {
            "marker": {
             "colorbar": {
              "outlinewidth": 0,
              "ticks": ""
             }
            },
            "type": "scattergeo"
           }
          ],
          "scattergl": [
           {
            "marker": {
             "colorbar": {
              "outlinewidth": 0,
              "ticks": ""
             }
            },
            "type": "scattergl"
           }
          ],
          "scattermapbox": [
           {
            "marker": {
             "colorbar": {
              "outlinewidth": 0,
              "ticks": ""
             }
            },
            "type": "scattermapbox"
           }
          ],
          "scatterpolar": [
           {
            "marker": {
             "colorbar": {
              "outlinewidth": 0,
              "ticks": ""
             }
            },
            "type": "scatterpolar"
           }
          ],
          "scatterpolargl": [
           {
            "marker": {
             "colorbar": {
              "outlinewidth": 0,
              "ticks": ""
             }
            },
            "type": "scatterpolargl"
           }
          ],
          "scatterternary": [
           {
            "marker": {
             "colorbar": {
              "outlinewidth": 0,
              "ticks": ""
             }
            },
            "type": "scatterternary"
           }
          ],
          "surface": [
           {
            "colorbar": {
             "outlinewidth": 0,
             "ticks": ""
            },
            "colorscale": [
             [
              0,
              "#0d0887"
             ],
             [
              0.1111111111111111,
              "#46039f"
             ],
             [
              0.2222222222222222,
              "#7201a8"
             ],
             [
              0.3333333333333333,
              "#9c179e"
             ],
             [
              0.4444444444444444,
              "#bd3786"
             ],
             [
              0.5555555555555556,
              "#d8576b"
             ],
             [
              0.6666666666666666,
              "#ed7953"
             ],
             [
              0.7777777777777778,
              "#fb9f3a"
             ],
             [
              0.8888888888888888,
              "#fdca26"
             ],
             [
              1,
              "#f0f921"
             ]
            ],
            "type": "surface"
           }
          ],
          "table": [
           {
            "cells": {
             "fill": {
              "color": "#EBF0F8"
             },
             "line": {
              "color": "white"
             }
            },
            "header": {
             "fill": {
              "color": "#C8D4E3"
             },
             "line": {
              "color": "white"
             }
            },
            "type": "table"
           }
          ]
         },
         "layout": {
          "annotationdefaults": {
           "arrowcolor": "#2a3f5f",
           "arrowhead": 0,
           "arrowwidth": 1
          },
          "autotypenumbers": "strict",
          "coloraxis": {
           "colorbar": {
            "outlinewidth": 0,
            "ticks": ""
           }
          },
          "colorscale": {
           "diverging": [
            [
             0,
             "#8e0152"
            ],
            [
             0.1,
             "#c51b7d"
            ],
            [
             0.2,
             "#de77ae"
            ],
            [
             0.3,
             "#f1b6da"
            ],
            [
             0.4,
             "#fde0ef"
            ],
            [
             0.5,
             "#f7f7f7"
            ],
            [
             0.6,
             "#e6f5d0"
            ],
            [
             0.7,
             "#b8e186"
            ],
            [
             0.8,
             "#7fbc41"
            ],
            [
             0.9,
             "#4d9221"
            ],
            [
             1,
             "#276419"
            ]
           ],
           "sequential": [
            [
             0,
             "#0d0887"
            ],
            [
             0.1111111111111111,
             "#46039f"
            ],
            [
             0.2222222222222222,
             "#7201a8"
            ],
            [
             0.3333333333333333,
             "#9c179e"
            ],
            [
             0.4444444444444444,
             "#bd3786"
            ],
            [
             0.5555555555555556,
             "#d8576b"
            ],
            [
             0.6666666666666666,
             "#ed7953"
            ],
            [
             0.7777777777777778,
             "#fb9f3a"
            ],
            [
             0.8888888888888888,
             "#fdca26"
            ],
            [
             1,
             "#f0f921"
            ]
           ],
           "sequentialminus": [
            [
             0,
             "#0d0887"
            ],
            [
             0.1111111111111111,
             "#46039f"
            ],
            [
             0.2222222222222222,
             "#7201a8"
            ],
            [
             0.3333333333333333,
             "#9c179e"
            ],
            [
             0.4444444444444444,
             "#bd3786"
            ],
            [
             0.5555555555555556,
             "#d8576b"
            ],
            [
             0.6666666666666666,
             "#ed7953"
            ],
            [
             0.7777777777777778,
             "#fb9f3a"
            ],
            [
             0.8888888888888888,
             "#fdca26"
            ],
            [
             1,
             "#f0f921"
            ]
           ]
          },
          "colorway": [
           "#636efa",
           "#EF553B",
           "#00cc96",
           "#ab63fa",
           "#FFA15A",
           "#19d3f3",
           "#FF6692",
           "#B6E880",
           "#FF97FF",
           "#FECB52"
          ],
          "font": {
           "color": "#2a3f5f"
          },
          "geo": {
           "bgcolor": "white",
           "lakecolor": "white",
           "landcolor": "#E5ECF6",
           "showlakes": true,
           "showland": true,
           "subunitcolor": "white"
          },
          "hoverlabel": {
           "align": "left"
          },
          "hovermode": "closest",
          "mapbox": {
           "style": "light"
          },
          "paper_bgcolor": "white",
          "plot_bgcolor": "#E5ECF6",
          "polar": {
           "angularaxis": {
            "gridcolor": "white",
            "linecolor": "white",
            "ticks": ""
           },
           "bgcolor": "#E5ECF6",
           "radialaxis": {
            "gridcolor": "white",
            "linecolor": "white",
            "ticks": ""
           }
          },
          "scene": {
           "xaxis": {
            "backgroundcolor": "#E5ECF6",
            "gridcolor": "white",
            "gridwidth": 2,
            "linecolor": "white",
            "showbackground": true,
            "ticks": "",
            "zerolinecolor": "white"
           },
           "yaxis": {
            "backgroundcolor": "#E5ECF6",
            "gridcolor": "white",
            "gridwidth": 2,
            "linecolor": "white",
            "showbackground": true,
            "ticks": "",
            "zerolinecolor": "white"
           },
           "zaxis": {
            "backgroundcolor": "#E5ECF6",
            "gridcolor": "white",
            "gridwidth": 2,
            "linecolor": "white",
            "showbackground": true,
            "ticks": "",
            "zerolinecolor": "white"
           }
          },
          "shapedefaults": {
           "line": {
            "color": "#2a3f5f"
           }
          },
          "ternary": {
           "aaxis": {
            "gridcolor": "white",
            "linecolor": "white",
            "ticks": ""
           },
           "baxis": {
            "gridcolor": "white",
            "linecolor": "white",
            "ticks": ""
           },
           "bgcolor": "#E5ECF6",
           "caxis": {
            "gridcolor": "white",
            "linecolor": "white",
            "ticks": ""
           }
          },
          "title": {
           "x": 0.05
          },
          "xaxis": {
           "automargin": true,
           "gridcolor": "white",
           "linecolor": "white",
           "ticks": "",
           "title": {
            "standoff": 15
           },
           "zerolinecolor": "white",
           "zerolinewidth": 2
          },
          "yaxis": {
           "automargin": true,
           "gridcolor": "white",
           "linecolor": "white",
           "ticks": "",
           "title": {
            "standoff": 15
           },
           "zerolinecolor": "white",
           "zerolinewidth": 2
          }
         }
        },
        "title": {
         "text": "Season Over Time"
        },
        "xaxis": {
         "title": {
          "text": "Date"
         }
        },
        "yaxis": {
         "title": {
          "text": "Temperature (F)"
         }
        }
       }
      }
     },
     "metadata": {},
     "output_type": "display_data"
    }
   ],
   "source": [
    "warm_season_data = df[df['Temperature_Avg'] > 76]\n",
    "get_season_plot(df,warm_season_data)"
   ]
  },
  {
   "cell_type": "markdown",
   "metadata": {},
   "source": [
    "The warm season typically begins (April to June) and ends in late (september to October). \n",
    "This pattern aligns with general temperature trends in many regions, where temperatures decrease starting from about April to The temperature then begins to decrease again with the onset of wenter and fall."
   ]
  },
  {
   "cell_type": "markdown",
   "metadata": {},
   "source": [
    "#### Q6: When does the warm season start and end in New York?"
   ]
  },
  {
   "cell_type": "markdown",
   "metadata": {},
   "source": [
    "The cold season with an average daily high temperature below 48°F"
   ]
  },
  {
   "cell_type": "code",
   "execution_count": 263,
   "metadata": {},
   "outputs": [
    {
     "data": {
      "application/vnd.plotly.v1+json": {
       "config": {
        "plotlyServerURL": "https://plot.ly"
       },
       "data": [
        {
         "mode": "lines",
         "name": "Temperature",
         "type": "scatter",
         "x": [
          1,
          2,
          3,
          4,
          5,
          6,
          7,
          8,
          9,
          10,
          11,
          12,
          13,
          14,
          15,
          16,
          17,
          18,
          19,
          20,
          21,
          22,
          23,
          24,
          25,
          26,
          27,
          28,
          29,
          30,
          31,
          32,
          33,
          34,
          35,
          36,
          37,
          38,
          39,
          40,
          41,
          42,
          43,
          44,
          45,
          46,
          47,
          48,
          49,
          50,
          51,
          52,
          53,
          54,
          55,
          56,
          57,
          58,
          59,
          60,
          61,
          62,
          63,
          64,
          65,
          66,
          67,
          68,
          69,
          70,
          71,
          72,
          73,
          74,
          75,
          76,
          77,
          78,
          79,
          80,
          81,
          82,
          83,
          84,
          85,
          86,
          87,
          88,
          89,
          90,
          91,
          92,
          93,
          94,
          95,
          96,
          97,
          98,
          99,
          100,
          101,
          102,
          103,
          104,
          105,
          106,
          107,
          108,
          109,
          110,
          111,
          112,
          113,
          114,
          115,
          116,
          117,
          118,
          119,
          120,
          121,
          122,
          123,
          124,
          125,
          126,
          127,
          128,
          129,
          130,
          131,
          132,
          133,
          134,
          135,
          136,
          137,
          138,
          139,
          140,
          141,
          142,
          143,
          144,
          145,
          146,
          147,
          148,
          149,
          150,
          151,
          152,
          153,
          154,
          155,
          156,
          157,
          158,
          159,
          160,
          161,
          162,
          163,
          164,
          165,
          166,
          167,
          168,
          169,
          170,
          171,
          172,
          173,
          174,
          175,
          176,
          177,
          178,
          179,
          180,
          181,
          182,
          183,
          184,
          185,
          186,
          187,
          188,
          189,
          190,
          191,
          192,
          193,
          194,
          195,
          196,
          197,
          198,
          199,
          200,
          201,
          202,
          203,
          204,
          205,
          206,
          207,
          208,
          209,
          210,
          211,
          212,
          213,
          214,
          215,
          216,
          217,
          218,
          219,
          220,
          221,
          222,
          223,
          224,
          225,
          226,
          227,
          228,
          229,
          230,
          231,
          232,
          233,
          234,
          235,
          236,
          237,
          238,
          239,
          240,
          241,
          242,
          243,
          244,
          245,
          246,
          247,
          248,
          249,
          250,
          251,
          252,
          253,
          254,
          255,
          256,
          257,
          258,
          259,
          260,
          261,
          262,
          263,
          264,
          265,
          266,
          267,
          268,
          269,
          270,
          271,
          272,
          273,
          274,
          275,
          276,
          277,
          278,
          279,
          280,
          281,
          282,
          283,
          284,
          285,
          286,
          287,
          288,
          289,
          290,
          291,
          292,
          293,
          294,
          295,
          296,
          297,
          298,
          299,
          300,
          301,
          302,
          303,
          304,
          305,
          306,
          307,
          308,
          309,
          310,
          311,
          312,
          313,
          314,
          315,
          316,
          317,
          318,
          319,
          320,
          321,
          322,
          323,
          324,
          325,
          326,
          327,
          328,
          329,
          330,
          331,
          332,
          333,
          334,
          335,
          336,
          337,
          338,
          339,
          340,
          341,
          342,
          343,
          344,
          345,
          346,
          347,
          348,
          349,
          350,
          351,
          352,
          353,
          354,
          355,
          356,
          357,
          358,
          359,
          360,
          361,
          362,
          363,
          364,
          365,
          366
         ],
         "y": [
          38.78933333333334,
          37.96928571428572,
          34.025999999999996,
          35.278666666666666,
          34.78666666666666,
          34.90933333333333,
          33.472857142857144,
          31.021428571428572,
          33.34285714285714,
          33.939230769230775,
          36.09533333333333,
          39.67785714285714,
          37.14214285714286,
          33.53066666666667,
          34.08571428571428,
          34.842,
          34.11214285714286,
          35.40642857142857,
          36.73533333333333,
          36.04846153846154,
          28.98785714285714,
          31.16,
          32.92733333333333,
          33.153571428571425,
          34.95333333333333,
          33.842666666666666,
          36.37866666666666,
          34.602,
          32.758,
          31.715,
          30.939333333333334,
          35.64933333333333,
          35.94785714285714,
          34.15133333333333,
          35.42066666666667,
          34.71066666666666,
          34.45466666666666,
          35.769285714285715,
          37.15923076923077,
          33.307857142857145,
          35.37733333333333,
          36.36,
          35.733333333333334,
          33.35133333333333,
          34.65333333333333,
          35.85066666666667,
          37.97266666666667,
          37.55285714285714,
          37.400666666666666,
          38.211999999999996,
          36.61266666666667,
          38.38133333333334,
          40.120666666666665,
          40.19133333333333,
          39.559333333333335,
          40.065384615384616,
          36.05266666666667,
          38.28,
          38.93928571428571,
          39.716,
          38.40642857142858,
          35.73066666666667,
          36.234,
          37.077999999999996,
          38.111999999999995,
          40.29933333333334,
          42.99066666666667,
          46.034285714285716,
          43.51533333333334,
          48.29846153846154,
          43.977999999999994,
          39.474666666666664,
          44.26428571428572,
          44.29533333333334,
          43.28357142857143,
          43.25466666666667,
          45.132666666666665,
          44.306000000000004,
          44.928,
          45.24333333333333,
          45.74142857142857,
          42.355333333333334,
          44.43333333333333,
          45.394,
          44.42428571428571,
          43.166666666666664,
          43.67466666666667,
          45.76357142857143,
          46.21,
          46.604,
          47.823846153846155,
          47.53928571428571,
          48.861999999999995,
          49.471333333333334,
          49.75214285714286,
          48.6,
          50.343333333333334,
          51.722142857142856,
          51.93,
          51.45428571428572,
          53.17857142857143,
          53.84533333333333,
          57.104285714285716,
          57.843333333333334,
          53.93733333333333,
          53.473333333333336,
          54.055,
          54.43866666666667,
          53.58266666666667,
          53.868,
          54.816428571428574,
          54.26933333333333,
          53.553999999999995,
          55.266666666666666,
          53.754000000000005,
          56.22933333333333,
          54.43642857142857,
          55.81923076923077,
          56.72642857142857,
          54.85066666666667,
          57.17133333333333,
          60.692,
          59.35933333333333,
          58.64142857142857,
          58.882,
          59.01307692307692,
          58.2,
          58.666000000000004,
          56.987142857142864,
          60.059285714285714,
          61.46142857142858,
          61.15266666666666,
          58.966,
          60.21333333333334,
          63.842666666666666,
          65.19666666666667,
          65.39266666666667,
          62.55928571428571,
          62.632,
          64.868,
          66.53333333333333,
          64.86066666666666,
          64.50533333333334,
          64.81857142857143,
          65.41866666666667,
          69.58266666666667,
          69.8457142857143,
          65.95533333333334,
          67.04733333333334,
          70.06733333333334,
          70.86866666666667,
          69.62666666666668,
          70.46333333333334,
          67.33142857142857,
          66.94642857142857,
          68.34400000000001,
          69.27642857142857,
          69.61285714285715,
          71.628,
          70.56285714285714,
          70.62733333333334,
          70.66499999999999,
          70.97857142857143,
          71.69133333333333,
          69.36999999999999,
          69.87571428571428,
          70.88266666666667,
          72.28533333333333,
          72.28642857142857,
          72.14933333333333,
          72.54533333333333,
          74.924,
          74.4057142857143,
          74.87666666666668,
          75.17333333333333,
          75.97666666666667,
          76.05428571428571,
          74.92133333333332,
          76.72399999999999,
          78.288,
          77.88214285714285,
          77.48857142857142,
          77.95333333333333,
          77.586,
          77.74133333333333,
          78.882,
          81.19428571428571,
          80.30266666666667,
          78.62599999999999,
          77.89133333333332,
          77.80153846153846,
          77.93214285714285,
          79.04533333333333,
          78.48466666666667,
          77.88428571428572,
          78.54533333333333,
          80.35799999999999,
          80.36533333333334,
          80.81866666666666,
          81.56666666666666,
          81.53714285714285,
          80.07933333333334,
          80.22071428571428,
          79.502,
          80.00533333333333,
          77.22666666666667,
          78.00333333333333,
          80.03333333333333,
          81.02285714285713,
          79.86571428571428,
          77.93733333333333,
          77.64,
          76.90466666666666,
          77.25733333333332,
          77.57600000000001,
          78.43466666666667,
          79.17,
          78.69133333333333,
          77.72666666666667,
          77.17785714285715,
          78.72933333333334,
          79.18266666666666,
          78.86866666666667,
          78.52928571428572,
          77.85733333333334,
          77.11066666666667,
          76.65133333333333,
          77.15666666666667,
          78.42133333333332,
          77.694,
          77.412,
          78.04714285714284,
          77.79666666666667,
          76.57199999999999,
          75.22600000000001,
          75.60266666666666,
          77.124,
          77.46866666666666,
          76.80142857142857,
          75.77928571428572,
          76.07785714285714,
          77.438,
          76.70142857142856,
          75.41733333333333,
          74.62866666666667,
          75.05846153846154,
          76.89733333333334,
          76.28428571428572,
          73.55333333333333,
          73.19800000000001,
          74.29285714285713,
          71.838,
          72.36714285714285,
          72.91333333333334,
          72.09928571428571,
          71.556,
          70.99733333333333,
          71.34933333333333,
          68.82666666666667,
          68.88571428571429,
          69.52066666666666,
          69.13266666666667,
          68.65666666666667,
          68.64071428571428,
          70.05199999999999,
          68.86999999999999,
          70.23153846153846,
          68.566,
          67.742,
          68.396,
          68.99733333333333,
          67.94642857142857,
          64.792,
          63.775333333333336,
          64.66266666666667,
          62.754,
          64.17333333333333,
          62.61071428571428,
          65.00285714285714,
          66.81533333333333,
          63.76133333333333,
          63.586,
          63.38666666666666,
          63.45466666666666,
          61.06066666666666,
          59.832857142857144,
          60.11266666666666,
          60.876,
          60.223571428571425,
          57.89928571428572,
          56.568,
          57.09,
          61.03,
          60.705333333333336,
          59.86333333333334,
          57.472142857142856,
          57.644999999999996,
          59.31066666666666,
          57.04933333333334,
          57.12866666666666,
          57.54066666666667,
          54.74066666666667,
          53.92928571428571,
          55.242,
          53.144,
          53.284,
          53.405833333333334,
          52.675000000000004,
          53.92066666666667,
          53.68357142857143,
          53.587999999999994,
          49.176923076923075,
          50.32142857142857,
          53.282000000000004,
          51.892857142857146,
          52.071333333333335,
          48.519285714285715,
          46.96142857142858,
          48.10153846153847,
          49.40266666666666,
          48.87714285714286,
          47.95214285714286,
          45.90333333333333,
          46.01,
          45.39266666666666,
          47.20642857142857,
          44.864285714285714,
          45.27333333333333,
          46.422000000000004,
          47.09428571428571,
          47.782000000000004,
          44.833999999999996,
          43.20399999999999,
          46.32071428571429,
          47.207142857142856,
          45.656666666666666,
          46.26428571428572,
          44.495333333333335,
          44.577999999999996,
          45.22785714285714,
          41.13066666666667,
          39.065714285714286,
          40.474000000000004,
          40.93642857142857,
          39.840714285714284,
          42.158461538461545,
          40.91733333333333,
          41.15642857142857,
          42.716,
          39.961999999999996,
          39.09733333333334,
          36.788000000000004,
          37.34866666666667,
          36.376,
          39.733333333333334,
          43.519999999999996,
          42.008,
          38.99,
          39.68866666666667,
          39.702666666666666,
          39.949285714285715,
          41.19733333333333,
          38.73357142857143,
          38.032000000000004,
          38.06428571428571,
          42.47
         ]
        }
       ],
       "layout": {
        "shapes": [
         {
          "fillcolor": "Red",
          "line": {
           "width": 0
          },
          "opacity": 0.2,
          "type": "rect",
          "x0": 1,
          "x1": 2,
          "xref": "x",
          "y0": 0,
          "y1": 1,
          "yref": "y domain"
         },
         {
          "fillcolor": "Red",
          "line": {
           "width": 0
          },
          "opacity": 0.2,
          "type": "rect",
          "x0": 2,
          "x1": 3,
          "xref": "x",
          "y0": 0,
          "y1": 1,
          "yref": "y domain"
         },
         {
          "fillcolor": "Red",
          "line": {
           "width": 0
          },
          "opacity": 0.2,
          "type": "rect",
          "x0": 3,
          "x1": 4,
          "xref": "x",
          "y0": 0,
          "y1": 1,
          "yref": "y domain"
         },
         {
          "fillcolor": "Red",
          "line": {
           "width": 0
          },
          "opacity": 0.2,
          "type": "rect",
          "x0": 4,
          "x1": 5,
          "xref": "x",
          "y0": 0,
          "y1": 1,
          "yref": "y domain"
         },
         {
          "fillcolor": "Red",
          "line": {
           "width": 0
          },
          "opacity": 0.2,
          "type": "rect",
          "x0": 5,
          "x1": 6,
          "xref": "x",
          "y0": 0,
          "y1": 1,
          "yref": "y domain"
         },
         {
          "fillcolor": "Red",
          "line": {
           "width": 0
          },
          "opacity": 0.2,
          "type": "rect",
          "x0": 6,
          "x1": 7,
          "xref": "x",
          "y0": 0,
          "y1": 1,
          "yref": "y domain"
         },
         {
          "fillcolor": "Red",
          "line": {
           "width": 0
          },
          "opacity": 0.2,
          "type": "rect",
          "x0": 7,
          "x1": 8,
          "xref": "x",
          "y0": 0,
          "y1": 1,
          "yref": "y domain"
         },
         {
          "fillcolor": "Red",
          "line": {
           "width": 0
          },
          "opacity": 0.2,
          "type": "rect",
          "x0": 8,
          "x1": 9,
          "xref": "x",
          "y0": 0,
          "y1": 1,
          "yref": "y domain"
         },
         {
          "fillcolor": "Red",
          "line": {
           "width": 0
          },
          "opacity": 0.2,
          "type": "rect",
          "x0": 9,
          "x1": 10,
          "xref": "x",
          "y0": 0,
          "y1": 1,
          "yref": "y domain"
         },
         {
          "fillcolor": "Red",
          "line": {
           "width": 0
          },
          "opacity": 0.2,
          "type": "rect",
          "x0": 10,
          "x1": 11,
          "xref": "x",
          "y0": 0,
          "y1": 1,
          "yref": "y domain"
         },
         {
          "fillcolor": "Red",
          "line": {
           "width": 0
          },
          "opacity": 0.2,
          "type": "rect",
          "x0": 11,
          "x1": 12,
          "xref": "x",
          "y0": 0,
          "y1": 1,
          "yref": "y domain"
         },
         {
          "fillcolor": "Red",
          "line": {
           "width": 0
          },
          "opacity": 0.2,
          "type": "rect",
          "x0": 12,
          "x1": 13,
          "xref": "x",
          "y0": 0,
          "y1": 1,
          "yref": "y domain"
         },
         {
          "fillcolor": "Red",
          "line": {
           "width": 0
          },
          "opacity": 0.2,
          "type": "rect",
          "x0": 13,
          "x1": 14,
          "xref": "x",
          "y0": 0,
          "y1": 1,
          "yref": "y domain"
         },
         {
          "fillcolor": "Red",
          "line": {
           "width": 0
          },
          "opacity": 0.2,
          "type": "rect",
          "x0": 14,
          "x1": 15,
          "xref": "x",
          "y0": 0,
          "y1": 1,
          "yref": "y domain"
         },
         {
          "fillcolor": "Red",
          "line": {
           "width": 0
          },
          "opacity": 0.2,
          "type": "rect",
          "x0": 15,
          "x1": 16,
          "xref": "x",
          "y0": 0,
          "y1": 1,
          "yref": "y domain"
         },
         {
          "fillcolor": "Red",
          "line": {
           "width": 0
          },
          "opacity": 0.2,
          "type": "rect",
          "x0": 16,
          "x1": 17,
          "xref": "x",
          "y0": 0,
          "y1": 1,
          "yref": "y domain"
         },
         {
          "fillcolor": "Red",
          "line": {
           "width": 0
          },
          "opacity": 0.2,
          "type": "rect",
          "x0": 17,
          "x1": 18,
          "xref": "x",
          "y0": 0,
          "y1": 1,
          "yref": "y domain"
         },
         {
          "fillcolor": "Red",
          "line": {
           "width": 0
          },
          "opacity": 0.2,
          "type": "rect",
          "x0": 18,
          "x1": 19,
          "xref": "x",
          "y0": 0,
          "y1": 1,
          "yref": "y domain"
         },
         {
          "fillcolor": "Red",
          "line": {
           "width": 0
          },
          "opacity": 0.2,
          "type": "rect",
          "x0": 19,
          "x1": 20,
          "xref": "x",
          "y0": 0,
          "y1": 1,
          "yref": "y domain"
         },
         {
          "fillcolor": "Red",
          "line": {
           "width": 0
          },
          "opacity": 0.2,
          "type": "rect",
          "x0": 20,
          "x1": 21,
          "xref": "x",
          "y0": 0,
          "y1": 1,
          "yref": "y domain"
         },
         {
          "fillcolor": "Red",
          "line": {
           "width": 0
          },
          "opacity": 0.2,
          "type": "rect",
          "x0": 21,
          "x1": 22,
          "xref": "x",
          "y0": 0,
          "y1": 1,
          "yref": "y domain"
         },
         {
          "fillcolor": "Red",
          "line": {
           "width": 0
          },
          "opacity": 0.2,
          "type": "rect",
          "x0": 22,
          "x1": 23,
          "xref": "x",
          "y0": 0,
          "y1": 1,
          "yref": "y domain"
         },
         {
          "fillcolor": "Red",
          "line": {
           "width": 0
          },
          "opacity": 0.2,
          "type": "rect",
          "x0": 23,
          "x1": 24,
          "xref": "x",
          "y0": 0,
          "y1": 1,
          "yref": "y domain"
         },
         {
          "fillcolor": "Red",
          "line": {
           "width": 0
          },
          "opacity": 0.2,
          "type": "rect",
          "x0": 24,
          "x1": 25,
          "xref": "x",
          "y0": 0,
          "y1": 1,
          "yref": "y domain"
         },
         {
          "fillcolor": "Red",
          "line": {
           "width": 0
          },
          "opacity": 0.2,
          "type": "rect",
          "x0": 25,
          "x1": 26,
          "xref": "x",
          "y0": 0,
          "y1": 1,
          "yref": "y domain"
         },
         {
          "fillcolor": "Red",
          "line": {
           "width": 0
          },
          "opacity": 0.2,
          "type": "rect",
          "x0": 26,
          "x1": 27,
          "xref": "x",
          "y0": 0,
          "y1": 1,
          "yref": "y domain"
         },
         {
          "fillcolor": "Red",
          "line": {
           "width": 0
          },
          "opacity": 0.2,
          "type": "rect",
          "x0": 27,
          "x1": 28,
          "xref": "x",
          "y0": 0,
          "y1": 1,
          "yref": "y domain"
         },
         {
          "fillcolor": "Red",
          "line": {
           "width": 0
          },
          "opacity": 0.2,
          "type": "rect",
          "x0": 28,
          "x1": 29,
          "xref": "x",
          "y0": 0,
          "y1": 1,
          "yref": "y domain"
         },
         {
          "fillcolor": "Red",
          "line": {
           "width": 0
          },
          "opacity": 0.2,
          "type": "rect",
          "x0": 29,
          "x1": 30,
          "xref": "x",
          "y0": 0,
          "y1": 1,
          "yref": "y domain"
         },
         {
          "fillcolor": "Red",
          "line": {
           "width": 0
          },
          "opacity": 0.2,
          "type": "rect",
          "x0": 30,
          "x1": 31,
          "xref": "x",
          "y0": 0,
          "y1": 1,
          "yref": "y domain"
         },
         {
          "fillcolor": "Red",
          "line": {
           "width": 0
          },
          "opacity": 0.2,
          "type": "rect",
          "x0": 32,
          "x1": 33,
          "xref": "x",
          "y0": 0,
          "y1": 1,
          "yref": "y domain"
         },
         {
          "fillcolor": "Red",
          "line": {
           "width": 0
          },
          "opacity": 0.2,
          "type": "rect",
          "x0": 33,
          "x1": 34,
          "xref": "x",
          "y0": 0,
          "y1": 1,
          "yref": "y domain"
         },
         {
          "fillcolor": "Red",
          "line": {
           "width": 0
          },
          "opacity": 0.2,
          "type": "rect",
          "x0": 34,
          "x1": 35,
          "xref": "x",
          "y0": 0,
          "y1": 1,
          "yref": "y domain"
         },
         {
          "fillcolor": "Red",
          "line": {
           "width": 0
          },
          "opacity": 0.2,
          "type": "rect",
          "x0": 35,
          "x1": 36,
          "xref": "x",
          "y0": 0,
          "y1": 1,
          "yref": "y domain"
         },
         {
          "fillcolor": "Red",
          "line": {
           "width": 0
          },
          "opacity": 0.2,
          "type": "rect",
          "x0": 36,
          "x1": 37,
          "xref": "x",
          "y0": 0,
          "y1": 1,
          "yref": "y domain"
         },
         {
          "fillcolor": "Red",
          "line": {
           "width": 0
          },
          "opacity": 0.2,
          "type": "rect",
          "x0": 37,
          "x1": 38,
          "xref": "x",
          "y0": 0,
          "y1": 1,
          "yref": "y domain"
         },
         {
          "fillcolor": "Red",
          "line": {
           "width": 0
          },
          "opacity": 0.2,
          "type": "rect",
          "x0": 38,
          "x1": 39,
          "xref": "x",
          "y0": 0,
          "y1": 1,
          "yref": "y domain"
         },
         {
          "fillcolor": "Red",
          "line": {
           "width": 0
          },
          "opacity": 0.2,
          "type": "rect",
          "x0": 39,
          "x1": 40,
          "xref": "x",
          "y0": 0,
          "y1": 1,
          "yref": "y domain"
         },
         {
          "fillcolor": "Red",
          "line": {
           "width": 0
          },
          "opacity": 0.2,
          "type": "rect",
          "x0": 40,
          "x1": 41,
          "xref": "x",
          "y0": 0,
          "y1": 1,
          "yref": "y domain"
         },
         {
          "fillcolor": "Red",
          "line": {
           "width": 0
          },
          "opacity": 0.2,
          "type": "rect",
          "x0": 41,
          "x1": 42,
          "xref": "x",
          "y0": 0,
          "y1": 1,
          "yref": "y domain"
         },
         {
          "fillcolor": "Red",
          "line": {
           "width": 0
          },
          "opacity": 0.2,
          "type": "rect",
          "x0": 42,
          "x1": 43,
          "xref": "x",
          "y0": 0,
          "y1": 1,
          "yref": "y domain"
         },
         {
          "fillcolor": "Red",
          "line": {
           "width": 0
          },
          "opacity": 0.2,
          "type": "rect",
          "x0": 43,
          "x1": 44,
          "xref": "x",
          "y0": 0,
          "y1": 1,
          "yref": "y domain"
         },
         {
          "fillcolor": "Red",
          "line": {
           "width": 0
          },
          "opacity": 0.2,
          "type": "rect",
          "x0": 44,
          "x1": 45,
          "xref": "x",
          "y0": 0,
          "y1": 1,
          "yref": "y domain"
         },
         {
          "fillcolor": "Red",
          "line": {
           "width": 0
          },
          "opacity": 0.2,
          "type": "rect",
          "x0": 45,
          "x1": 46,
          "xref": "x",
          "y0": 0,
          "y1": 1,
          "yref": "y domain"
         },
         {
          "fillcolor": "Red",
          "line": {
           "width": 0
          },
          "opacity": 0.2,
          "type": "rect",
          "x0": 46,
          "x1": 47,
          "xref": "x",
          "y0": 0,
          "y1": 1,
          "yref": "y domain"
         },
         {
          "fillcolor": "Red",
          "line": {
           "width": 0
          },
          "opacity": 0.2,
          "type": "rect",
          "x0": 47,
          "x1": 48,
          "xref": "x",
          "y0": 0,
          "y1": 1,
          "yref": "y domain"
         },
         {
          "fillcolor": "Red",
          "line": {
           "width": 0
          },
          "opacity": 0.2,
          "type": "rect",
          "x0": 48,
          "x1": 49,
          "xref": "x",
          "y0": 0,
          "y1": 1,
          "yref": "y domain"
         },
         {
          "fillcolor": "Red",
          "line": {
           "width": 0
          },
          "opacity": 0.2,
          "type": "rect",
          "x0": 49,
          "x1": 50,
          "xref": "x",
          "y0": 0,
          "y1": 1,
          "yref": "y domain"
         },
         {
          "fillcolor": "Red",
          "line": {
           "width": 0
          },
          "opacity": 0.2,
          "type": "rect",
          "x0": 50,
          "x1": 51,
          "xref": "x",
          "y0": 0,
          "y1": 1,
          "yref": "y domain"
         },
         {
          "fillcolor": "Red",
          "line": {
           "width": 0
          },
          "opacity": 0.2,
          "type": "rect",
          "x0": 51,
          "x1": 52,
          "xref": "x",
          "y0": 0,
          "y1": 1,
          "yref": "y domain"
         },
         {
          "fillcolor": "Red",
          "line": {
           "width": 0
          },
          "opacity": 0.2,
          "type": "rect",
          "x0": 52,
          "x1": 53,
          "xref": "x",
          "y0": 0,
          "y1": 1,
          "yref": "y domain"
         },
         {
          "fillcolor": "Red",
          "line": {
           "width": 0
          },
          "opacity": 0.2,
          "type": "rect",
          "x0": 53,
          "x1": 54,
          "xref": "x",
          "y0": 0,
          "y1": 1,
          "yref": "y domain"
         },
         {
          "fillcolor": "Red",
          "line": {
           "width": 0
          },
          "opacity": 0.2,
          "type": "rect",
          "x0": 54,
          "x1": 55,
          "xref": "x",
          "y0": 0,
          "y1": 1,
          "yref": "y domain"
         },
         {
          "fillcolor": "Red",
          "line": {
           "width": 0
          },
          "opacity": 0.2,
          "type": "rect",
          "x0": 55,
          "x1": 56,
          "xref": "x",
          "y0": 0,
          "y1": 1,
          "yref": "y domain"
         },
         {
          "fillcolor": "Red",
          "line": {
           "width": 0
          },
          "opacity": 0.2,
          "type": "rect",
          "x0": 56,
          "x1": 57,
          "xref": "x",
          "y0": 0,
          "y1": 1,
          "yref": "y domain"
         },
         {
          "fillcolor": "Red",
          "line": {
           "width": 0
          },
          "opacity": 0.2,
          "type": "rect",
          "x0": 57,
          "x1": 58,
          "xref": "x",
          "y0": 0,
          "y1": 1,
          "yref": "y domain"
         },
         {
          "fillcolor": "Red",
          "line": {
           "width": 0
          },
          "opacity": 0.2,
          "type": "rect",
          "x0": 58,
          "x1": 59,
          "xref": "x",
          "y0": 0,
          "y1": 1,
          "yref": "y domain"
         },
         {
          "fillcolor": "Red",
          "line": {
           "width": 0
          },
          "opacity": 0.2,
          "type": "rect",
          "x0": 60,
          "x1": 61,
          "xref": "x",
          "y0": 0,
          "y1": 1,
          "yref": "y domain"
         },
         {
          "fillcolor": "Red",
          "line": {
           "width": 0
          },
          "opacity": 0.2,
          "type": "rect",
          "x0": 61,
          "x1": 62,
          "xref": "x",
          "y0": 0,
          "y1": 1,
          "yref": "y domain"
         },
         {
          "fillcolor": "Red",
          "line": {
           "width": 0
          },
          "opacity": 0.2,
          "type": "rect",
          "x0": 62,
          "x1": 63,
          "xref": "x",
          "y0": 0,
          "y1": 1,
          "yref": "y domain"
         },
         {
          "fillcolor": "Red",
          "line": {
           "width": 0
          },
          "opacity": 0.2,
          "type": "rect",
          "x0": 63,
          "x1": 64,
          "xref": "x",
          "y0": 0,
          "y1": 1,
          "yref": "y domain"
         },
         {
          "fillcolor": "Red",
          "line": {
           "width": 0
          },
          "opacity": 0.2,
          "type": "rect",
          "x0": 64,
          "x1": 65,
          "xref": "x",
          "y0": 0,
          "y1": 1,
          "yref": "y domain"
         },
         {
          "fillcolor": "Red",
          "line": {
           "width": 0
          },
          "opacity": 0.2,
          "type": "rect",
          "x0": 65,
          "x1": 66,
          "xref": "x",
          "y0": 0,
          "y1": 1,
          "yref": "y domain"
         },
         {
          "fillcolor": "Red",
          "line": {
           "width": 0
          },
          "opacity": 0.2,
          "type": "rect",
          "x0": 66,
          "x1": 67,
          "xref": "x",
          "y0": 0,
          "y1": 1,
          "yref": "y domain"
         },
         {
          "fillcolor": "Red",
          "line": {
           "width": 0
          },
          "opacity": 0.2,
          "type": "rect",
          "x0": 67,
          "x1": 68,
          "xref": "x",
          "y0": 0,
          "y1": 1,
          "yref": "y domain"
         },
         {
          "fillcolor": "Red",
          "line": {
           "width": 0
          },
          "opacity": 0.2,
          "type": "rect",
          "x0": 68,
          "x1": 69,
          "xref": "x",
          "y0": 0,
          "y1": 1,
          "yref": "y domain"
         },
         {
          "fillcolor": "Red",
          "line": {
           "width": 0
          },
          "opacity": 0.2,
          "type": "rect",
          "x0": 69,
          "x1": 70,
          "xref": "x",
          "y0": 0,
          "y1": 1,
          "yref": "y domain"
         },
         {
          "fillcolor": "Red",
          "line": {
           "width": 0
          },
          "opacity": 0.2,
          "type": "rect",
          "x0": 70,
          "x1": 71,
          "xref": "x",
          "y0": 0,
          "y1": 1,
          "yref": "y domain"
         },
         {
          "fillcolor": "Red",
          "line": {
           "width": 0
          },
          "opacity": 0.2,
          "type": "rect",
          "x0": 71,
          "x1": 72,
          "xref": "x",
          "y0": 0,
          "y1": 1,
          "yref": "y domain"
         },
         {
          "fillcolor": "Red",
          "line": {
           "width": 0
          },
          "opacity": 0.2,
          "type": "rect",
          "x0": 72,
          "x1": 73,
          "xref": "x",
          "y0": 0,
          "y1": 1,
          "yref": "y domain"
         },
         {
          "fillcolor": "Red",
          "line": {
           "width": 0
          },
          "opacity": 0.2,
          "type": "rect",
          "x0": 73,
          "x1": 74,
          "xref": "x",
          "y0": 0,
          "y1": 1,
          "yref": "y domain"
         },
         {
          "fillcolor": "Red",
          "line": {
           "width": 0
          },
          "opacity": 0.2,
          "type": "rect",
          "x0": 74,
          "x1": 75,
          "xref": "x",
          "y0": 0,
          "y1": 1,
          "yref": "y domain"
         },
         {
          "fillcolor": "Red",
          "line": {
           "width": 0
          },
          "opacity": 0.2,
          "type": "rect",
          "x0": 75,
          "x1": 76,
          "xref": "x",
          "y0": 0,
          "y1": 1,
          "yref": "y domain"
         },
         {
          "fillcolor": "Red",
          "line": {
           "width": 0
          },
          "opacity": 0.2,
          "type": "rect",
          "x0": 76,
          "x1": 77,
          "xref": "x",
          "y0": 0,
          "y1": 1,
          "yref": "y domain"
         },
         {
          "fillcolor": "Red",
          "line": {
           "width": 0
          },
          "opacity": 0.2,
          "type": "rect",
          "x0": 77,
          "x1": 78,
          "xref": "x",
          "y0": 0,
          "y1": 1,
          "yref": "y domain"
         },
         {
          "fillcolor": "Red",
          "line": {
           "width": 0
          },
          "opacity": 0.2,
          "type": "rect",
          "x0": 78,
          "x1": 79,
          "xref": "x",
          "y0": 0,
          "y1": 1,
          "yref": "y domain"
         },
         {
          "fillcolor": "Red",
          "line": {
           "width": 0
          },
          "opacity": 0.2,
          "type": "rect",
          "x0": 79,
          "x1": 80,
          "xref": "x",
          "y0": 0,
          "y1": 1,
          "yref": "y domain"
         },
         {
          "fillcolor": "Red",
          "line": {
           "width": 0
          },
          "opacity": 0.2,
          "type": "rect",
          "x0": 80,
          "x1": 81,
          "xref": "x",
          "y0": 0,
          "y1": 1,
          "yref": "y domain"
         },
         {
          "fillcolor": "Red",
          "line": {
           "width": 0
          },
          "opacity": 0.2,
          "type": "rect",
          "x0": 81,
          "x1": 82,
          "xref": "x",
          "y0": 0,
          "y1": 1,
          "yref": "y domain"
         },
         {
          "fillcolor": "Red",
          "line": {
           "width": 0
          },
          "opacity": 0.2,
          "type": "rect",
          "x0": 82,
          "x1": 83,
          "xref": "x",
          "y0": 0,
          "y1": 1,
          "yref": "y domain"
         },
         {
          "fillcolor": "Red",
          "line": {
           "width": 0
          },
          "opacity": 0.2,
          "type": "rect",
          "x0": 83,
          "x1": 84,
          "xref": "x",
          "y0": 0,
          "y1": 1,
          "yref": "y domain"
         },
         {
          "fillcolor": "Red",
          "line": {
           "width": 0
          },
          "opacity": 0.2,
          "type": "rect",
          "x0": 84,
          "x1": 85,
          "xref": "x",
          "y0": 0,
          "y1": 1,
          "yref": "y domain"
         },
         {
          "fillcolor": "Red",
          "line": {
           "width": 0
          },
          "opacity": 0.2,
          "type": "rect",
          "x0": 85,
          "x1": 86,
          "xref": "x",
          "y0": 0,
          "y1": 1,
          "yref": "y domain"
         },
         {
          "fillcolor": "Red",
          "line": {
           "width": 0
          },
          "opacity": 0.2,
          "type": "rect",
          "x0": 86,
          "x1": 87,
          "xref": "x",
          "y0": 0,
          "y1": 1,
          "yref": "y domain"
         },
         {
          "fillcolor": "Red",
          "line": {
           "width": 0
          },
          "opacity": 0.2,
          "type": "rect",
          "x0": 87,
          "x1": 88,
          "xref": "x",
          "y0": 0,
          "y1": 1,
          "yref": "y domain"
         },
         {
          "fillcolor": "Red",
          "line": {
           "width": 0
          },
          "opacity": 0.2,
          "type": "rect",
          "x0": 88,
          "x1": 89,
          "xref": "x",
          "y0": 0,
          "y1": 1,
          "yref": "y domain"
         },
         {
          "fillcolor": "Red",
          "line": {
           "width": 0
          },
          "opacity": 0.2,
          "type": "rect",
          "x0": 89,
          "x1": 90,
          "xref": "x",
          "y0": 0,
          "y1": 1,
          "yref": "y domain"
         },
         {
          "fillcolor": "Red",
          "line": {
           "width": 0
          },
          "opacity": 0.2,
          "type": "rect",
          "x0": 91,
          "x1": 92,
          "xref": "x",
          "y0": 0,
          "y1": 1,
          "yref": "y domain"
         },
         {
          "fillcolor": "Red",
          "line": {
           "width": 0
          },
          "opacity": 0.2,
          "type": "rect",
          "x0": 92,
          "x1": 93,
          "xref": "x",
          "y0": 0,
          "y1": 1,
          "yref": "y domain"
         },
         {
          "fillcolor": "Red",
          "line": {
           "width": 0
          },
          "opacity": 0.2,
          "type": "rect",
          "x0": 93,
          "x1": 94,
          "xref": "x",
          "y0": 0,
          "y1": 1,
          "yref": "y domain"
         },
         {
          "fillcolor": "Red",
          "line": {
           "width": 0
          },
          "opacity": 0.2,
          "type": "rect",
          "x0": 94,
          "x1": 95,
          "xref": "x",
          "y0": 0,
          "y1": 1,
          "yref": "y domain"
         },
         {
          "fillcolor": "Red",
          "line": {
           "width": 0
          },
          "opacity": 0.2,
          "type": "rect",
          "x0": 95,
          "x1": 96,
          "xref": "x",
          "y0": 0,
          "y1": 1,
          "yref": "y domain"
         },
         {
          "fillcolor": "Red",
          "line": {
           "width": 0
          },
          "opacity": 0.2,
          "type": "rect",
          "x0": 96,
          "x1": 97,
          "xref": "x",
          "y0": 0,
          "y1": 1,
          "yref": "y domain"
         },
         {
          "fillcolor": "Red",
          "line": {
           "width": 0
          },
          "opacity": 0.2,
          "type": "rect",
          "x0": 97,
          "x1": 98,
          "xref": "x",
          "y0": 0,
          "y1": 1,
          "yref": "y domain"
         },
         {
          "fillcolor": "Red",
          "line": {
           "width": 0
          },
          "opacity": 0.2,
          "type": "rect",
          "x0": 98,
          "x1": 99,
          "xref": "x",
          "y0": 0,
          "y1": 1,
          "yref": "y domain"
         },
         {
          "fillcolor": "Red",
          "line": {
           "width": 0
          },
          "opacity": 0.2,
          "type": "rect",
          "x0": 99,
          "x1": 100,
          "xref": "x",
          "y0": 0,
          "y1": 1,
          "yref": "y domain"
         },
         {
          "fillcolor": "Red",
          "line": {
           "width": 0
          },
          "opacity": 0.2,
          "type": "rect",
          "x0": 100,
          "x1": 101,
          "xref": "x",
          "y0": 0,
          "y1": 1,
          "yref": "y domain"
         },
         {
          "fillcolor": "Red",
          "line": {
           "width": 0
          },
          "opacity": 0.2,
          "type": "rect",
          "x0": 101,
          "x1": 102,
          "xref": "x",
          "y0": 0,
          "y1": 1,
          "yref": "y domain"
         },
         {
          "fillcolor": "Red",
          "line": {
           "width": 0
          },
          "opacity": 0.2,
          "type": "rect",
          "x0": 102,
          "x1": 103,
          "xref": "x",
          "y0": 0,
          "y1": 1,
          "yref": "y domain"
         },
         {
          "fillcolor": "Red",
          "line": {
           "width": 0
          },
          "opacity": 0.2,
          "type": "rect",
          "x0": 103,
          "x1": 104,
          "xref": "x",
          "y0": 0,
          "y1": 1,
          "yref": "y domain"
         },
         {
          "fillcolor": "Red",
          "line": {
           "width": 0
          },
          "opacity": 0.2,
          "type": "rect",
          "x0": 104,
          "x1": 105,
          "xref": "x",
          "y0": 0,
          "y1": 1,
          "yref": "y domain"
         },
         {
          "fillcolor": "Red",
          "line": {
           "width": 0
          },
          "opacity": 0.2,
          "type": "rect",
          "x0": 105,
          "x1": 106,
          "xref": "x",
          "y0": 0,
          "y1": 1,
          "yref": "y domain"
         },
         {
          "fillcolor": "Red",
          "line": {
           "width": 0
          },
          "opacity": 0.2,
          "type": "rect",
          "x0": 106,
          "x1": 107,
          "xref": "x",
          "y0": 0,
          "y1": 1,
          "yref": "y domain"
         },
         {
          "fillcolor": "Red",
          "line": {
           "width": 0
          },
          "opacity": 0.2,
          "type": "rect",
          "x0": 107,
          "x1": 108,
          "xref": "x",
          "y0": 0,
          "y1": 1,
          "yref": "y domain"
         },
         {
          "fillcolor": "Red",
          "line": {
           "width": 0
          },
          "opacity": 0.2,
          "type": "rect",
          "x0": 108,
          "x1": 109,
          "xref": "x",
          "y0": 0,
          "y1": 1,
          "yref": "y domain"
         },
         {
          "fillcolor": "Red",
          "line": {
           "width": 0
          },
          "opacity": 0.2,
          "type": "rect",
          "x0": 109,
          "x1": 110,
          "xref": "x",
          "y0": 0,
          "y1": 1,
          "yref": "y domain"
         },
         {
          "fillcolor": "Red",
          "line": {
           "width": 0
          },
          "opacity": 0.2,
          "type": "rect",
          "x0": 110,
          "x1": 112,
          "xref": "x",
          "y0": 0,
          "y1": 1,
          "yref": "y domain"
         },
         {
          "fillcolor": "Red",
          "line": {
           "width": 0
          },
          "opacity": 0.2,
          "type": "rect",
          "x0": 112,
          "x1": 113,
          "xref": "x",
          "y0": 0,
          "y1": 1,
          "yref": "y domain"
         },
         {
          "fillcolor": "Red",
          "line": {
           "width": 0
          },
          "opacity": 0.2,
          "type": "rect",
          "x0": 113,
          "x1": 114,
          "xref": "x",
          "y0": 0,
          "y1": 1,
          "yref": "y domain"
         },
         {
          "fillcolor": "Red",
          "line": {
           "width": 0
          },
          "opacity": 0.2,
          "type": "rect",
          "x0": 114,
          "x1": 115,
          "xref": "x",
          "y0": 0,
          "y1": 1,
          "yref": "y domain"
         },
         {
          "fillcolor": "Red",
          "line": {
           "width": 0
          },
          "opacity": 0.2,
          "type": "rect",
          "x0": 115,
          "x1": 117,
          "xref": "x",
          "y0": 0,
          "y1": 1,
          "yref": "y domain"
         },
         {
          "fillcolor": "Red",
          "line": {
           "width": 0
          },
          "opacity": 0.2,
          "type": "rect",
          "x0": 117,
          "x1": 118,
          "xref": "x",
          "y0": 0,
          "y1": 1,
          "yref": "y domain"
         },
         {
          "fillcolor": "Red",
          "line": {
           "width": 0
          },
          "opacity": 0.2,
          "type": "rect",
          "x0": 118,
          "x1": 119,
          "xref": "x",
          "y0": 0,
          "y1": 1,
          "yref": "y domain"
         },
         {
          "fillcolor": "Red",
          "line": {
           "width": 0
          },
          "opacity": 0.2,
          "type": "rect",
          "x0": 119,
          "x1": 120,
          "xref": "x",
          "y0": 0,
          "y1": 1,
          "yref": "y domain"
         },
         {
          "fillcolor": "Red",
          "line": {
           "width": 0
          },
          "opacity": 0.2,
          "type": "rect",
          "x0": 130,
          "x1": 132,
          "xref": "x",
          "y0": 0,
          "y1": 1,
          "yref": "y domain"
         },
         {
          "fillcolor": "Red",
          "line": {
           "width": 0
          },
          "opacity": 0.2,
          "type": "rect",
          "x0": 132,
          "x1": 133,
          "xref": "x",
          "y0": 0,
          "y1": 1,
          "yref": "y domain"
         },
         {
          "fillcolor": "Red",
          "line": {
           "width": 0
          },
          "opacity": 0.2,
          "type": "rect",
          "x0": 133,
          "x1": 134,
          "xref": "x",
          "y0": 0,
          "y1": 1,
          "yref": "y domain"
         },
         {
          "fillcolor": "Red",
          "line": {
           "width": 0
          },
          "opacity": 0.2,
          "type": "rect",
          "x0": 288,
          "x1": 289,
          "xref": "x",
          "y0": 0,
          "y1": 1,
          "yref": "y domain"
         },
         {
          "fillcolor": "Red",
          "line": {
           "width": 0
          },
          "opacity": 0.2,
          "type": "rect",
          "x0": 289,
          "x1": 290,
          "xref": "x",
          "y0": 0,
          "y1": 1,
          "yref": "y domain"
         },
         {
          "fillcolor": "Red",
          "line": {
           "width": 0
          },
          "opacity": 0.2,
          "type": "rect",
          "x0": 290,
          "x1": 291,
          "xref": "x",
          "y0": 0,
          "y1": 1,
          "yref": "y domain"
         },
         {
          "fillcolor": "Red",
          "line": {
           "width": 0
          },
          "opacity": 0.2,
          "type": "rect",
          "x0": 291,
          "x1": 292,
          "xref": "x",
          "y0": 0,
          "y1": 1,
          "yref": "y domain"
         },
         {
          "fillcolor": "Red",
          "line": {
           "width": 0
          },
          "opacity": 0.2,
          "type": "rect",
          "x0": 292,
          "x1": 298,
          "xref": "x",
          "y0": 0,
          "y1": 1,
          "yref": "y domain"
         },
         {
          "fillcolor": "Red",
          "line": {
           "width": 0
          },
          "opacity": 0.2,
          "type": "rect",
          "x0": 298,
          "x1": 299,
          "xref": "x",
          "y0": 0,
          "y1": 1,
          "yref": "y domain"
         },
         {
          "fillcolor": "Red",
          "line": {
           "width": 0
          },
          "opacity": 0.2,
          "type": "rect",
          "x0": 299,
          "x1": 300,
          "xref": "x",
          "y0": 0,
          "y1": 1,
          "yref": "y domain"
         },
         {
          "fillcolor": "Red",
          "line": {
           "width": 0
          },
          "opacity": 0.2,
          "type": "rect",
          "x0": 300,
          "x1": 301,
          "xref": "x",
          "y0": 0,
          "y1": 1,
          "yref": "y domain"
         },
         {
          "fillcolor": "Red",
          "line": {
           "width": 0
          },
          "opacity": 0.2,
          "type": "rect",
          "x0": 301,
          "x1": 302,
          "xref": "x",
          "y0": 0,
          "y1": 1,
          "yref": "y domain"
         },
         {
          "fillcolor": "Red",
          "line": {
           "width": 0
          },
          "opacity": 0.2,
          "type": "rect",
          "x0": 302,
          "x1": 303,
          "xref": "x",
          "y0": 0,
          "y1": 1,
          "yref": "y domain"
         },
         {
          "fillcolor": "Red",
          "line": {
           "width": 0
          },
          "opacity": 0.2,
          "type": "rect",
          "x0": 303,
          "x1": 304,
          "xref": "x",
          "y0": 0,
          "y1": 1,
          "yref": "y domain"
         },
         {
          "fillcolor": "Red",
          "line": {
           "width": 0
          },
          "opacity": 0.2,
          "type": "rect",
          "x0": 305,
          "x1": 306,
          "xref": "x",
          "y0": 0,
          "y1": 1,
          "yref": "y domain"
         },
         {
          "fillcolor": "Red",
          "line": {
           "width": 0
          },
          "opacity": 0.2,
          "type": "rect",
          "x0": 306,
          "x1": 307,
          "xref": "x",
          "y0": 0,
          "y1": 1,
          "yref": "y domain"
         },
         {
          "fillcolor": "Red",
          "line": {
           "width": 0
          },
          "opacity": 0.2,
          "type": "rect",
          "x0": 307,
          "x1": 308,
          "xref": "x",
          "y0": 0,
          "y1": 1,
          "yref": "y domain"
         },
         {
          "fillcolor": "Red",
          "line": {
           "width": 0
          },
          "opacity": 0.2,
          "type": "rect",
          "x0": 308,
          "x1": 309,
          "xref": "x",
          "y0": 0,
          "y1": 1,
          "yref": "y domain"
         },
         {
          "fillcolor": "Red",
          "line": {
           "width": 0
          },
          "opacity": 0.2,
          "type": "rect",
          "x0": 309,
          "x1": 310,
          "xref": "x",
          "y0": 0,
          "y1": 1,
          "yref": "y domain"
         },
         {
          "fillcolor": "Red",
          "line": {
           "width": 0
          },
          "opacity": 0.2,
          "type": "rect",
          "x0": 310,
          "x1": 311,
          "xref": "x",
          "y0": 0,
          "y1": 1,
          "yref": "y domain"
         },
         {
          "fillcolor": "Red",
          "line": {
           "width": 0
          },
          "opacity": 0.2,
          "type": "rect",
          "x0": 311,
          "x1": 312,
          "xref": "x",
          "y0": 0,
          "y1": 1,
          "yref": "y domain"
         },
         {
          "fillcolor": "Red",
          "line": {
           "width": 0
          },
          "opacity": 0.2,
          "type": "rect",
          "x0": 312,
          "x1": 313,
          "xref": "x",
          "y0": 0,
          "y1": 1,
          "yref": "y domain"
         },
         {
          "fillcolor": "Red",
          "line": {
           "width": 0
          },
          "opacity": 0.2,
          "type": "rect",
          "x0": 313,
          "x1": 314,
          "xref": "x",
          "y0": 0,
          "y1": 1,
          "yref": "y domain"
         },
         {
          "fillcolor": "Red",
          "line": {
           "width": 0
          },
          "opacity": 0.2,
          "type": "rect",
          "x0": 314,
          "x1": 315,
          "xref": "x",
          "y0": 0,
          "y1": 1,
          "yref": "y domain"
         },
         {
          "fillcolor": "Red",
          "line": {
           "width": 0
          },
          "opacity": 0.2,
          "type": "rect",
          "x0": 315,
          "x1": 316,
          "xref": "x",
          "y0": 0,
          "y1": 1,
          "yref": "y domain"
         },
         {
          "fillcolor": "Red",
          "line": {
           "width": 0
          },
          "opacity": 0.2,
          "type": "rect",
          "x0": 316,
          "x1": 317,
          "xref": "x",
          "y0": 0,
          "y1": 1,
          "yref": "y domain"
         },
         {
          "fillcolor": "Red",
          "line": {
           "width": 0
          },
          "opacity": 0.2,
          "type": "rect",
          "x0": 317,
          "x1": 318,
          "xref": "x",
          "y0": 0,
          "y1": 1,
          "yref": "y domain"
         },
         {
          "fillcolor": "Red",
          "line": {
           "width": 0
          },
          "opacity": 0.2,
          "type": "rect",
          "x0": 318,
          "x1": 319,
          "xref": "x",
          "y0": 0,
          "y1": 1,
          "yref": "y domain"
         },
         {
          "fillcolor": "Red",
          "line": {
           "width": 0
          },
          "opacity": 0.2,
          "type": "rect",
          "x0": 319,
          "x1": 320,
          "xref": "x",
          "y0": 0,
          "y1": 1,
          "yref": "y domain"
         },
         {
          "fillcolor": "Red",
          "line": {
           "width": 0
          },
          "opacity": 0.2,
          "type": "rect",
          "x0": 320,
          "x1": 321,
          "xref": "x",
          "y0": 0,
          "y1": 1,
          "yref": "y domain"
         },
         {
          "fillcolor": "Red",
          "line": {
           "width": 0
          },
          "opacity": 0.2,
          "type": "rect",
          "x0": 321,
          "x1": 322,
          "xref": "x",
          "y0": 0,
          "y1": 1,
          "yref": "y domain"
         },
         {
          "fillcolor": "Red",
          "line": {
           "width": 0
          },
          "opacity": 0.2,
          "type": "rect",
          "x0": 322,
          "x1": 323,
          "xref": "x",
          "y0": 0,
          "y1": 1,
          "yref": "y domain"
         },
         {
          "fillcolor": "Red",
          "line": {
           "width": 0
          },
          "opacity": 0.2,
          "type": "rect",
          "x0": 323,
          "x1": 324,
          "xref": "x",
          "y0": 0,
          "y1": 1,
          "yref": "y domain"
         },
         {
          "fillcolor": "Red",
          "line": {
           "width": 0
          },
          "opacity": 0.2,
          "type": "rect",
          "x0": 324,
          "x1": 325,
          "xref": "x",
          "y0": 0,
          "y1": 1,
          "yref": "y domain"
         },
         {
          "fillcolor": "Red",
          "line": {
           "width": 0
          },
          "opacity": 0.2,
          "type": "rect",
          "x0": 325,
          "x1": 326,
          "xref": "x",
          "y0": 0,
          "y1": 1,
          "yref": "y domain"
         },
         {
          "fillcolor": "Red",
          "line": {
           "width": 0
          },
          "opacity": 0.2,
          "type": "rect",
          "x0": 326,
          "x1": 327,
          "xref": "x",
          "y0": 0,
          "y1": 1,
          "yref": "y domain"
         },
         {
          "fillcolor": "Red",
          "line": {
           "width": 0
          },
          "opacity": 0.2,
          "type": "rect",
          "x0": 327,
          "x1": 328,
          "xref": "x",
          "y0": 0,
          "y1": 1,
          "yref": "y domain"
         },
         {
          "fillcolor": "Red",
          "line": {
           "width": 0
          },
          "opacity": 0.2,
          "type": "rect",
          "x0": 328,
          "x1": 329,
          "xref": "x",
          "y0": 0,
          "y1": 1,
          "yref": "y domain"
         },
         {
          "fillcolor": "Red",
          "line": {
           "width": 0
          },
          "opacity": 0.2,
          "type": "rect",
          "x0": 329,
          "x1": 330,
          "xref": "x",
          "y0": 0,
          "y1": 1,
          "yref": "y domain"
         },
         {
          "fillcolor": "Red",
          "line": {
           "width": 0
          },
          "opacity": 0.2,
          "type": "rect",
          "x0": 330,
          "x1": 331,
          "xref": "x",
          "y0": 0,
          "y1": 1,
          "yref": "y domain"
         },
         {
          "fillcolor": "Red",
          "line": {
           "width": 0
          },
          "opacity": 0.2,
          "type": "rect",
          "x0": 331,
          "x1": 332,
          "xref": "x",
          "y0": 0,
          "y1": 1,
          "yref": "y domain"
         },
         {
          "fillcolor": "Red",
          "line": {
           "width": 0
          },
          "opacity": 0.2,
          "type": "rect",
          "x0": 332,
          "x1": 333,
          "xref": "x",
          "y0": 0,
          "y1": 1,
          "yref": "y domain"
         },
         {
          "fillcolor": "Red",
          "line": {
           "width": 0
          },
          "opacity": 0.2,
          "type": "rect",
          "x0": 333,
          "x1": 334,
          "xref": "x",
          "y0": 0,
          "y1": 1,
          "yref": "y domain"
         },
         {
          "fillcolor": "Red",
          "line": {
           "width": 0
          },
          "opacity": 0.2,
          "type": "rect",
          "x0": 335,
          "x1": 336,
          "xref": "x",
          "y0": 0,
          "y1": 1,
          "yref": "y domain"
         },
         {
          "fillcolor": "Red",
          "line": {
           "width": 0
          },
          "opacity": 0.2,
          "type": "rect",
          "x0": 336,
          "x1": 337,
          "xref": "x",
          "y0": 0,
          "y1": 1,
          "yref": "y domain"
         },
         {
          "fillcolor": "Red",
          "line": {
           "width": 0
          },
          "opacity": 0.2,
          "type": "rect",
          "x0": 337,
          "x1": 338,
          "xref": "x",
          "y0": 0,
          "y1": 1,
          "yref": "y domain"
         },
         {
          "fillcolor": "Red",
          "line": {
           "width": 0
          },
          "opacity": 0.2,
          "type": "rect",
          "x0": 338,
          "x1": 339,
          "xref": "x",
          "y0": 0,
          "y1": 1,
          "yref": "y domain"
         },
         {
          "fillcolor": "Red",
          "line": {
           "width": 0
          },
          "opacity": 0.2,
          "type": "rect",
          "x0": 339,
          "x1": 340,
          "xref": "x",
          "y0": 0,
          "y1": 1,
          "yref": "y domain"
         },
         {
          "fillcolor": "Red",
          "line": {
           "width": 0
          },
          "opacity": 0.2,
          "type": "rect",
          "x0": 340,
          "x1": 341,
          "xref": "x",
          "y0": 0,
          "y1": 1,
          "yref": "y domain"
         },
         {
          "fillcolor": "Red",
          "line": {
           "width": 0
          },
          "opacity": 0.2,
          "type": "rect",
          "x0": 341,
          "x1": 342,
          "xref": "x",
          "y0": 0,
          "y1": 1,
          "yref": "y domain"
         },
         {
          "fillcolor": "Red",
          "line": {
           "width": 0
          },
          "opacity": 0.2,
          "type": "rect",
          "x0": 342,
          "x1": 343,
          "xref": "x",
          "y0": 0,
          "y1": 1,
          "yref": "y domain"
         },
         {
          "fillcolor": "Red",
          "line": {
           "width": 0
          },
          "opacity": 0.2,
          "type": "rect",
          "x0": 343,
          "x1": 344,
          "xref": "x",
          "y0": 0,
          "y1": 1,
          "yref": "y domain"
         },
         {
          "fillcolor": "Red",
          "line": {
           "width": 0
          },
          "opacity": 0.2,
          "type": "rect",
          "x0": 344,
          "x1": 345,
          "xref": "x",
          "y0": 0,
          "y1": 1,
          "yref": "y domain"
         },
         {
          "fillcolor": "Red",
          "line": {
           "width": 0
          },
          "opacity": 0.2,
          "type": "rect",
          "x0": 345,
          "x1": 346,
          "xref": "x",
          "y0": 0,
          "y1": 1,
          "yref": "y domain"
         },
         {
          "fillcolor": "Red",
          "line": {
           "width": 0
          },
          "opacity": 0.2,
          "type": "rect",
          "x0": 346,
          "x1": 347,
          "xref": "x",
          "y0": 0,
          "y1": 1,
          "yref": "y domain"
         },
         {
          "fillcolor": "Red",
          "line": {
           "width": 0
          },
          "opacity": 0.2,
          "type": "rect",
          "x0": 347,
          "x1": 348,
          "xref": "x",
          "y0": 0,
          "y1": 1,
          "yref": "y domain"
         },
         {
          "fillcolor": "Red",
          "line": {
           "width": 0
          },
          "opacity": 0.2,
          "type": "rect",
          "x0": 348,
          "x1": 349,
          "xref": "x",
          "y0": 0,
          "y1": 1,
          "yref": "y domain"
         },
         {
          "fillcolor": "Red",
          "line": {
           "width": 0
          },
          "opacity": 0.2,
          "type": "rect",
          "x0": 349,
          "x1": 350,
          "xref": "x",
          "y0": 0,
          "y1": 1,
          "yref": "y domain"
         },
         {
          "fillcolor": "Red",
          "line": {
           "width": 0
          },
          "opacity": 0.2,
          "type": "rect",
          "x0": 350,
          "x1": 351,
          "xref": "x",
          "y0": 0,
          "y1": 1,
          "yref": "y domain"
         },
         {
          "fillcolor": "Red",
          "line": {
           "width": 0
          },
          "opacity": 0.2,
          "type": "rect",
          "x0": 351,
          "x1": 352,
          "xref": "x",
          "y0": 0,
          "y1": 1,
          "yref": "y domain"
         },
         {
          "fillcolor": "Red",
          "line": {
           "width": 0
          },
          "opacity": 0.2,
          "type": "rect",
          "x0": 352,
          "x1": 353,
          "xref": "x",
          "y0": 0,
          "y1": 1,
          "yref": "y domain"
         },
         {
          "fillcolor": "Red",
          "line": {
           "width": 0
          },
          "opacity": 0.2,
          "type": "rect",
          "x0": 353,
          "x1": 354,
          "xref": "x",
          "y0": 0,
          "y1": 1,
          "yref": "y domain"
         },
         {
          "fillcolor": "Red",
          "line": {
           "width": 0
          },
          "opacity": 0.2,
          "type": "rect",
          "x0": 354,
          "x1": 355,
          "xref": "x",
          "y0": 0,
          "y1": 1,
          "yref": "y domain"
         },
         {
          "fillcolor": "Red",
          "line": {
           "width": 0
          },
          "opacity": 0.2,
          "type": "rect",
          "x0": 355,
          "x1": 356,
          "xref": "x",
          "y0": 0,
          "y1": 1,
          "yref": "y domain"
         },
         {
          "fillcolor": "Red",
          "line": {
           "width": 0
          },
          "opacity": 0.2,
          "type": "rect",
          "x0": 356,
          "x1": 357,
          "xref": "x",
          "y0": 0,
          "y1": 1,
          "yref": "y domain"
         },
         {
          "fillcolor": "Red",
          "line": {
           "width": 0
          },
          "opacity": 0.2,
          "type": "rect",
          "x0": 357,
          "x1": 358,
          "xref": "x",
          "y0": 0,
          "y1": 1,
          "yref": "y domain"
         },
         {
          "fillcolor": "Red",
          "line": {
           "width": 0
          },
          "opacity": 0.2,
          "type": "rect",
          "x0": 358,
          "x1": 359,
          "xref": "x",
          "y0": 0,
          "y1": 1,
          "yref": "y domain"
         },
         {
          "fillcolor": "Red",
          "line": {
           "width": 0
          },
          "opacity": 0.2,
          "type": "rect",
          "x0": 359,
          "x1": 360,
          "xref": "x",
          "y0": 0,
          "y1": 1,
          "yref": "y domain"
         },
         {
          "fillcolor": "Red",
          "line": {
           "width": 0
          },
          "opacity": 0.2,
          "type": "rect",
          "x0": 360,
          "x1": 361,
          "xref": "x",
          "y0": 0,
          "y1": 1,
          "yref": "y domain"
         },
         {
          "fillcolor": "Red",
          "line": {
           "width": 0
          },
          "opacity": 0.2,
          "type": "rect",
          "x0": 361,
          "x1": 362,
          "xref": "x",
          "y0": 0,
          "y1": 1,
          "yref": "y domain"
         },
         {
          "fillcolor": "Red",
          "line": {
           "width": 0
          },
          "opacity": 0.2,
          "type": "rect",
          "x0": 362,
          "x1": 363,
          "xref": "x",
          "y0": 0,
          "y1": 1,
          "yref": "y domain"
         },
         {
          "fillcolor": "Red",
          "line": {
           "width": 0
          },
          "opacity": 0.2,
          "type": "rect",
          "x0": 363,
          "x1": 364,
          "xref": "x",
          "y0": 0,
          "y1": 1,
          "yref": "y domain"
         },
         {
          "fillcolor": "Red",
          "line": {
           "width": 0
          },
          "opacity": 0.2,
          "type": "rect",
          "x0": 364,
          "x1": 365,
          "xref": "x",
          "y0": 0,
          "y1": 1,
          "yref": "y domain"
         },
         {
          "fillcolor": "Red",
          "line": {
           "width": 0
          },
          "opacity": 0.2,
          "type": "rect",
          "x0": 365,
          "x1": 366,
          "xref": "x",
          "y0": 0,
          "y1": 1,
          "yref": "y domain"
         }
        ],
        "template": {
         "data": {
          "bar": [
           {
            "error_x": {
             "color": "#2a3f5f"
            },
            "error_y": {
             "color": "#2a3f5f"
            },
            "marker": {
             "line": {
              "color": "#E5ECF6",
              "width": 0.5
             },
             "pattern": {
              "fillmode": "overlay",
              "size": 10,
              "solidity": 0.2
             }
            },
            "type": "bar"
           }
          ],
          "barpolar": [
           {
            "marker": {
             "line": {
              "color": "#E5ECF6",
              "width": 0.5
             },
             "pattern": {
              "fillmode": "overlay",
              "size": 10,
              "solidity": 0.2
             }
            },
            "type": "barpolar"
           }
          ],
          "carpet": [
           {
            "aaxis": {
             "endlinecolor": "#2a3f5f",
             "gridcolor": "white",
             "linecolor": "white",
             "minorgridcolor": "white",
             "startlinecolor": "#2a3f5f"
            },
            "baxis": {
             "endlinecolor": "#2a3f5f",
             "gridcolor": "white",
             "linecolor": "white",
             "minorgridcolor": "white",
             "startlinecolor": "#2a3f5f"
            },
            "type": "carpet"
           }
          ],
          "choropleth": [
           {
            "colorbar": {
             "outlinewidth": 0,
             "ticks": ""
            },
            "type": "choropleth"
           }
          ],
          "contour": [
           {
            "colorbar": {
             "outlinewidth": 0,
             "ticks": ""
            },
            "colorscale": [
             [
              0,
              "#0d0887"
             ],
             [
              0.1111111111111111,
              "#46039f"
             ],
             [
              0.2222222222222222,
              "#7201a8"
             ],
             [
              0.3333333333333333,
              "#9c179e"
             ],
             [
              0.4444444444444444,
              "#bd3786"
             ],
             [
              0.5555555555555556,
              "#d8576b"
             ],
             [
              0.6666666666666666,
              "#ed7953"
             ],
             [
              0.7777777777777778,
              "#fb9f3a"
             ],
             [
              0.8888888888888888,
              "#fdca26"
             ],
             [
              1,
              "#f0f921"
             ]
            ],
            "type": "contour"
           }
          ],
          "contourcarpet": [
           {
            "colorbar": {
             "outlinewidth": 0,
             "ticks": ""
            },
            "type": "contourcarpet"
           }
          ],
          "heatmap": [
           {
            "colorbar": {
             "outlinewidth": 0,
             "ticks": ""
            },
            "colorscale": [
             [
              0,
              "#0d0887"
             ],
             [
              0.1111111111111111,
              "#46039f"
             ],
             [
              0.2222222222222222,
              "#7201a8"
             ],
             [
              0.3333333333333333,
              "#9c179e"
             ],
             [
              0.4444444444444444,
              "#bd3786"
             ],
             [
              0.5555555555555556,
              "#d8576b"
             ],
             [
              0.6666666666666666,
              "#ed7953"
             ],
             [
              0.7777777777777778,
              "#fb9f3a"
             ],
             [
              0.8888888888888888,
              "#fdca26"
             ],
             [
              1,
              "#f0f921"
             ]
            ],
            "type": "heatmap"
           }
          ],
          "heatmapgl": [
           {
            "colorbar": {
             "outlinewidth": 0,
             "ticks": ""
            },
            "colorscale": [
             [
              0,
              "#0d0887"
             ],
             [
              0.1111111111111111,
              "#46039f"
             ],
             [
              0.2222222222222222,
              "#7201a8"
             ],
             [
              0.3333333333333333,
              "#9c179e"
             ],
             [
              0.4444444444444444,
              "#bd3786"
             ],
             [
              0.5555555555555556,
              "#d8576b"
             ],
             [
              0.6666666666666666,
              "#ed7953"
             ],
             [
              0.7777777777777778,
              "#fb9f3a"
             ],
             [
              0.8888888888888888,
              "#fdca26"
             ],
             [
              1,
              "#f0f921"
             ]
            ],
            "type": "heatmapgl"
           }
          ],
          "histogram": [
           {
            "marker": {
             "pattern": {
              "fillmode": "overlay",
              "size": 10,
              "solidity": 0.2
             }
            },
            "type": "histogram"
           }
          ],
          "histogram2d": [
           {
            "colorbar": {
             "outlinewidth": 0,
             "ticks": ""
            },
            "colorscale": [
             [
              0,
              "#0d0887"
             ],
             [
              0.1111111111111111,
              "#46039f"
             ],
             [
              0.2222222222222222,
              "#7201a8"
             ],
             [
              0.3333333333333333,
              "#9c179e"
             ],
             [
              0.4444444444444444,
              "#bd3786"
             ],
             [
              0.5555555555555556,
              "#d8576b"
             ],
             [
              0.6666666666666666,
              "#ed7953"
             ],
             [
              0.7777777777777778,
              "#fb9f3a"
             ],
             [
              0.8888888888888888,
              "#fdca26"
             ],
             [
              1,
              "#f0f921"
             ]
            ],
            "type": "histogram2d"
           }
          ],
          "histogram2dcontour": [
           {
            "colorbar": {
             "outlinewidth": 0,
             "ticks": ""
            },
            "colorscale": [
             [
              0,
              "#0d0887"
             ],
             [
              0.1111111111111111,
              "#46039f"
             ],
             [
              0.2222222222222222,
              "#7201a8"
             ],
             [
              0.3333333333333333,
              "#9c179e"
             ],
             [
              0.4444444444444444,
              "#bd3786"
             ],
             [
              0.5555555555555556,
              "#d8576b"
             ],
             [
              0.6666666666666666,
              "#ed7953"
             ],
             [
              0.7777777777777778,
              "#fb9f3a"
             ],
             [
              0.8888888888888888,
              "#fdca26"
             ],
             [
              1,
              "#f0f921"
             ]
            ],
            "type": "histogram2dcontour"
           }
          ],
          "mesh3d": [
           {
            "colorbar": {
             "outlinewidth": 0,
             "ticks": ""
            },
            "type": "mesh3d"
           }
          ],
          "parcoords": [
           {
            "line": {
             "colorbar": {
              "outlinewidth": 0,
              "ticks": ""
             }
            },
            "type": "parcoords"
           }
          ],
          "pie": [
           {
            "automargin": true,
            "type": "pie"
           }
          ],
          "scatter": [
           {
            "fillpattern": {
             "fillmode": "overlay",
             "size": 10,
             "solidity": 0.2
            },
            "type": "scatter"
           }
          ],
          "scatter3d": [
           {
            "line": {
             "colorbar": {
              "outlinewidth": 0,
              "ticks": ""
             }
            },
            "marker": {
             "colorbar": {
              "outlinewidth": 0,
              "ticks": ""
             }
            },
            "type": "scatter3d"
           }
          ],
          "scattercarpet": [
           {
            "marker": {
             "colorbar": {
              "outlinewidth": 0,
              "ticks": ""
             }
            },
            "type": "scattercarpet"
           }
          ],
          "scattergeo": [
           {
            "marker": {
             "colorbar": {
              "outlinewidth": 0,
              "ticks": ""
             }
            },
            "type": "scattergeo"
           }
          ],
          "scattergl": [
           {
            "marker": {
             "colorbar": {
              "outlinewidth": 0,
              "ticks": ""
             }
            },
            "type": "scattergl"
           }
          ],
          "scattermapbox": [
           {
            "marker": {
             "colorbar": {
              "outlinewidth": 0,
              "ticks": ""
             }
            },
            "type": "scattermapbox"
           }
          ],
          "scatterpolar": [
           {
            "marker": {
             "colorbar": {
              "outlinewidth": 0,
              "ticks": ""
             }
            },
            "type": "scatterpolar"
           }
          ],
          "scatterpolargl": [
           {
            "marker": {
             "colorbar": {
              "outlinewidth": 0,
              "ticks": ""
             }
            },
            "type": "scatterpolargl"
           }
          ],
          "scatterternary": [
           {
            "marker": {
             "colorbar": {
              "outlinewidth": 0,
              "ticks": ""
             }
            },
            "type": "scatterternary"
           }
          ],
          "surface": [
           {
            "colorbar": {
             "outlinewidth": 0,
             "ticks": ""
            },
            "colorscale": [
             [
              0,
              "#0d0887"
             ],
             [
              0.1111111111111111,
              "#46039f"
             ],
             [
              0.2222222222222222,
              "#7201a8"
             ],
             [
              0.3333333333333333,
              "#9c179e"
             ],
             [
              0.4444444444444444,
              "#bd3786"
             ],
             [
              0.5555555555555556,
              "#d8576b"
             ],
             [
              0.6666666666666666,
              "#ed7953"
             ],
             [
              0.7777777777777778,
              "#fb9f3a"
             ],
             [
              0.8888888888888888,
              "#fdca26"
             ],
             [
              1,
              "#f0f921"
             ]
            ],
            "type": "surface"
           }
          ],
          "table": [
           {
            "cells": {
             "fill": {
              "color": "#EBF0F8"
             },
             "line": {
              "color": "white"
             }
            },
            "header": {
             "fill": {
              "color": "#C8D4E3"
             },
             "line": {
              "color": "white"
             }
            },
            "type": "table"
           }
          ]
         },
         "layout": {
          "annotationdefaults": {
           "arrowcolor": "#2a3f5f",
           "arrowhead": 0,
           "arrowwidth": 1
          },
          "autotypenumbers": "strict",
          "coloraxis": {
           "colorbar": {
            "outlinewidth": 0,
            "ticks": ""
           }
          },
          "colorscale": {
           "diverging": [
            [
             0,
             "#8e0152"
            ],
            [
             0.1,
             "#c51b7d"
            ],
            [
             0.2,
             "#de77ae"
            ],
            [
             0.3,
             "#f1b6da"
            ],
            [
             0.4,
             "#fde0ef"
            ],
            [
             0.5,
             "#f7f7f7"
            ],
            [
             0.6,
             "#e6f5d0"
            ],
            [
             0.7,
             "#b8e186"
            ],
            [
             0.8,
             "#7fbc41"
            ],
            [
             0.9,
             "#4d9221"
            ],
            [
             1,
             "#276419"
            ]
           ],
           "sequential": [
            [
             0,
             "#0d0887"
            ],
            [
             0.1111111111111111,
             "#46039f"
            ],
            [
             0.2222222222222222,
             "#7201a8"
            ],
            [
             0.3333333333333333,
             "#9c179e"
            ],
            [
             0.4444444444444444,
             "#bd3786"
            ],
            [
             0.5555555555555556,
             "#d8576b"
            ],
            [
             0.6666666666666666,
             "#ed7953"
            ],
            [
             0.7777777777777778,
             "#fb9f3a"
            ],
            [
             0.8888888888888888,
             "#fdca26"
            ],
            [
             1,
             "#f0f921"
            ]
           ],
           "sequentialminus": [
            [
             0,
             "#0d0887"
            ],
            [
             0.1111111111111111,
             "#46039f"
            ],
            [
             0.2222222222222222,
             "#7201a8"
            ],
            [
             0.3333333333333333,
             "#9c179e"
            ],
            [
             0.4444444444444444,
             "#bd3786"
            ],
            [
             0.5555555555555556,
             "#d8576b"
            ],
            [
             0.6666666666666666,
             "#ed7953"
            ],
            [
             0.7777777777777778,
             "#fb9f3a"
            ],
            [
             0.8888888888888888,
             "#fdca26"
            ],
            [
             1,
             "#f0f921"
            ]
           ]
          },
          "colorway": [
           "#636efa",
           "#EF553B",
           "#00cc96",
           "#ab63fa",
           "#FFA15A",
           "#19d3f3",
           "#FF6692",
           "#B6E880",
           "#FF97FF",
           "#FECB52"
          ],
          "font": {
           "color": "#2a3f5f"
          },
          "geo": {
           "bgcolor": "white",
           "lakecolor": "white",
           "landcolor": "#E5ECF6",
           "showlakes": true,
           "showland": true,
           "subunitcolor": "white"
          },
          "hoverlabel": {
           "align": "left"
          },
          "hovermode": "closest",
          "mapbox": {
           "style": "light"
          },
          "paper_bgcolor": "white",
          "plot_bgcolor": "#E5ECF6",
          "polar": {
           "angularaxis": {
            "gridcolor": "white",
            "linecolor": "white",
            "ticks": ""
           },
           "bgcolor": "#E5ECF6",
           "radialaxis": {
            "gridcolor": "white",
            "linecolor": "white",
            "ticks": ""
           }
          },
          "scene": {
           "xaxis": {
            "backgroundcolor": "#E5ECF6",
            "gridcolor": "white",
            "gridwidth": 2,
            "linecolor": "white",
            "showbackground": true,
            "ticks": "",
            "zerolinecolor": "white"
           },
           "yaxis": {
            "backgroundcolor": "#E5ECF6",
            "gridcolor": "white",
            "gridwidth": 2,
            "linecolor": "white",
            "showbackground": true,
            "ticks": "",
            "zerolinecolor": "white"
           },
           "zaxis": {
            "backgroundcolor": "#E5ECF6",
            "gridcolor": "white",
            "gridwidth": 2,
            "linecolor": "white",
            "showbackground": true,
            "ticks": "",
            "zerolinecolor": "white"
           }
          },
          "shapedefaults": {
           "line": {
            "color": "#2a3f5f"
           }
          },
          "ternary": {
           "aaxis": {
            "gridcolor": "white",
            "linecolor": "white",
            "ticks": ""
           },
           "baxis": {
            "gridcolor": "white",
            "linecolor": "white",
            "ticks": ""
           },
           "bgcolor": "#E5ECF6",
           "caxis": {
            "gridcolor": "white",
            "linecolor": "white",
            "ticks": ""
           }
          },
          "title": {
           "x": 0.05
          },
          "xaxis": {
           "automargin": true,
           "gridcolor": "white",
           "linecolor": "white",
           "ticks": "",
           "title": {
            "standoff": 15
           },
           "zerolinecolor": "white",
           "zerolinewidth": 2
          },
          "yaxis": {
           "automargin": true,
           "gridcolor": "white",
           "linecolor": "white",
           "ticks": "",
           "title": {
            "standoff": 15
           },
           "zerolinecolor": "white",
           "zerolinewidth": 2
          }
         }
        },
        "title": {
         "text": "Season Over Time"
        },
        "xaxis": {
         "title": {
          "text": "Date"
         }
        },
        "yaxis": {
         "title": {
          "text": "Temperature (F)"
         }
        }
       }
      }
     },
     "metadata": {},
     "output_type": "display_data"
    }
   ],
   "source": [
    "cold_season_data = df[df['Temperature_Avg'] < 48]\n",
    "get_season_plot(df,cold_season_data)"
   ]
  },
  {
   "cell_type": "markdown",
   "metadata": {},
   "source": [
    "The cold season typically begins (January to April) and ends in late (October to December). \n",
    "This pattern aligns with general temperature trends in many regions, where temperatures decrease starting from December and continue to stay low until the following year. The temperature then begins to rise again with the onset of spring and summer."
   ]
  },
  {
   "cell_type": "markdown",
   "metadata": {},
   "source": [
    "#### Q7: What dates have rare temperatures?\n",
    "The temperature in NY is rarely below 14F or above 92F."
   ]
  },
  {
   "cell_type": "code",
   "execution_count": 264,
   "metadata": {},
   "outputs": [
    {
     "data": {
      "text/html": [
       "<div>\n",
       "<style scoped>\n",
       "    .dataframe tbody tr th:only-of-type {\n",
       "        vertical-align: middle;\n",
       "    }\n",
       "\n",
       "    .dataframe tbody tr th {\n",
       "        vertical-align: top;\n",
       "    }\n",
       "\n",
       "    .dataframe thead th {\n",
       "        text-align: right;\n",
       "    }\n",
       "</style>\n",
       "<table border=\"1\" class=\"dataframe\">\n",
       "  <thead>\n",
       "    <tr style=\"text-align: right;\">\n",
       "      <th></th>\n",
       "      <th>Date</th>\n",
       "      <th>Humidity_Avg(%)</th>\n",
       "      <th>Wind_Type</th>\n",
       "      <th>Pressure_Avg(in)</th>\n",
       "      <th>Condition</th>\n",
       "      <th>Temperature_Avg</th>\n",
       "      <th>Temperature_Historic</th>\n",
       "      <th>Precipitation_Actual</th>\n",
       "      <th>Precipitation_Historic</th>\n",
       "      <th>Dew_Point</th>\n",
       "      <th>Max_Wind_Speed</th>\n",
       "      <th>Sea_Level_Pressure</th>\n",
       "      <th>Day_Length(Minutes)</th>\n",
       "      <th>Year</th>\n",
       "      <th>Month</th>\n",
       "      <th>Day_of_weak</th>\n",
       "      <th>DayOfYear</th>\n",
       "    </tr>\n",
       "  </thead>\n",
       "  <tbody>\n",
       "    <tr>\n",
       "      <th>547</th>\n",
       "      <td>2010-07-06</td>\n",
       "      <td>37.0</td>\n",
       "      <td>CALM</td>\n",
       "      <td>29.94</td>\n",
       "      <td>Fair</td>\n",
       "      <td>92.17</td>\n",
       "      <td>78.6</td>\n",
       "      <td>0.0</td>\n",
       "      <td>5.1</td>\n",
       "      <td>65.46</td>\n",
       "      <td>12.0</td>\n",
       "      <td>29.99</td>\n",
       "      <td>899.0</td>\n",
       "      <td>2010</td>\n",
       "      <td>7</td>\n",
       "      <td>1</td>\n",
       "      <td>187</td>\n",
       "    </tr>\n",
       "    <tr>\n",
       "      <th>926</th>\n",
       "      <td>2011-07-22</td>\n",
       "      <td>65.0</td>\n",
       "      <td>WNW</td>\n",
       "      <td>29.78</td>\n",
       "      <td>Fair</td>\n",
       "      <td>93.83</td>\n",
       "      <td>79.6</td>\n",
       "      <td>0.0</td>\n",
       "      <td>4.9</td>\n",
       "      <td>69.87</td>\n",
       "      <td>14.0</td>\n",
       "      <td>29.82</td>\n",
       "      <td>878.0</td>\n",
       "      <td>2011</td>\n",
       "      <td>7</td>\n",
       "      <td>4</td>\n",
       "      <td>203</td>\n",
       "    </tr>\n",
       "    <tr>\n",
       "      <th>1613</th>\n",
       "      <td>2013-07-19</td>\n",
       "      <td>59.0</td>\n",
       "      <td>SW</td>\n",
       "      <td>29.92</td>\n",
       "      <td>Partly Cloudy</td>\n",
       "      <td>92.26</td>\n",
       "      <td>79.6</td>\n",
       "      <td>0.0</td>\n",
       "      <td>4.9</td>\n",
       "      <td>71.48</td>\n",
       "      <td>18.0</td>\n",
       "      <td>29.94</td>\n",
       "      <td>882.0</td>\n",
       "      <td>2013</td>\n",
       "      <td>7</td>\n",
       "      <td>4</td>\n",
       "      <td>200</td>\n",
       "    </tr>\n",
       "  </tbody>\n",
       "</table>\n",
       "</div>"
      ],
      "text/plain": [
       "           Date  Humidity_Avg(%) Wind_Type  Pressure_Avg(in)      Condition  \\\n",
       "547  2010-07-06             37.0      CALM             29.94           Fair   \n",
       "926  2011-07-22             65.0       WNW             29.78           Fair   \n",
       "1613 2013-07-19             59.0        SW             29.92  Partly Cloudy   \n",
       "\n",
       "      Temperature_Avg  Temperature_Historic  Precipitation_Actual  \\\n",
       "547             92.17                  78.6                   0.0   \n",
       "926             93.83                  79.6                   0.0   \n",
       "1613            92.26                  79.6                   0.0   \n",
       "\n",
       "      Precipitation_Historic  Dew_Point  Max_Wind_Speed  Sea_Level_Pressure  \\\n",
       "547                      5.1      65.46            12.0               29.99   \n",
       "926                      4.9      69.87            14.0               29.82   \n",
       "1613                     4.9      71.48            18.0               29.94   \n",
       "\n",
       "      Day_Length(Minutes)  Year  Month  Day_of_weak  DayOfYear  \n",
       "547                 899.0  2010      7            1        187  \n",
       "926                 878.0  2011      7            4        203  \n",
       "1613                882.0  2013      7            4        200  "
      ]
     },
     "execution_count": 264,
     "metadata": {},
     "output_type": "execute_result"
    }
   ],
   "source": [
    "rarely_temp_above_92 = df[df['Temperature_Avg'] > 92]\n",
    "rarely_temp_above_92"
   ]
  },
  {
   "cell_type": "markdown",
   "metadata": {},
   "source": [
    "The degrees above 92 were all in the month of July, and this is consistent with what we previously observed that July is the month with the highest temperature."
   ]
  },
  {
   "cell_type": "code",
   "execution_count": 265,
   "metadata": {},
   "outputs": [
    {
     "data": {
      "text/html": [
       "<div>\n",
       "<style scoped>\n",
       "    .dataframe tbody tr th:only-of-type {\n",
       "        vertical-align: middle;\n",
       "    }\n",
       "\n",
       "    .dataframe tbody tr th {\n",
       "        vertical-align: top;\n",
       "    }\n",
       "\n",
       "    .dataframe thead th {\n",
       "        text-align: right;\n",
       "    }\n",
       "</style>\n",
       "<table border=\"1\" class=\"dataframe\">\n",
       "  <thead>\n",
       "    <tr style=\"text-align: right;\">\n",
       "      <th></th>\n",
       "      <th>Date</th>\n",
       "      <th>Humidity_Avg(%)</th>\n",
       "      <th>Wind_Type</th>\n",
       "      <th>Pressure_Avg(in)</th>\n",
       "      <th>Condition</th>\n",
       "      <th>Temperature_Avg</th>\n",
       "      <th>Temperature_Historic</th>\n",
       "      <th>Precipitation_Actual</th>\n",
       "      <th>Precipitation_Historic</th>\n",
       "      <th>Dew_Point</th>\n",
       "      <th>Max_Wind_Speed</th>\n",
       "      <th>Sea_Level_Pressure</th>\n",
       "      <th>Day_Length(Minutes)</th>\n",
       "      <th>Year</th>\n",
       "      <th>Month</th>\n",
       "      <th>Day_of_weak</th>\n",
       "      <th>DayOfYear</th>\n",
       "    </tr>\n",
       "  </thead>\n",
       "  <tbody>\n",
       "    <tr>\n",
       "      <th>1767</th>\n",
       "      <td>2014-01-07</td>\n",
       "      <td>42.0</td>\n",
       "      <td>W</td>\n",
       "      <td>29.70</td>\n",
       "      <td>Fair</td>\n",
       "      <td>9.17</td>\n",
       "      <td>35.0</td>\n",
       "      <td>0.00</td>\n",
       "      <td>5.7</td>\n",
       "      <td>-11.38</td>\n",
       "      <td>30.0</td>\n",
       "      <td>30.36</td>\n",
       "      <td>564.0</td>\n",
       "      <td>2014</td>\n",
       "      <td>1</td>\n",
       "      <td>1</td>\n",
       "      <td>7</td>\n",
       "    </tr>\n",
       "    <tr>\n",
       "      <th>2168</th>\n",
       "      <td>2015-02-16</td>\n",
       "      <td>55.0</td>\n",
       "      <td>NW</td>\n",
       "      <td>30.10</td>\n",
       "      <td>Cloudy</td>\n",
       "      <td>13.13</td>\n",
       "      <td>36.4</td>\n",
       "      <td>0.00</td>\n",
       "      <td>5.6</td>\n",
       "      <td>-7.39</td>\n",
       "      <td>23.0</td>\n",
       "      <td>30.19</td>\n",
       "      <td>642.0</td>\n",
       "      <td>2015</td>\n",
       "      <td>2</td>\n",
       "      <td>0</td>\n",
       "      <td>47</td>\n",
       "    </tr>\n",
       "    <tr>\n",
       "      <th>2172</th>\n",
       "      <td>2015-02-20</td>\n",
       "      <td>41.0</td>\n",
       "      <td>WNW</td>\n",
       "      <td>30.02</td>\n",
       "      <td>Fair</td>\n",
       "      <td>11.61</td>\n",
       "      <td>37.2</td>\n",
       "      <td>0.00</td>\n",
       "      <td>5.6</td>\n",
       "      <td>-7.96</td>\n",
       "      <td>25.0</td>\n",
       "      <td>30.47</td>\n",
       "      <td>652.0</td>\n",
       "      <td>2015</td>\n",
       "      <td>2</td>\n",
       "      <td>4</td>\n",
       "      <td>51</td>\n",
       "    </tr>\n",
       "    <tr>\n",
       "      <th>2526</th>\n",
       "      <td>2016-02-14</td>\n",
       "      <td>52.0</td>\n",
       "      <td>NNW</td>\n",
       "      <td>30.52</td>\n",
       "      <td>Fair</td>\n",
       "      <td>9.83</td>\n",
       "      <td>36.1</td>\n",
       "      <td>0.00</td>\n",
       "      <td>5.6</td>\n",
       "      <td>-10.65</td>\n",
       "      <td>24.0</td>\n",
       "      <td>30.53</td>\n",
       "      <td>636.0</td>\n",
       "      <td>2016</td>\n",
       "      <td>2</td>\n",
       "      <td>6</td>\n",
       "      <td>45</td>\n",
       "    </tr>\n",
       "    <tr>\n",
       "      <th>3200</th>\n",
       "      <td>2018-01-01</td>\n",
       "      <td>61.0</td>\n",
       "      <td>NW</td>\n",
       "      <td>30.34</td>\n",
       "      <td>Fair</td>\n",
       "      <td>13.96</td>\n",
       "      <td>36.1</td>\n",
       "      <td>0.00</td>\n",
       "      <td>5.7</td>\n",
       "      <td>-0.83</td>\n",
       "      <td>22.0</td>\n",
       "      <td>30.37</td>\n",
       "      <td>558.0</td>\n",
       "      <td>2018</td>\n",
       "      <td>1</td>\n",
       "      <td>0</td>\n",
       "      <td>1</td>\n",
       "    </tr>\n",
       "    <tr>\n",
       "      <th>3205</th>\n",
       "      <td>2018-01-06</td>\n",
       "      <td>44.0</td>\n",
       "      <td>WNW</td>\n",
       "      <td>30.19</td>\n",
       "      <td>Fair</td>\n",
       "      <td>11.00</td>\n",
       "      <td>35.2</td>\n",
       "      <td>0.00</td>\n",
       "      <td>5.7</td>\n",
       "      <td>-6.13</td>\n",
       "      <td>32.0</td>\n",
       "      <td>30.41</td>\n",
       "      <td>562.0</td>\n",
       "      <td>2018</td>\n",
       "      <td>1</td>\n",
       "      <td>5</td>\n",
       "      <td>6</td>\n",
       "    </tr>\n",
       "    <tr>\n",
       "      <th>3565</th>\n",
       "      <td>2019-01-21</td>\n",
       "      <td>59.0</td>\n",
       "      <td>WNW</td>\n",
       "      <td>30.07</td>\n",
       "      <td>Mostly Cloudy</td>\n",
       "      <td>11.43</td>\n",
       "      <td>33.8</td>\n",
       "      <td>0.20</td>\n",
       "      <td>5.6</td>\n",
       "      <td>-2.35</td>\n",
       "      <td>37.0</td>\n",
       "      <td>30.36</td>\n",
       "      <td>584.0</td>\n",
       "      <td>2019</td>\n",
       "      <td>1</td>\n",
       "      <td>0</td>\n",
       "      <td>21</td>\n",
       "    </tr>\n",
       "    <tr>\n",
       "      <th>3575</th>\n",
       "      <td>2019-01-31</td>\n",
       "      <td>32.0</td>\n",
       "      <td>W</td>\n",
       "      <td>30.41</td>\n",
       "      <td>Fair</td>\n",
       "      <td>10.30</td>\n",
       "      <td>34.1</td>\n",
       "      <td>0.00</td>\n",
       "      <td>5.5</td>\n",
       "      <td>-12.13</td>\n",
       "      <td>20.0</td>\n",
       "      <td>30.41</td>\n",
       "      <td>604.0</td>\n",
       "      <td>2019</td>\n",
       "      <td>1</td>\n",
       "      <td>3</td>\n",
       "      <td>31</td>\n",
       "    </tr>\n",
       "    <tr>\n",
       "      <th>4967</th>\n",
       "      <td>2022-12-24</td>\n",
       "      <td>41.0</td>\n",
       "      <td>W</td>\n",
       "      <td>29.79</td>\n",
       "      <td>Fair</td>\n",
       "      <td>11.65</td>\n",
       "      <td>37.9</td>\n",
       "      <td>0.05</td>\n",
       "      <td>5.7</td>\n",
       "      <td>-7.26</td>\n",
       "      <td>29.0</td>\n",
       "      <td>29.89</td>\n",
       "      <td>554.0</td>\n",
       "      <td>2022</td>\n",
       "      <td>12</td>\n",
       "      <td>5</td>\n",
       "      <td>358</td>\n",
       "    </tr>\n",
       "  </tbody>\n",
       "</table>\n",
       "</div>"
      ],
      "text/plain": [
       "           Date  Humidity_Avg(%) Wind_Type  Pressure_Avg(in)      Condition  \\\n",
       "1767 2014-01-07             42.0         W             29.70           Fair   \n",
       "2168 2015-02-16             55.0        NW             30.10         Cloudy   \n",
       "2172 2015-02-20             41.0       WNW             30.02           Fair   \n",
       "2526 2016-02-14             52.0       NNW             30.52           Fair   \n",
       "3200 2018-01-01             61.0        NW             30.34           Fair   \n",
       "3205 2018-01-06             44.0       WNW             30.19           Fair   \n",
       "3565 2019-01-21             59.0       WNW             30.07  Mostly Cloudy   \n",
       "3575 2019-01-31             32.0         W             30.41           Fair   \n",
       "4967 2022-12-24             41.0         W             29.79           Fair   \n",
       "\n",
       "      Temperature_Avg  Temperature_Historic  Precipitation_Actual  \\\n",
       "1767             9.17                  35.0                  0.00   \n",
       "2168            13.13                  36.4                  0.00   \n",
       "2172            11.61                  37.2                  0.00   \n",
       "2526             9.83                  36.1                  0.00   \n",
       "3200            13.96                  36.1                  0.00   \n",
       "3205            11.00                  35.2                  0.00   \n",
       "3565            11.43                  33.8                  0.20   \n",
       "3575            10.30                  34.1                  0.00   \n",
       "4967            11.65                  37.9                  0.05   \n",
       "\n",
       "      Precipitation_Historic  Dew_Point  Max_Wind_Speed  Sea_Level_Pressure  \\\n",
       "1767                     5.7     -11.38            30.0               30.36   \n",
       "2168                     5.6      -7.39            23.0               30.19   \n",
       "2172                     5.6      -7.96            25.0               30.47   \n",
       "2526                     5.6     -10.65            24.0               30.53   \n",
       "3200                     5.7      -0.83            22.0               30.37   \n",
       "3205                     5.7      -6.13            32.0               30.41   \n",
       "3565                     5.6      -2.35            37.0               30.36   \n",
       "3575                     5.5     -12.13            20.0               30.41   \n",
       "4967                     5.7      -7.26            29.0               29.89   \n",
       "\n",
       "      Day_Length(Minutes)  Year  Month  Day_of_weak  DayOfYear  \n",
       "1767                564.0  2014      1            1          7  \n",
       "2168                642.0  2015      2            0         47  \n",
       "2172                652.0  2015      2            4         51  \n",
       "2526                636.0  2016      2            6         45  \n",
       "3200                558.0  2018      1            0          1  \n",
       "3205                562.0  2018      1            5          6  \n",
       "3565                584.0  2019      1            0         21  \n",
       "3575                604.0  2019      1            3         31  \n",
       "4967                554.0  2022     12            5        358  "
      ]
     },
     "execution_count": 265,
     "metadata": {},
     "output_type": "execute_result"
    }
   ],
   "source": [
    "rarely_temp_below_14 = df[df['Temperature_Avg'] < 14]\n",
    "rarely_temp_below_14"
   ]
  },
  {
   "cell_type": "markdown",
   "metadata": {},
   "source": [
    "It appear that temperatures below 14 F occurred in New York City from 2014 to 2022, primarily in the months of January  and February , with one occurrence in December of 2022."
   ]
  },
  {
   "cell_type": "code",
   "execution_count": 266,
   "metadata": {},
   "outputs": [],
   "source": [
    "len_natural_temp = len(df)-(len(rarely_temp_above_92)+ len(rarely_temp_below_14))\n",
    "labels = ['Above 29 F','Below 14 F','Natural']\n",
    "values = [len(rarely_temp_above_92), len(rarely_temp_below_14),len_natural_temp]"
   ]
  },
  {
   "cell_type": "code",
   "execution_count": 267,
   "metadata": {},
   "outputs": [
    {
     "data": {
      "application/vnd.plotly.v1+json": {
       "config": {
        "plotlyServerURL": "https://plot.ly"
       },
       "data": [
        {
         "labels": [
          "Above 29 F",
          "Below 14 F",
          "Natural"
         ],
         "type": "pie",
         "values": [
          3,
          9,
          5319
         ]
        }
       ],
       "layout": {
        "template": {
         "data": {
          "bar": [
           {
            "error_x": {
             "color": "#2a3f5f"
            },
            "error_y": {
             "color": "#2a3f5f"
            },
            "marker": {
             "line": {
              "color": "#E5ECF6",
              "width": 0.5
             },
             "pattern": {
              "fillmode": "overlay",
              "size": 10,
              "solidity": 0.2
             }
            },
            "type": "bar"
           }
          ],
          "barpolar": [
           {
            "marker": {
             "line": {
              "color": "#E5ECF6",
              "width": 0.5
             },
             "pattern": {
              "fillmode": "overlay",
              "size": 10,
              "solidity": 0.2
             }
            },
            "type": "barpolar"
           }
          ],
          "carpet": [
           {
            "aaxis": {
             "endlinecolor": "#2a3f5f",
             "gridcolor": "white",
             "linecolor": "white",
             "minorgridcolor": "white",
             "startlinecolor": "#2a3f5f"
            },
            "baxis": {
             "endlinecolor": "#2a3f5f",
             "gridcolor": "white",
             "linecolor": "white",
             "minorgridcolor": "white",
             "startlinecolor": "#2a3f5f"
            },
            "type": "carpet"
           }
          ],
          "choropleth": [
           {
            "colorbar": {
             "outlinewidth": 0,
             "ticks": ""
            },
            "type": "choropleth"
           }
          ],
          "contour": [
           {
            "colorbar": {
             "outlinewidth": 0,
             "ticks": ""
            },
            "colorscale": [
             [
              0,
              "#0d0887"
             ],
             [
              0.1111111111111111,
              "#46039f"
             ],
             [
              0.2222222222222222,
              "#7201a8"
             ],
             [
              0.3333333333333333,
              "#9c179e"
             ],
             [
              0.4444444444444444,
              "#bd3786"
             ],
             [
              0.5555555555555556,
              "#d8576b"
             ],
             [
              0.6666666666666666,
              "#ed7953"
             ],
             [
              0.7777777777777778,
              "#fb9f3a"
             ],
             [
              0.8888888888888888,
              "#fdca26"
             ],
             [
              1,
              "#f0f921"
             ]
            ],
            "type": "contour"
           }
          ],
          "contourcarpet": [
           {
            "colorbar": {
             "outlinewidth": 0,
             "ticks": ""
            },
            "type": "contourcarpet"
           }
          ],
          "heatmap": [
           {
            "colorbar": {
             "outlinewidth": 0,
             "ticks": ""
            },
            "colorscale": [
             [
              0,
              "#0d0887"
             ],
             [
              0.1111111111111111,
              "#46039f"
             ],
             [
              0.2222222222222222,
              "#7201a8"
             ],
             [
              0.3333333333333333,
              "#9c179e"
             ],
             [
              0.4444444444444444,
              "#bd3786"
             ],
             [
              0.5555555555555556,
              "#d8576b"
             ],
             [
              0.6666666666666666,
              "#ed7953"
             ],
             [
              0.7777777777777778,
              "#fb9f3a"
             ],
             [
              0.8888888888888888,
              "#fdca26"
             ],
             [
              1,
              "#f0f921"
             ]
            ],
            "type": "heatmap"
           }
          ],
          "heatmapgl": [
           {
            "colorbar": {
             "outlinewidth": 0,
             "ticks": ""
            },
            "colorscale": [
             [
              0,
              "#0d0887"
             ],
             [
              0.1111111111111111,
              "#46039f"
             ],
             [
              0.2222222222222222,
              "#7201a8"
             ],
             [
              0.3333333333333333,
              "#9c179e"
             ],
             [
              0.4444444444444444,
              "#bd3786"
             ],
             [
              0.5555555555555556,
              "#d8576b"
             ],
             [
              0.6666666666666666,
              "#ed7953"
             ],
             [
              0.7777777777777778,
              "#fb9f3a"
             ],
             [
              0.8888888888888888,
              "#fdca26"
             ],
             [
              1,
              "#f0f921"
             ]
            ],
            "type": "heatmapgl"
           }
          ],
          "histogram": [
           {
            "marker": {
             "pattern": {
              "fillmode": "overlay",
              "size": 10,
              "solidity": 0.2
             }
            },
            "type": "histogram"
           }
          ],
          "histogram2d": [
           {
            "colorbar": {
             "outlinewidth": 0,
             "ticks": ""
            },
            "colorscale": [
             [
              0,
              "#0d0887"
             ],
             [
              0.1111111111111111,
              "#46039f"
             ],
             [
              0.2222222222222222,
              "#7201a8"
             ],
             [
              0.3333333333333333,
              "#9c179e"
             ],
             [
              0.4444444444444444,
              "#bd3786"
             ],
             [
              0.5555555555555556,
              "#d8576b"
             ],
             [
              0.6666666666666666,
              "#ed7953"
             ],
             [
              0.7777777777777778,
              "#fb9f3a"
             ],
             [
              0.8888888888888888,
              "#fdca26"
             ],
             [
              1,
              "#f0f921"
             ]
            ],
            "type": "histogram2d"
           }
          ],
          "histogram2dcontour": [
           {
            "colorbar": {
             "outlinewidth": 0,
             "ticks": ""
            },
            "colorscale": [
             [
              0,
              "#0d0887"
             ],
             [
              0.1111111111111111,
              "#46039f"
             ],
             [
              0.2222222222222222,
              "#7201a8"
             ],
             [
              0.3333333333333333,
              "#9c179e"
             ],
             [
              0.4444444444444444,
              "#bd3786"
             ],
             [
              0.5555555555555556,
              "#d8576b"
             ],
             [
              0.6666666666666666,
              "#ed7953"
             ],
             [
              0.7777777777777778,
              "#fb9f3a"
             ],
             [
              0.8888888888888888,
              "#fdca26"
             ],
             [
              1,
              "#f0f921"
             ]
            ],
            "type": "histogram2dcontour"
           }
          ],
          "mesh3d": [
           {
            "colorbar": {
             "outlinewidth": 0,
             "ticks": ""
            },
            "type": "mesh3d"
           }
          ],
          "parcoords": [
           {
            "line": {
             "colorbar": {
              "outlinewidth": 0,
              "ticks": ""
             }
            },
            "type": "parcoords"
           }
          ],
          "pie": [
           {
            "automargin": true,
            "type": "pie"
           }
          ],
          "scatter": [
           {
            "fillpattern": {
             "fillmode": "overlay",
             "size": 10,
             "solidity": 0.2
            },
            "type": "scatter"
           }
          ],
          "scatter3d": [
           {
            "line": {
             "colorbar": {
              "outlinewidth": 0,
              "ticks": ""
             }
            },
            "marker": {
             "colorbar": {
              "outlinewidth": 0,
              "ticks": ""
             }
            },
            "type": "scatter3d"
           }
          ],
          "scattercarpet": [
           {
            "marker": {
             "colorbar": {
              "outlinewidth": 0,
              "ticks": ""
             }
            },
            "type": "scattercarpet"
           }
          ],
          "scattergeo": [
           {
            "marker": {
             "colorbar": {
              "outlinewidth": 0,
              "ticks": ""
             }
            },
            "type": "scattergeo"
           }
          ],
          "scattergl": [
           {
            "marker": {
             "colorbar": {
              "outlinewidth": 0,
              "ticks": ""
             }
            },
            "type": "scattergl"
           }
          ],
          "scattermapbox": [
           {
            "marker": {
             "colorbar": {
              "outlinewidth": 0,
              "ticks": ""
             }
            },
            "type": "scattermapbox"
           }
          ],
          "scatterpolar": [
           {
            "marker": {
             "colorbar": {
              "outlinewidth": 0,
              "ticks": ""
             }
            },
            "type": "scatterpolar"
           }
          ],
          "scatterpolargl": [
           {
            "marker": {
             "colorbar": {
              "outlinewidth": 0,
              "ticks": ""
             }
            },
            "type": "scatterpolargl"
           }
          ],
          "scatterternary": [
           {
            "marker": {
             "colorbar": {
              "outlinewidth": 0,
              "ticks": ""
             }
            },
            "type": "scatterternary"
           }
          ],
          "surface": [
           {
            "colorbar": {
             "outlinewidth": 0,
             "ticks": ""
            },
            "colorscale": [
             [
              0,
              "#0d0887"
             ],
             [
              0.1111111111111111,
              "#46039f"
             ],
             [
              0.2222222222222222,
              "#7201a8"
             ],
             [
              0.3333333333333333,
              "#9c179e"
             ],
             [
              0.4444444444444444,
              "#bd3786"
             ],
             [
              0.5555555555555556,
              "#d8576b"
             ],
             [
              0.6666666666666666,
              "#ed7953"
             ],
             [
              0.7777777777777778,
              "#fb9f3a"
             ],
             [
              0.8888888888888888,
              "#fdca26"
             ],
             [
              1,
              "#f0f921"
             ]
            ],
            "type": "surface"
           }
          ],
          "table": [
           {
            "cells": {
             "fill": {
              "color": "#EBF0F8"
             },
             "line": {
              "color": "white"
             }
            },
            "header": {
             "fill": {
              "color": "#C8D4E3"
             },
             "line": {
              "color": "white"
             }
            },
            "type": "table"
           }
          ]
         },
         "layout": {
          "annotationdefaults": {
           "arrowcolor": "#2a3f5f",
           "arrowhead": 0,
           "arrowwidth": 1
          },
          "autotypenumbers": "strict",
          "coloraxis": {
           "colorbar": {
            "outlinewidth": 0,
            "ticks": ""
           }
          },
          "colorscale": {
           "diverging": [
            [
             0,
             "#8e0152"
            ],
            [
             0.1,
             "#c51b7d"
            ],
            [
             0.2,
             "#de77ae"
            ],
            [
             0.3,
             "#f1b6da"
            ],
            [
             0.4,
             "#fde0ef"
            ],
            [
             0.5,
             "#f7f7f7"
            ],
            [
             0.6,
             "#e6f5d0"
            ],
            [
             0.7,
             "#b8e186"
            ],
            [
             0.8,
             "#7fbc41"
            ],
            [
             0.9,
             "#4d9221"
            ],
            [
             1,
             "#276419"
            ]
           ],
           "sequential": [
            [
             0,
             "#0d0887"
            ],
            [
             0.1111111111111111,
             "#46039f"
            ],
            [
             0.2222222222222222,
             "#7201a8"
            ],
            [
             0.3333333333333333,
             "#9c179e"
            ],
            [
             0.4444444444444444,
             "#bd3786"
            ],
            [
             0.5555555555555556,
             "#d8576b"
            ],
            [
             0.6666666666666666,
             "#ed7953"
            ],
            [
             0.7777777777777778,
             "#fb9f3a"
            ],
            [
             0.8888888888888888,
             "#fdca26"
            ],
            [
             1,
             "#f0f921"
            ]
           ],
           "sequentialminus": [
            [
             0,
             "#0d0887"
            ],
            [
             0.1111111111111111,
             "#46039f"
            ],
            [
             0.2222222222222222,
             "#7201a8"
            ],
            [
             0.3333333333333333,
             "#9c179e"
            ],
            [
             0.4444444444444444,
             "#bd3786"
            ],
            [
             0.5555555555555556,
             "#d8576b"
            ],
            [
             0.6666666666666666,
             "#ed7953"
            ],
            [
             0.7777777777777778,
             "#fb9f3a"
            ],
            [
             0.8888888888888888,
             "#fdca26"
            ],
            [
             1,
             "#f0f921"
            ]
           ]
          },
          "colorway": [
           "#636efa",
           "#EF553B",
           "#00cc96",
           "#ab63fa",
           "#FFA15A",
           "#19d3f3",
           "#FF6692",
           "#B6E880",
           "#FF97FF",
           "#FECB52"
          ],
          "font": {
           "color": "#2a3f5f"
          },
          "geo": {
           "bgcolor": "white",
           "lakecolor": "white",
           "landcolor": "#E5ECF6",
           "showlakes": true,
           "showland": true,
           "subunitcolor": "white"
          },
          "hoverlabel": {
           "align": "left"
          },
          "hovermode": "closest",
          "mapbox": {
           "style": "light"
          },
          "paper_bgcolor": "white",
          "plot_bgcolor": "#E5ECF6",
          "polar": {
           "angularaxis": {
            "gridcolor": "white",
            "linecolor": "white",
            "ticks": ""
           },
           "bgcolor": "#E5ECF6",
           "radialaxis": {
            "gridcolor": "white",
            "linecolor": "white",
            "ticks": ""
           }
          },
          "scene": {
           "xaxis": {
            "backgroundcolor": "#E5ECF6",
            "gridcolor": "white",
            "gridwidth": 2,
            "linecolor": "white",
            "showbackground": true,
            "ticks": "",
            "zerolinecolor": "white"
           },
           "yaxis": {
            "backgroundcolor": "#E5ECF6",
            "gridcolor": "white",
            "gridwidth": 2,
            "linecolor": "white",
            "showbackground": true,
            "ticks": "",
            "zerolinecolor": "white"
           },
           "zaxis": {
            "backgroundcolor": "#E5ECF6",
            "gridcolor": "white",
            "gridwidth": 2,
            "linecolor": "white",
            "showbackground": true,
            "ticks": "",
            "zerolinecolor": "white"
           }
          },
          "shapedefaults": {
           "line": {
            "color": "#2a3f5f"
           }
          },
          "ternary": {
           "aaxis": {
            "gridcolor": "white",
            "linecolor": "white",
            "ticks": ""
           },
           "baxis": {
            "gridcolor": "white",
            "linecolor": "white",
            "ticks": ""
           },
           "bgcolor": "#E5ECF6",
           "caxis": {
            "gridcolor": "white",
            "linecolor": "white",
            "ticks": ""
           }
          },
          "title": {
           "x": 0.05
          },
          "xaxis": {
           "automargin": true,
           "gridcolor": "white",
           "linecolor": "white",
           "ticks": "",
           "title": {
            "standoff": 15
           },
           "zerolinecolor": "white",
           "zerolinewidth": 2
          },
          "yaxis": {
           "automargin": true,
           "gridcolor": "white",
           "linecolor": "white",
           "ticks": "",
           "title": {
            "standoff": 15
           },
           "zerolinecolor": "white",
           "zerolinewidth": 2
          }
         }
        },
        "title": {
         "text": "Above 29 F VS Below 14 F VS Natural"
        }
       }
      }
     },
     "metadata": {},
     "output_type": "display_data"
    }
   ],
   "source": [
    "fig = go.Figure(data=[go.Pie(labels=labels, values=values)])\n",
    "fig.update_layout(title='Above 29 F VS Below 14 F VS Natural')"
   ]
  },
  {
   "cell_type": "markdown",
   "metadata": {},
   "source": [
    "#### Q8: What dates that weather conditions that might lead to school closures or vacations?"
   ]
  },
  {
   "cell_type": "markdown",
   "metadata": {},
   "source": [
    "Heavy rain, temperature below -37, strong winds around 40mph and poor air quality (smoke,Haze)."
   ]
  },
  {
   "cell_type": "code",
   "execution_count": 268,
   "metadata": {},
   "outputs": [
    {
     "data": {
      "text/html": [
       "<div>\n",
       "<style scoped>\n",
       "    .dataframe tbody tr th:only-of-type {\n",
       "        vertical-align: middle;\n",
       "    }\n",
       "\n",
       "    .dataframe tbody tr th {\n",
       "        vertical-align: top;\n",
       "    }\n",
       "\n",
       "    .dataframe thead th {\n",
       "        text-align: right;\n",
       "    }\n",
       "</style>\n",
       "<table border=\"1\" class=\"dataframe\">\n",
       "  <thead>\n",
       "    <tr style=\"text-align: right;\">\n",
       "      <th></th>\n",
       "      <th>Date</th>\n",
       "      <th>Humidity_Avg(%)</th>\n",
       "      <th>Wind_Type</th>\n",
       "      <th>Pressure_Avg(in)</th>\n",
       "      <th>Condition</th>\n",
       "      <th>Temperature_Avg</th>\n",
       "      <th>Temperature_Historic</th>\n",
       "      <th>Precipitation_Actual</th>\n",
       "      <th>Precipitation_Historic</th>\n",
       "      <th>Dew_Point</th>\n",
       "      <th>Max_Wind_Speed</th>\n",
       "      <th>Sea_Level_Pressure</th>\n",
       "      <th>Day_Length(Minutes)</th>\n",
       "      <th>Year</th>\n",
       "      <th>Month</th>\n",
       "      <th>Day_of_weak</th>\n",
       "      <th>DayOfYear</th>\n",
       "    </tr>\n",
       "  </thead>\n",
       "  <tbody>\n",
       "    <tr>\n",
       "      <th>42</th>\n",
       "      <td>2009-02-12</td>\n",
       "      <td>43.0</td>\n",
       "      <td>W</td>\n",
       "      <td>29.32</td>\n",
       "      <td>Cloudy</td>\n",
       "      <td>50.71</td>\n",
       "      <td>35.7</td>\n",
       "      <td>0.00</td>\n",
       "      <td>5.5</td>\n",
       "      <td>32.38</td>\n",
       "      <td>43.0</td>\n",
       "      <td>29.59</td>\n",
       "      <td>633.0</td>\n",
       "      <td>2009</td>\n",
       "      <td>2</td>\n",
       "      <td>3</td>\n",
       "      <td>43</td>\n",
       "    </tr>\n",
       "    <tr>\n",
       "      <th>228</th>\n",
       "      <td>2009-08-18</td>\n",
       "      <td>51.0</td>\n",
       "      <td>WSW</td>\n",
       "      <td>29.95</td>\n",
       "      <td>Fair</td>\n",
       "      <td>82.41</td>\n",
       "      <td>77.7</td>\n",
       "      <td>0.00</td>\n",
       "      <td>4.1</td>\n",
       "      <td>65.66</td>\n",
       "      <td>43.0</td>\n",
       "      <td>30.09</td>\n",
       "      <td>820.0</td>\n",
       "      <td>2009</td>\n",
       "      <td>8</td>\n",
       "      <td>1</td>\n",
       "      <td>230</td>\n",
       "    </tr>\n",
       "    <tr>\n",
       "      <th>1385</th>\n",
       "      <td>2012-10-29</td>\n",
       "      <td>88.0</td>\n",
       "      <td>NNE</td>\n",
       "      <td>29.64</td>\n",
       "      <td>Cloudy</td>\n",
       "      <td>59.03</td>\n",
       "      <td>54.9</td>\n",
       "      <td>0.00</td>\n",
       "      <td>4.3</td>\n",
       "      <td>54.07</td>\n",
       "      <td>56.0</td>\n",
       "      <td>29.61</td>\n",
       "      <td>632.0</td>\n",
       "      <td>2012</td>\n",
       "      <td>10</td>\n",
       "      <td>0</td>\n",
       "      <td>303</td>\n",
       "    </tr>\n",
       "    <tr>\n",
       "      <th>1470</th>\n",
       "      <td>2013-01-31</td>\n",
       "      <td>94.0</td>\n",
       "      <td>W</td>\n",
       "      <td>29.36</td>\n",
       "      <td>Cloudy</td>\n",
       "      <td>48.00</td>\n",
       "      <td>34.1</td>\n",
       "      <td>0.00</td>\n",
       "      <td>5.5</td>\n",
       "      <td>32.50</td>\n",
       "      <td>40.0</td>\n",
       "      <td>29.75</td>\n",
       "      <td>605.0</td>\n",
       "      <td>2013</td>\n",
       "      <td>1</td>\n",
       "      <td>3</td>\n",
       "      <td>31</td>\n",
       "    </tr>\n",
       "    <tr>\n",
       "      <th>1876</th>\n",
       "      <td>2014-04-30</td>\n",
       "      <td>93.0</td>\n",
       "      <td>ENE</td>\n",
       "      <td>30.33</td>\n",
       "      <td>Heavy Rain</td>\n",
       "      <td>45.67</td>\n",
       "      <td>58.9</td>\n",
       "      <td>0.55</td>\n",
       "      <td>4.5</td>\n",
       "      <td>42.25</td>\n",
       "      <td>21.0</td>\n",
       "      <td>30.38</td>\n",
       "      <td>834.0</td>\n",
       "      <td>2014</td>\n",
       "      <td>4</td>\n",
       "      <td>2</td>\n",
       "      <td>120</td>\n",
       "    </tr>\n",
       "    <tr>\n",
       "      <th>1898</th>\n",
       "      <td>2014-05-22</td>\n",
       "      <td>80.0</td>\n",
       "      <td>SE</td>\n",
       "      <td>29.83</td>\n",
       "      <td>Haze</td>\n",
       "      <td>61.43</td>\n",
       "      <td>65.5</td>\n",
       "      <td>0.27</td>\n",
       "      <td>4.7</td>\n",
       "      <td>55.70</td>\n",
       "      <td>12.0</td>\n",
       "      <td>29.86</td>\n",
       "      <td>879.0</td>\n",
       "      <td>2014</td>\n",
       "      <td>5</td>\n",
       "      <td>3</td>\n",
       "      <td>142</td>\n",
       "    </tr>\n",
       "    <tr>\n",
       "      <th>2491</th>\n",
       "      <td>2016-01-10</td>\n",
       "      <td>93.0</td>\n",
       "      <td>ENE</td>\n",
       "      <td>29.81</td>\n",
       "      <td>Heavy Rain</td>\n",
       "      <td>52.28</td>\n",
       "      <td>34.6</td>\n",
       "      <td>0.63</td>\n",
       "      <td>5.7</td>\n",
       "      <td>47.83</td>\n",
       "      <td>26.0</td>\n",
       "      <td>29.99</td>\n",
       "      <td>566.0</td>\n",
       "      <td>2016</td>\n",
       "      <td>1</td>\n",
       "      <td>6</td>\n",
       "      <td>10</td>\n",
       "    </tr>\n",
       "    <tr>\n",
       "      <th>2887</th>\n",
       "      <td>2017-02-13</td>\n",
       "      <td>54.0</td>\n",
       "      <td>NW</td>\n",
       "      <td>29.58</td>\n",
       "      <td>Mostly Cloudy</td>\n",
       "      <td>37.57</td>\n",
       "      <td>35.9</td>\n",
       "      <td>0.41</td>\n",
       "      <td>5.6</td>\n",
       "      <td>22.65</td>\n",
       "      <td>41.0</td>\n",
       "      <td>29.96</td>\n",
       "      <td>635.0</td>\n",
       "      <td>2017</td>\n",
       "      <td>2</td>\n",
       "      <td>0</td>\n",
       "      <td>44</td>\n",
       "    </tr>\n",
       "    <tr>\n",
       "      <th>3321</th>\n",
       "      <td>2018-05-15</td>\n",
       "      <td>93.0</td>\n",
       "      <td>S</td>\n",
       "      <td>29.87</td>\n",
       "      <td>Cloudy</td>\n",
       "      <td>68.02</td>\n",
       "      <td>63.4</td>\n",
       "      <td>0.00</td>\n",
       "      <td>4.6</td>\n",
       "      <td>60.66</td>\n",
       "      <td>45.0</td>\n",
       "      <td>29.97</td>\n",
       "      <td>867.0</td>\n",
       "      <td>2018</td>\n",
       "      <td>5</td>\n",
       "      <td>1</td>\n",
       "      <td>135</td>\n",
       "    </tr>\n",
       "    <tr>\n",
       "      <th>4114</th>\n",
       "      <td>2020-08-04</td>\n",
       "      <td>82.0</td>\n",
       "      <td>S</td>\n",
       "      <td>29.96</td>\n",
       "      <td>Cloudy</td>\n",
       "      <td>78.08</td>\n",
       "      <td>79.1</td>\n",
       "      <td>0.53</td>\n",
       "      <td>4.6</td>\n",
       "      <td>69.35</td>\n",
       "      <td>53.0</td>\n",
       "      <td>30.03</td>\n",
       "      <td>852.0</td>\n",
       "      <td>2020</td>\n",
       "      <td>8</td>\n",
       "      <td>1</td>\n",
       "      <td>217</td>\n",
       "    </tr>\n",
       "    <tr>\n",
       "      <th>4135</th>\n",
       "      <td>2020-08-25</td>\n",
       "      <td>62.0</td>\n",
       "      <td>W</td>\n",
       "      <td>29.83</td>\n",
       "      <td>Fair</td>\n",
       "      <td>82.77</td>\n",
       "      <td>76.7</td>\n",
       "      <td>0.00</td>\n",
       "      <td>3.9</td>\n",
       "      <td>63.87</td>\n",
       "      <td>41.0</td>\n",
       "      <td>29.89</td>\n",
       "      <td>802.0</td>\n",
       "      <td>2020</td>\n",
       "      <td>8</td>\n",
       "      <td>1</td>\n",
       "      <td>238</td>\n",
       "    </tr>\n",
       "    <tr>\n",
       "      <th>4216</th>\n",
       "      <td>2020-11-15</td>\n",
       "      <td>58.0</td>\n",
       "      <td>S</td>\n",
       "      <td>29.70</td>\n",
       "      <td>Mostly Cloudy</td>\n",
       "      <td>54.28</td>\n",
       "      <td>49.2</td>\n",
       "      <td>0.00</td>\n",
       "      <td>4.9</td>\n",
       "      <td>41.93</td>\n",
       "      <td>46.0</td>\n",
       "      <td>30.25</td>\n",
       "      <td>594.0</td>\n",
       "      <td>2020</td>\n",
       "      <td>11</td>\n",
       "      <td>6</td>\n",
       "      <td>320</td>\n",
       "    </tr>\n",
       "    <tr>\n",
       "      <th>4332</th>\n",
       "      <td>2021-03-13</td>\n",
       "      <td>20.0</td>\n",
       "      <td>W</td>\n",
       "      <td>30.12</td>\n",
       "      <td>Fair</td>\n",
       "      <td>43.30</td>\n",
       "      <td>42.0</td>\n",
       "      <td>0.00</td>\n",
       "      <td>5.2</td>\n",
       "      <td>9.43</td>\n",
       "      <td>40.0</td>\n",
       "      <td>30.30</td>\n",
       "      <td>709.0</td>\n",
       "      <td>2021</td>\n",
       "      <td>3</td>\n",
       "      <td>5</td>\n",
       "      <td>72</td>\n",
       "    </tr>\n",
       "    <tr>\n",
       "      <th>4458</th>\n",
       "      <td>2021-07-20</td>\n",
       "      <td>46.0</td>\n",
       "      <td>NW</td>\n",
       "      <td>29.90</td>\n",
       "      <td>Haze</td>\n",
       "      <td>82.67</td>\n",
       "      <td>79.6</td>\n",
       "      <td>0.01</td>\n",
       "      <td>4.9</td>\n",
       "      <td>64.89</td>\n",
       "      <td>9.0</td>\n",
       "      <td>29.92</td>\n",
       "      <td>881.0</td>\n",
       "      <td>2021</td>\n",
       "      <td>7</td>\n",
       "      <td>1</td>\n",
       "      <td>201</td>\n",
       "    </tr>\n",
       "    <tr>\n",
       "      <th>4500</th>\n",
       "      <td>2021-09-01</td>\n",
       "      <td>96.0</td>\n",
       "      <td>ENE</td>\n",
       "      <td>29.75</td>\n",
       "      <td>Cloudy</td>\n",
       "      <td>70.88</td>\n",
       "      <td>75.2</td>\n",
       "      <td>0.03</td>\n",
       "      <td>3.6</td>\n",
       "      <td>60.10</td>\n",
       "      <td>40.0</td>\n",
       "      <td>29.80</td>\n",
       "      <td>785.0</td>\n",
       "      <td>2021</td>\n",
       "      <td>9</td>\n",
       "      <td>2</td>\n",
       "      <td>244</td>\n",
       "    </tr>\n",
       "    <tr>\n",
       "      <th>4686</th>\n",
       "      <td>2022-03-12</td>\n",
       "      <td>86.0</td>\n",
       "      <td>NW</td>\n",
       "      <td>29.25</td>\n",
       "      <td>Light Snow</td>\n",
       "      <td>36.63</td>\n",
       "      <td>41.7</td>\n",
       "      <td>0.00</td>\n",
       "      <td>5.3</td>\n",
       "      <td>29.29</td>\n",
       "      <td>40.0</td>\n",
       "      <td>29.75</td>\n",
       "      <td>706.0</td>\n",
       "      <td>2022</td>\n",
       "      <td>3</td>\n",
       "      <td>5</td>\n",
       "      <td>71</td>\n",
       "    </tr>\n",
       "    <tr>\n",
       "      <th>5127</th>\n",
       "      <td>2023-06-06</td>\n",
       "      <td>39.0</td>\n",
       "      <td>NW</td>\n",
       "      <td>29.55</td>\n",
       "      <td>Haze</td>\n",
       "      <td>69.61</td>\n",
       "      <td>70.3</td>\n",
       "      <td>0.00</td>\n",
       "      <td>4.8</td>\n",
       "      <td>45.32</td>\n",
       "      <td>22.0</td>\n",
       "      <td>29.74</td>\n",
       "      <td>898.0</td>\n",
       "      <td>2023</td>\n",
       "      <td>6</td>\n",
       "      <td>1</td>\n",
       "      <td>157</td>\n",
       "    </tr>\n",
       "    <tr>\n",
       "      <th>5128</th>\n",
       "      <td>2023-06-07</td>\n",
       "      <td>39.0</td>\n",
       "      <td>NW</td>\n",
       "      <td>29.59</td>\n",
       "      <td>Smoke</td>\n",
       "      <td>64.89</td>\n",
       "      <td>70.7</td>\n",
       "      <td>0.04</td>\n",
       "      <td>4.9</td>\n",
       "      <td>42.18</td>\n",
       "      <td>22.0</td>\n",
       "      <td>29.65</td>\n",
       "      <td>899.0</td>\n",
       "      <td>2023</td>\n",
       "      <td>6</td>\n",
       "      <td>2</td>\n",
       "      <td>158</td>\n",
       "    </tr>\n",
       "    <tr>\n",
       "      <th>5129</th>\n",
       "      <td>2023-06-08</td>\n",
       "      <td>55.0</td>\n",
       "      <td>NNW</td>\n",
       "      <td>29.70</td>\n",
       "      <td>Smoke</td>\n",
       "      <td>63.50</td>\n",
       "      <td>71.0</td>\n",
       "      <td>0.00</td>\n",
       "      <td>4.9</td>\n",
       "      <td>44.64</td>\n",
       "      <td>13.0</td>\n",
       "      <td>29.72</td>\n",
       "      <td>900.0</td>\n",
       "      <td>2023</td>\n",
       "      <td>6</td>\n",
       "      <td>3</td>\n",
       "      <td>159</td>\n",
       "    </tr>\n",
       "    <tr>\n",
       "      <th>5151</th>\n",
       "      <td>2023-06-30</td>\n",
       "      <td>87.0</td>\n",
       "      <td>S</td>\n",
       "      <td>30.01</td>\n",
       "      <td>Smoke</td>\n",
       "      <td>76.13</td>\n",
       "      <td>77.6</td>\n",
       "      <td>0.00</td>\n",
       "      <td>5.2</td>\n",
       "      <td>63.39</td>\n",
       "      <td>16.0</td>\n",
       "      <td>30.04</td>\n",
       "      <td>903.0</td>\n",
       "      <td>2023</td>\n",
       "      <td>6</td>\n",
       "      <td>4</td>\n",
       "      <td>181</td>\n",
       "    </tr>\n",
       "  </tbody>\n",
       "</table>\n",
       "</div>"
      ],
      "text/plain": [
       "           Date  Humidity_Avg(%) Wind_Type  Pressure_Avg(in)      Condition  \\\n",
       "42   2009-02-12             43.0         W             29.32         Cloudy   \n",
       "228  2009-08-18             51.0       WSW             29.95           Fair   \n",
       "1385 2012-10-29             88.0       NNE             29.64         Cloudy   \n",
       "1470 2013-01-31             94.0         W             29.36         Cloudy   \n",
       "1876 2014-04-30             93.0       ENE             30.33     Heavy Rain   \n",
       "1898 2014-05-22             80.0        SE             29.83           Haze   \n",
       "2491 2016-01-10             93.0       ENE             29.81     Heavy Rain   \n",
       "2887 2017-02-13             54.0        NW             29.58  Mostly Cloudy   \n",
       "3321 2018-05-15             93.0         S             29.87         Cloudy   \n",
       "4114 2020-08-04             82.0         S             29.96         Cloudy   \n",
       "4135 2020-08-25             62.0         W             29.83           Fair   \n",
       "4216 2020-11-15             58.0         S             29.70  Mostly Cloudy   \n",
       "4332 2021-03-13             20.0         W             30.12           Fair   \n",
       "4458 2021-07-20             46.0        NW             29.90           Haze   \n",
       "4500 2021-09-01             96.0       ENE             29.75         Cloudy   \n",
       "4686 2022-03-12             86.0        NW             29.25     Light Snow   \n",
       "5127 2023-06-06             39.0        NW             29.55           Haze   \n",
       "5128 2023-06-07             39.0        NW             29.59          Smoke   \n",
       "5129 2023-06-08             55.0       NNW             29.70          Smoke   \n",
       "5151 2023-06-30             87.0         S             30.01          Smoke   \n",
       "\n",
       "      Temperature_Avg  Temperature_Historic  Precipitation_Actual  \\\n",
       "42              50.71                  35.7                  0.00   \n",
       "228             82.41                  77.7                  0.00   \n",
       "1385            59.03                  54.9                  0.00   \n",
       "1470            48.00                  34.1                  0.00   \n",
       "1876            45.67                  58.9                  0.55   \n",
       "1898            61.43                  65.5                  0.27   \n",
       "2491            52.28                  34.6                  0.63   \n",
       "2887            37.57                  35.9                  0.41   \n",
       "3321            68.02                  63.4                  0.00   \n",
       "4114            78.08                  79.1                  0.53   \n",
       "4135            82.77                  76.7                  0.00   \n",
       "4216            54.28                  49.2                  0.00   \n",
       "4332            43.30                  42.0                  0.00   \n",
       "4458            82.67                  79.6                  0.01   \n",
       "4500            70.88                  75.2                  0.03   \n",
       "4686            36.63                  41.7                  0.00   \n",
       "5127            69.61                  70.3                  0.00   \n",
       "5128            64.89                  70.7                  0.04   \n",
       "5129            63.50                  71.0                  0.00   \n",
       "5151            76.13                  77.6                  0.00   \n",
       "\n",
       "      Precipitation_Historic  Dew_Point  Max_Wind_Speed  Sea_Level_Pressure  \\\n",
       "42                       5.5      32.38            43.0               29.59   \n",
       "228                      4.1      65.66            43.0               30.09   \n",
       "1385                     4.3      54.07            56.0               29.61   \n",
       "1470                     5.5      32.50            40.0               29.75   \n",
       "1876                     4.5      42.25            21.0               30.38   \n",
       "1898                     4.7      55.70            12.0               29.86   \n",
       "2491                     5.7      47.83            26.0               29.99   \n",
       "2887                     5.6      22.65            41.0               29.96   \n",
       "3321                     4.6      60.66            45.0               29.97   \n",
       "4114                     4.6      69.35            53.0               30.03   \n",
       "4135                     3.9      63.87            41.0               29.89   \n",
       "4216                     4.9      41.93            46.0               30.25   \n",
       "4332                     5.2       9.43            40.0               30.30   \n",
       "4458                     4.9      64.89             9.0               29.92   \n",
       "4500                     3.6      60.10            40.0               29.80   \n",
       "4686                     5.3      29.29            40.0               29.75   \n",
       "5127                     4.8      45.32            22.0               29.74   \n",
       "5128                     4.9      42.18            22.0               29.65   \n",
       "5129                     4.9      44.64            13.0               29.72   \n",
       "5151                     5.2      63.39            16.0               30.04   \n",
       "\n",
       "      Day_Length(Minutes)  Year  Month  Day_of_weak  DayOfYear  \n",
       "42                  633.0  2009      2            3         43  \n",
       "228                 820.0  2009      8            1        230  \n",
       "1385                632.0  2012     10            0        303  \n",
       "1470                605.0  2013      1            3         31  \n",
       "1876                834.0  2014      4            2        120  \n",
       "1898                879.0  2014      5            3        142  \n",
       "2491                566.0  2016      1            6         10  \n",
       "2887                635.0  2017      2            0         44  \n",
       "3321                867.0  2018      5            1        135  \n",
       "4114                852.0  2020      8            1        217  \n",
       "4135                802.0  2020      8            1        238  \n",
       "4216                594.0  2020     11            6        320  \n",
       "4332                709.0  2021      3            5         72  \n",
       "4458                881.0  2021      7            1        201  \n",
       "4500                785.0  2021      9            2        244  \n",
       "4686                706.0  2022      3            5         71  \n",
       "5127                898.0  2023      6            1        157  \n",
       "5128                899.0  2023      6            2        158  \n",
       "5129                900.0  2023      6            3        159  \n",
       "5151                903.0  2023      6            4        181  "
      ]
     },
     "execution_count": 268,
     "metadata": {},
     "output_type": "execute_result"
    }
   ],
   "source": [
    "weather_conditions = ['Heavy Rain', 'Haze', 'Smoke']\n",
    "weather_related_vacation = df[(df['Temperature_Avg'] < -37) |\n",
    "                                    (df['Max_Wind_Speed'] >= 40) |\n",
    "                                    (df['Condition'].isin(weather_conditions))]\n",
    "\n",
    "weather_related_vacation"
   ]
  },
  {
   "cell_type": "code",
   "execution_count": 269,
   "metadata": {},
   "outputs": [
    {
     "name": "stdout",
     "output_type": "stream",
     "text": [
      "So 20days had weather conditions that maybe led to a vacation\n"
     ]
    }
   ],
   "source": [
    "print(f\"So {len(weather_related_vacation)}days had weather conditions that maybe led to a vacation\")"
   ]
  },
  {
   "cell_type": "markdown",
   "metadata": {},
   "source": [
    "#### Q9: How many Suitable Day for Exploiting Solar Energy by Month?"
   ]
  },
  {
   "cell_type": "markdown",
   "metadata": {},
   "source": [
    "- **Sunlight**: Solar panels ideally require a minimum of five hours of direct sunlight daily\n",
    "\n",
    "- **Temperature**: Solar panels generally work best at a moderate temperature, around 25°C (77°F)\n",
    "\n",
    "- **Absence of Extreme Weather**: Extreme weather conditions like heavy rain, snow, or high winds can reduce the efficiency of solar panels and potentially cause damage.\n"
   ]
  },
  {
   "cell_type": "code",
   "execution_count": 270,
   "metadata": {},
   "outputs": [],
   "source": [
    "weather_conditions = ['Heavy Rain', 'Wintry Mix', 'Snow','Light Drizzle']"
   ]
  },
  {
   "cell_type": "code",
   "execution_count": 271,
   "metadata": {},
   "outputs": [
    {
     "data": {
      "text/html": [
       "<div>\n",
       "<style scoped>\n",
       "    .dataframe tbody tr th:only-of-type {\n",
       "        vertical-align: middle;\n",
       "    }\n",
       "\n",
       "    .dataframe tbody tr th {\n",
       "        vertical-align: top;\n",
       "    }\n",
       "\n",
       "    .dataframe thead th {\n",
       "        text-align: right;\n",
       "    }\n",
       "</style>\n",
       "<table border=\"1\" class=\"dataframe\">\n",
       "  <thead>\n",
       "    <tr style=\"text-align: right;\">\n",
       "      <th></th>\n",
       "      <th>Month</th>\n",
       "      <th>Number Of Suitable Days</th>\n",
       "    </tr>\n",
       "  </thead>\n",
       "  <tbody>\n",
       "    <tr>\n",
       "      <th>0</th>\n",
       "      <td>4</td>\n",
       "      <td>4</td>\n",
       "    </tr>\n",
       "    <tr>\n",
       "      <th>1</th>\n",
       "      <td>5</td>\n",
       "      <td>26</td>\n",
       "    </tr>\n",
       "    <tr>\n",
       "      <th>2</th>\n",
       "      <td>6</td>\n",
       "      <td>101</td>\n",
       "    </tr>\n",
       "    <tr>\n",
       "      <th>3</th>\n",
       "      <td>7</td>\n",
       "      <td>292</td>\n",
       "    </tr>\n",
       "    <tr>\n",
       "      <th>4</th>\n",
       "      <td>8</td>\n",
       "      <td>235</td>\n",
       "    </tr>\n",
       "    <tr>\n",
       "      <th>5</th>\n",
       "      <td>9</td>\n",
       "      <td>63</td>\n",
       "    </tr>\n",
       "    <tr>\n",
       "      <th>6</th>\n",
       "      <td>10</td>\n",
       "      <td>1</td>\n",
       "    </tr>\n",
       "  </tbody>\n",
       "</table>\n",
       "</div>"
      ],
      "text/plain": [
       "   Month  Number Of Suitable Days\n",
       "0      4                        4\n",
       "1      5                       26\n",
       "2      6                      101\n",
       "3      7                      292\n",
       "4      8                      235\n",
       "5      9                       63\n",
       "6     10                        1"
      ]
     },
     "execution_count": 271,
     "metadata": {},
     "output_type": "execute_result"
    }
   ],
   "source": [
    "# Filter data to find suitable days for solar energy exploitation based on conditions\n",
    "solar_energy_days = df[(df['Day_Length(Minutes)'] >= 300) &\n",
    "                        (df['Temperature_Avg'] >= 77) &\n",
    "                        (~df['Condition'].isin(weather_conditions))]\n",
    "\n",
    "# Group the filtered data by 'Year' and 'Month', and count the number of suitable days for each month\n",
    "solar_each_Month = solar_energy_days.groupby(['Year', 'Month']).size().reset_index(name='Number Of Suitable Days')\n",
    "\n",
    "# Group the result by 'Month' and sum the number of suitable days for each month across all years\n",
    "solar_each_Month = solar_each_Month.groupby('Month')['Number Of Suitable Days'].sum().reset_index()\n",
    "solar_each_Month"
   ]
  },
  {
   "cell_type": "code",
   "execution_count": 272,
   "metadata": {},
   "outputs": [],
   "source": [
    "# There are some months that do not contain days that meet solar energy standards\n",
    "# But I want to add these months to the plot\n",
    "months = pd.DataFrame({'Month': range(1, 13)})\n",
    "all_months = pd.merge(months, solar_each_Month, on='Month', how='left').fillna(0)"
   ]
  },
  {
   "cell_type": "code",
   "execution_count": 273,
   "metadata": {},
   "outputs": [
    {
     "data": {
      "application/vnd.plotly.v1+json": {
       "config": {
        "plotlyServerURL": "https://plot.ly"
       },
       "data": [
        {
         "alignmentgroup": "True",
         "hovertemplate": "Month=%{x}<br>Number Of Suitable Days=%{y}<extra></extra>",
         "legendgroup": "",
         "marker": {
          "color": "#636efa",
          "pattern": {
           "shape": ""
          }
         },
         "name": "",
         "offsetgroup": "",
         "orientation": "v",
         "showlegend": false,
         "textposition": "auto",
         "type": "bar",
         "x": [
          1,
          2,
          3,
          4,
          5,
          6,
          7,
          8,
          9,
          10,
          11,
          12
         ],
         "xaxis": "x",
         "y": [
          0,
          0,
          0,
          4,
          26,
          101,
          292,
          235,
          63,
          1,
          0,
          0
         ],
         "yaxis": "y"
        }
       ],
       "layout": {
        "barmode": "relative",
        "legend": {
         "tracegroupgap": 0
        },
        "template": {
         "data": {
          "bar": [
           {
            "error_x": {
             "color": "#2a3f5f"
            },
            "error_y": {
             "color": "#2a3f5f"
            },
            "marker": {
             "line": {
              "color": "#E5ECF6",
              "width": 0.5
             },
             "pattern": {
              "fillmode": "overlay",
              "size": 10,
              "solidity": 0.2
             }
            },
            "type": "bar"
           }
          ],
          "barpolar": [
           {
            "marker": {
             "line": {
              "color": "#E5ECF6",
              "width": 0.5
             },
             "pattern": {
              "fillmode": "overlay",
              "size": 10,
              "solidity": 0.2
             }
            },
            "type": "barpolar"
           }
          ],
          "carpet": [
           {
            "aaxis": {
             "endlinecolor": "#2a3f5f",
             "gridcolor": "white",
             "linecolor": "white",
             "minorgridcolor": "white",
             "startlinecolor": "#2a3f5f"
            },
            "baxis": {
             "endlinecolor": "#2a3f5f",
             "gridcolor": "white",
             "linecolor": "white",
             "minorgridcolor": "white",
             "startlinecolor": "#2a3f5f"
            },
            "type": "carpet"
           }
          ],
          "choropleth": [
           {
            "colorbar": {
             "outlinewidth": 0,
             "ticks": ""
            },
            "type": "choropleth"
           }
          ],
          "contour": [
           {
            "colorbar": {
             "outlinewidth": 0,
             "ticks": ""
            },
            "colorscale": [
             [
              0,
              "#0d0887"
             ],
             [
              0.1111111111111111,
              "#46039f"
             ],
             [
              0.2222222222222222,
              "#7201a8"
             ],
             [
              0.3333333333333333,
              "#9c179e"
             ],
             [
              0.4444444444444444,
              "#bd3786"
             ],
             [
              0.5555555555555556,
              "#d8576b"
             ],
             [
              0.6666666666666666,
              "#ed7953"
             ],
             [
              0.7777777777777778,
              "#fb9f3a"
             ],
             [
              0.8888888888888888,
              "#fdca26"
             ],
             [
              1,
              "#f0f921"
             ]
            ],
            "type": "contour"
           }
          ],
          "contourcarpet": [
           {
            "colorbar": {
             "outlinewidth": 0,
             "ticks": ""
            },
            "type": "contourcarpet"
           }
          ],
          "heatmap": [
           {
            "colorbar": {
             "outlinewidth": 0,
             "ticks": ""
            },
            "colorscale": [
             [
              0,
              "#0d0887"
             ],
             [
              0.1111111111111111,
              "#46039f"
             ],
             [
              0.2222222222222222,
              "#7201a8"
             ],
             [
              0.3333333333333333,
              "#9c179e"
             ],
             [
              0.4444444444444444,
              "#bd3786"
             ],
             [
              0.5555555555555556,
              "#d8576b"
             ],
             [
              0.6666666666666666,
              "#ed7953"
             ],
             [
              0.7777777777777778,
              "#fb9f3a"
             ],
             [
              0.8888888888888888,
              "#fdca26"
             ],
             [
              1,
              "#f0f921"
             ]
            ],
            "type": "heatmap"
           }
          ],
          "heatmapgl": [
           {
            "colorbar": {
             "outlinewidth": 0,
             "ticks": ""
            },
            "colorscale": [
             [
              0,
              "#0d0887"
             ],
             [
              0.1111111111111111,
              "#46039f"
             ],
             [
              0.2222222222222222,
              "#7201a8"
             ],
             [
              0.3333333333333333,
              "#9c179e"
             ],
             [
              0.4444444444444444,
              "#bd3786"
             ],
             [
              0.5555555555555556,
              "#d8576b"
             ],
             [
              0.6666666666666666,
              "#ed7953"
             ],
             [
              0.7777777777777778,
              "#fb9f3a"
             ],
             [
              0.8888888888888888,
              "#fdca26"
             ],
             [
              1,
              "#f0f921"
             ]
            ],
            "type": "heatmapgl"
           }
          ],
          "histogram": [
           {
            "marker": {
             "pattern": {
              "fillmode": "overlay",
              "size": 10,
              "solidity": 0.2
             }
            },
            "type": "histogram"
           }
          ],
          "histogram2d": [
           {
            "colorbar": {
             "outlinewidth": 0,
             "ticks": ""
            },
            "colorscale": [
             [
              0,
              "#0d0887"
             ],
             [
              0.1111111111111111,
              "#46039f"
             ],
             [
              0.2222222222222222,
              "#7201a8"
             ],
             [
              0.3333333333333333,
              "#9c179e"
             ],
             [
              0.4444444444444444,
              "#bd3786"
             ],
             [
              0.5555555555555556,
              "#d8576b"
             ],
             [
              0.6666666666666666,
              "#ed7953"
             ],
             [
              0.7777777777777778,
              "#fb9f3a"
             ],
             [
              0.8888888888888888,
              "#fdca26"
             ],
             [
              1,
              "#f0f921"
             ]
            ],
            "type": "histogram2d"
           }
          ],
          "histogram2dcontour": [
           {
            "colorbar": {
             "outlinewidth": 0,
             "ticks": ""
            },
            "colorscale": [
             [
              0,
              "#0d0887"
             ],
             [
              0.1111111111111111,
              "#46039f"
             ],
             [
              0.2222222222222222,
              "#7201a8"
             ],
             [
              0.3333333333333333,
              "#9c179e"
             ],
             [
              0.4444444444444444,
              "#bd3786"
             ],
             [
              0.5555555555555556,
              "#d8576b"
             ],
             [
              0.6666666666666666,
              "#ed7953"
             ],
             [
              0.7777777777777778,
              "#fb9f3a"
             ],
             [
              0.8888888888888888,
              "#fdca26"
             ],
             [
              1,
              "#f0f921"
             ]
            ],
            "type": "histogram2dcontour"
           }
          ],
          "mesh3d": [
           {
            "colorbar": {
             "outlinewidth": 0,
             "ticks": ""
            },
            "type": "mesh3d"
           }
          ],
          "parcoords": [
           {
            "line": {
             "colorbar": {
              "outlinewidth": 0,
              "ticks": ""
             }
            },
            "type": "parcoords"
           }
          ],
          "pie": [
           {
            "automargin": true,
            "type": "pie"
           }
          ],
          "scatter": [
           {
            "fillpattern": {
             "fillmode": "overlay",
             "size": 10,
             "solidity": 0.2
            },
            "type": "scatter"
           }
          ],
          "scatter3d": [
           {
            "line": {
             "colorbar": {
              "outlinewidth": 0,
              "ticks": ""
             }
            },
            "marker": {
             "colorbar": {
              "outlinewidth": 0,
              "ticks": ""
             }
            },
            "type": "scatter3d"
           }
          ],
          "scattercarpet": [
           {
            "marker": {
             "colorbar": {
              "outlinewidth": 0,
              "ticks": ""
             }
            },
            "type": "scattercarpet"
           }
          ],
          "scattergeo": [
           {
            "marker": {
             "colorbar": {
              "outlinewidth": 0,
              "ticks": ""
             }
            },
            "type": "scattergeo"
           }
          ],
          "scattergl": [
           {
            "marker": {
             "colorbar": {
              "outlinewidth": 0,
              "ticks": ""
             }
            },
            "type": "scattergl"
           }
          ],
          "scattermapbox": [
           {
            "marker": {
             "colorbar": {
              "outlinewidth": 0,
              "ticks": ""
             }
            },
            "type": "scattermapbox"
           }
          ],
          "scatterpolar": [
           {
            "marker": {
             "colorbar": {
              "outlinewidth": 0,
              "ticks": ""
             }
            },
            "type": "scatterpolar"
           }
          ],
          "scatterpolargl": [
           {
            "marker": {
             "colorbar": {
              "outlinewidth": 0,
              "ticks": ""
             }
            },
            "type": "scatterpolargl"
           }
          ],
          "scatterternary": [
           {
            "marker": {
             "colorbar": {
              "outlinewidth": 0,
              "ticks": ""
             }
            },
            "type": "scatterternary"
           }
          ],
          "surface": [
           {
            "colorbar": {
             "outlinewidth": 0,
             "ticks": ""
            },
            "colorscale": [
             [
              0,
              "#0d0887"
             ],
             [
              0.1111111111111111,
              "#46039f"
             ],
             [
              0.2222222222222222,
              "#7201a8"
             ],
             [
              0.3333333333333333,
              "#9c179e"
             ],
             [
              0.4444444444444444,
              "#bd3786"
             ],
             [
              0.5555555555555556,
              "#d8576b"
             ],
             [
              0.6666666666666666,
              "#ed7953"
             ],
             [
              0.7777777777777778,
              "#fb9f3a"
             ],
             [
              0.8888888888888888,
              "#fdca26"
             ],
             [
              1,
              "#f0f921"
             ]
            ],
            "type": "surface"
           }
          ],
          "table": [
           {
            "cells": {
             "fill": {
              "color": "#EBF0F8"
             },
             "line": {
              "color": "white"
             }
            },
            "header": {
             "fill": {
              "color": "#C8D4E3"
             },
             "line": {
              "color": "white"
             }
            },
            "type": "table"
           }
          ]
         },
         "layout": {
          "annotationdefaults": {
           "arrowcolor": "#2a3f5f",
           "arrowhead": 0,
           "arrowwidth": 1
          },
          "autotypenumbers": "strict",
          "coloraxis": {
           "colorbar": {
            "outlinewidth": 0,
            "ticks": ""
           }
          },
          "colorscale": {
           "diverging": [
            [
             0,
             "#8e0152"
            ],
            [
             0.1,
             "#c51b7d"
            ],
            [
             0.2,
             "#de77ae"
            ],
            [
             0.3,
             "#f1b6da"
            ],
            [
             0.4,
             "#fde0ef"
            ],
            [
             0.5,
             "#f7f7f7"
            ],
            [
             0.6,
             "#e6f5d0"
            ],
            [
             0.7,
             "#b8e186"
            ],
            [
             0.8,
             "#7fbc41"
            ],
            [
             0.9,
             "#4d9221"
            ],
            [
             1,
             "#276419"
            ]
           ],
           "sequential": [
            [
             0,
             "#0d0887"
            ],
            [
             0.1111111111111111,
             "#46039f"
            ],
            [
             0.2222222222222222,
             "#7201a8"
            ],
            [
             0.3333333333333333,
             "#9c179e"
            ],
            [
             0.4444444444444444,
             "#bd3786"
            ],
            [
             0.5555555555555556,
             "#d8576b"
            ],
            [
             0.6666666666666666,
             "#ed7953"
            ],
            [
             0.7777777777777778,
             "#fb9f3a"
            ],
            [
             0.8888888888888888,
             "#fdca26"
            ],
            [
             1,
             "#f0f921"
            ]
           ],
           "sequentialminus": [
            [
             0,
             "#0d0887"
            ],
            [
             0.1111111111111111,
             "#46039f"
            ],
            [
             0.2222222222222222,
             "#7201a8"
            ],
            [
             0.3333333333333333,
             "#9c179e"
            ],
            [
             0.4444444444444444,
             "#bd3786"
            ],
            [
             0.5555555555555556,
             "#d8576b"
            ],
            [
             0.6666666666666666,
             "#ed7953"
            ],
            [
             0.7777777777777778,
             "#fb9f3a"
            ],
            [
             0.8888888888888888,
             "#fdca26"
            ],
            [
             1,
             "#f0f921"
            ]
           ]
          },
          "colorway": [
           "#636efa",
           "#EF553B",
           "#00cc96",
           "#ab63fa",
           "#FFA15A",
           "#19d3f3",
           "#FF6692",
           "#B6E880",
           "#FF97FF",
           "#FECB52"
          ],
          "font": {
           "color": "#2a3f5f"
          },
          "geo": {
           "bgcolor": "white",
           "lakecolor": "white",
           "landcolor": "#E5ECF6",
           "showlakes": true,
           "showland": true,
           "subunitcolor": "white"
          },
          "hoverlabel": {
           "align": "left"
          },
          "hovermode": "closest",
          "mapbox": {
           "style": "light"
          },
          "paper_bgcolor": "white",
          "plot_bgcolor": "#E5ECF6",
          "polar": {
           "angularaxis": {
            "gridcolor": "white",
            "linecolor": "white",
            "ticks": ""
           },
           "bgcolor": "#E5ECF6",
           "radialaxis": {
            "gridcolor": "white",
            "linecolor": "white",
            "ticks": ""
           }
          },
          "scene": {
           "xaxis": {
            "backgroundcolor": "#E5ECF6",
            "gridcolor": "white",
            "gridwidth": 2,
            "linecolor": "white",
            "showbackground": true,
            "ticks": "",
            "zerolinecolor": "white"
           },
           "yaxis": {
            "backgroundcolor": "#E5ECF6",
            "gridcolor": "white",
            "gridwidth": 2,
            "linecolor": "white",
            "showbackground": true,
            "ticks": "",
            "zerolinecolor": "white"
           },
           "zaxis": {
            "backgroundcolor": "#E5ECF6",
            "gridcolor": "white",
            "gridwidth": 2,
            "linecolor": "white",
            "showbackground": true,
            "ticks": "",
            "zerolinecolor": "white"
           }
          },
          "shapedefaults": {
           "line": {
            "color": "#2a3f5f"
           }
          },
          "ternary": {
           "aaxis": {
            "gridcolor": "white",
            "linecolor": "white",
            "ticks": ""
           },
           "baxis": {
            "gridcolor": "white",
            "linecolor": "white",
            "ticks": ""
           },
           "bgcolor": "#E5ECF6",
           "caxis": {
            "gridcolor": "white",
            "linecolor": "white",
            "ticks": ""
           }
          },
          "title": {
           "x": 0.05
          },
          "xaxis": {
           "automargin": true,
           "gridcolor": "white",
           "linecolor": "white",
           "ticks": "",
           "title": {
            "standoff": 15
           },
           "zerolinecolor": "white",
           "zerolinewidth": 2
          },
          "yaxis": {
           "automargin": true,
           "gridcolor": "white",
           "linecolor": "white",
           "ticks": "",
           "title": {
            "standoff": 15
           },
           "zerolinecolor": "white",
           "zerolinewidth": 2
          }
         }
        },
        "title": {
         "text": "Number of Suitable Day for Exploiting Solar Energy by Month"
        },
        "xaxis": {
         "anchor": "y",
         "domain": [
          0,
          1
         ],
         "title": {
          "text": "Month"
         }
        },
        "yaxis": {
         "anchor": "x",
         "domain": [
          0,
          1
         ],
         "title": {
          "text": "Number Of Suitable Days"
         }
        }
       }
      }
     },
     "metadata": {},
     "output_type": "display_data"
    }
   ],
   "source": [
    "fig = px.bar(all_months, x='Month', y='Number Of Suitable Days', \n",
    "             title='Number of Suitable Day for Exploiting Solar Energy by Month')\n",
    "fig.show()"
   ]
  },
  {
   "cell_type": "markdown",
   "metadata": {},
   "source": [
    "It turns out that the warm season, which we previously conclued, presents the optimal conditions for the exploitation of solar energy. This observation aligns with expectations, as higher temperatures typically correspond to increased solar energy availability. Notably, July emerges as the hottest month, consequently boasting the highest number of exploitable days for solar energy. This correlation underscores the significance of temperature in influencing solar energy potential, further reinforcing the importance of leveraging weather patterns to maximize renewable energy utilization."
   ]
  },
  {
   "cell_type": "markdown",
   "metadata": {},
   "source": [
    "#### Q10: What is the general weather condition in New York?"
   ]
  },
  {
   "cell_type": "code",
   "execution_count": 274,
   "metadata": {},
   "outputs": [
    {
     "data": {
      "text/plain": [
       "Month\n",
       "1            Cloudy\n",
       "2            Cloudy\n",
       "3            Cloudy\n",
       "4     Mostly Cloudy\n",
       "5     Mostly Cloudy\n",
       "6     Mostly Cloudy\n",
       "7     Mostly Cloudy\n",
       "8     Mostly Cloudy\n",
       "9     Mostly Cloudy\n",
       "10    Mostly Cloudy\n",
       "11             Fair\n",
       "12           Cloudy\n",
       "Name: Condition, dtype: object"
      ]
     },
     "execution_count": 274,
     "metadata": {},
     "output_type": "execute_result"
    }
   ],
   "source": [
    "most_common_condition_by_month = df.groupby('Month')['Condition'].agg(lambda x: x.mode())\n",
    "most_common_condition_by_month"
   ]
  },
  {
   "cell_type": "code",
   "execution_count": 275,
   "metadata": {},
   "outputs": [
    {
     "data": {
      "application/vnd.plotly.v1+json": {
       "config": {
        "plotlyServerURL": "https://plot.ly"
       },
       "data": [
        {
         "alignmentgroup": "True",
         "hovertemplate": "Condition=%{x}<br>Frequency=%{y}<br>color=%{marker.color}<extra></extra>",
         "legendgroup": "",
         "marker": {
          "color": [
           7,
           4,
           1
          ],
          "coloraxis": "coloraxis",
          "pattern": {
           "shape": ""
          }
         },
         "name": "",
         "offsetgroup": "",
         "orientation": "v",
         "showlegend": false,
         "textposition": "auto",
         "type": "bar",
         "x": [
          "Mostly Cloudy",
          "Cloudy",
          "Fair"
         ],
         "xaxis": "x",
         "y": [
          7,
          4,
          1
         ],
         "yaxis": "y"
        }
       ],
       "layout": {
        "barmode": "relative",
        "coloraxis": {
         "colorbar": {
          "title": {
           "text": "color"
          }
         },
         "colorscale": [
          [
           0,
           "rgb(247,251,255)"
          ],
          [
           0.125,
           "rgb(222,235,247)"
          ],
          [
           0.25,
           "rgb(198,219,239)"
          ],
          [
           0.375,
           "rgb(158,202,225)"
          ],
          [
           0.5,
           "rgb(107,174,214)"
          ],
          [
           0.625,
           "rgb(66,146,198)"
          ],
          [
           0.75,
           "rgb(33,113,181)"
          ],
          [
           0.875,
           "rgb(8,81,156)"
          ],
          [
           1,
           "rgb(8,48,107)"
          ]
         ]
        },
        "legend": {
         "tracegroupgap": 0
        },
        "margin": {
         "t": 60
        },
        "template": {
         "data": {
          "bar": [
           {
            "error_x": {
             "color": "#2a3f5f"
            },
            "error_y": {
             "color": "#2a3f5f"
            },
            "marker": {
             "line": {
              "color": "#E5ECF6",
              "width": 0.5
             },
             "pattern": {
              "fillmode": "overlay",
              "size": 10,
              "solidity": 0.2
             }
            },
            "type": "bar"
           }
          ],
          "barpolar": [
           {
            "marker": {
             "line": {
              "color": "#E5ECF6",
              "width": 0.5
             },
             "pattern": {
              "fillmode": "overlay",
              "size": 10,
              "solidity": 0.2
             }
            },
            "type": "barpolar"
           }
          ],
          "carpet": [
           {
            "aaxis": {
             "endlinecolor": "#2a3f5f",
             "gridcolor": "white",
             "linecolor": "white",
             "minorgridcolor": "white",
             "startlinecolor": "#2a3f5f"
            },
            "baxis": {
             "endlinecolor": "#2a3f5f",
             "gridcolor": "white",
             "linecolor": "white",
             "minorgridcolor": "white",
             "startlinecolor": "#2a3f5f"
            },
            "type": "carpet"
           }
          ],
          "choropleth": [
           {
            "colorbar": {
             "outlinewidth": 0,
             "ticks": ""
            },
            "type": "choropleth"
           }
          ],
          "contour": [
           {
            "colorbar": {
             "outlinewidth": 0,
             "ticks": ""
            },
            "colorscale": [
             [
              0,
              "#0d0887"
             ],
             [
              0.1111111111111111,
              "#46039f"
             ],
             [
              0.2222222222222222,
              "#7201a8"
             ],
             [
              0.3333333333333333,
              "#9c179e"
             ],
             [
              0.4444444444444444,
              "#bd3786"
             ],
             [
              0.5555555555555556,
              "#d8576b"
             ],
             [
              0.6666666666666666,
              "#ed7953"
             ],
             [
              0.7777777777777778,
              "#fb9f3a"
             ],
             [
              0.8888888888888888,
              "#fdca26"
             ],
             [
              1,
              "#f0f921"
             ]
            ],
            "type": "contour"
           }
          ],
          "contourcarpet": [
           {
            "colorbar": {
             "outlinewidth": 0,
             "ticks": ""
            },
            "type": "contourcarpet"
           }
          ],
          "heatmap": [
           {
            "colorbar": {
             "outlinewidth": 0,
             "ticks": ""
            },
            "colorscale": [
             [
              0,
              "#0d0887"
             ],
             [
              0.1111111111111111,
              "#46039f"
             ],
             [
              0.2222222222222222,
              "#7201a8"
             ],
             [
              0.3333333333333333,
              "#9c179e"
             ],
             [
              0.4444444444444444,
              "#bd3786"
             ],
             [
              0.5555555555555556,
              "#d8576b"
             ],
             [
              0.6666666666666666,
              "#ed7953"
             ],
             [
              0.7777777777777778,
              "#fb9f3a"
             ],
             [
              0.8888888888888888,
              "#fdca26"
             ],
             [
              1,
              "#f0f921"
             ]
            ],
            "type": "heatmap"
           }
          ],
          "heatmapgl": [
           {
            "colorbar": {
             "outlinewidth": 0,
             "ticks": ""
            },
            "colorscale": [
             [
              0,
              "#0d0887"
             ],
             [
              0.1111111111111111,
              "#46039f"
             ],
             [
              0.2222222222222222,
              "#7201a8"
             ],
             [
              0.3333333333333333,
              "#9c179e"
             ],
             [
              0.4444444444444444,
              "#bd3786"
             ],
             [
              0.5555555555555556,
              "#d8576b"
             ],
             [
              0.6666666666666666,
              "#ed7953"
             ],
             [
              0.7777777777777778,
              "#fb9f3a"
             ],
             [
              0.8888888888888888,
              "#fdca26"
             ],
             [
              1,
              "#f0f921"
             ]
            ],
            "type": "heatmapgl"
           }
          ],
          "histogram": [
           {
            "marker": {
             "pattern": {
              "fillmode": "overlay",
              "size": 10,
              "solidity": 0.2
             }
            },
            "type": "histogram"
           }
          ],
          "histogram2d": [
           {
            "colorbar": {
             "outlinewidth": 0,
             "ticks": ""
            },
            "colorscale": [
             [
              0,
              "#0d0887"
             ],
             [
              0.1111111111111111,
              "#46039f"
             ],
             [
              0.2222222222222222,
              "#7201a8"
             ],
             [
              0.3333333333333333,
              "#9c179e"
             ],
             [
              0.4444444444444444,
              "#bd3786"
             ],
             [
              0.5555555555555556,
              "#d8576b"
             ],
             [
              0.6666666666666666,
              "#ed7953"
             ],
             [
              0.7777777777777778,
              "#fb9f3a"
             ],
             [
              0.8888888888888888,
              "#fdca26"
             ],
             [
              1,
              "#f0f921"
             ]
            ],
            "type": "histogram2d"
           }
          ],
          "histogram2dcontour": [
           {
            "colorbar": {
             "outlinewidth": 0,
             "ticks": ""
            },
            "colorscale": [
             [
              0,
              "#0d0887"
             ],
             [
              0.1111111111111111,
              "#46039f"
             ],
             [
              0.2222222222222222,
              "#7201a8"
             ],
             [
              0.3333333333333333,
              "#9c179e"
             ],
             [
              0.4444444444444444,
              "#bd3786"
             ],
             [
              0.5555555555555556,
              "#d8576b"
             ],
             [
              0.6666666666666666,
              "#ed7953"
             ],
             [
              0.7777777777777778,
              "#fb9f3a"
             ],
             [
              0.8888888888888888,
              "#fdca26"
             ],
             [
              1,
              "#f0f921"
             ]
            ],
            "type": "histogram2dcontour"
           }
          ],
          "mesh3d": [
           {
            "colorbar": {
             "outlinewidth": 0,
             "ticks": ""
            },
            "type": "mesh3d"
           }
          ],
          "parcoords": [
           {
            "line": {
             "colorbar": {
              "outlinewidth": 0,
              "ticks": ""
             }
            },
            "type": "parcoords"
           }
          ],
          "pie": [
           {
            "automargin": true,
            "type": "pie"
           }
          ],
          "scatter": [
           {
            "fillpattern": {
             "fillmode": "overlay",
             "size": 10,
             "solidity": 0.2
            },
            "type": "scatter"
           }
          ],
          "scatter3d": [
           {
            "line": {
             "colorbar": {
              "outlinewidth": 0,
              "ticks": ""
             }
            },
            "marker": {
             "colorbar": {
              "outlinewidth": 0,
              "ticks": ""
             }
            },
            "type": "scatter3d"
           }
          ],
          "scattercarpet": [
           {
            "marker": {
             "colorbar": {
              "outlinewidth": 0,
              "ticks": ""
             }
            },
            "type": "scattercarpet"
           }
          ],
          "scattergeo": [
           {
            "marker": {
             "colorbar": {
              "outlinewidth": 0,
              "ticks": ""
             }
            },
            "type": "scattergeo"
           }
          ],
          "scattergl": [
           {
            "marker": {
             "colorbar": {
              "outlinewidth": 0,
              "ticks": ""
             }
            },
            "type": "scattergl"
           }
          ],
          "scattermapbox": [
           {
            "marker": {
             "colorbar": {
              "outlinewidth": 0,
              "ticks": ""
             }
            },
            "type": "scattermapbox"
           }
          ],
          "scatterpolar": [
           {
            "marker": {
             "colorbar": {
              "outlinewidth": 0,
              "ticks": ""
             }
            },
            "type": "scatterpolar"
           }
          ],
          "scatterpolargl": [
           {
            "marker": {
             "colorbar": {
              "outlinewidth": 0,
              "ticks": ""
             }
            },
            "type": "scatterpolargl"
           }
          ],
          "scatterternary": [
           {
            "marker": {
             "colorbar": {
              "outlinewidth": 0,
              "ticks": ""
             }
            },
            "type": "scatterternary"
           }
          ],
          "surface": [
           {
            "colorbar": {
             "outlinewidth": 0,
             "ticks": ""
            },
            "colorscale": [
             [
              0,
              "#0d0887"
             ],
             [
              0.1111111111111111,
              "#46039f"
             ],
             [
              0.2222222222222222,
              "#7201a8"
             ],
             [
              0.3333333333333333,
              "#9c179e"
             ],
             [
              0.4444444444444444,
              "#bd3786"
             ],
             [
              0.5555555555555556,
              "#d8576b"
             ],
             [
              0.6666666666666666,
              "#ed7953"
             ],
             [
              0.7777777777777778,
              "#fb9f3a"
             ],
             [
              0.8888888888888888,
              "#fdca26"
             ],
             [
              1,
              "#f0f921"
             ]
            ],
            "type": "surface"
           }
          ],
          "table": [
           {
            "cells": {
             "fill": {
              "color": "#EBF0F8"
             },
             "line": {
              "color": "white"
             }
            },
            "header": {
             "fill": {
              "color": "#C8D4E3"
             },
             "line": {
              "color": "white"
             }
            },
            "type": "table"
           }
          ]
         },
         "layout": {
          "annotationdefaults": {
           "arrowcolor": "#2a3f5f",
           "arrowhead": 0,
           "arrowwidth": 1
          },
          "autotypenumbers": "strict",
          "coloraxis": {
           "colorbar": {
            "outlinewidth": 0,
            "ticks": ""
           }
          },
          "colorscale": {
           "diverging": [
            [
             0,
             "#8e0152"
            ],
            [
             0.1,
             "#c51b7d"
            ],
            [
             0.2,
             "#de77ae"
            ],
            [
             0.3,
             "#f1b6da"
            ],
            [
             0.4,
             "#fde0ef"
            ],
            [
             0.5,
             "#f7f7f7"
            ],
            [
             0.6,
             "#e6f5d0"
            ],
            [
             0.7,
             "#b8e186"
            ],
            [
             0.8,
             "#7fbc41"
            ],
            [
             0.9,
             "#4d9221"
            ],
            [
             1,
             "#276419"
            ]
           ],
           "sequential": [
            [
             0,
             "#0d0887"
            ],
            [
             0.1111111111111111,
             "#46039f"
            ],
            [
             0.2222222222222222,
             "#7201a8"
            ],
            [
             0.3333333333333333,
             "#9c179e"
            ],
            [
             0.4444444444444444,
             "#bd3786"
            ],
            [
             0.5555555555555556,
             "#d8576b"
            ],
            [
             0.6666666666666666,
             "#ed7953"
            ],
            [
             0.7777777777777778,
             "#fb9f3a"
            ],
            [
             0.8888888888888888,
             "#fdca26"
            ],
            [
             1,
             "#f0f921"
            ]
           ],
           "sequentialminus": [
            [
             0,
             "#0d0887"
            ],
            [
             0.1111111111111111,
             "#46039f"
            ],
            [
             0.2222222222222222,
             "#7201a8"
            ],
            [
             0.3333333333333333,
             "#9c179e"
            ],
            [
             0.4444444444444444,
             "#bd3786"
            ],
            [
             0.5555555555555556,
             "#d8576b"
            ],
            [
             0.6666666666666666,
             "#ed7953"
            ],
            [
             0.7777777777777778,
             "#fb9f3a"
            ],
            [
             0.8888888888888888,
             "#fdca26"
            ],
            [
             1,
             "#f0f921"
            ]
           ]
          },
          "colorway": [
           "#636efa",
           "#EF553B",
           "#00cc96",
           "#ab63fa",
           "#FFA15A",
           "#19d3f3",
           "#FF6692",
           "#B6E880",
           "#FF97FF",
           "#FECB52"
          ],
          "font": {
           "color": "#2a3f5f"
          },
          "geo": {
           "bgcolor": "white",
           "lakecolor": "white",
           "landcolor": "#E5ECF6",
           "showlakes": true,
           "showland": true,
           "subunitcolor": "white"
          },
          "hoverlabel": {
           "align": "left"
          },
          "hovermode": "closest",
          "mapbox": {
           "style": "light"
          },
          "paper_bgcolor": "white",
          "plot_bgcolor": "#E5ECF6",
          "polar": {
           "angularaxis": {
            "gridcolor": "white",
            "linecolor": "white",
            "ticks": ""
           },
           "bgcolor": "#E5ECF6",
           "radialaxis": {
            "gridcolor": "white",
            "linecolor": "white",
            "ticks": ""
           }
          },
          "scene": {
           "xaxis": {
            "backgroundcolor": "#E5ECF6",
            "gridcolor": "white",
            "gridwidth": 2,
            "linecolor": "white",
            "showbackground": true,
            "ticks": "",
            "zerolinecolor": "white"
           },
           "yaxis": {
            "backgroundcolor": "#E5ECF6",
            "gridcolor": "white",
            "gridwidth": 2,
            "linecolor": "white",
            "showbackground": true,
            "ticks": "",
            "zerolinecolor": "white"
           },
           "zaxis": {
            "backgroundcolor": "#E5ECF6",
            "gridcolor": "white",
            "gridwidth": 2,
            "linecolor": "white",
            "showbackground": true,
            "ticks": "",
            "zerolinecolor": "white"
           }
          },
          "shapedefaults": {
           "line": {
            "color": "#2a3f5f"
           }
          },
          "ternary": {
           "aaxis": {
            "gridcolor": "white",
            "linecolor": "white",
            "ticks": ""
           },
           "baxis": {
            "gridcolor": "white",
            "linecolor": "white",
            "ticks": ""
           },
           "bgcolor": "#E5ECF6",
           "caxis": {
            "gridcolor": "white",
            "linecolor": "white",
            "ticks": ""
           }
          },
          "title": {
           "x": 0.05
          },
          "xaxis": {
           "automargin": true,
           "gridcolor": "white",
           "linecolor": "white",
           "ticks": "",
           "title": {
            "standoff": 15
           },
           "zerolinecolor": "white",
           "zerolinewidth": 2
          },
          "yaxis": {
           "automargin": true,
           "gridcolor": "white",
           "linecolor": "white",
           "ticks": "",
           "title": {
            "standoff": 15
           },
           "zerolinecolor": "white",
           "zerolinewidth": 2
          }
         }
        },
        "title": {
         "text": "Most Common Weather Condition by Month"
        },
        "xaxis": {
         "anchor": "y",
         "domain": [
          0,
          1
         ],
         "title": {
          "text": "Condition"
         }
        },
        "yaxis": {
         "anchor": "x",
         "domain": [
          0,
          1
         ],
         "title": {
          "text": "Frequency"
         }
        }
       }
      }
     },
     "metadata": {},
     "output_type": "display_data"
    }
   ],
   "source": [
    "value_counts = most_common_condition_by_month.value_counts()\n",
    "\n",
    "fig = px.bar(value_counts, x=value_counts.index, y=value_counts.values, labels={'x':'Weather Condition', 'y':'Frequency'}, color=value_counts.values, color_continuous_scale='Blues')\n",
    "fig.update_layout(title_text='Most Common Weather Condition by Month')\n",
    "fig.show()\n",
    "\n",
    "\n"
   ]
  },
  {
   "cell_type": "markdown",
   "metadata": {},
   "source": [
    "Common weather conditions in New York is Mostly Cloudy <br>\n",
    "It also seems that November is the clearest month"
   ]
  },
  {
   "cell_type": "markdown",
   "metadata": {},
   "source": [
    "#### Q11 : What is the month with the most wet days?"
   ]
  },
  {
   "cell_type": "markdown",
   "metadata": {},
   "source": [
    "A wet day is one with at least 0.04 inches of liquid"
   ]
  },
  {
   "cell_type": "code",
   "execution_count": 276,
   "metadata": {},
   "outputs": [],
   "source": [
    "df_copy = df.copy()\n",
    "df_copy['Wet_Day'] = df['Precipitation_Actual'] >= 0.04"
   ]
  },
  {
   "cell_type": "code",
   "execution_count": 277,
   "metadata": {},
   "outputs": [
    {
     "name": "stdout",
     "output_type": "stream",
     "text": [
      "The month with the most wet days is 12.\n"
     ]
    }
   ],
   "source": [
    "wet_days = df_copy.groupby('Month')['Wet_Day'].sum()\n",
    "\n",
    "max_wet_days_month = wet_days.idxmax()\n",
    "print(f\"The month with the most wet days is {max_wet_days_month}.\")\n"
   ]
  },
  {
   "cell_type": "markdown",
   "metadata": {},
   "source": [
    "#### Q12 : What is the month with the fewest wet days?"
   ]
  },
  {
   "cell_type": "code",
   "execution_count": 278,
   "metadata": {},
   "outputs": [
    {
     "name": "stdout",
     "output_type": "stream",
     "text": [
      "The month with the fewest wet days is 11.\n"
     ]
    }
   ],
   "source": [
    "min_wet_days_month = wet_days.idxmin()\n",
    "print(f\"The month with the fewest wet days is {min_wet_days_month}.\")"
   ]
  },
  {
   "cell_type": "markdown",
   "metadata": {},
   "source": [
    "#### Q13: Does New York experience more rainy or snowy days? "
   ]
  },
  {
   "cell_type": "code",
   "execution_count": 279,
   "metadata": {},
   "outputs": [],
   "source": [
    "rainy_days = df[df['Condition'].str.contains('Rain')]\n",
    "snowy_days = df[df['Condition'].str.contains('Snow')]"
   ]
  },
  {
   "cell_type": "code",
   "execution_count": 280,
   "metadata": {},
   "outputs": [
    {
     "name": "stdout",
     "output_type": "stream",
     "text": [
      "NY has more rainy days than snowy days.\n"
     ]
    }
   ],
   "source": [
    "if len(rainy_days) > len(snowy_days):\n",
    "    print('NY has more rainy days than snowy days.')\n",
    "else:\n",
    "    print('NY has more snowy days than rainy days.')\n"
   ]
  },
  {
   "cell_type": "code",
   "execution_count": 281,
   "metadata": {},
   "outputs": [
    {
     "data": {
      "application/vnd.plotly.v1+json": {
       "config": {
        "plotlyServerURL": "https://plot.ly"
       },
       "data": [
        {
         "labels": [
          "Rain",
          "Snow"
         ],
         "type": "pie",
         "values": [
          244,
          57
         ]
        }
       ],
       "layout": {
        "template": {
         "data": {
          "bar": [
           {
            "error_x": {
             "color": "#2a3f5f"
            },
            "error_y": {
             "color": "#2a3f5f"
            },
            "marker": {
             "line": {
              "color": "#E5ECF6",
              "width": 0.5
             },
             "pattern": {
              "fillmode": "overlay",
              "size": 10,
              "solidity": 0.2
             }
            },
            "type": "bar"
           }
          ],
          "barpolar": [
           {
            "marker": {
             "line": {
              "color": "#E5ECF6",
              "width": 0.5
             },
             "pattern": {
              "fillmode": "overlay",
              "size": 10,
              "solidity": 0.2
             }
            },
            "type": "barpolar"
           }
          ],
          "carpet": [
           {
            "aaxis": {
             "endlinecolor": "#2a3f5f",
             "gridcolor": "white",
             "linecolor": "white",
             "minorgridcolor": "white",
             "startlinecolor": "#2a3f5f"
            },
            "baxis": {
             "endlinecolor": "#2a3f5f",
             "gridcolor": "white",
             "linecolor": "white",
             "minorgridcolor": "white",
             "startlinecolor": "#2a3f5f"
            },
            "type": "carpet"
           }
          ],
          "choropleth": [
           {
            "colorbar": {
             "outlinewidth": 0,
             "ticks": ""
            },
            "type": "choropleth"
           }
          ],
          "contour": [
           {
            "colorbar": {
             "outlinewidth": 0,
             "ticks": ""
            },
            "colorscale": [
             [
              0,
              "#0d0887"
             ],
             [
              0.1111111111111111,
              "#46039f"
             ],
             [
              0.2222222222222222,
              "#7201a8"
             ],
             [
              0.3333333333333333,
              "#9c179e"
             ],
             [
              0.4444444444444444,
              "#bd3786"
             ],
             [
              0.5555555555555556,
              "#d8576b"
             ],
             [
              0.6666666666666666,
              "#ed7953"
             ],
             [
              0.7777777777777778,
              "#fb9f3a"
             ],
             [
              0.8888888888888888,
              "#fdca26"
             ],
             [
              1,
              "#f0f921"
             ]
            ],
            "type": "contour"
           }
          ],
          "contourcarpet": [
           {
            "colorbar": {
             "outlinewidth": 0,
             "ticks": ""
            },
            "type": "contourcarpet"
           }
          ],
          "heatmap": [
           {
            "colorbar": {
             "outlinewidth": 0,
             "ticks": ""
            },
            "colorscale": [
             [
              0,
              "#0d0887"
             ],
             [
              0.1111111111111111,
              "#46039f"
             ],
             [
              0.2222222222222222,
              "#7201a8"
             ],
             [
              0.3333333333333333,
              "#9c179e"
             ],
             [
              0.4444444444444444,
              "#bd3786"
             ],
             [
              0.5555555555555556,
              "#d8576b"
             ],
             [
              0.6666666666666666,
              "#ed7953"
             ],
             [
              0.7777777777777778,
              "#fb9f3a"
             ],
             [
              0.8888888888888888,
              "#fdca26"
             ],
             [
              1,
              "#f0f921"
             ]
            ],
            "type": "heatmap"
           }
          ],
          "heatmapgl": [
           {
            "colorbar": {
             "outlinewidth": 0,
             "ticks": ""
            },
            "colorscale": [
             [
              0,
              "#0d0887"
             ],
             [
              0.1111111111111111,
              "#46039f"
             ],
             [
              0.2222222222222222,
              "#7201a8"
             ],
             [
              0.3333333333333333,
              "#9c179e"
             ],
             [
              0.4444444444444444,
              "#bd3786"
             ],
             [
              0.5555555555555556,
              "#d8576b"
             ],
             [
              0.6666666666666666,
              "#ed7953"
             ],
             [
              0.7777777777777778,
              "#fb9f3a"
             ],
             [
              0.8888888888888888,
              "#fdca26"
             ],
             [
              1,
              "#f0f921"
             ]
            ],
            "type": "heatmapgl"
           }
          ],
          "histogram": [
           {
            "marker": {
             "pattern": {
              "fillmode": "overlay",
              "size": 10,
              "solidity": 0.2
             }
            },
            "type": "histogram"
           }
          ],
          "histogram2d": [
           {
            "colorbar": {
             "outlinewidth": 0,
             "ticks": ""
            },
            "colorscale": [
             [
              0,
              "#0d0887"
             ],
             [
              0.1111111111111111,
              "#46039f"
             ],
             [
              0.2222222222222222,
              "#7201a8"
             ],
             [
              0.3333333333333333,
              "#9c179e"
             ],
             [
              0.4444444444444444,
              "#bd3786"
             ],
             [
              0.5555555555555556,
              "#d8576b"
             ],
             [
              0.6666666666666666,
              "#ed7953"
             ],
             [
              0.7777777777777778,
              "#fb9f3a"
             ],
             [
              0.8888888888888888,
              "#fdca26"
             ],
             [
              1,
              "#f0f921"
             ]
            ],
            "type": "histogram2d"
           }
          ],
          "histogram2dcontour": [
           {
            "colorbar": {
             "outlinewidth": 0,
             "ticks": ""
            },
            "colorscale": [
             [
              0,
              "#0d0887"
             ],
             [
              0.1111111111111111,
              "#46039f"
             ],
             [
              0.2222222222222222,
              "#7201a8"
             ],
             [
              0.3333333333333333,
              "#9c179e"
             ],
             [
              0.4444444444444444,
              "#bd3786"
             ],
             [
              0.5555555555555556,
              "#d8576b"
             ],
             [
              0.6666666666666666,
              "#ed7953"
             ],
             [
              0.7777777777777778,
              "#fb9f3a"
             ],
             [
              0.8888888888888888,
              "#fdca26"
             ],
             [
              1,
              "#f0f921"
             ]
            ],
            "type": "histogram2dcontour"
           }
          ],
          "mesh3d": [
           {
            "colorbar": {
             "outlinewidth": 0,
             "ticks": ""
            },
            "type": "mesh3d"
           }
          ],
          "parcoords": [
           {
            "line": {
             "colorbar": {
              "outlinewidth": 0,
              "ticks": ""
             }
            },
            "type": "parcoords"
           }
          ],
          "pie": [
           {
            "automargin": true,
            "type": "pie"
           }
          ],
          "scatter": [
           {
            "fillpattern": {
             "fillmode": "overlay",
             "size": 10,
             "solidity": 0.2
            },
            "type": "scatter"
           }
          ],
          "scatter3d": [
           {
            "line": {
             "colorbar": {
              "outlinewidth": 0,
              "ticks": ""
             }
            },
            "marker": {
             "colorbar": {
              "outlinewidth": 0,
              "ticks": ""
             }
            },
            "type": "scatter3d"
           }
          ],
          "scattercarpet": [
           {
            "marker": {
             "colorbar": {
              "outlinewidth": 0,
              "ticks": ""
             }
            },
            "type": "scattercarpet"
           }
          ],
          "scattergeo": [
           {
            "marker": {
             "colorbar": {
              "outlinewidth": 0,
              "ticks": ""
             }
            },
            "type": "scattergeo"
           }
          ],
          "scattergl": [
           {
            "marker": {
             "colorbar": {
              "outlinewidth": 0,
              "ticks": ""
             }
            },
            "type": "scattergl"
           }
          ],
          "scattermapbox": [
           {
            "marker": {
             "colorbar": {
              "outlinewidth": 0,
              "ticks": ""
             }
            },
            "type": "scattermapbox"
           }
          ],
          "scatterpolar": [
           {
            "marker": {
             "colorbar": {
              "outlinewidth": 0,
              "ticks": ""
             }
            },
            "type": "scatterpolar"
           }
          ],
          "scatterpolargl": [
           {
            "marker": {
             "colorbar": {
              "outlinewidth": 0,
              "ticks": ""
             }
            },
            "type": "scatterpolargl"
           }
          ],
          "scatterternary": [
           {
            "marker": {
             "colorbar": {
              "outlinewidth": 0,
              "ticks": ""
             }
            },
            "type": "scatterternary"
           }
          ],
          "surface": [
           {
            "colorbar": {
             "outlinewidth": 0,
             "ticks": ""
            },
            "colorscale": [
             [
              0,
              "#0d0887"
             ],
             [
              0.1111111111111111,
              "#46039f"
             ],
             [
              0.2222222222222222,
              "#7201a8"
             ],
             [
              0.3333333333333333,
              "#9c179e"
             ],
             [
              0.4444444444444444,
              "#bd3786"
             ],
             [
              0.5555555555555556,
              "#d8576b"
             ],
             [
              0.6666666666666666,
              "#ed7953"
             ],
             [
              0.7777777777777778,
              "#fb9f3a"
             ],
             [
              0.8888888888888888,
              "#fdca26"
             ],
             [
              1,
              "#f0f921"
             ]
            ],
            "type": "surface"
           }
          ],
          "table": [
           {
            "cells": {
             "fill": {
              "color": "#EBF0F8"
             },
             "line": {
              "color": "white"
             }
            },
            "header": {
             "fill": {
              "color": "#C8D4E3"
             },
             "line": {
              "color": "white"
             }
            },
            "type": "table"
           }
          ]
         },
         "layout": {
          "annotationdefaults": {
           "arrowcolor": "#2a3f5f",
           "arrowhead": 0,
           "arrowwidth": 1
          },
          "autotypenumbers": "strict",
          "coloraxis": {
           "colorbar": {
            "outlinewidth": 0,
            "ticks": ""
           }
          },
          "colorscale": {
           "diverging": [
            [
             0,
             "#8e0152"
            ],
            [
             0.1,
             "#c51b7d"
            ],
            [
             0.2,
             "#de77ae"
            ],
            [
             0.3,
             "#f1b6da"
            ],
            [
             0.4,
             "#fde0ef"
            ],
            [
             0.5,
             "#f7f7f7"
            ],
            [
             0.6,
             "#e6f5d0"
            ],
            [
             0.7,
             "#b8e186"
            ],
            [
             0.8,
             "#7fbc41"
            ],
            [
             0.9,
             "#4d9221"
            ],
            [
             1,
             "#276419"
            ]
           ],
           "sequential": [
            [
             0,
             "#0d0887"
            ],
            [
             0.1111111111111111,
             "#46039f"
            ],
            [
             0.2222222222222222,
             "#7201a8"
            ],
            [
             0.3333333333333333,
             "#9c179e"
            ],
            [
             0.4444444444444444,
             "#bd3786"
            ],
            [
             0.5555555555555556,
             "#d8576b"
            ],
            [
             0.6666666666666666,
             "#ed7953"
            ],
            [
             0.7777777777777778,
             "#fb9f3a"
            ],
            [
             0.8888888888888888,
             "#fdca26"
            ],
            [
             1,
             "#f0f921"
            ]
           ],
           "sequentialminus": [
            [
             0,
             "#0d0887"
            ],
            [
             0.1111111111111111,
             "#46039f"
            ],
            [
             0.2222222222222222,
             "#7201a8"
            ],
            [
             0.3333333333333333,
             "#9c179e"
            ],
            [
             0.4444444444444444,
             "#bd3786"
            ],
            [
             0.5555555555555556,
             "#d8576b"
            ],
            [
             0.6666666666666666,
             "#ed7953"
            ],
            [
             0.7777777777777778,
             "#fb9f3a"
            ],
            [
             0.8888888888888888,
             "#fdca26"
            ],
            [
             1,
             "#f0f921"
            ]
           ]
          },
          "colorway": [
           "#636efa",
           "#EF553B",
           "#00cc96",
           "#ab63fa",
           "#FFA15A",
           "#19d3f3",
           "#FF6692",
           "#B6E880",
           "#FF97FF",
           "#FECB52"
          ],
          "font": {
           "color": "#2a3f5f"
          },
          "geo": {
           "bgcolor": "white",
           "lakecolor": "white",
           "landcolor": "#E5ECF6",
           "showlakes": true,
           "showland": true,
           "subunitcolor": "white"
          },
          "hoverlabel": {
           "align": "left"
          },
          "hovermode": "closest",
          "mapbox": {
           "style": "light"
          },
          "paper_bgcolor": "white",
          "plot_bgcolor": "#E5ECF6",
          "polar": {
           "angularaxis": {
            "gridcolor": "white",
            "linecolor": "white",
            "ticks": ""
           },
           "bgcolor": "#E5ECF6",
           "radialaxis": {
            "gridcolor": "white",
            "linecolor": "white",
            "ticks": ""
           }
          },
          "scene": {
           "xaxis": {
            "backgroundcolor": "#E5ECF6",
            "gridcolor": "white",
            "gridwidth": 2,
            "linecolor": "white",
            "showbackground": true,
            "ticks": "",
            "zerolinecolor": "white"
           },
           "yaxis": {
            "backgroundcolor": "#E5ECF6",
            "gridcolor": "white",
            "gridwidth": 2,
            "linecolor": "white",
            "showbackground": true,
            "ticks": "",
            "zerolinecolor": "white"
           },
           "zaxis": {
            "backgroundcolor": "#E5ECF6",
            "gridcolor": "white",
            "gridwidth": 2,
            "linecolor": "white",
            "showbackground": true,
            "ticks": "",
            "zerolinecolor": "white"
           }
          },
          "shapedefaults": {
           "line": {
            "color": "#2a3f5f"
           }
          },
          "ternary": {
           "aaxis": {
            "gridcolor": "white",
            "linecolor": "white",
            "ticks": ""
           },
           "baxis": {
            "gridcolor": "white",
            "linecolor": "white",
            "ticks": ""
           },
           "bgcolor": "#E5ECF6",
           "caxis": {
            "gridcolor": "white",
            "linecolor": "white",
            "ticks": ""
           }
          },
          "title": {
           "x": 0.05
          },
          "xaxis": {
           "automargin": true,
           "gridcolor": "white",
           "linecolor": "white",
           "ticks": "",
           "title": {
            "standoff": 15
           },
           "zerolinecolor": "white",
           "zerolinewidth": 2
          },
          "yaxis": {
           "automargin": true,
           "gridcolor": "white",
           "linecolor": "white",
           "ticks": "",
           "title": {
            "standoff": 15
           },
           "zerolinecolor": "white",
           "zerolinewidth": 2
          }
         }
        },
        "title": {
         "text": "Rain Days VS Snow Days"
        }
       }
      }
     },
     "metadata": {},
     "output_type": "display_data"
    }
   ],
   "source": [
    "labels = ['Rain','Snow']\n",
    "values = [len(rainy_days), len(snowy_days)]\n",
    "\n",
    "fig = go.Figure(data=[go.Pie(labels=labels, values=values)])\n",
    "fig.update_layout(title='Rain Days VS Snow Days')\n",
    "\n",
    "fig.show()\n"
   ]
  },
  {
   "cell_type": "markdown",
   "metadata": {},
   "source": [
    "#### Q14: Is there a correlation between the day length and temperature?"
   ]
  },
  {
   "cell_type": "code",
   "execution_count": 282,
   "metadata": {},
   "outputs": [
    {
     "data": {
      "application/vnd.plotly.v1+json": {
       "config": {
        "plotlyServerURL": "https://plot.ly"
       },
       "data": [
        {
         "hovertemplate": "Day_Length(Minutes)=%{x}<br>Temperature_Avg=%{y}<extra></extra>",
         "legendgroup": "",
         "marker": {
          "color": "#636efa",
          "symbol": "circle"
         },
         "mode": "markers",
         "name": "",
         "showlegend": false,
         "type": "scattergl",
         "x": [
          558,
          559,
          560,
          561,
          562,
          563,
          564,
          565,
          566,
          568,
          569,
          570,
          572,
          573,
          575,
          576,
          578,
          579,
          581,
          583,
          585,
          587,
          588,
          590,
          592,
          594,
          596,
          598,
          601,
          603,
          605,
          607,
          609,
          612,
          614,
          616,
          618,
          621,
          623,
          626,
          628,
          630,
          633,
          635,
          638,
          640,
          643,
          646,
          648,
          651,
          653,
          656,
          658,
          661,
          664,
          666,
          669,
          672,
          674,
          677,
          680,
          682,
          685,
          688,
          690,
          693,
          696,
          699,
          701,
          704,
          707,
          709,
          712,
          715,
          718,
          720,
          723,
          726,
          728,
          731,
          734,
          737,
          739,
          742,
          745,
          748,
          750,
          753,
          756,
          758,
          761,
          764,
          766,
          769,
          772,
          774,
          777,
          780,
          782,
          785,
          788,
          790,
          793,
          795,
          798,
          801,
          803,
          806,
          808,
          811,
          813,
          816,
          818,
          821,
          823,
          826,
          828,
          830,
          833,
          835,
          837,
          840,
          842,
          844,
          846,
          849,
          851,
          853,
          855,
          857,
          859,
          861,
          863,
          865,
          867,
          869,
          871,
          873,
          875,
          876,
          878,
          880,
          881,
          883,
          884,
          886,
          887,
          889,
          890,
          891,
          893,
          894,
          895,
          896,
          897,
          898,
          899,
          900,
          900,
          901,
          902,
          903,
          903,
          904,
          904,
          904,
          905,
          905,
          905,
          905,
          905,
          905,
          905,
          905,
          905,
          905,
          904,
          904,
          903,
          903,
          902,
          902,
          901,
          900,
          899,
          898,
          897,
          896,
          895,
          894,
          893,
          892,
          891,
          889,
          888,
          887,
          885,
          884,
          882,
          880,
          879,
          877,
          875,
          874,
          872,
          870,
          868,
          866,
          864,
          862,
          860,
          858,
          856,
          854,
          852,
          850,
          848,
          846,
          844,
          841,
          839,
          837,
          834,
          832,
          830,
          827,
          825,
          823,
          820,
          818,
          815,
          813,
          810,
          808,
          805,
          803,
          800,
          798,
          795,
          793,
          790,
          788,
          785,
          782,
          780,
          777,
          774,
          772,
          769,
          767,
          764,
          759,
          756,
          753,
          751,
          748,
          745,
          743,
          740,
          737,
          735,
          732,
          729,
          727,
          724,
          721,
          719,
          716,
          713,
          710,
          708,
          705,
          702,
          700,
          697,
          694,
          692,
          689,
          686,
          684,
          681,
          678,
          676,
          673,
          671,
          668,
          665,
          663,
          660,
          658,
          655,
          652,
          650,
          647,
          645,
          642,
          640,
          637,
          635,
          632,
          630,
          628,
          625,
          623,
          620,
          618,
          616,
          614,
          611,
          609,
          607,
          605,
          603,
          600,
          598,
          596,
          594,
          592,
          590,
          588,
          587,
          585,
          583,
          581,
          580,
          578,
          576,
          573,
          572,
          570,
          569,
          568,
          566,
          565,
          564,
          563,
          562,
          561,
          560,
          559,
          558,
          558,
          557,
          557,
          556,
          556,
          555,
          555,
          555,
          554,
          554,
          554,
          554,
          554,
          555,
          555,
          555,
          555,
          556,
          556,
          557,
          557,
          558,
          559,
          560,
          561,
          562,
          563,
          564,
          565,
          566,
          567,
          568,
          570,
          571,
          573,
          574,
          576,
          577,
          579,
          581,
          582,
          584,
          588,
          590,
          592,
          594,
          596,
          598,
          600,
          602,
          604,
          606,
          609,
          611,
          613,
          616,
          618,
          620,
          623,
          625,
          627,
          630,
          632,
          635,
          637,
          640,
          642,
          645,
          647,
          650,
          653,
          655,
          658,
          660,
          663,
          666,
          668,
          671,
          674,
          676,
          679,
          682,
          684,
          687,
          690,
          692,
          695,
          698,
          701,
          703,
          706,
          709,
          711,
          714,
          717,
          720,
          722,
          725,
          728,
          730,
          733,
          736,
          739,
          741,
          744,
          747,
          750,
          752,
          755,
          758,
          760,
          763,
          766,
          768,
          771,
          774,
          776,
          779,
          782,
          784,
          787,
          790,
          792,
          795,
          797,
          800,
          802,
          805,
          808,
          810,
          813,
          815,
          818,
          820,
          822,
          825,
          827,
          830,
          832,
          834,
          837,
          839,
          841,
          844,
          846,
          848,
          850,
          852,
          855,
          857,
          859,
          861,
          863,
          865,
          867,
          869,
          870,
          872,
          874,
          876,
          878,
          879,
          881,
          882,
          884,
          885,
          887,
          888,
          890,
          891,
          892,
          893,
          895,
          896,
          897,
          898,
          899,
          899,
          900,
          901,
          902,
          902,
          903,
          903,
          904,
          904,
          905,
          905,
          905,
          905,
          905,
          905,
          905,
          905,
          905,
          905,
          905,
          904,
          904,
          903,
          903,
          902,
          902,
          901,
          900,
          899,
          899,
          898,
          897,
          896,
          895,
          893,
          892,
          891,
          888,
          887,
          885,
          884,
          882,
          881,
          879,
          878,
          876,
          874,
          872,
          871,
          869,
          867,
          865,
          863,
          861,
          859,
          857,
          855,
          853,
          851,
          848,
          846,
          844,
          842,
          840,
          837,
          835,
          833,
          830,
          828,
          826,
          823,
          821,
          818,
          816,
          813,
          811,
          809,
          806,
          804,
          801,
          798,
          796,
          793,
          791,
          788,
          786,
          783,
          780,
          778,
          775,
          773,
          770,
          767,
          765,
          762,
          759,
          757,
          754,
          751,
          749,
          746,
          743,
          741,
          738,
          735,
          733,
          730,
          727,
          725,
          722,
          719,
          717,
          714,
          711,
          708,
          706,
          703,
          700,
          698,
          695,
          692,
          690,
          687,
          684,
          682,
          679,
          677,
          674,
          671,
          669,
          666,
          663,
          661,
          658,
          656,
          653,
          651,
          648,
          643,
          640,
          638,
          636,
          633,
          631,
          628,
          626,
          623,
          621,
          619,
          616,
          614,
          612,
          610,
          607,
          605,
          603,
          601,
          599,
          597,
          595,
          593,
          591,
          589,
          587,
          585,
          583,
          582,
          580,
          578,
          577,
          575,
          574,
          572,
          571,
          569,
          568,
          567,
          565,
          564,
          563,
          562,
          561,
          560,
          559,
          559,
          558,
          557,
          557,
          556,
          556,
          555,
          555,
          555,
          554,
          554,
          554,
          554,
          554,
          554,
          555,
          555,
          555,
          556,
          556,
          557,
          557,
          558,
          559,
          560,
          560,
          561,
          562,
          563,
          564,
          566,
          567,
          568,
          569,
          571,
          572,
          574,
          575,
          577,
          579,
          580,
          582,
          584,
          586,
          587,
          589,
          591,
          593,
          595,
          597,
          599,
          602,
          604,
          606,
          608,
          610,
          613,
          615,
          617,
          620,
          622,
          624,
          627,
          629,
          632,
          634,
          637,
          639,
          642,
          644,
          647,
          649,
          652,
          654,
          657,
          660,
          662,
          665,
          668,
          670,
          673,
          676,
          678,
          681,
          684,
          686,
          689,
          692,
          694,
          697,
          700,
          703,
          705,
          708,
          711,
          713,
          716,
          719,
          722,
          724,
          727,
          730,
          733,
          735,
          738,
          741,
          743,
          746,
          749,
          752,
          754,
          757,
          760,
          762,
          765,
          768,
          770,
          773,
          776,
          778,
          781,
          784,
          786,
          789,
          791,
          794,
          797,
          799,
          802,
          804,
          807,
          809,
          812,
          814,
          817,
          819,
          822,
          824,
          827,
          829,
          831,
          834,
          836,
          838,
          841,
          843,
          845,
          848,
          850,
          852,
          854,
          856,
          858,
          860,
          862,
          864,
          866,
          868,
          870,
          872,
          874,
          875,
          877,
          879,
          880,
          882,
          884,
          885,
          887,
          888,
          889,
          891,
          892,
          893,
          894,
          895,
          896,
          897,
          898,
          899,
          900,
          901,
          902,
          902,
          903,
          903,
          904,
          904,
          905,
          905,
          905,
          905,
          905,
          905,
          905,
          905,
          905,
          905,
          905,
          904,
          904,
          904,
          903,
          903,
          902,
          901,
          900,
          900,
          899,
          898,
          897,
          896,
          895,
          894,
          893,
          891,
          890,
          889,
          887,
          886,
          884,
          883,
          881,
          880,
          878,
          876,
          875,
          873,
          871,
          869,
          867,
          865,
          864,
          862,
          860,
          857,
          855,
          853,
          851,
          849,
          847,
          845,
          842,
          840,
          838,
          836,
          833,
          831,
          829,
          826,
          824,
          821,
          819,
          817,
          814,
          812,
          809,
          807,
          804,
          802,
          794,
          791,
          789,
          786,
          784,
          781,
          778,
          776,
          773,
          771,
          768,
          765,
          763,
          760,
          757,
          755,
          752,
          749,
          747,
          744,
          741,
          739,
          736,
          733,
          731,
          728,
          725,
          723,
          720,
          717,
          715,
          712,
          709,
          706,
          704,
          701,
          698,
          696,
          693,
          690,
          688,
          685,
          682,
          680,
          677,
          675,
          672,
          669,
          667,
          664,
          661,
          659,
          656,
          654,
          651,
          649,
          646,
          644,
          641,
          639,
          636,
          634,
          631,
          629,
          626,
          624,
          619,
          617,
          615,
          612,
          610,
          608,
          606,
          604,
          602,
          599,
          597,
          595,
          593,
          591,
          589,
          588,
          586,
          584,
          582,
          580,
          579,
          577,
          575,
          574,
          572,
          571,
          570,
          568,
          567,
          566,
          565,
          564,
          562,
          561,
          561,
          560,
          559,
          558,
          557,
          557,
          556,
          556,
          555,
          555,
          555,
          554,
          554,
          554,
          554,
          554,
          554,
          555,
          555,
          555,
          556,
          556,
          557,
          557,
          558,
          559,
          559,
          560,
          561,
          562,
          563,
          564,
          565,
          567,
          568,
          569,
          570,
          572,
          573,
          575,
          577,
          578,
          580,
          582,
          583,
          585,
          587,
          589,
          591,
          593,
          595,
          597,
          599,
          601,
          603,
          605,
          608,
          610,
          612,
          614,
          617,
          619,
          621,
          624,
          626,
          629,
          631,
          633,
          636,
          638,
          641,
          644,
          646,
          649,
          651,
          654,
          656,
          659,
          662,
          664,
          667,
          670,
          672,
          675,
          678,
          680,
          683,
          686,
          688,
          691,
          694,
          696,
          699,
          705,
          707,
          710,
          713,
          715,
          718,
          721,
          724,
          726,
          729,
          732,
          735,
          737,
          740,
          743,
          745,
          748,
          751,
          754,
          756,
          759,
          762,
          764,
          767,
          770,
          772,
          775,
          778,
          780,
          783,
          786,
          788,
          791,
          793,
          796,
          799,
          801,
          804,
          806,
          809,
          811,
          814,
          816,
          819,
          821,
          824,
          826,
          828,
          831,
          833,
          836,
          838,
          840,
          842,
          845,
          847,
          849,
          851,
          856,
          858,
          860,
          862,
          864,
          866,
          868,
          870,
          871,
          873,
          875,
          877,
          878,
          880,
          882,
          883,
          885,
          886,
          888,
          889,
          890,
          892,
          893,
          894,
          895,
          896,
          897,
          898,
          899,
          900,
          901,
          901,
          902,
          903,
          903,
          904,
          905,
          905,
          905,
          905,
          905,
          905,
          905,
          905,
          905,
          905,
          905,
          905,
          904,
          904,
          903,
          903,
          902,
          901,
          901,
          900,
          899,
          898,
          897,
          896,
          895,
          894,
          893,
          892,
          890,
          889,
          888,
          886,
          885,
          883,
          882,
          880,
          878,
          877,
          875,
          873,
          872,
          870,
          868,
          866,
          864,
          862,
          860,
          858,
          856,
          854,
          852,
          850,
          847,
          845,
          843,
          841,
          839,
          836,
          834,
          832,
          829,
          827,
          824,
          822,
          820,
          817,
          815,
          812,
          810,
          807,
          805,
          802,
          800,
          797,
          795,
          792,
          790,
          787,
          784,
          782,
          779,
          777,
          774,
          771,
          769,
          766,
          763,
          761,
          758,
          755,
          753,
          750,
          747,
          745,
          742,
          739,
          737,
          734,
          731,
          729,
          726,
          723,
          721,
          718,
          715,
          713,
          710,
          707,
          704,
          702,
          699,
          696,
          694,
          691,
          688,
          686,
          683,
          681,
          678,
          675,
          673,
          670,
          667,
          665,
          662,
          660,
          657,
          654,
          652,
          649,
          647,
          644,
          642,
          639,
          637,
          634,
          632,
          629,
          627,
          625,
          622,
          620,
          618,
          615,
          613,
          611,
          609,
          606,
          604,
          602,
          600,
          598,
          596,
          594,
          592,
          590,
          588,
          586,
          584,
          583,
          581,
          579,
          577,
          576,
          574,
          573,
          571,
          570,
          567,
          565,
          564,
          563,
          562,
          561,
          560,
          558,
          558,
          557,
          556,
          555,
          555,
          555,
          555,
          554,
          554,
          554,
          554,
          554,
          555,
          555,
          555,
          555,
          556,
          557,
          558,
          560,
          561,
          562,
          563,
          564,
          566,
          569,
          570,
          572,
          573,
          575,
          576,
          578,
          579,
          581,
          583,
          585,
          586,
          588,
          590,
          592,
          594,
          596,
          598,
          600,
          603,
          605,
          607,
          611,
          614,
          616,
          618,
          621,
          626,
          628,
          630,
          633,
          635,
          638,
          640,
          643,
          648,
          651,
          653,
          656,
          658,
          661,
          664,
          669,
          672,
          674,
          677,
          680,
          682,
          685,
          688,
          690,
          693,
          696,
          698,
          701,
          707,
          709,
          715,
          720,
          723,
          726,
          728,
          731,
          737,
          739,
          742,
          745,
          747,
          750,
          753,
          758,
          761,
          766,
          769,
          774,
          777,
          780,
          782,
          785,
          790,
          795,
          798,
          800,
          806,
          808,
          811,
          816,
          818,
          821,
          823,
          825,
          830,
          833,
          835,
          837,
          840,
          842,
          844,
          846,
          851,
          853,
          855,
          857,
          861,
          863,
          865,
          867,
          869,
          871,
          874,
          876,
          878,
          880,
          881,
          883,
          884,
          886,
          889,
          890,
          891,
          892,
          894,
          895,
          896,
          897,
          898,
          899,
          900,
          900,
          901,
          902,
          903,
          904,
          904,
          905,
          905,
          905,
          905,
          905,
          905,
          905,
          905,
          905,
          904,
          904,
          903,
          903,
          902,
          902,
          901,
          900,
          899,
          898,
          897,
          896,
          895,
          892,
          891,
          889,
          888,
          887,
          885,
          884,
          882,
          881,
          879,
          876,
          874,
          872,
          870,
          868,
          866,
          865,
          863,
          861,
          859,
          856,
          854,
          852,
          850,
          848,
          846,
          841,
          839,
          837,
          832,
          830,
          827,
          825,
          823,
          820,
          818,
          815,
          813,
          810,
          808,
          805,
          803,
          800,
          798,
          795,
          790,
          785,
          782,
          777,
          775,
          772,
          769,
          764,
          761,
          759,
          753,
          751,
          748,
          745,
          740,
          737,
          735,
          732,
          729,
          727,
          721,
          719,
          716,
          713,
          711,
          708,
          705,
          703,
          700,
          697,
          694,
          692,
          689,
          687,
          684,
          681,
          679,
          676,
          673,
          671,
          668,
          663,
          660,
          658,
          655,
          653,
          650,
          647,
          645,
          642,
          640,
          637,
          635,
          633,
          630,
          628,
          625,
          623,
          618,
          616,
          611,
          609,
          607,
          605,
          601,
          598,
          596,
          592,
          590,
          589,
          587,
          585,
          583,
          581,
          580,
          578,
          576,
          575,
          573,
          572,
          570,
          568,
          566,
          565,
          564,
          563,
          562,
          561,
          560,
          559,
          558,
          558,
          557,
          556,
          556,
          555,
          555,
          555,
          554,
          554,
          554,
          554,
          554,
          554,
          555,
          555,
          556,
          556,
          557,
          557,
          558,
          559,
          560,
          561,
          562,
          563,
          564,
          565,
          566,
          567,
          568,
          570,
          571,
          573,
          574,
          576,
          577,
          579,
          581,
          582,
          584,
          588,
          590,
          592,
          594,
          596,
          598,
          600,
          602,
          604,
          606,
          609,
          611,
          613,
          615,
          618,
          620,
          622,
          627,
          630,
          632,
          635,
          637,
          640,
          642,
          645,
          647,
          650,
          652,
          655,
          658,
          660,
          663,
          666,
          668,
          671,
          673,
          676,
          679,
          682,
          684,
          687,
          690,
          692,
          695,
          698,
          700,
          703,
          706,
          709,
          711,
          714,
          717,
          719,
          722,
          725,
          728,
          730,
          733,
          736,
          739,
          741,
          744,
          747,
          749,
          752,
          755,
          758,
          760,
          763,
          766,
          768,
          771,
          774,
          776,
          779,
          782,
          787,
          789,
          792,
          795,
          797,
          800,
          805,
          807,
          810,
          813,
          815,
          817,
          820,
          822,
          825,
          827,
          830,
          832,
          834,
          837,
          839,
          841,
          844,
          846,
          848,
          850,
          852,
          854,
          857,
          859,
          861,
          863,
          865,
          867,
          869,
          870,
          872,
          874,
          876,
          877,
          879,
          881,
          882,
          884,
          885,
          887,
          888,
          890,
          891,
          892,
          893,
          895,
          896,
          897,
          898,
          899,
          899,
          900,
          901,
          902,
          902,
          903,
          903,
          904,
          904,
          905,
          905,
          905,
          905,
          905,
          905,
          905,
          905,
          905,
          905,
          905,
          904,
          904,
          903,
          903,
          902,
          902,
          901,
          900,
          899,
          899,
          898,
          897,
          896,
          895,
          893,
          892,
          891,
          890,
          888,
          887,
          886,
          884,
          883,
          881,
          879,
          878,
          876,
          874,
          872,
          871,
          869,
          867,
          865,
          863,
          861,
          859,
          857,
          855,
          853,
          851,
          849,
          846,
          844,
          842,
          840,
          837,
          835,
          833,
          830,
          828,
          826,
          823,
          821,
          818,
          816,
          814,
          811,
          809,
          806,
          804,
          801,
          799,
          796,
          793,
          791,
          788,
          786,
          783,
          781,
          778,
          775,
          773,
          770,
          767,
          765,
          762,
          759,
          757,
          754,
          751,
          749,
          746,
          743,
          741,
          738,
          735,
          733,
          730,
          727,
          725,
          722,
          719,
          717,
          714,
          711,
          709,
          706,
          703,
          701,
          698,
          695,
          693,
          690,
          687,
          685,
          682,
          679,
          677,
          674,
          671,
          669,
          666,
          664,
          661,
          658,
          656,
          653,
          651,
          648,
          646,
          643,
          641,
          638,
          636,
          633,
          631,
          628,
          626,
          624,
          621,
          619,
          617,
          614,
          612,
          610,
          608,
          605,
          603,
          601,
          599,
          597,
          595,
          593,
          591,
          589,
          587,
          585,
          583,
          582,
          580,
          578,
          577,
          575,
          574,
          572,
          571,
          569,
          568,
          567,
          566,
          564,
          563,
          562,
          561,
          560,
          559,
          559,
          558,
          557,
          557,
          556,
          556,
          555,
          555,
          555,
          554,
          554,
          554,
          554,
          554,
          554,
          555,
          555,
          555,
          556,
          556,
          557,
          557,
          558,
          559,
          559,
          560,
          561,
          562,
          563,
          564,
          566,
          567,
          568,
          569,
          571,
          572,
          574,
          575,
          577,
          579,
          580,
          582,
          584,
          586,
          587,
          589,
          591,
          593,
          595,
          597,
          599,
          601,
          604,
          606,
          608,
          610,
          613,
          615,
          617,
          620,
          622,
          624,
          627,
          629,
          632,
          634,
          637,
          639,
          642,
          644,
          647,
          649,
          652,
          654,
          657,
          660,
          662,
          665,
          667,
          670,
          673,
          675,
          678,
          681,
          683,
          686,
          689,
          692,
          694,
          697,
          700,
          702,
          705,
          708,
          711,
          713,
          716,
          719,
          721,
          724,
          727,
          730,
          732,
          735,
          738,
          741,
          743,
          746,
          749,
          751,
          754,
          757,
          760,
          762,
          765,
          768,
          770,
          773,
          776,
          778,
          784,
          786,
          789,
          791,
          794,
          797,
          799,
          804,
          807,
          809,
          812,
          814,
          817,
          819,
          822,
          824,
          827,
          829,
          831,
          834,
          836,
          838,
          841,
          845,
          847,
          850,
          852,
          854,
          856,
          858,
          860,
          862,
          864,
          866,
          868,
          870,
          872,
          874,
          875,
          877,
          879,
          880,
          882,
          884,
          885,
          886,
          888,
          889,
          891,
          892,
          893,
          894,
          895,
          897,
          898,
          899,
          900,
          901,
          902,
          902,
          903,
          903,
          904,
          904,
          905,
          905,
          905,
          905,
          905,
          905,
          905,
          905,
          905,
          905,
          905,
          904,
          904,
          904,
          903,
          903,
          902,
          901,
          900,
          900,
          899,
          898,
          897,
          896,
          895,
          894,
          893,
          891,
          890,
          889,
          887,
          886,
          884,
          883,
          881,
          880,
          878,
          876,
          875,
          873,
          871,
          869,
          867,
          866,
          864,
          862,
          860,
          858,
          856,
          853,
          851,
          849,
          847,
          845,
          843,
          840,
          838,
          836,
          833,
          831,
          829,
          826,
          824,
          822,
          819,
          817,
          814,
          812,
          809,
          807,
          804,
          802,
          799,
          797,
          794,
          792,
          789,
          786,
          784,
          781,
          779,
          776,
          773,
          771,
          768,
          765,
          763,
          760,
          757,
          755,
          752,
          749,
          747,
          744,
          741,
          739,
          736,
          733,
          731,
          728,
          725,
          723,
          720,
          717,
          715,
          712,
          709,
          707,
          704,
          701,
          699,
          696,
          693,
          691,
          688,
          685,
          683,
          680,
          677,
          675,
          672,
          669,
          667,
          664,
          662,
          659,
          656,
          654,
          651,
          649,
          646,
          644,
          641,
          639,
          636,
          634,
          631,
          629,
          627,
          624,
          622,
          619,
          617,
          615,
          613,
          610,
          608,
          606,
          604,
          602,
          600,
          595,
          593,
          591,
          590,
          588,
          586,
          584,
          582,
          580,
          579,
          577,
          576,
          574,
          573,
          571,
          570,
          568,
          567,
          566,
          565,
          564,
          562,
          561,
          561,
          560,
          559,
          558,
          557,
          557,
          556,
          556,
          555,
          555,
          555,
          554,
          554,
          554,
          554,
          554,
          554,
          555,
          555,
          555,
          556,
          556,
          557,
          557,
          558,
          558,
          559,
          560,
          561,
          562,
          563,
          564,
          565,
          566,
          568,
          569,
          570,
          572,
          573,
          575,
          576,
          578,
          580,
          581,
          583,
          585,
          587,
          589,
          591,
          593,
          595,
          597,
          599,
          601,
          603,
          605,
          607,
          610,
          612,
          614,
          617,
          619,
          621,
          624,
          626,
          628,
          631,
          633,
          636,
          638,
          641,
          643,
          646,
          649,
          651,
          654,
          656,
          659,
          662,
          664,
          667,
          669,
          672,
          675,
          677,
          680,
          683,
          685,
          688,
          691,
          694,
          696,
          699,
          702,
          704,
          707,
          710,
          713,
          715,
          718,
          721,
          724,
          726,
          729,
          732,
          734,
          737,
          740,
          743,
          745,
          748,
          751,
          753,
          756,
          759,
          762,
          764,
          767,
          770,
          772,
          775,
          778,
          780,
          783,
          785,
          788,
          791,
          793,
          796,
          798,
          801,
          804,
          806,
          809,
          811,
          814,
          816,
          819,
          821,
          824,
          826,
          828,
          831,
          833,
          835,
          838,
          840,
          842,
          845,
          847,
          849,
          851,
          853,
          856,
          858,
          860,
          862,
          864,
          866,
          868,
          869,
          871,
          873,
          875,
          877,
          878,
          880,
          882,
          883,
          885,
          886,
          888,
          889,
          890,
          892,
          893,
          894,
          895,
          896,
          897,
          898,
          900,
          901,
          901,
          902,
          903,
          903,
          904,
          904,
          905,
          905,
          905,
          905,
          905,
          905,
          905,
          905,
          905,
          905,
          905,
          905,
          904,
          904,
          903,
          903,
          902,
          901,
          901,
          900,
          899,
          898,
          897,
          896,
          894,
          893,
          892,
          890,
          889,
          888,
          886,
          885,
          883,
          882,
          880,
          879,
          877,
          875,
          873,
          872,
          870,
          868,
          866,
          864,
          862,
          860,
          858,
          856,
          854,
          852,
          850,
          848,
          845,
          843,
          841,
          839,
          836,
          834,
          832,
          829,
          827,
          825,
          822,
          820,
          817,
          815,
          812,
          810,
          807,
          805,
          802,
          800,
          797,
          795,
          792,
          790,
          787,
          784,
          782,
          779,
          777,
          774,
          771,
          769,
          766,
          763,
          761,
          758,
          756,
          753,
          750,
          748,
          745,
          742,
          739,
          737,
          734,
          731,
          729,
          726,
          723,
          721,
          718,
          715,
          713,
          710,
          707,
          705,
          702,
          699,
          697,
          691,
          689,
          686,
          683,
          681,
          678,
          675,
          673,
          670,
          667,
          665,
          662,
          660,
          657,
          655,
          652,
          649,
          647,
          644,
          642,
          639,
          637,
          634,
          632,
          630,
          627,
          625,
          622,
          620,
          618,
          615,
          613,
          609,
          606,
          604,
          602,
          600,
          598,
          596,
          594,
          592,
          590,
          588,
          586,
          584,
          583,
          581,
          579,
          578,
          576,
          574,
          573,
          571,
          570,
          569,
          567,
          566,
          565,
          564,
          563,
          562,
          561,
          560,
          559,
          558,
          558,
          557,
          556,
          556,
          555,
          555,
          555,
          555,
          554,
          554,
          554,
          554,
          554,
          555,
          555,
          555,
          555,
          556,
          556,
          557,
          558,
          558,
          559,
          560,
          561,
          562,
          563,
          564,
          565,
          566,
          567,
          569,
          570,
          571,
          573,
          574,
          576,
          578,
          579,
          581,
          583,
          585,
          586,
          588,
          590,
          592,
          594,
          596,
          598,
          600,
          603,
          605,
          607,
          609,
          611,
          614,
          616,
          618,
          621,
          623,
          625,
          628,
          630,
          633,
          635,
          638,
          640,
          643,
          645,
          648,
          650,
          653,
          656,
          658,
          661,
          663,
          666,
          669,
          671,
          674,
          677,
          679,
          682,
          685,
          687,
          690,
          693,
          696,
          698,
          701,
          704,
          706,
          709,
          712,
          715,
          717,
          720,
          723,
          726,
          728,
          731,
          734,
          736,
          739,
          742,
          745,
          747,
          750,
          753,
          755,
          758,
          761,
          763,
          766,
          769,
          772,
          774,
          777,
          779,
          782,
          785,
          787,
          790,
          793,
          795,
          798,
          800,
          803,
          805,
          808,
          811,
          813,
          816,
          818,
          820,
          823,
          825,
          828,
          830,
          833,
          835,
          837,
          840,
          842,
          844,
          846,
          848,
          851,
          853,
          855,
          857,
          859,
          861,
          863,
          865,
          867,
          869,
          871,
          873,
          874,
          876,
          878,
          880,
          881,
          883,
          884,
          886,
          887,
          889,
          890,
          891,
          892,
          894,
          895,
          896,
          897,
          898,
          899,
          900,
          900,
          901,
          902,
          902,
          903,
          904,
          904,
          904,
          905,
          905,
          905,
          905,
          905,
          905,
          905,
          905,
          905,
          905,
          905,
          904,
          904,
          903,
          903,
          902,
          902,
          901,
          900,
          899,
          898,
          897,
          896,
          895,
          894,
          893,
          892,
          891,
          889,
          888,
          887,
          885,
          884,
          882,
          881,
          879,
          877,
          876,
          874,
          872,
          870,
          868,
          867,
          865,
          863,
          861,
          859,
          857,
          854,
          852,
          850,
          848,
          846,
          844,
          841,
          839,
          837,
          835,
          832,
          830,
          828,
          825,
          823,
          820,
          818,
          815,
          813,
          811,
          808,
          806,
          803,
          801,
          798,
          795,
          793,
          790,
          788,
          785,
          783,
          780,
          777,
          775,
          772,
          769,
          767,
          764,
          762,
          759,
          756,
          754,
          751,
          748,
          746,
          743,
          740,
          738,
          735,
          732,
          729,
          727,
          724,
          721,
          719,
          716,
          713,
          711,
          708,
          705,
          703,
          700,
          697,
          695,
          692,
          689,
          687,
          684,
          681,
          679,
          676,
          673,
          671,
          668,
          666,
          663,
          660,
          658,
          655,
          653,
          650,
          648,
          645,
          643,
          640,
          638,
          635,
          633,
          630,
          628,
          625,
          623,
          621,
          618,
          616,
          614,
          611,
          609,
          607,
          605,
          603,
          601,
          596,
          592,
          587,
          585,
          583,
          578,
          576,
          575,
          573,
          572,
          570,
          569,
          568,
          566,
          565,
          564,
          563,
          561,
          560,
          559,
          559,
          557,
          557,
          556,
          556,
          555,
          555,
          555,
          554,
          554,
          554,
          554,
          554,
          555,
          555,
          555,
          556,
          556,
          557,
          557,
          558,
          559,
          560,
          561,
          561,
          562,
          565,
          568,
          573,
          574,
          576,
          581,
          586,
          588,
          592,
          594,
          596,
          598,
          600,
          604,
          606,
          609,
          611,
          613,
          615,
          618,
          620,
          622,
          625,
          627,
          630,
          632,
          635,
          637,
          640,
          642,
          645,
          647,
          650,
          652,
          655,
          658,
          660,
          663,
          665,
          668,
          671,
          673,
          676,
          679,
          681,
          684,
          687,
          689,
          692,
          695,
          698,
          700,
          703,
          706,
          708,
          711,
          714,
          717,
          719,
          722,
          725,
          728,
          730,
          733,
          736,
          738,
          741,
          744,
          747,
          749,
          752,
          755,
          757,
          760,
          763,
          765,
          768,
          771,
          773,
          776,
          779,
          784,
          787,
          789,
          792,
          795,
          797,
          800,
          802,
          805,
          807,
          810,
          812,
          815,
          817,
          820,
          822,
          825,
          827,
          832,
          834,
          837,
          839,
          841,
          843,
          846,
          848,
          850,
          852,
          854,
          857,
          859,
          861,
          863,
          865,
          867,
          868,
          870,
          872,
          874,
          876,
          877,
          879,
          881,
          884,
          885,
          887,
          888,
          890,
          891,
          892,
          893,
          894,
          896,
          897,
          898,
          899,
          899,
          900,
          902,
          902,
          903,
          903,
          904,
          904,
          905,
          905,
          905,
          905,
          905,
          905,
          905,
          905,
          905,
          905,
          905,
          904,
          904,
          903,
          902,
          902,
          901,
          900,
          900,
          899,
          898,
          897,
          896,
          895,
          893,
          892,
          891,
          890,
          888,
          887,
          886,
          884,
          883,
          881,
          879,
          878,
          876,
          874,
          873,
          871,
          869,
          865,
          863,
          861,
          859,
          857,
          855,
          853,
          851,
          849,
          846,
          844,
          842,
          840,
          837,
          835,
          833,
          831,
          828,
          826,
          823,
          821,
          819,
          816,
          814,
          811,
          809,
          806,
          804,
          801,
          799,
          796,
          794,
          791,
          788,
          786,
          783,
          781,
          778,
          775,
          773,
          770,
          767,
          765,
          762,
          760,
          757,
          754,
          752,
          749,
          746,
          744,
          741,
          738,
          736,
          733,
          730,
          727,
          725,
          722,
          719,
          717,
          714,
          711,
          709,
          706,
          703,
          701,
          698,
          693,
          690,
          687,
          685,
          682,
          679,
          677,
          674,
          671,
          669,
          666,
          664,
          661,
          658,
          656,
          653,
          651,
          648,
          646,
          643,
          641,
          638,
          636,
          633,
          631,
          628,
          626,
          624,
          619,
          617,
          614,
          612,
          610,
          608,
          605,
          603,
          601,
          599,
          597,
          595,
          593,
          591,
          589,
          587,
          585,
          584,
          582,
          580,
          578,
          577,
          575,
          574,
          572,
          571,
          569,
          568,
          567,
          566,
          564,
          563,
          562,
          561,
          560,
          560,
          559,
          558,
          557,
          557,
          556,
          556,
          555,
          555,
          555,
          554,
          554,
          554,
          554,
          554,
          554,
          555,
          555,
          555,
          556,
          556,
          557,
          557,
          558,
          559,
          559,
          560,
          561,
          562,
          563,
          564,
          566,
          567,
          568,
          569,
          571,
          572,
          574,
          575,
          577,
          578,
          580,
          584,
          585,
          587,
          589,
          591,
          593,
          595,
          597,
          599,
          601,
          604,
          606,
          608,
          610,
          612,
          615,
          617,
          619,
          622,
          624,
          627,
          629,
          631,
          634,
          636,
          639,
          641,
          644,
          647,
          649,
          652,
          654,
          657,
          659,
          662,
          665,
          667,
          670,
          673,
          675,
          681,
          683,
          686,
          689,
          691,
          694,
          700,
          702,
          705,
          708,
          710,
          713,
          716,
          719,
          721,
          724,
          727,
          730,
          732,
          735,
          738,
          740,
          743,
          746,
          749,
          754,
          757,
          759,
          762,
          765,
          767,
          770,
          773,
          775,
          778,
          781,
          783,
          786,
          789,
          791,
          794,
          796,
          799,
          802,
          804,
          807,
          809,
          812,
          814,
          817,
          819,
          822,
          824,
          827,
          829,
          831,
          834,
          836,
          838,
          841,
          843,
          845,
          847,
          850,
          852,
          854,
          856,
          858,
          860,
          862,
          864,
          866,
          868,
          870,
          872,
          873,
          875,
          877,
          879,
          880,
          882,
          883,
          885,
          886,
          888,
          889,
          891,
          892,
          893,
          894,
          895,
          896,
          897,
          898,
          899,
          900,
          901,
          902,
          902,
          903,
          903,
          904,
          904,
          905,
          905,
          905,
          905,
          905,
          905,
          905,
          905,
          905,
          905,
          905,
          904,
          904,
          904,
          903,
          903,
          902,
          901,
          901,
          900,
          899,
          898,
          897,
          896,
          895,
          894,
          893,
          891,
          890,
          889,
          887,
          886,
          885,
          883,
          881,
          880,
          878,
          877,
          875,
          873,
          871,
          869,
          868,
          866,
          864,
          862,
          860,
          858,
          856,
          853,
          849,
          847,
          845,
          843,
          840,
          838,
          836,
          833,
          831,
          829,
          826,
          824,
          822,
          819,
          817,
          814,
          812,
          809,
          807,
          804,
          802,
          799,
          797,
          794,
          792,
          789,
          786,
          784,
          781,
          779,
          773,
          771,
          768,
          766,
          763,
          760,
          758,
          755,
          752,
          750,
          747,
          744,
          742,
          739,
          736,
          734,
          731,
          728,
          725,
          723,
          720,
          717,
          715,
          712,
          709,
          707,
          704,
          701,
          699,
          696,
          693,
          691,
          688,
          685,
          683,
          680,
          677,
          672,
          670,
          667,
          664,
          662,
          659,
          657,
          654,
          651,
          649,
          646,
          644,
          641,
          639,
          636,
          634,
          631,
          629,
          627,
          624,
          622,
          620,
          617,
          615,
          613,
          610,
          608,
          606,
          604,
          602,
          600,
          598,
          595,
          593,
          592,
          590,
          588,
          586,
          584,
          582,
          581,
          579,
          577,
          576,
          574,
          573,
          571,
          570,
          568,
          567,
          566,
          565,
          564,
          563,
          562,
          560,
          559,
          558,
          557,
          556,
          556,
          555,
          555,
          555,
          555,
          554,
          554,
          554,
          554,
          554,
          555,
          555,
          555,
          556,
          556,
          557,
          557,
          558,
          558,
          559,
          560,
          561,
          562,
          563,
          564,
          565,
          566,
          568,
          569,
          570,
          572,
          573,
          575,
          576,
          578,
          580,
          581,
          583,
          585,
          587,
          589,
          591,
          593,
          595,
          597,
          599,
          601,
          603,
          605,
          607,
          610,
          612,
          614,
          616,
          619,
          621,
          624,
          626,
          628,
          631,
          633,
          636,
          638,
          641,
          643,
          646,
          648,
          651,
          654,
          656,
          659,
          661,
          664,
          667,
          669,
          672,
          675,
          677,
          680,
          683,
          685,
          688,
          691,
          693,
          696,
          699,
          702,
          704,
          707,
          710,
          713,
          715,
          718,
          721,
          723,
          726,
          729,
          732,
          734,
          737,
          740,
          742,
          745,
          748,
          751,
          753,
          756,
          761,
          764,
          767,
          769,
          772,
          775,
          777,
          780,
          783,
          785,
          788,
          791,
          793,
          796,
          798,
          801,
          804,
          806,
          809,
          811,
          814,
          816,
          819,
          821,
          823,
          826,
          828,
          833,
          835,
          838,
          840,
          842,
          845,
          849,
          851,
          853,
          855,
          858,
          860,
          862,
          864,
          866,
          867,
          869,
          871,
          873,
          875,
          877,
          878,
          880,
          882,
          883,
          885,
          886,
          887,
          889,
          890,
          891,
          893,
          894,
          895,
          896,
          897,
          898,
          899,
          900,
          901,
          901,
          902,
          903,
          903,
          904,
          904,
          904,
          905,
          905,
          905,
          905,
          905,
          905,
          905,
          905,
          905,
          905,
          905,
          904,
          904,
          903,
          903,
          902,
          901,
          901,
          900,
          899,
          898,
          897,
          896,
          895,
          894,
          893,
          892,
          890,
          889,
          888,
          886,
          885,
          883,
          880,
          879,
          877,
          875,
          873,
          872,
          870,
          868,
          866,
          864,
          862,
          860,
          858,
          856,
          854,
          852,
          850,
          848,
          845,
          843,
          841,
          839,
          836,
          834,
          832,
          829,
          827,
          825,
          822,
          820,
          817,
          815,
          812,
          810,
          808,
          805,
          802,
          800,
          797,
          795,
          792,
          790,
          787,
          785,
          782,
          779,
          777,
          774,
          771,
          769,
          766,
          764,
          761,
          758,
          756,
          753,
          750,
          748,
          745,
          742,
          740,
          737,
          734,
          732,
          729,
          726,
          723,
          721,
          718,
          715,
          713,
          710,
          707,
          705,
          702,
          699,
          697,
          694,
          691,
          689,
          686,
          683,
          681,
          678,
          675,
          673,
          670,
          668,
          665,
          662,
          660,
          657,
          655,
          652,
          650,
          647,
          644,
          642,
          639,
          637,
          635,
          632,
          630,
          627,
          625,
          622,
          620,
          618,
          616,
          613,
          611,
          607,
          604,
          602,
          600,
          598,
          596,
          594,
          592,
          590,
          588,
          586,
          584,
          583,
          581,
          579,
          578,
          576,
          574,
          573,
          571,
          570,
          569,
          567,
          566,
          565,
          564,
          563,
          562,
          561,
          560,
          559,
          558,
          558,
          557,
          556,
          556,
          555,
          555,
          555,
          555,
          554,
          554,
          554,
          554,
          554,
          555,
          555,
          555,
          555,
          556,
          556,
          557,
          558,
          558,
          559,
          560,
          561,
          562,
          563,
          564,
          565,
          566,
          567,
          569,
          570,
          571,
          573,
          574,
          576,
          578,
          579,
          581,
          583,
          585,
          586,
          588,
          590,
          592,
          594,
          596,
          598,
          600,
          602,
          605,
          607,
          609,
          611,
          614,
          616,
          618,
          625,
          628,
          630,
          633,
          635,
          638,
          640,
          643,
          645,
          648,
          650,
          653,
          656,
          658,
          661,
          663,
          666,
          669,
          671,
          674,
          677,
          679,
          682,
          685,
          687,
          690,
          693,
          695,
          698,
          701,
          704,
          706,
          709,
          712,
          715,
          717,
          720,
          723,
          725,
          728,
          731,
          734,
          736,
          739,
          742,
          744,
          747,
          750,
          753,
          755,
          758,
          763,
          766,
          769,
          771,
          774,
          777,
          779,
          782,
          785,
          787,
          790,
          793,
          795,
          798,
          800,
          803,
          805,
          808,
          810,
          813,
          815,
          818,
          820,
          823,
          825,
          828,
          832,
          835,
          837,
          839,
          842,
          844,
          846,
          848,
          851,
          853,
          855,
          857,
          859,
          861,
          863,
          865,
          867,
          869,
          871,
          873,
          874,
          876,
          878,
          879,
          881,
          883,
          884,
          886,
          887,
          889,
          890,
          891,
          892,
          894,
          895,
          896,
          897,
          898,
          899,
          900,
          900,
          901,
          902,
          903,
          904,
          904,
          904,
          905,
          905,
          905,
          905,
          905,
          905,
          905,
          905,
          905,
          905,
          905,
          904,
          904,
          903,
          903,
          902,
          902,
          901,
          900,
          899,
          898,
          897,
          897,
          895,
          894,
          893,
          892,
          891,
          889,
          888,
          887,
          885,
          884,
          882,
          881,
          879,
          877,
          876,
          874,
          872,
          870,
          868,
          867,
          863,
          861,
          859,
          857,
          855,
          852,
          850,
          848,
          846,
          844,
          842,
          839,
          837,
          835,
          832,
          830,
          828,
          825,
          823,
          820,
          818,
          816,
          813,
          811,
          808,
          806,
          803,
          801,
          798,
          796,
          793,
          790,
          788,
          785,
          783,
          780,
          777,
          775,
          772,
          770,
          767,
          764,
          762,
          759,
          756,
          754,
          751,
          748,
          746,
          743,
          740,
          738,
          735,
          732,
          730,
          727,
          722,
          719,
          716,
          713,
          711,
          708,
          705,
          703,
          700,
          697,
          695,
          692,
          689,
          687,
          684,
          681,
          679,
          676,
          673,
          671,
          668,
          666,
          660,
          658,
          655,
          653,
          650,
          648,
          645,
          643,
          640,
          638,
          635,
          633,
          630,
          628,
          625,
          623,
          621,
          616,
          614,
          612,
          607,
          605,
          603,
          601,
          599,
          597,
          595,
          593,
          591,
          589,
          587,
          585,
          583,
          581,
          580,
          578,
          576,
          575,
          573,
          572,
          570,
          569,
          568,
          567,
          565,
          564,
          563,
          562,
          561,
          560,
          559,
          559,
          558,
          557,
          557,
          556,
          556,
          555,
          555,
          555,
          554,
          554,
          554,
          554,
          554,
          554,
          555,
          555,
          555,
          556,
          556,
          557,
          557,
          558,
          559,
          560,
          561,
          561,
          562,
          564,
          565,
          566,
          567,
          568,
          570,
          571,
          573,
          576,
          577,
          579,
          581,
          582,
          584,
          586,
          588,
          590,
          592,
          594,
          596,
          598,
          600,
          602,
          604,
          606,
          608,
          611,
          613,
          615,
          618,
          620,
          622,
          625,
          627,
          630,
          632,
          634,
          637,
          639,
          642,
          645,
          647,
          650,
          652,
          655,
          657,
          660,
          663,
          665,
          668,
          671,
          676,
          679,
          681,
          684,
          687,
          689,
          692,
          695,
          697,
          700,
          703,
          706,
          708,
          711,
          714,
          717,
          719,
          722,
          725,
          727,
          730,
          733,
          736,
          738,
          741,
          744,
          746,
          749,
          752,
          755,
          757,
          760,
          763,
          765,
          768,
          771,
          773,
          776,
          779,
          781,
          784,
          787,
          789,
          792,
          794,
          797,
          800,
          802,
          805,
          807,
          810,
          812,
          815,
          817,
          820,
          822,
          825,
          827,
          829,
          832,
          834,
          837,
          839,
          841,
          843,
          846,
          848,
          850,
          852,
          854,
          856,
          859,
          861,
          863,
          865,
          866,
          868,
          870,
          872,
          874,
          876,
          877,
          879,
          881,
          882,
          884,
          885,
          887,
          888,
          890,
          891,
          892,
          893,
          894,
          897,
          898,
          899,
          900,
          901,
          902,
          902,
          903,
          903,
          904,
          904,
          905,
          905,
          905,
          905,
          905,
          905,
          905,
          905,
          905,
          905,
          905,
          904,
          904,
          904,
          903,
          902,
          901,
          900,
          900,
          899,
          898,
          897,
          896,
          895,
          894,
          892,
          891,
          890,
          888,
          887,
          886,
          884,
          883,
          881,
          879,
          878,
          876,
          874,
          873,
          871,
          869,
          867,
          865,
          863,
          861,
          859,
          857,
          855,
          853,
          851,
          849,
          847,
          844,
          842,
          840,
          838,
          835,
          833,
          831,
          828,
          826,
          824,
          821,
          819,
          816,
          814,
          811,
          809,
          806,
          804,
          801,
          799,
          796,
          794,
          791,
          788,
          786,
          783,
          781,
          778,
          775,
          773,
          770,
          768,
          765,
          762,
          760,
          757,
          754,
          752,
          749,
          746,
          744,
          741,
          738,
          736,
          730,
          728,
          725,
          722,
          720,
          717,
          714,
          709,
          706,
          703,
          701,
          698,
          695,
          693,
          690,
          687,
          685,
          682,
          679,
          677,
          674,
          672,
          669,
          666,
          664,
          661,
          659,
          656,
          653,
          651,
          646,
          643,
          641,
          638,
          636,
          633,
          631,
          629,
          626,
          624,
          621,
          619,
          617,
          614,
          612,
          610,
          608,
          606,
          603,
          601,
          599,
          597,
          595,
          593,
          591,
          589,
          587,
          585,
          584,
          582,
          580,
          578,
          577,
          575,
          574,
          572,
          571,
          569,
          568,
          567,
          566,
          564,
          563,
          562,
          561,
          560,
          560,
          559,
          558,
          557,
          557,
          556,
          556,
          555,
          555,
          555,
          554,
          554,
          554,
          554,
          554,
          554,
          555,
          555,
          555,
          556,
          556,
          557,
          557,
          558,
          559,
          559,
          560,
          561,
          562,
          563,
          564,
          565,
          567,
          568,
          569,
          571,
          572,
          574,
          575,
          577,
          578,
          580,
          582,
          584,
          585,
          587,
          589,
          591,
          593,
          595,
          597,
          599,
          601,
          603,
          606,
          608,
          610,
          612,
          615,
          617,
          619,
          622,
          624,
          626,
          629,
          631,
          634,
          636,
          639,
          641,
          644,
          646,
          649,
          652,
          654,
          657,
          659,
          662,
          667,
          670,
          673,
          675,
          678,
          681,
          683,
          686,
          689,
          691,
          694,
          697,
          700,
          702,
          705,
          708,
          710,
          713,
          716,
          719,
          721,
          724,
          727,
          729,
          732,
          735,
          738,
          740,
          746,
          748,
          751,
          754,
          757,
          759,
          762,
          765,
          767,
          770,
          773,
          775,
          781,
          783,
          786,
          789,
          791,
          794,
          796,
          799,
          802,
          804,
          807,
          809,
          812,
          814,
          817,
          819,
          822,
          824,
          826,
          829,
          831,
          834,
          836,
          838,
          841,
          843,
          845,
          847,
          849,
          852,
          854,
          858,
          860,
          862,
          864,
          866,
          868,
          870,
          872,
          873,
          875,
          877,
          879,
          880,
          882,
          883,
          885,
          886,
          888,
          889,
          890,
          892,
          893,
          894,
          895,
          896,
          897,
          898,
          899,
          900,
          901,
          901,
          902,
          903,
          903,
          904,
          904,
          905,
          905,
          905,
          905,
          905,
          905,
          905,
          905,
          905,
          905,
          905,
          904,
          904,
          904,
          903,
          903,
          902,
          901,
          901,
          900,
          898,
          897,
          896,
          895,
          894,
          893,
          891,
          890,
          889,
          887,
          886,
          885,
          883,
          881,
          880,
          878,
          877,
          875,
          873,
          871,
          869,
          868,
          866,
          864,
          862,
          860,
          858,
          856,
          854,
          851,
          849,
          847,
          845,
          843,
          840,
          838,
          836,
          834,
          831,
          829,
          827,
          824,
          822,
          819,
          814,
          812,
          809,
          807,
          804,
          802,
          799,
          797,
          794,
          792,
          789,
          787,
          784,
          779,
          776,
          774,
          771,
          768,
          766,
          763,
          760,
          758,
          755,
          752,
          750,
          747,
          744,
          742,
          739,
          736,
          734,
          731,
          728,
          726,
          723,
          720,
          718,
          715,
          712,
          709,
          707,
          704,
          701,
          699,
          696,
          693,
          691,
          688,
          685,
          683,
          680,
          677,
          675,
          672,
          670,
          667,
          664,
          662,
          659,
          657,
          654,
          652,
          649,
          646,
          644,
          641,
          639,
          636,
          634,
          629,
          627,
          624,
          622,
          620,
          617,
          615,
          613,
          610,
          608,
          606,
          604,
          602,
          600,
          598,
          596,
          594,
          592,
          590,
          588,
          586,
          584,
          582,
          581,
          579,
          577,
          576,
          574,
          573,
          571,
          570,
          568,
          567,
          566,
          565,
          564,
          563,
          562,
          561,
          560,
          559,
          558,
          557,
          557,
          556,
          556,
          555,
          555,
          555,
          555,
          554,
          554,
          554,
          554,
          554,
          555,
          555,
          555,
          556,
          556,
          556
         ],
         "xaxis": "x",
         "y": [
          21.79,
          31.23,
          34.33,
          34.04,
          41.89,
          33.48,
          35.93,
          36.23,
          29.83,
          26.44,
          29.22,
          28.38,
          35.71,
          24,
          19.15,
          14.58,
          14.17,
          27.44,
          30.11,
          25.75,
          22.67,
          29.79,
          38.21,
          33.79,
          21.38,
          25,
          28.25,
          31.36,
          31.25,
          32,
          25.42,
          39.17,
          42.54,
          32.32,
          24.54,
          18.46,
          24.42,
          36.38,
          49.04,
          39.71,
          40,
          49.75,
          50.71,
          40.38,
          34.92,
          35.92,
          33.75,
          33.88,
          37.54,
          42.93,
          28.67,
          34,
          38.79,
          29.83,
          29.33,
          32.29,
          41.29,
          47.14,
          38.08,
          32,
          23.23,
          20.42,
          26.96,
          35.9,
          46.17,
          55.71,
          55.55,
          41.71,
          39.46,
          48.62,
          37.26,
          32.77,
          41.04,
          46.61,
          41.7,
          41,
          48.74,
          45.4,
          38.45,
          38.52,
          43.48,
          35.39,
          37.22,
          42.65,
          43.5,
          50.81,
          47.15,
          44.7,
          47.7,
          47.39,
          45.25,
          48.69,
          48.52,
          51,
          54.42,
          46.88,
          44.54,
          42.65,
          50.65,
          49.78,
          47.22,
          42,
          46.3,
          46.55,
          46.21,
          50.35,
          56.54,
          66.52,
          54.61,
          45.83,
          50.63,
          51.81,
          50.87,
          57.61,
          67.54,
          77.2,
          63.5,
          79.76,
          58.29,
          54.59,
          62.04,
          61.43,
          55.13,
          53.5,
          52.63,
          54.05,
          60.21,
          66.17,
          64.42,
          63.92,
          56.21,
          59.24,
          59,
          59.8,
          62.82,
          62.05,
          58.91,
          53.29,
          57.46,
          66.71,
          72.92,
          74.96,
          65.58,
          67.97,
          71.73,
          59.29,
          55.77,
          56.89,
          58.83,
          70.2,
          71.54,
          60.42,
          70.17,
          63.84,
          58.73,
          58.52,
          64.84,
          72.67,
          69.67,
          63.8,
          61.6,
          61.12,
          69.37,
          67.39,
          64.93,
          62.58,
          60.89,
          62.5,
          63.56,
          68.79,
          67.16,
          68.69,
          70,
          71.23,
          69.23,
          70.29,
          72.43,
          72.67,
          75.79,
          73.97,
          71.83,
          70.62,
          73.5,
          73.71,
          72.58,
          75.54,
          73.28,
          68.62,
          66.3,
          68.04,
          71,
          72.3,
          72.29,
          73.13,
          73.5,
          78.63,
          76.39,
          76.3,
          74.58,
          74.46,
          67.27,
          73.07,
          71.94,
          71.32,
          74.97,
          76.11,
          77.16,
          78.88,
          76.05,
          79.07,
          76.03,
          75.33,
          74.53,
          77.79,
          79.17,
          80.64,
          73.08,
          74.04,
          71.75,
          75.65,
          82,
          81.71,
          75.56,
          71.83,
          76.42,
          79.5,
          81.42,
          84.75,
          82.41,
          81.92,
          82.46,
          81.27,
          77.61,
          77.53,
          77.22,
          78.04,
          80.22,
          73.43,
          68.24,
          70.65,
          71.97,
          67.13,
          66.91,
          68.65,
          69.83,
          73.91,
          77.48,
          68.87,
          66.38,
          69.78,
          70.96,
          63.31,
          65.78,
          72.65,
          71.78,
          73.7,
          66.7,
          60.24,
          66.71,
          63.57,
          65.13,
          67.35,
          70.57,
          75.54,
          75.87,
          64.87,
          60.52,
          64.95,
          65.92,
          63.43,
          57.48,
          53.65,
          58.39,
          67.04,
          65.72,
          61.09,
          60.3,
          64.96,
          59.87,
          65.26,
          63,
          57.48,
          50.17,
          56,
          49.09,
          43.39,
          43.68,
          46.85,
          44.92,
          49.17,
          57.43,
          60.17,
          65.04,
          55.96,
          62.87,
          59,
          54.09,
          53.72,
          54.3,
          52.5,
          55.4,
          63.27,
          54.83,
          51.83,
          52.61,
          48.21,
          48.29,
          44.38,
          45.75,
          56.5,
          57.33,
          60.04,
          54.63,
          49.81,
          51.68,
          54.41,
          56.93,
          54.13,
          49.38,
          48.03,
          52.29,
          57.76,
          51.13,
          50.13,
          48.04,
          51.56,
          51.11,
          46.97,
          47.79,
          49.88,
          51.15,
          42.75,
          48.79,
          59.33,
          48.88,
          40.45,
          36.93,
          37.58,
          40.04,
          44.72,
          39,
          26.79,
          32.46,
          43.03,
          43.92,
          46.71,
          34.79,
          28.29,
          24.17,
          26.85,
          27.77,
          32.96,
          32.29,
          26.29,
          32.4,
          36.12,
          42.03,
          49.08,
          36.63,
          23.38,
          26.5,
          32.33,
          35.53,
          25.85,
          20.56,
          24.67,
          26.21,
          29.79,
          33.31,
          30.91,
          24.88,
          22.33,
          27.92,
          30.58,
          30,
          35.88,
          41.67,
          43.38,
          36.83,
          40.62,
          43.07,
          38.17,
          36.79,
          34.33,
          36.79,
          52.33,
          40.79,
          35.46,
          34.28,
          20.5,
          17.63,
          23.5,
          31.17,
          31.35,
          32.03,
          33.38,
          33.71,
          27.94,
          25.21,
          30.17,
          35.27,
          31.67,
          32.63,
          31.79,
          29.25,
          33.88,
          34.41,
          31.47,
          31.23,
          35.88,
          39.33,
          39.83,
          39.92,
          37.4,
          36.23,
          36.41,
          33.39,
          31.16,
          35.55,
          37.5,
          41.96,
          41.31,
          38.58,
          40.92,
          39.88,
          43.04,
          47.83,
          50.92,
          52,
          46.5,
          43.38,
          42.52,
          42.5,
          46.1,
          44.67,
          51.08,
          53.43,
          57.04,
          57.88,
          62.78,
          52,
          50.33,
          49.75,
          50.75,
          54.13,
          43.89,
          35.04,
          43.17,
          51.51,
          45.56,
          51.59,
          54.88,
          55.13,
          52.19,
          58.37,
          62.74,
          61.79,
          73.7,
          67.87,
          57.11,
          52.09,
          63.74,
          58.83,
          53.22,
          56.61,
          60.5,
          50.65,
          48.19,
          50.13,
          55.17,
          59.61,
          60.09,
          60.75,
          57.13,
          58.04,
          49.53,
          51.3,
          51.24,
          50,
          59.17,
          66.74,
          69.63,
          77.21,
          73.25,
          72,
          69.63,
          67.35,
          61.75,
          62.93,
          49.67,
          51.67,
          52,
          47.7,
          56.19,
          67.5,
          67.88,
          63.88,
          66.09,
          54.57,
          57.2,
          68.29,
          73.08,
          63.73,
          60.26,
          64.64,
          70.83,
          80.29,
          70.1,
          64.33,
          69.42,
          77.38,
          76.71,
          77.1,
          76.76,
          77.04,
          80.33,
          84,
          81.12,
          67.71,
          67.63,
          62.32,
          65.45,
          66.08,
          69.67,
          68.49,
          70.48,
          72.17,
          70.72,
          72.34,
          74.96,
          73.67,
          80.92,
          81.08,
          76.52,
          82.67,
          85.55,
          79.38,
          81.65,
          82.6,
          86.56,
          83.29,
          71.96,
          70.79,
          72.79,
          79.08,
          87.5,
          88.46,
          92.17,
          89.46,
          81.59,
          81.96,
          79.11,
          81.31,
          83.25,
          79.97,
          76.94,
          83.96,
          86.58,
          87.71,
          83.03,
          82.63,
          85.88,
          82.13,
          81.2,
          89.68,
          83.86,
          78.71,
          81.96,
          83.79,
          83.08,
          76.79,
          74.46,
          74.96,
          77.25,
          78.38,
          82.83,
          86.42,
          83.21,
          77.25,
          79.71,
          83,
          84.75,
          83.43,
          74.78,
          73.83,
          73.48,
          74.33,
          78.87,
          83.26,
          78,
          80.04,
          82.22,
          74.54,
          76.48,
          71,
          68.54,
          67.14,
          74.52,
          71.83,
          74.96,
          81.77,
          83.04,
          86.52,
          86.61,
          85.91,
          80,
          76.7,
          70,
          71.74,
          77.61,
          79.48,
          67.26,
          66.96,
          69.04,
          64.33,
          65.84,
          69.33,
          66,
          68.26,
          68.75,
          65.75,
          70.42,
          68,
          65.84,
          74.38,
          72.67,
          73.9,
          81.67,
          68.56,
          69.18,
          73.14,
          72.46,
          73.51,
          66.72,
          60.91,
          58,
          56,
          59.25,
          59.34,
          61.74,
          66.57,
          67.13,
          61.78,
          67.55,
          64.43,
          57.78,
          57.74,
          55,
          56.39,
          60.57,
          56.83,
          55.18,
          56.48,
          55.11,
          50.83,
          57.57,
          63.83,
          67.03,
          69.46,
          68.9,
          54.35,
          51.74,
          52.61,
          44,
          45.7,
          48.57,
          49.9,
          49.45,
          47.04,
          44.73,
          44.43,
          48.04,
          51.35,
          49.21,
          53.25,
          55.21,
          51.64,
          53.39,
          55.35,
          59.38,
          52.08,
          45.71,
          49.29,
          44.68,
          55.36,
          58.63,
          46.88,
          42.29,
          49.27,
          40.63,
          42.75,
          44.25,
          51.93,
          57.22,
          39.67,
          38.65,
          37.38,
          34.56,
          34.21,
          35.13,
          32.83,
          28.92,
          30.46,
          40.96,
          51.56,
          40.74,
          22.57,
          26.25,
          28.96,
          31.88,
          34.57,
          34.67,
          33.08,
          34.42,
          34.58,
          34.46,
          34.92,
          31.08,
          27.49,
          26.69,
          33.42,
          36.17,
          36.17,
          41.71,
          45,
          46.6,
          34.25,
          37.04,
          37.42,
          31.67,
          33.57,
          29.55,
          31,
          31.13,
          28.62,
          29.06,
          27.38,
          25.54,
          32.38,
          34.63,
          25.58,
          34.38,
          39.27,
          33.71,
          29.97,
          21.79,
          21.67,
          16.58,
          32.51,
          32.57,
          34.78,
          33.92,
          34.17,
          35.38,
          29.29,
          28.68,
          34.34,
          31.96,
          31.75,
          36.23,
          42.08,
          40.6,
          35.94,
          23.17,
          26.5,
          29,
          34.25,
          37.4,
          47.67,
          31.25,
          36.96,
          51,
          55.63,
          38.33,
          30,
          29.9,
          25.25,
          30.79,
          35.75,
          43.6,
          35.58,
          41.32,
          46.43,
          38.25,
          40.21,
          26.13,
          34.46,
          48.16,
          50.88,
          41.74,
          37.58,
          37.4,
          45.06,
          49.75,
          46.38,
          46.83,
          40.52,
          38.52,
          44.03,
          52.17,
          61.17,
          47.43,
          39.91,
          41.26,
          44.5,
          35.05,
          35.16,
          34.92,
          32.22,
          34.39,
          35.61,
          39.17,
          43.26,
          39.7,
          39.1,
          46.39,
          49.22,
          50.78,
          49.73,
          45.08,
          43.76,
          43.31,
          43.08,
          48.69,
          57.15,
          55.38,
          45.92,
          55.79,
          48.18,
          46.25,
          55.3,
          52.83,
          49.26,
          48.32,
          53.35,
          44.52,
          50,
          64.53,
          59.34,
          60.15,
          62.03,
          61.83,
          62.7,
          56.48,
          55.57,
          54.57,
          58.55,
          52.73,
          55.3,
          60.75,
          61.65,
          62.13,
          61.22,
          60.91,
          60.04,
          59.7,
          58.35,
          59.38,
          61.56,
          55.63,
          54.57,
          56.46,
          61.64,
          60.62,
          61.93,
          56.03,
          59.63,
          71.91,
          73.17,
          69.67,
          70.45,
          72.5,
          73.56,
          77.22,
          76.54,
          78.22,
          72.78,
          66.3,
          66.26,
          61.08,
          71.39,
          79.73,
          85.65,
          81.66,
          77.83,
          63.56,
          63.03,
          65.13,
          63.62,
          70.43,
          73.65,
          68.27,
          73.2,
          74.65,
          71.83,
          76.13,
          75.19,
          68.84,
          65.72,
          70.46,
          74.22,
          75.04,
          77.36,
          75.89,
          74.42,
          75.17,
          76.26,
          73,
          76.62,
          80.3,
          82.26,
          81.04,
          75.96,
          77.08,
          76.87,
          83.52,
          84.83,
          79.2,
          72.7,
          77.48,
          80.39,
          82.09,
          84.09,
          82.57,
          79.13,
          83.88,
          93.83,
          88.48,
          83.96,
          74.94,
          76.06,
          76.55,
          77.96,
          77.53,
          82.09,
          80.22,
          81.52,
          83.61,
          74,
          74.04,
          77.3,
          76.04,
          80.3,
          80.43,
          75.6,
          79.25,
          76.26,
          75.83,
          77.7,
          70.24,
          72.23,
          69.36,
          78,
          75.28,
          74.69,
          75.13,
          76.96,
          72.91,
          71.95,
          73.7,
          75.43,
          76.5,
          69.57,
          72.26,
          75,
          74.61,
          70.65,
          74.48,
          77.13,
          75.52,
          63.82,
          65.42,
          68.14,
          73.86,
          73.65,
          67.39,
          72.84,
          77.43,
          77.55,
          68.83,
          59,
          59.05,
          61.77,
          60.27,
          65.15,
          68.81,
          71.97,
          71.29,
          72.34,
          74.43,
          73.35,
          71.03,
          71.13,
          69.61,
          68.52,
          60,
          56.11,
          53.13,
          57.12,
          63.61,
          59.74,
          58.13,
          66.52,
          72.77,
          72.96,
          67.7,
          60.92,
          62.12,
          66.36,
          60.78,
          62.22,
          62.39,
          61.91,
          61.77,
          63.82,
          54.39,
          54.04,
          54.57,
          55.96,
          57.87,
          57.17,
          50.08,
          43.36,
          37.53,
          40.85,
          47,
          50.13,
          49.83,
          49.87,
          42.96,
          47.88,
          53.54,
          59.21,
          53.81,
          56.39,
          45.85,
          48.63,
          53.33,
          59.88,
          62.83,
          55.83,
          46.5,
          41.48,
          45.58,
          55.75,
          53,
          47.31,
          47.22,
          45.77,
          53.21,
          55.38,
          53.21,
          60.21,
          59.17,
          48.38,
          44.08,
          45.71,
          41.58,
          46.38,
          51.28,
          57.92,
          51.3,
          40.86,
          44.54,
          40.83,
          35.21,
          38.38,
          40.38,
          44,
          52.54,
          48.17,
          38.29,
          27.71,
          38.21,
          44.52,
          50.07,
          53.92,
          45.52,
          32.88,
          38.88,
          42.46,
          49.53,
          41.61,
          31,
          43.79,
          49.54,
          47.38,
          40.13,
          26.63,
          20.63,
          33.79,
          44.04,
          52.21,
          41.58,
          35.33,
          40.63,
          42.08,
          43.3,
          38.92,
          30.04,
          21.29,
          27,
          41.55,
          38.38,
          28.33,
          30.25,
          25.6,
          25.85,
          41.61,
          47.86,
          39.96,
          36.17,
          48.38,
          42.58,
          39.25,
          37.13,
          48.21,
          55.96,
          42.75,
          37.88,
          42.5,
          36.04,
          42.79,
          44,
          34,
          38.12,
          40.24,
          35.41,
          27.88,
          36.21,
          41.92,
          42.11,
          41.38,
          45.66,
          41.72,
          39.58,
          37.58,
          40.54,
          49.64,
          50.58,
          40.64,
          41.5,
          37.17,
          45.67,
          44.67,
          40.34,
          39.54,
          37.72,
          47.67,
          41.79,
          36.75,
          34.63,
          48.25,
          60.28,
          45.84,
          47.91,
          56.09,
          61.48,
          62.83,
          45.72,
          44.74,
          50.04,
          51.18,
          61,
          58.89,
          56.98,
          61.32,
          65.08,
          56.92,
          47.68,
          48.3,
          41.74,
          55.7,
          52.83,
          46.91,
          41.63,
          46.87,
          48.44,
          52.61,
          59.22,
          50.04,
          48.43,
          51.65,
          56.78,
          57.65,
          54.75,
          48.43,
          51.91,
          55.13,
          61.91,
          69.26,
          73.09,
          72.26,
          56.17,
          56.84,
          61.9,
          61.2,
          49.97,
          51.41,
          49.79,
          55,
          54.24,
          50.08,
          49.74,
          54.87,
          52.39,
          57.92,
          52.39,
          54.37,
          60.81,
          56.55,
          58.12,
          57.63,
          63.17,
          59.15,
          61.04,
          68.09,
          73.04,
          67.96,
          63.44,
          65.72,
          64.78,
          62.35,
          66.39,
          65.29,
          59.94,
          63.95,
          68.39,
          64.36,
          64.76,
          73.42,
          73.92,
          79.22,
          81.85,
          74.7,
          73.43,
          66.62,
          68.26,
          67.64,
          59.88,
          58.96,
          64.52,
          68.58,
          73.48,
          73.52,
          74.04,
          70.15,
          68.33,
          69.03,
          70.24,
          69.42,
          65,
          63.89,
          69.64,
          85.52,
          89.04,
          79.73,
          76.24,
          76.78,
          69.49,
          67.22,
          74.83,
          81.26,
          85.88,
          87.64,
          86.33,
          81.39,
          81.61,
          85.04,
          86.48,
          82.13,
          86.83,
          81.84,
          78.57,
          77.7,
          77.83,
          79.35,
          81.22,
          80.74,
          80.63,
          82.43,
          88.13,
          85.82,
          74.44,
          66.77,
          69.96,
          75.39,
          78.89,
          83.65,
          78.17,
          79.35,
          82,
          73.05,
          73.73,
          73.58,
          73.92,
          75.11,
          80.43,
          83.78,
          82.79,
          82.56,
          80.08,
          77.26,
          80.04,
          81.48,
          78.77,
          81,
          80.59,
          79.35,
          78.04,
          74.68,
          77.42,
          80.77,
          71.21,
          71.52,
          73.91,
          75.22,
          76.7,
          77.91,
          78.96,
          76.79,
          74.52,
          75.93,
          80,
          74.26,
          76.13,
          83.13,
          81.67,
          75.75,
          74.38,
          75.17,
          78.83,
          75.63,
          79.78,
          76.21,
          71.22,
          67.04,
          65.78,
          71.35,
          72.04,
          72.23,
          68.61,
          68.3,
          70.04,
          72.31,
          66.54,
          63.17,
          66.39,
          68.96,
          64.74,
          62.04,
          64.91,
          70.3,
          70.96,
          66.56,
          61.73,
          61.27,
          64.26,
          65.06,
          67.23,
          70.79,
          71.65,
          68,
          53.36,
          52.26,
          56.09,
          59.23,
          54.95,
          52.09,
          48.27,
          62.22,
          66.71,
          56.35,
          54.39,
          59.92,
          65.08,
          63.17,
          59.36,
          61.81,
          60.91,
          57.87,
          59.19,
          62.69,
          62.68,
          58.54,
          59.03,
          56,
          50.12,
          47.7,
          49.13,
          46.52,
          45.42,
          42.04,
          38.46,
          36.73,
          41.84,
          45.96,
          50.38,
          54.71,
          57.33,
          50.05,
          42.96,
          41.57,
          42.58,
          45.75,
          44.42,
          44.07,
          45.26,
          47.71,
          47.71,
          49.13,
          43.42,
          38.25,
          43.58,
          38.66,
          38.58,
          40.88,
          39.44,
          53.88,
          51.94,
          50.36,
          36.5,
          42.32,
          47.46,
          52.69,
          47.45,
          41.46,
          43.75,
          43.54,
          45.41,
          42.52,
          47.59,
          44.5,
          41.52,
          49.3,
          37.93,
          40,
          36.81,
          37.73,
          34.24,
          38.1,
          33.39,
          32.96,
          37.92,
          30.08,
          35.75,
          38.17,
          40.07,
          41.5,
          44.71,
          40.75,
          44.06,
          45.47,
          50.09,
          37.74,
          35.34,
          40.54,
          29.68,
          41.04,
          44.75,
          30.21,
          21.88,
          16,
          18.92,
          19.58,
          22.17,
          27.58,
          33.06,
          39.32,
          46.78,
          48,
          29.42,
          27.24,
          28.43,
          29.57,
          33.28,
          29.6,
          28.97,
          27.54,
          40.64,
          42.08,
          38.19,
          38.92,
          43.71,
          35.81,
          27.04,
          41.04,
          32.13,
          29.08,
          31.83,
          36.59,
          39.22,
          38.27,
          41.11,
          45,
          40,
          35.78,
          33.04,
          33.88,
          39.83,
          40,
          36.06,
          35.02,
          44.21,
          39.95,
          50.94,
          44.65,
          38.61,
          34.52,
          32.31,
          37.79,
          39.57,
          35.04,
          39.57,
          39.7,
          38.58,
          43.61,
          44.43,
          44.09,
          47.22,
          47.04,
          49,
          39.61,
          41.48,
          42.7,
          47.52,
          57.48,
          66,
          60.59,
          43.73,
          52.22,
          49.09,
          54.78,
          55.57,
          59.3,
          55.12,
          47.91,
          45.93,
          53.15,
          56.46,
          58,
          58.22,
          55.57,
          56.64,
          56.65,
          58.79,
          55.7,
          55.17,
          51.88,
          60,
          58.28,
          57.74,
          68.13,
          63.39,
          52.17,
          53.48,
          60.61,
          70.3,
          66.43,
          57.64,
          65.97,
          77.21,
          66.14,
          68.57,
          58.52,
          49.12,
          58.04,
          60.55,
          66.45,
          83.96,
          84.26,
          81.65,
          79.88,
          72.13,
          67.39,
          66.04,
          64.43,
          61.6,
          65.73,
          73.17,
          65.62,
          70.67,
          64.97,
          61.23,
          75.78,
          78,
          68.54,
          71.57,
          73.48,
          78.22,
          83.96,
          83.96,
          82.17,
          77.37,
          78.2,
          77.34,
          76.71,
          74.58,
          76.05,
          79.05,
          83.39,
          84.83,
          87.7,
          88.43,
          83.22,
          82.84,
          73.29,
          71.74,
          80.83,
          87.26,
          86.48,
          87.39,
          90.61,
          92.26,
          87.91,
          81.13,
          79.14,
          78.87,
          66.4,
          73.42,
          76.39,
          74.96,
          77.77,
          75.57,
          76.27,
          72.35,
          76.63,
          75.26,
          74.35,
          71.61,
          73.65,
          74.32,
          78.87,
          77.78,
          74.42,
          73.58,
          68.83,
          70.7,
          72.64,
          74.04,
          72.13,
          74.09,
          78.57,
          81,
          76.17,
          75.96,
          70.87,
          74.61,
          76.43,
          78.2,
          76.92,
          76.33,
          78.57,
          77,
          74,
          72.7,
          64.13,
          69.48,
          65.74,
          77.04,
          84.74,
          70.09,
          60.83,
          62.74,
          65.52,
          62.35,
          65.96,
          68.22,
          68.91,
          65.13,
          58.39,
          64.04,
          63.19,
          61.07,
          65,
          63.64,
          64.48,
          70.61,
          74.52,
          71.74,
          74.04,
          67.07,
          66.62,
          68.97,
          61.22,
          59.48,
          59.72,
          64.53,
          64.8,
          59.5,
          57.67,
          60.79,
          64.86,
          63.84,
          59.5,
          57.96,
          59.39,
          59.48,
          51.22,
          48.17,
          47.87,
          49.96,
          53.04,
          53.65,
          49.7,
          53.96,
          60.5,
          66,
          60.71,
          40.13,
          48.58,
          56.23,
          45.5,
          45.17,
          50.44,
          39.43,
          34.58,
          43.42,
          51.88,
          54,
          59.83,
          44.58,
          38,
          43.92,
          53.16,
          42.44,
          27.17,
          29.42,
          37.61,
          48.81,
          33.13,
          34.04,
          42.45,
          43.13,
          44.44,
          43.92,
          50.64,
          46.62,
          37.19,
          30.42,
          35.87,
          34.3,
          30.63,
          30.17,
          27,
          35.28,
          29.25,
          26.9,
          30.71,
          38.21,
          46.79,
          54.29,
          59.41,
          54.49,
          36.21,
          24.79,
          33,
          44.5,
          43,
          37.65,
          27,
          29.36,
          26.24,
          14.35,
          18.67,
          31.93,
          46.13,
          9.17,
          15.54,
          27.09,
          31.38,
          49.33,
          45.12,
          42.96,
          46.03,
          40.47,
          38.35,
          38.96,
          35.74,
          31.04,
          39.92,
          19,
          14.5,
          15.5,
          24.06,
          22.1,
          33.08,
          17.17,
          17.75,
          22.83,
          32.54,
          37.96,
          41.04,
          32.12,
          29.79,
          31.82,
          27.33,
          28.88,
          26.21,
          25.63,
          21.92,
          19.63,
          30.57,
          35.15,
          33.26,
          25.75,
          25.54,
          30.66,
          38.25,
          41.11,
          38.52,
          46.25,
          47.79,
          36.08,
          28.42,
          26.94,
          24.76,
          17.29,
          29.5,
          36.58,
          22.97,
          22,
          30.83,
          23.67,
          30.77,
          43.8,
          39.78,
          42.54,
          54.61,
          46.26,
          24.36,
          32.96,
          48.5,
          34.04,
          28.21,
          32.79,
          38.27,
          45.29,
          43.67,
          49.38,
          38.04,
          27.71,
          32.33,
          32.04,
          32.46,
          47.92,
          45.21,
          43.8,
          41.87,
          46.24,
          46.25,
          51.13,
          41.92,
          44.84,
          45.38,
          45,
          51.27,
          50.79,
          60.46,
          58.41,
          60.5,
          60.96,
          52.22,
          38.62,
          40.12,
          53.5,
          49.71,
          50.83,
          58.92,
          52.58,
          50.96,
          51.58,
          50.41,
          52.04,
          54.04,
          47.56,
          45.67,
          60.55,
          62.04,
          61,
          58.5,
          58,
          59.33,
          59,
          54.28,
          56.96,
          64.6,
          70.17,
          73.17,
          62.12,
          56.52,
          63.3,
          66.85,
          62.11,
          59.52,
          61.09,
          67.22,
          69,
          61.43,
          59.58,
          60.36,
          67.7,
          77.26,
          79.22,
          57.36,
          55.65,
          64.71,
          63.39,
          66.7,
          71,
          75.08,
          67.66,
          65.9,
          67.96,
          72.48,
          76.26,
          65.3,
          67.91,
          64.75,
          63.58,
          66.45,
          68.57,
          69.74,
          71.52,
          78.78,
          83.43,
          73.61,
          73.13,
          69.09,
          70.35,
          73.74,
          73.61,
          75.69,
          77.59,
          72.76,
          75.96,
          75,
          76.13,
          80.17,
          78.94,
          78.2,
          70.03,
          73.63,
          78.38,
          82.88,
          81.71,
          79.46,
          75.58,
          76.5,
          77.04,
          75.54,
          76.44,
          75.53,
          74.09,
          74.57,
          74.67,
          72.25,
          71.21,
          74.54,
          79.04,
          80.81,
          75.46,
          74.71,
          75.58,
          79.12,
          75.73,
          70.33,
          73.08,
          75.72,
          76.74,
          69.59,
          69.8,
          75.45,
          80.09,
          76.35,
          75.04,
          74.74,
          77.96,
          78.78,
          79.13,
          75,
          77.14,
          71.96,
          68.65,
          72.57,
          74.87,
          72.65,
          72.26,
          75.61,
          74.96,
          69.97,
          70.08,
          72,
          77.7,
          77.57,
          80.17,
          75.13,
          70.04,
          72.48,
          77.56,
          81,
          85.3,
          78.87,
          78.13,
          78.48,
          81.08,
          71.92,
          70.04,
          68.33,
          67.4,
          75.73,
          68.42,
          64.11,
          62.52,
          63.52,
          63.65,
          66.09,
          68.17,
          60.48,
          66.92,
          69.95,
          66.72,
          61.87,
          65.26,
          62.17,
          68.21,
          76.93,
          73.21,
          72.75,
          66.76,
          63.05,
          63.17,
          62.26,
          64.81,
          53.75,
          60.65,
          67.58,
          67.31,
          63.63,
          59.67,
          54.35,
          55.63,
          60.77,
          68.96,
          72.33,
          69,
          63,
          62.88,
          51.75,
          52.08,
          60.77,
          55.43,
          52.42,
          55.5,
          59.88,
          58.2,
          57.46,
          61.25,
          62.33,
          53.17,
          50.35,
          46.3,
          44.33,
          51.22,
          61.87,
          60.3,
          50.21,
          47.83,
          43.3,
          51.04,
          52.48,
          56.54,
          57.64,
          42.23,
          38.75,
          37.78,
          40.61,
          44.59,
          31.83,
          28.04,
          39.43,
          31.96,
          36.91,
          48.7,
          59.22,
          57.17,
          38.42,
          36.73,
          33.17,
          33.57,
          49.52,
          53.52,
          39.7,
          44.56,
          40.65,
          40.66,
          44.85,
          37.25,
          30.73,
          40.58,
          37.17,
          33.62,
          34.57,
          38.13,
          40.96,
          41.96,
          42.23,
          46.36,
          39.57,
          35.52,
          31.85,
          33.74,
          40.67,
          44.35,
          46.33,
          52.31,
          45,
          48,
          47.48,
          39.52,
          30.78,
          29.48,
          33.09,
          38.78,
          35.37,
          47.28,
          35.91,
          20.06,
          19.72,
          14.52,
          25.97,
          19.96,
          28.52,
          36.54,
          26.36,
          24.66,
          30,
          32.22,
          23.48,
          35.67,
          38.91,
          36.39,
          30.04,
          33.56,
          33.3,
          34.33,
          36.78,
          24.75,
          23.68,
          24.87,
          27.96,
          31.9,
          20.04,
          30.48,
          27.07,
          20.57,
          33.43,
          28.56,
          20.09,
          30.07,
          33.84,
          27.03,
          30.57,
          27.83,
          32.71,
          15.78,
          26.26,
          16.48,
          13.13,
          18.89,
          25.5,
          18.52,
          11.61,
          25.45,
          35.03,
          23.13,
          15,
          30.22,
          24.68,
          23.87,
          22.65,
          26.7,
          32.85,
          29.93,
          40.46,
          28.62,
          21.13,
          29.87,
          41.58,
          45.63,
          38.59,
          48.69,
          42.88,
          37.08,
          45.65,
          42.42,
          41.46,
          46.25,
          32.88,
          34.92,
          31.89,
          35.49,
          36.83,
          30.58,
          34.75,
          39.9,
          46.8,
          42.76,
          34.92,
          35.38,
          43.12,
          39.81,
          41.63,
          52.24,
          58.91,
          50.85,
          50.63,
          47.5,
          47.62,
          41.53,
          44.8,
          53.67,
          51.83,
          57.21,
          59.04,
          59.75,
          55,
          66.6,
          53.8,
          51.26,
          58.14,
          57.37,
          45.46,
          42.96,
          47.96,
          52.83,
          53.83,
          59.04,
          61.38,
          52.85,
          52.08,
          54.6,
          61.79,
          71.71,
          63.96,
          63.71,
          61.53,
          56.88,
          69.42,
          73.1,
          74.86,
          61,
          60.83,
          63.5,
          65.12,
          72.15,
          60.5,
          61.69,
          59.33,
          56.54,
          64.08,
          58.08,
          67.54,
          73.5,
          75.25,
          72.59,
          73.8,
          71.63,
          73.88,
          70.25,
          55.14,
          52.21,
          58.44,
          60.07,
          65.82,
          64.42,
          69.04,
          73.28,
          74.58,
          82.42,
          79.71,
          79.29,
          76.08,
          68.02,
          69.83,
          72.28,
          66.63,
          74.16,
          66.28,
          76.94,
          80.75,
          83.24,
          76.29,
          76.54,
          74,
          66.03,
          65.82,
          71.67,
          75.27,
          76.06,
          74.46,
          73.42,
          71.63,
          75.83,
          77.12,
          79.69,
          80.72,
          73.06,
          76.75,
          78.92,
          81.42,
          79.17,
          75.97,
          74.95,
          71.54,
          73.75,
          77.17,
          86.42,
          88.63,
          83.6,
          77.08,
          77.17,
          78.38,
          77.67,
          80.5,
          79.5,
          84.04,
          86.54,
          79.69,
          82.33,
          83,
          80.71,
          84.04,
          81.14,
          79.46,
          76.17,
          75.42,
          74.54,
          75.42,
          74.61,
          75.54,
          77.29,
          75.92,
          78.92,
          82.21,
          83.22,
          85.13,
          81.54,
          79.94,
          80.6,
          77.57,
          76.17,
          75.93,
          78.88,
          80.96,
          75.92,
          73.58,
          73.83,
          76.83,
          80.08,
          83.75,
          80.67,
          80.5,
          83.92,
          78.54,
          72,
          74.58,
          79.17,
          83.79,
          80.38,
          73.69,
          72.06,
          73.53,
          71.41,
          67.71,
          73.96,
          76.96,
          78.13,
          76.21,
          74.23,
          71.76,
          65.5,
          66.25,
          67.46,
          70.67,
          67.75,
          64.85,
          63.23,
          69.38,
          75.17,
          71.59,
          58.15,
          52.41,
          52.63,
          57.52,
          57.5,
          63.58,
          64.71,
          63.42,
          66.94,
          58.42,
          60.67,
          64.63,
          67.04,
          63,
          58.21,
          58.58,
          50.5,
          43.54,
          45.17,
          59.08,
          65.21,
          66.38,
          55.58,
          49.67,
          59,
          52.71,
          51.92,
          61.39,
          66.68,
          54.46,
          49.38,
          59,
          60,
          62.48,
          60.39,
          63.28,
          68.91,
          62.3,
          52.78,
          53.57,
          56,
          52.89,
          55.76,
          55,
          50.43,
          59.13,
          46.13,
          53.31,
          61.48,
          56.46,
          47.39,
          51.97,
          39.52,
          40.83,
          44.17,
          49.87,
          57.17,
          53.8,
          41.83,
          40.26,
          47.89,
          50.65,
          49.13,
          47.26,
          47.13,
          47.43,
          48.83,
          44.52,
          47.65,
          55.04,
          54.69,
          59.3,
          55.92,
          55.23,
          59.93,
          48.6,
          54.92,
          48.5,
          38.65,
          40.13,
          48.91,
          57.81,
          53.45,
          66.1,
          59.18,
          51.96,
          53.47,
          40.5,
          41.23,
          43.86,
          46.81,
          40.26,
          37.22,
          40.7,
          28.83,
          21.78,
          34.22,
          40.72,
          40.75,
          44.32,
          52.28,
          33.39,
          34.65,
          26.61,
          31.61,
          42.81,
          45.6,
          34.61,
          26.42,
          24.43,
          33.35,
          31.95,
          26.83,
          27.42,
          29.56,
          34.17,
          42.78,
          42.83,
          38.26,
          38.61,
          34.91,
          44.3,
          51.17,
          44.43,
          52.24,
          53,
          36.11,
          36.74,
          39.96,
          33.5,
          30.72,
          35.22,
          25.57,
          22.3,
          18.17,
          9.83,
          23.83,
          50.33,
          38.12,
          32.3,
          33,
          51.61,
          51.3,
          44.87,
          37.5,
          44.56,
          49.59,
          34.43,
          34.91,
          49,
          51.17,
          45.96,
          43.5,
          31.91,
          32.75,
          34.91,
          38.96,
          48.57,
          52.43,
          58.39,
          70.43,
          57.14,
          50.26,
          56.39,
          45.22,
          49.79,
          53.24,
          52.86,
          51.83,
          42.58,
          36.94,
          39.62,
          45.75,
          58.38,
          47.48,
          57.18,
          44.62,
          45.93,
          48.42,
          47.96,
          46.04,
          59.29,
          63.71,
          52.57,
          40.21,
          38.29,
          34.28,
          40.38,
          54.33,
          46.77,
          40.5,
          41.4,
          52.08,
          52.07,
          48.04,
          50.08,
          50.96,
          52.92,
          56.79,
          64.29,
          65.13,
          57.58,
          61.17,
          70.83,
          63.62,
          55.65,
          57.67,
          52.57,
          52,
          52.29,
          51.88,
          53.25,
          48.68,
          53.18,
          53.52,
          51.08,
          52.39,
          51.3,
          52.48,
          56.72,
          63.92,
          57.88,
          64.54,
          65.38,
          61.95,
          65.76,
          53.24,
          55.23,
          60.71,
          59.42,
          61.25,
          65.79,
          60.63,
          61.96,
          65.54,
          65.72,
          77.67,
          80.63,
          76.54,
          81.36,
          77.92,
          72.86,
          76.17,
          75.13,
          67.54,
          66.76,
          73.15,
          69,
          77.24,
          63.13,
          64.67,
          68.83,
          76.83,
          76.88,
          66.21,
          70.54,
          76.58,
          72.21,
          70.38,
          74.25,
          74.46,
          75.13,
          80.79,
          77.88,
          73.38,
          74.21,
          72.73,
          76.29,
          75.56,
          72.62,
          75.69,
          77.83,
          75.17,
          73.5,
          75.33,
          75.92,
          76.81,
          85.58,
          83.83,
          77.33,
          73.57,
          74.21,
          76.75,
          78.46,
          80.67,
          87.17,
          82.71,
          84.52,
          84.52,
          79.92,
          77.58,
          81.54,
          86.83,
          89.42,
          84.38,
          82.46,
          83.25,
          84.17,
          84.21,
          76.47,
          77.65,
          76.92,
          74.07,
          73.79,
          74.48,
          75.75,
          78.25,
          81.15,
          81.58,
          79.96,
          80.92,
          81.74,
          86.86,
          86.11,
          90.33,
          88.46,
          84.75,
          85.36,
          81.92,
          80.08,
          81.58,
          78.75,
          80.06,
          74.75,
          75.13,
          78.96,
          79.33,
          84.04,
          81.75,
          80.25,
          82.92,
          78.13,
          80.45,
          75.57,
          75.13,
          72.24,
          72.96,
          75.04,
          76.92,
          76.45,
          80.65,
          86.33,
          81.73,
          79.22,
          70.46,
          73.92,
          78.03,
          68.75,
          68.08,
          70.88,
          76.72,
          74.22,
          74.94,
          77.75,
          76.5,
          77.88,
          65.78,
          64.17,
          66.46,
          70.1,
          65.82,
          63.28,
          61.65,
          60.41,
          61.56,
          66.74,
          65.38,
          65.04,
          66.04,
          66.19,
          59.57,
          56.67,
          56.46,
          61.08,
          62.67,
          56.5,
          57.83,
          63.92,
          73.63,
          74.46,
          76.54,
          67.85,
          68.79,
          52.9,
          56.46,
          57,
          50.17,
          46.54,
          50.2,
          49.48,
          55.04,
          65.29,
          51.88,
          52.04,
          63.29,
          65.75,
          57.58,
          56,
          55.58,
          57.96,
          56.73,
          51.33,
          54.09,
          46.09,
          53.61,
          57.17,
          51.05,
          54.84,
          56.48,
          55.83,
          54.23,
          41.32,
          40.61,
          40.74,
          41.65,
          45.71,
          51.12,
          48.65,
          46.43,
          47.35,
          59,
          54.94,
          52.8,
          47.3,
          45.87,
          43.74,
          44.87,
          44.44,
          43.92,
          43.04,
          36.35,
          33.61,
          32.59,
          42.3,
          41.74,
          40.7,
          27.09,
          23.78,
          31.69,
          47.19,
          28.13,
          29.13,
          37.91,
          43.43,
          44.09,
          44,
          44.48,
          42.06,
          55.58,
          39.74,
          42.41,
          38.64,
          39.48,
          45.91,
          40.05,
          43.39,
          46.13,
          31.87,
          30.97,
          23.38,
          22.33,
          20.91,
          31.78,
          47.5,
          57.25,
          47.04,
          31.46,
          35.84,
          38.39,
          40.79,
          41.69,
          44.44,
          42.93,
          46.91,
          45.47,
          41.39,
          39.31,
          44.58,
          49.22,
          42.57,
          38.3,
          40.57,
          35.3,
          30.45,
          43.3,
          40.22,
          31.43,
          30.04,
          38.7,
          42.91,
          39.13,
          46.58,
          31.37,
          26.35,
          39.87,
          34.2,
          37.57,
          35.87,
          40.84,
          34.52,
          36.3,
          51,
          59.3,
          48.96,
          41.91,
          49.87,
          52.57,
          60.04,
          56.14,
          41.65,
          46.35,
          51.07,
          58.89,
          48.91,
          34.87,
          26.17,
          27.3,
          36.48,
          48.73,
          55.08,
          56.91,
          36.47,
          25.22,
          26.96,
          29.5,
          31.37,
          26.08,
          33.75,
          39.96,
          36.93,
          41.15,
          45.17,
          51.88,
          37.61,
          34.54,
          47.13,
          51.21,
          41.39,
          43.05,
          42.89,
          49.89,
          45.25,
          41.54,
          42.78,
          52.83,
          55.42,
          49.78,
          50.24,
          45.8,
          48.22,
          49.08,
          55.52,
          63.42,
          66.92,
          64.33,
          57.21,
          56.54,
          58.04,
          74.52,
          68.38,
          56.32,
          49.91,
          54.5,
          50.59,
          52.33,
          54.33,
          53.54,
          52.46,
          56.5,
          61.26,
          66.4,
          75.92,
          60.56,
          55.83,
          70.33,
          62.21,
          57,
          57.72,
          61.58,
          54.67,
          54.42,
          55.16,
          56.71,
          57.13,
          56.42,
          51.44,
          57.21,
          62.5,
          71.48,
          81.5,
          88.29,
          86.27,
          63.21,
          62.5,
          60.03,
          63.28,
          62.54,
          57.34,
          62.55,
          66.58,
          63.31,
          58,
          58.07,
          62.71,
          70.5,
          69.27,
          66.5,
          64.54,
          61.78,
          56.35,
          59.82,
          62.75,
          70.54,
          79,
          85.17,
          87,
          88.88,
          75.36,
          69.71,
          65.14,
          68.57,
          75.33,
          77.09,
          77.12,
          80.5,
          76.88,
          81.56,
          78.65,
          77.08,
          72.92,
          71.08,
          72.84,
          76.13,
          81.42,
          77.59,
          82.08,
          82.08,
          77.5,
          75.83,
          74.16,
          71.9,
          81.67,
          76.29,
          79.13,
          81.38,
          84.38,
          83.84,
          68.4,
          73.68,
          78.21,
          79.81,
          80.96,
          86.13,
          86.33,
          85.58,
          83.33,
          75.29,
          68.12,
          66.25,
          70.62,
          73.64,
          76.45,
          72.13,
          73.71,
          78.42,
          81.63,
          77.13,
          77.58,
          77.17,
          75.38,
          71.88,
          68.41,
          70.76,
          76.38,
          77.17,
          75.71,
          71.53,
          77.41,
          76,
          72.71,
          77.36,
          75.4,
          77.96,
          81.08,
          77.83,
          81,
          81.84,
          76.81,
          74.67,
          72.13,
          70.46,
          69.96,
          69.33,
          65.07,
          69.23,
          73.13,
          64.63,
          61.52,
          62.4,
          72.63,
          76.44,
          66.91,
          65.91,
          66.96,
          63.13,
          65.83,
          68.33,
          72.75,
          73.9,
          74.64,
          76,
          72.76,
          71.84,
          70.27,
          72.4,
          74.48,
          75.46,
          73.79,
          77.21,
          79.38,
          76.63,
          72.68,
          74.42,
          72.5,
          63.46,
          59.8,
          60.4,
          64.29,
          63.52,
          66.92,
          74.25,
          73.79,
          71.16,
          74.56,
          73.87,
          74.77,
          69,
          60.87,
          60.12,
          65.97,
          69.38,
          60.11,
          52.54,
          61.83,
          65,
          67.29,
          67.46,
          66.29,
          67.47,
          69.86,
          63.71,
          56.21,
          56.63,
          62.28,
          64.12,
          55,
          53.17,
          52.44,
          63.87,
          64.67,
          52,
          57.59,
          61,
          45.16,
          44.83,
          49.35,
          39.69,
          32.7,
          41.43,
          43.53,
          52.08,
          51.71,
          43.3,
          50.83,
          44.43,
          50.57,
          46.43,
          45.7,
          46.62,
          53.48,
          45.72,
          49.16,
          44.09,
          45.76,
          46.21,
          56.29,
          42.83,
          37.83,
          33.51,
          35.87,
          43.96,
          27.26,
          27.26,
          25.67,
          33.65,
          35.17,
          40.31,
          51.61,
          44.35,
          37.35,
          42.72,
          38.4,
          35.1,
          26.13,
          21.57,
          16,
          16.65,
          21.31,
          15.57,
          13.96,
          19.35,
          24,
          25.11,
          14.3,
          11,
          26.04,
          40.06,
          19.13,
          23.26,
          29.22,
          33.65,
          39.21,
          47.05,
          29.48,
          32.96,
          46,
          49.13,
          41,
          27.09,
          39.09,
          29.86,
          24.83,
          39.38,
          34.42,
          33.13,
          33.92,
          30.5,
          32.43,
          43.13,
          47.13,
          45.64,
          32.29,
          43.11,
          52.25,
          52.69,
          34.15,
          38.1,
          44.41,
          54.24,
          61.8,
          43.21,
          38.8,
          47.09,
          41.58,
          47,
          47.22,
          51.13,
          53.08,
          39.22,
          41.87,
          40.74,
          38,
          40,
          35.29,
          37.91,
          37.17,
          37.57,
          39.88,
          37.81,
          36.12,
          36.04,
          39.63,
          36.33,
          38.25,
          37,
          39.67,
          35.82,
          34,
          40.61,
          42.63,
          43.5,
          39.63,
          40.29,
          39.75,
          44.18,
          49.33,
          49.53,
          46.83,
          50.58,
          37.39,
          40.97,
          47.24,
          40.58,
          46,
          43.67,
          38,
          43.63,
          44.75,
          52.46,
          67.21,
          58.76,
          41.79,
          48.02,
          44.42,
          46.58,
          44.21,
          43.54,
          51.42,
          54.8,
          53.64,
          55.92,
          54.6,
          60.24,
          52.03,
          52.76,
          49.24,
          64.79,
          79,
          80.52,
          76.67,
          67.67,
          60.42,
          62.89,
          61.67,
          64,
          59.91,
          65.83,
          55.89,
          53.55,
          57.78,
          68.02,
          59,
          61.97,
          62.68,
          53.55,
          70,
          68,
          61.33,
          67.49,
          79.5,
          82.38,
          63.56,
          60.88,
          75.08,
          65.45,
          64.68,
          69.72,
          77.33,
          62.28,
          58.27,
          68.4,
          63.83,
          64.42,
          73.12,
          68.54,
          64.71,
          66.83,
          71.63,
          77.19,
          70.88,
          76,
          79.56,
          83.23,
          82.54,
          75.33,
          73.03,
          70.11,
          64.83,
          73.18,
          74.62,
          70.75,
          71.46,
          75.6,
          81.79,
          88.63,
          85.63,
          83.28,
          82.12,
          83.38,
          79.61,
          70.08,
          74.08,
          79.12,
          84,
          80.33,
          75.93,
          77.88,
          82.58,
          76.34,
          84.4,
          78.69,
          78.17,
          75.21,
          76.29,
          72.04,
          77.16,
          79.72,
          81.09,
          77.38,
          79.39,
          80.68,
          78.54,
          76.67,
          76.54,
          81.03,
          83.1,
          80.5,
          79.53,
          85.54,
          87.46,
          83.52,
          84.5,
          82.29,
          82.29,
          75.58,
          76.81,
          74.2,
          76.69,
          81.08,
          85.63,
          84.43,
          78.84,
          72.1,
          71.73,
          73.81,
          77.82,
          74.38,
          76.54,
          76.53,
          78.52,
          83.58,
          89.5,
          90.92,
          85.79,
          75.45,
          73.21,
          76.19,
          83.27,
          86.29,
          83.46,
          84.39,
          74.94,
          69,
          62.34,
          62.54,
          69.61,
          73.76,
          72.71,
          72.68,
          73.38,
          76.21,
          75.52,
          75.69,
          75.22,
          68.6,
          71.42,
          71.35,
          64.66,
          64.34,
          69.57,
          75.5,
          68.65,
          62.61,
          66.79,
          65.21,
          71.52,
          71.27,
          70.48,
          71.68,
          66.14,
          74.68,
          67.58,
          72.41,
          75.09,
          73.92,
          62.48,
          53.34,
          55.79,
          63.24,
          54.96,
          55.75,
          48.5,
          54.25,
          59.07,
          48.38,
          48.67,
          56.04,
          50.83,
          46.92,
          46.08,
          49.66,
          50.1,
          53.25,
          50.79,
          56.25,
          62.88,
          65.43,
          50.5,
          52.17,
          55.27,
          59.26,
          51.57,
          50.12,
          45.4,
          42,
          44.91,
          48.21,
          38,
          33.71,
          41.12,
          44.57,
          42.52,
          46.74,
          45.2,
          39.79,
          24.35,
          25.78,
          41.18,
          49.77,
          49.03,
          42.9,
          40.22,
          42.48,
          40.5,
          41.96,
          49.36,
          53.48,
          38.65,
          33.57,
          36.61,
          36.04,
          31.35,
          33.43,
          35.22,
          35.3,
          37.17,
          37.16,
          45.82,
          47,
          40.22,
          41.13,
          33.87,
          34.78,
          41.19,
          56.93,
          45.46,
          39.91,
          38.22,
          36.91,
          38.3,
          40.75,
          51.26,
          49.58,
          36.6,
          42.71,
          51.31,
          37.52,
          42,
          42.26,
          43.93,
          43.09,
          29.61,
          42.52,
          42.79,
          33.04,
          26.74,
          27.96,
          29.26,
          27.68,
          30.74,
          35.4,
          29.61,
          33.94,
          35.26,
          11.43,
          23.09,
          37.39,
          50.3,
          35.63,
          30.04,
          40.04,
          29.39,
          35.35,
          24.13,
          10.3,
          17.13,
          26.43,
          40.7,
          46.74,
          50.61,
          40.12,
          41.34,
          43.62,
          28.61,
          30.13,
          34.22,
          30.42,
          36.37,
          38.83,
          47.96,
          38.48,
          31.91,
          34.31,
          29.39,
          28.26,
          39.41,
          40.09,
          35.88,
          40.55,
          37.83,
          29.39,
          25.92,
          29.97,
          29.78,
          36.13,
          34.33,
          26.71,
          22.78,
          25.65,
          31.78,
          38.02,
          46.96,
          37.67,
          38.42,
          47.46,
          57.08,
          47,
          38.25,
          39,
          41.79,
          44,
          41.83,
          43.23,
          40.58,
          49.79,
          50.38,
          41.04,
          38.83,
          43.58,
          54.63,
          50.54,
          39.88,
          43.58,
          51.57,
          50.5,
          39.76,
          48.97,
          55.42,
          57.31,
          45.87,
          51.12,
          45.13,
          53.15,
          63.61,
          60.66,
          55.12,
          52.71,
          52.54,
          55.42,
          62.69,
          59.57,
          56.67,
          55.07,
          62.38,
          63.43,
          54.5,
          53.48,
          53.26,
          49.65,
          50.21,
          50.41,
          50.91,
          54.86,
          49.96,
          54.67,
          51.51,
          55.32,
          57.5,
          59.29,
          55.4,
          63.77,
          63.08,
          49,
          46.58,
          47.08,
          55.46,
          64.08,
          70.42,
          64.54,
          67.36,
          76.71,
          64.54,
          66.33,
          66.62,
          69.58,
          63.17,
          73.77,
          73.79,
          67.42,
          59.65,
          61.55,
          70.48,
          69.83,
          70.13,
          65.63,
          65.42,
          72.88,
          76.15,
          71.04,
          70.79,
          67.5,
          63.84,
          69.61,
          67.38,
          62.3,
          66.07,
          74.21,
          75.38,
          72.88,
          70.22,
          67.32,
          69.88,
          69.65,
          72.25,
          76.63,
          78,
          76.39,
          78.54,
          82.13,
          82.63,
          82.28,
          77.5,
          77.58,
          80.96,
          81.25,
          80.75,
          78.83,
          83.03,
          78.63,
          74.63,
          80.71,
          83.24,
          78.49,
          78.94,
          80.33,
          84.33,
          80.42,
          83.58,
          83.74,
          75.02,
          80.52,
          91.46,
          91.12,
          80.69,
          71.79,
          76.5,
          78.5,
          79.75,
          80.31,
          84.25,
          86.12,
          86.76,
          79.28,
          80.21,
          78.42,
          79.68,
          78.8,
          75.34,
          77.19,
          77.23,
          78.3,
          76.13,
          75.58,
          80.17,
          77.81,
          75.91,
          75.7,
          75.23,
          76.94,
          80.18,
          83,
          81.67,
          81.75,
          80.68,
          72.59,
          70.71,
          70.54,
          67,
          69.4,
          71.3,
          75.71,
          79.63,
          75.79,
          71.58,
          73.79,
          74.84,
          78.09,
          65.12,
          67.52,
          71.96,
          70.75,
          72.08,
          78.89,
          73.82,
          65.04,
          70.83,
          76.14,
          73.42,
          69.96,
          63.93,
          61.96,
          70.29,
          73.46,
          77.21,
          80.83,
          72.21,
          70.5,
          71.56,
          68.71,
          73.42,
          74.04,
          65.42,
          72.7,
          79.15,
          58.33,
          60.28,
          53.58,
          66.08,
          69.8,
          61.56,
          56.33,
          60.72,
          60.13,
          61.23,
          64.33,
          59.13,
          61.72,
          55.67,
          53.75,
          53.71,
          55.42,
          57.82,
          58.75,
          61.34,
          59.25,
          59.54,
          59.46,
          61.74,
          58.52,
          55.79,
          58.57,
          63.22,
          52.07,
          45.5,
          47.79,
          50.13,
          56.79,
          51.52,
          51.54,
          37.13,
          36.17,
          46.7,
          54.74,
          43.23,
          29.7,
          38.09,
          45.52,
          38.22,
          38.78,
          40.53,
          44.35,
          43.72,
          47,
          48.62,
          41.22,
          43.92,
          47.26,
          51.87,
          53.45,
          46.78,
          36.65,
          37.52,
          35.05,
          35.94,
          33.93,
          38.08,
          39.96,
          42.65,
          35.83,
          47.59,
          55.13,
          35.28,
          42.45,
          50.55,
          44.13,
          35.78,
          34.38,
          32.05,
          22.13,
          28.04,
          30,
          39.43,
          47.3,
          43.09,
          37.52,
          38.98,
          50.3,
          47,
          40.61,
          40.8,
          40.9,
          38.22,
          41.86,
          46.72,
          46.15,
          38.26,
          37.61,
          39.58,
          35.28,
          29,
          44.15,
          55.42,
          59.5,
          41.43,
          40.43,
          45.3,
          43.39,
          26.48,
          26.78,
          38.12,
          25.87,
          26.7,
          32.43,
          39.43,
          40.09,
          42.28,
          41.87,
          40.52,
          38.96,
          35.22,
          30.58,
          37.64,
          38.54,
          38.24,
          46.52,
          47.65,
          40.88,
          37.89,
          40.13,
          35.04,
          35.88,
          44.04,
          43.71,
          41.52,
          39.29,
          30.57,
          23.04,
          36.83,
          43.96,
          40.67,
          42.39,
          32.04,
          29.04,
          40.91,
          46.61,
          49.39,
          47.54,
          44.95,
          40.88,
          35.57,
          31.38,
          35.22,
          47.96,
          52.42,
          50.71,
          44.83,
          41.76,
          41.13,
          47.83,
          59.29,
          61,
          50.42,
          44.69,
          54.57,
          48.92,
          46.75,
          39.27,
          47.47,
          47.63,
          46.21,
          55.95,
          48.46,
          38.38,
          39.16,
          44.04,
          42.8,
          47,
          57.46,
          46.35,
          45.46,
          45.74,
          45.55,
          49.17,
          49.58,
          50.89,
          52.83,
          55.75,
          57.44,
          53.69,
          52.75,
          44.23,
          47.83,
          53.38,
          58.39,
          52.54,
          47.96,
          45.65,
          43.88,
          44.28,
          52.67,
          52.71,
          50.81,
          44.25,
          45.08,
          47,
          53.19,
          47.58,
          45.03,
          50.03,
          55.24,
          58.14,
          63.58,
          68.71,
          62.5,
          49.41,
          57.79,
          48.79,
          41.37,
          53.67,
          53.72,
          52.04,
          52.21,
          58.63,
          73.42,
          69.5,
          59.48,
          59.33,
          60.17,
          56.46,
          55.65,
          65.67,
          62.12,
          59.54,
          59.89,
          63.34,
          65.5,
          68.05,
          71.37,
          73.7,
          64.46,
          62.83,
          69.5,
          72.44,
          77.29,
          74.21,
          78.16,
          71.4,
          71.96,
          81.2,
          75.46,
          74,
          78.71,
          68.67,
          65,
          67.88,
          70.63,
          69.72,
          69.81,
          73.56,
          78.79,
          79.58,
          82.63,
          80.75,
          81.88,
          80.17,
          81.08,
          79.58,
          81.81,
          78.48,
          73.86,
          75.85,
          81.96,
          79.79,
          75.06,
          82.46,
          82.33,
          76.03,
          81.63,
          83.17,
          75.75,
          80.49,
          83.33,
          82.92,
          80.32,
          75.45,
          74.37,
          77.56,
          82.65,
          89.42,
          86,
          82.42,
          82.63,
          77.67,
          83,
          88.13,
          90.21,
          88.48,
          84.46,
          86.79,
          76.77,
          81.42,
          83.71,
          83.53,
          78.08,
          82.76,
          77.67,
          74.94,
          76.64,
          80.96,
          85.38,
          83.72,
          82.59,
          77.78,
          79.88,
          77.52,
          70.62,
          72.81,
          76.27,
          72.48,
          74.42,
          79.08,
          83.48,
          81.46,
          84.96,
          82.77,
          74.92,
          80.79,
          80.04,
          78.04,
          75.29,
          72.08,
          72.53,
          74.85,
          78.57,
          79.29,
          74.63,
          76.28,
          75.13,
          76,
          75.65,
          77.27,
          74.24,
          67.3,
          71.24,
          72.79,
          61.38,
          66.96,
          71.84,
          66.53,
          58.33,
          58.67,
          59.5,
          63.7,
          71.5,
          72.13,
          70.52,
          71.53,
          73.39,
          72.87,
          72.11,
          67.69,
          67.76,
          62.42,
          61.5,
          60.71,
          62.54,
          64.83,
          67.63,
          60.33,
          62.63,
          66.88,
          65.58,
          54.83,
          57.83,
          62.21,
          65.21,
          58.42,
          54.54,
          57.08,
          60.5,
          64.31,
          65.26,
          66.88,
          65.7,
          63.89,
          50.68,
          56.24,
          57.32,
          55.42,
          51.81,
          41.76,
          41.79,
          52.07,
          43.39,
          48.83,
          53.13,
          59.52,
          63.35,
          66.62,
          68.62,
          66.48,
          66.13,
          59.16,
          49.73,
          50.04,
          54.28,
          52.35,
          46.48,
          35.78,
          41.74,
          54.7,
          58.3,
          50.88,
          54.53,
          46.74,
          51.3,
          60.42,
          57.91,
          52.26,
          49.74,
          59.5,
          51.56,
          41.87,
          45.14,
          49.11,
          45.21,
          39.48,
          37.43,
          34.54,
          36.67,
          45.22,
          48.17,
          50.64,
          55.14,
          41.46,
          37.13,
          30.65,
          30.09,
          29.96,
          29.74,
          36.4,
          42.04,
          43.46,
          41.83,
          54.8,
          51.7,
          29.83,
          33.22,
          45.54,
          38.87,
          37.46,
          45.46,
          37.81,
          43.44,
          37.97,
          39.82,
          40.32,
          38.92,
          37.3,
          33.96,
          33.35,
          36.26,
          34.22,
          39.48,
          40.78,
          44.17,
          42.46,
          44.03,
          42.3,
          43,
          40.22,
          36.62,
          36.22,
          43.22,
          31.78,
          29.21,
          32.26,
          34.41,
          36.33,
          30.61,
          22.61,
          26,
          24.15,
          30.65,
          32.53,
          33.48,
          37.78,
          42.04,
          40.3,
          30.69,
          30.85,
          28.89,
          26.74,
          28.54,
          32.48,
          33.65,
          40.35,
          29.65,
          27.46,
          31.4,
          32.29,
          31.78,
          35.59,
          41.44,
          47.04,
          45.57,
          40.17,
          44.08,
          41.67,
          43,
          29.3,
          43,
          39.57,
          31.74,
          32.61,
          34.61,
          36.3,
          51.61,
          46.36,
          53.43,
          61.39,
          43.3,
          44.26,
          31.96,
          33.19,
          40.19,
          43.97,
          37.8,
          45.08,
          49.13,
          47.33,
          47.65,
          46,
          55.34,
          60.03,
          56.92,
          52.59,
          49.75,
          50.25,
          56.16,
          35.33,
          42.83,
          53.58,
          57.29,
          57.33,
          58.04,
          57.54,
          50.97,
          56.16,
          52,
          47.51,
          52.92,
          59.75,
          51.41,
          46.96,
          49.11,
          55.25,
          58.58,
          63.13,
          54.29,
          43.04,
          53.33,
          61.17,
          54.86,
          51.92,
          54.67,
          66.08,
          62.92,
          54.29,
          67.96,
          57.3,
          58.26,
          54.28,
          58.42,
          56.58,
          51.96,
          53,
          53.66,
          59.08,
          58,
          62.29,
          66.71,
          68.21,
          68.23,
          68.46,
          74.13,
          75.25,
          67,
          68.33,
          76.08,
          78.88,
          63.29,
          65.29,
          75.39,
          73.73,
          58.6,
          50.27,
          50.23,
          57.9,
          67.38,
          67.83,
          65.3,
          71.06,
          81.42,
          86.2,
          82.62,
          78.61,
          82.08,
          75,
          65.81,
          68.58,
          68.57,
          72.92,
          70.58,
          71.17,
          76.75,
          78,
          78.76,
          80.04,
          70.35,
          67.25,
          69.79,
          69.33,
          76.43,
          81.2,
          85.58,
          89.72,
          88.16,
          77.07,
          73.26,
          63.16,
          69.96,
          74.54,
          81.93,
          84.84,
          76.22,
          76.15,
          75.56,
          75.74,
          76.22,
          71.26,
          75.54,
          82.46,
          87.33,
          83.12,
          78.54,
          76.2,
          82.67,
          77.72,
          75.75,
          76.21,
          76.42,
          77.81,
          80.37,
          82.69,
          75.84,
          76.75,
          71.54,
          72.88,
          73.16,
          73.42,
          72.71,
          73.5,
          80.04,
          80.71,
          71,
          74.34,
          77.53,
          82.04,
          86.7,
          88.54,
          85.08,
          76.79,
          75.58,
          77.54,
          79.06,
          81.59,
          79.38,
          78.23,
          74.47,
          76.91,
          83.58,
          84.67,
          87.08,
          84.1,
          74.61,
          71.76,
          79.75,
          81.25,
          70.88,
          68.76,
          68.96,
          72.36,
          72.89,
          76.54,
          74.71,
          77.38,
          71.31,
          70.75,
          72.46,
          76.75,
          79.33,
          74.71,
          79.38,
          74.04,
          72.66,
          76.47,
          72.33,
          69.88,
          70.97,
          74.94,
          75,
          69.67,
          69.25,
          72.88,
          70.35,
          63.67,
          62.71,
          62.08,
          68.63,
          71.96,
          68.49,
          62.97,
          66,
          69.04,
          69.33,
          65,
          65.18,
          67.52,
          66.22,
          68.06,
          71.46,
          72.67,
          69.54,
          55.33,
          59.88,
          69.38,
          69.08,
          66.38,
          56.42,
          56.13,
          66.65,
          60.63,
          58.29,
          54.75,
          54.41,
          60.15,
          61.14,
          58.25,
          52.67,
          48.88,
          48,
          48.88,
          50.13,
          61.13,
          60.48,
          55.44,
          63.57,
          52.03,
          45.43,
          45.33,
          45.43,
          51,
          60.17,
          46.17,
          44,
          51.5,
          49.08,
          38.48,
          40.22,
          49.39,
          45.41,
          38.52,
          38.03,
          40.3,
          38.83,
          46.52,
          54.48,
          45.35,
          43.7,
          45.52,
          53.97,
          41,
          39.28,
          37.26,
          45.91,
          53.29,
          47.3,
          48.04,
          49.26,
          47.96,
          58.68,
          57.65,
          43.67,
          40.69,
          32.86,
          38.58,
          41.91,
          34.65,
          35.03,
          41.97,
          46.65,
          37.24,
          42.56,
          42.63,
          45.71,
          50.97,
          52.46,
          50.97,
          30.91,
          28.74,
          40.43,
          38.96,
          31.45,
          27.57,
          37.54,
          31.7,
          20.62,
          33.17,
          39.61,
          38.79,
          23.71,
          40.17,
          34.17,
          41.67,
          36.52,
          19.43,
          23.04,
          32,
          32,
          38.3,
          25.57,
          26.35,
          32.05,
          20.68,
          20.96,
          26.05,
          30.7,
          37.69,
          44.91,
          37.77,
          25.77,
          25.5,
          35.25,
          38.76,
          37.91,
          44.96,
          47.57,
          53.52,
          32.45,
          22.74,
          25.09,
          38.22,
          54.91,
          47.37,
          32.57,
          28.74,
          41.65,
          43.11,
          55.75,
          31.88,
          33.18,
          30.48,
          38.42,
          39.65,
          45.35,
          39.04,
          30.13,
          39.21,
          52,
          64.71,
          42.65,
          35.91,
          38.61,
          45.56,
          36.63,
          24,
          45.08,
          54.42,
          55,
          46.71,
          56.37,
          55.64,
          54.71,
          52.13,
          50.54,
          42.88,
          42.84,
          50.21,
          49.47,
          40.29,
          27.72,
          31.58,
          38.21,
          51.23,
          53.03,
          44.88,
          44.38,
          46.79,
          49.07,
          47.78,
          50.27,
          54.65,
          51.48,
          46.35,
          49,
          58.58,
          59.46,
          61.38,
          59.67,
          57.46,
          46.13,
          45.73,
          45.17,
          50.08,
          51.5,
          59.54,
          55,
          54.08,
          51.54,
          52.91,
          50.76,
          47.79,
          51.96,
          55.42,
          56.58,
          52.58,
          54.19,
          54.36,
          63.08,
          55.31,
          49.6,
          52,
          57.25,
          59.67,
          61.77,
          62.88,
          60.16,
          63.54,
          65.43,
          69.1,
          66.83,
          63.58,
          58.23,
          60.02,
          72.3,
          81.33,
          67.42,
          61.79,
          60.83,
          63.18,
          67.49,
          69.21,
          69.28,
          75.79,
          81.12,
          61.85,
          68.53,
          71.43,
          67.92,
          70.5,
          74.45,
          73.7,
          72,
          70.19,
          68.66,
          76.88,
          74.33,
          72.42,
          68.74,
          78.17,
          67.17,
          64.42,
          70.58,
          70.17,
          65.44,
          66.85,
          70.97,
          79.5,
          80.72,
          74.54,
          72.17,
          75.38,
          78.63,
          83.25,
          79.71,
          78,
          77.44,
          79.07,
          74.42,
          74.35,
          77.08,
          72.96,
          75.54,
          80.38,
          82.71,
          80.33,
          77.79,
          75.35,
          78.88,
          79.43,
          84.38,
          88.4,
          85.03,
          85.77,
          86.75,
          89.12,
          83.32,
          77.27,
          77.67,
          81.04,
          81.42,
          80.79,
          79.12,
          72.31,
          81.63,
          80.96,
          85.33,
          84.71,
          85.58,
          85.13,
          86.46,
          87.88,
          79.96,
          80.13,
          77.42,
          73,
          75.13,
          75.88,
          74.58,
          73.59,
          76.08,
          80.08,
          81.88,
          77.48,
          76.19,
          78.54,
          81.42,
          82.08,
          81.81,
          80.88,
          75.29,
          79.48,
          79.97,
          78.08,
          78.54,
          70.04,
          73.46,
          78.75,
          78.16,
          72.14,
          69.41,
          70.96,
          71.42,
          75.38,
          71.35,
          73.9,
          75.15,
          73.46,
          69.67,
          67.92,
          69.17,
          75.88,
          76.68,
          73.63,
          69.66,
          57.54,
          60.54,
          65.69,
          68.17,
          66.25,
          63.25,
          58.17,
          58.53,
          57.88,
          51.83,
          51.46,
          56.77,
          65.2,
          67.92,
          54.54,
          55.8,
          61.5,
          62.58,
          64,
          65.67,
          59.03,
          61.46,
          60.88,
          61.38,
          53.33,
          50.08,
          52.75,
          56.42,
          58.21,
          58.63,
          63.02,
          65.2,
          60.5,
          51.58,
          51.63,
          55.04,
          59.27,
          61.95,
          63.25,
          59.46,
          58.97,
          67.5,
          68.18,
          70.09,
          52.7,
          47.39,
          57.17,
          64.92,
          67,
          51.15,
          42.09,
          41.58,
          45.1,
          41.61,
          39.96,
          36.83,
          35.5,
          35.78,
          45.35,
          49.3,
          46.83,
          49.88,
          49.96,
          52.18,
          50.85,
          40.79,
          50.93,
          40.04,
          39.17,
          53.68,
          42.52,
          42.04,
          53.26,
          56.98,
          50.35,
          39.74,
          35.92,
          37.48,
          34.15,
          33.43,
          34.87,
          39.27,
          42.3,
          41,
          36.78,
          34.78,
          35.3,
          34.61,
          41.94,
          44.29,
          11.65,
          21.57,
          24.87,
          32,
          40.3,
          44.48,
          49.04,
          46.82,
          51.84,
          52.33,
          49.13,
          54.06,
          45.59,
          43.63,
          41.17,
          37.52,
          40.08,
          40.13,
          37.04,
          46.44,
          48.46,
          33.45,
          34.09,
          37.39,
          42.5,
          47.78,
          41.47,
          44.4,
          38.91,
          38.92,
          37.83,
          39.91,
          41,
          47.24,
          39.83,
          45.09,
          47.13,
          48.48,
          37.11,
          31.32,
          34.78,
          24.04,
          15.13,
          37.74,
          42.3,
          36.3,
          45.87,
          46.43,
          53.83,
          41.26,
          42.61,
          47.81,
          47.65,
          53.96,
          59.92,
          50.54,
          35.83,
          42.74,
          52.12,
          41.42,
          39.97,
          39.38,
          40.41,
          37.63,
          37,
          35.12,
          40.04,
          44.23,
          40.8,
          41.89,
          44.74,
          46.43,
          38.17,
          38.74,
          41.61,
          40.08,
          40.35,
          37.5,
          41.55,
          36.78,
          38.96,
          46.13,
          52.63,
          48.42,
          36.21,
          41.46,
          51.92,
          51.48,
          53.22,
          49.33,
          43.19,
          48.85,
          46.17,
          46.48,
          39.38,
          46.67,
          58.42,
          46.71,
          48,
          57.38,
          48.83,
          56.64,
          52.83,
          46.38,
          52.83,
          64.08,
          73.13,
          78.54,
          77.83,
          62.55,
          58.6,
          56.39,
          52.58,
          52.8,
          52.71,
          57.73,
          54.8,
          57.61,
          53.5,
          53.5,
          52.64,
          53.1,
          51.81,
          50.54,
          54.46,
          57.77,
          52.27,
          51.64,
          51.52,
          55.43,
          61.74,
          66.61,
          67.43,
          60.61,
          71.35,
          77.74,
          76.13,
          66.17,
          66,
          72.13,
          61,
          53.3,
          61,
          60.13,
          64.11,
          65.22,
          60.61,
          63.27,
          59.48,
          64.35,
          67.17,
          68.52,
          69.26,
          61.43,
          62.19,
          71.83,
          76.48,
          64.8,
          59.32,
          66.83,
          69.61,
          64.89,
          63.5,
          65.96,
          68.65,
          72.7,
          71.68,
          71.46,
          69.87,
          70.61,
          70.31,
          69.5,
          72.43,
          71.5,
          67.96,
          65.62,
          64.43,
          67.85,
          72.28,
          73.54,
          73.38,
          72.59,
          75.5,
          74.35,
          76.13,
          76.04,
          77.65,
          81.21,
          78.18,
          81.56,
          79.85,
          79.93,
          77.52,
          78.44,
          81.3,
          85.17,
          83.91,
          77.53,
          80.1,
          78.16,
          80.96,
          79.4,
          76.96,
          78.04,
          79.63,
          77.74,
          79.39,
          80.22,
          76.89,
          78.64,
          84.1,
          85,
          82.87,
          73.43,
          76.65,
          74,
          72.5,
          74.3,
          74.21,
          77.11,
          78,
          75.67,
          75.59,
          78.61,
          74.13,
          77.61,
          76.74,
          77.61,
          80.54,
          73.61,
          73.94,
          74.97,
          75.78,
          72.83,
          81.3,
          73.91,
          71.78,
          71.41,
          74.15,
          77.11,
          76.61,
          73.33,
          73,
          75.82,
          70.61,
          68.39,
          71.35,
          81.74,
          83.43,
          85.48,
          86.67,
          81.25,
          79.23,
          74.62,
          74.75,
          74.27,
          76.57,
          71.72,
          63.87,
          69.22,
          69.65,
          66.85,
          67.91,
          68.7,
          66.52,
          65.17,
          61.43,
          64.38,
          61.55,
          60.69,
          60.35,
          60.6,
          60.98,
          61.11,
          68.61,
          70.78,
          71.35,
          73.09,
          69.83,
          68.41,
          65.67,
          56.91,
          56.39,
          59.7,
          63.61,
          63.54,
          59.26,
          53.52,
          55.83,
          56.3,
          58.39,
          59.3,
          59.43,
          62.57,
          61.05,
          55.04,
          54.43,
          57.09,
          63.61,
          68.96,
          68.96,
          72.83,
          55.38,
          49.42,
          45.52,
          44.33,
          49.38,
          54.38,
          57.77,
          50.74,
          59.87,
          48,
          51.58,
          51.78,
          49.39,
          41.48,
          43.57,
          48.83,
          47.65,
          55.26,
          58.57,
          52.88,
          49.04,
          41.7,
          42.63,
          52.03,
          49.44,
          45.78,
          36.22,
          45.4,
          47.81,
          36.16,
          33.43,
          44.13,
          45.82,
          50.36,
          48.64,
          48.91,
          41.78,
          38.3,
          36.58,
          45.04,
          48.26,
          55.24,
          43,
          41,
          42.65,
          37.87,
          48.13,
          49.04,
          50.65,
          55.61,
          39.39,
          37.39,
          37.09,
          32.61,
          37.87,
          43.7,
          44.29,
          44.76,
          44.53,
          49.8,
          48.74,
          43.6
         ],
         "yaxis": "y"
        }
       ],
       "layout": {
        "legend": {
         "tracegroupgap": 0
        },
        "margin": {
         "t": 60
        },
        "template": {
         "data": {
          "bar": [
           {
            "error_x": {
             "color": "#2a3f5f"
            },
            "error_y": {
             "color": "#2a3f5f"
            },
            "marker": {
             "line": {
              "color": "#E5ECF6",
              "width": 0.5
             },
             "pattern": {
              "fillmode": "overlay",
              "size": 10,
              "solidity": 0.2
             }
            },
            "type": "bar"
           }
          ],
          "barpolar": [
           {
            "marker": {
             "line": {
              "color": "#E5ECF6",
              "width": 0.5
             },
             "pattern": {
              "fillmode": "overlay",
              "size": 10,
              "solidity": 0.2
             }
            },
            "type": "barpolar"
           }
          ],
          "carpet": [
           {
            "aaxis": {
             "endlinecolor": "#2a3f5f",
             "gridcolor": "white",
             "linecolor": "white",
             "minorgridcolor": "white",
             "startlinecolor": "#2a3f5f"
            },
            "baxis": {
             "endlinecolor": "#2a3f5f",
             "gridcolor": "white",
             "linecolor": "white",
             "minorgridcolor": "white",
             "startlinecolor": "#2a3f5f"
            },
            "type": "carpet"
           }
          ],
          "choropleth": [
           {
            "colorbar": {
             "outlinewidth": 0,
             "ticks": ""
            },
            "type": "choropleth"
           }
          ],
          "contour": [
           {
            "colorbar": {
             "outlinewidth": 0,
             "ticks": ""
            },
            "colorscale": [
             [
              0,
              "#0d0887"
             ],
             [
              0.1111111111111111,
              "#46039f"
             ],
             [
              0.2222222222222222,
              "#7201a8"
             ],
             [
              0.3333333333333333,
              "#9c179e"
             ],
             [
              0.4444444444444444,
              "#bd3786"
             ],
             [
              0.5555555555555556,
              "#d8576b"
             ],
             [
              0.6666666666666666,
              "#ed7953"
             ],
             [
              0.7777777777777778,
              "#fb9f3a"
             ],
             [
              0.8888888888888888,
              "#fdca26"
             ],
             [
              1,
              "#f0f921"
             ]
            ],
            "type": "contour"
           }
          ],
          "contourcarpet": [
           {
            "colorbar": {
             "outlinewidth": 0,
             "ticks": ""
            },
            "type": "contourcarpet"
           }
          ],
          "heatmap": [
           {
            "colorbar": {
             "outlinewidth": 0,
             "ticks": ""
            },
            "colorscale": [
             [
              0,
              "#0d0887"
             ],
             [
              0.1111111111111111,
              "#46039f"
             ],
             [
              0.2222222222222222,
              "#7201a8"
             ],
             [
              0.3333333333333333,
              "#9c179e"
             ],
             [
              0.4444444444444444,
              "#bd3786"
             ],
             [
              0.5555555555555556,
              "#d8576b"
             ],
             [
              0.6666666666666666,
              "#ed7953"
             ],
             [
              0.7777777777777778,
              "#fb9f3a"
             ],
             [
              0.8888888888888888,
              "#fdca26"
             ],
             [
              1,
              "#f0f921"
             ]
            ],
            "type": "heatmap"
           }
          ],
          "heatmapgl": [
           {
            "colorbar": {
             "outlinewidth": 0,
             "ticks": ""
            },
            "colorscale": [
             [
              0,
              "#0d0887"
             ],
             [
              0.1111111111111111,
              "#46039f"
             ],
             [
              0.2222222222222222,
              "#7201a8"
             ],
             [
              0.3333333333333333,
              "#9c179e"
             ],
             [
              0.4444444444444444,
              "#bd3786"
             ],
             [
              0.5555555555555556,
              "#d8576b"
             ],
             [
              0.6666666666666666,
              "#ed7953"
             ],
             [
              0.7777777777777778,
              "#fb9f3a"
             ],
             [
              0.8888888888888888,
              "#fdca26"
             ],
             [
              1,
              "#f0f921"
             ]
            ],
            "type": "heatmapgl"
           }
          ],
          "histogram": [
           {
            "marker": {
             "pattern": {
              "fillmode": "overlay",
              "size": 10,
              "solidity": 0.2
             }
            },
            "type": "histogram"
           }
          ],
          "histogram2d": [
           {
            "colorbar": {
             "outlinewidth": 0,
             "ticks": ""
            },
            "colorscale": [
             [
              0,
              "#0d0887"
             ],
             [
              0.1111111111111111,
              "#46039f"
             ],
             [
              0.2222222222222222,
              "#7201a8"
             ],
             [
              0.3333333333333333,
              "#9c179e"
             ],
             [
              0.4444444444444444,
              "#bd3786"
             ],
             [
              0.5555555555555556,
              "#d8576b"
             ],
             [
              0.6666666666666666,
              "#ed7953"
             ],
             [
              0.7777777777777778,
              "#fb9f3a"
             ],
             [
              0.8888888888888888,
              "#fdca26"
             ],
             [
              1,
              "#f0f921"
             ]
            ],
            "type": "histogram2d"
           }
          ],
          "histogram2dcontour": [
           {
            "colorbar": {
             "outlinewidth": 0,
             "ticks": ""
            },
            "colorscale": [
             [
              0,
              "#0d0887"
             ],
             [
              0.1111111111111111,
              "#46039f"
             ],
             [
              0.2222222222222222,
              "#7201a8"
             ],
             [
              0.3333333333333333,
              "#9c179e"
             ],
             [
              0.4444444444444444,
              "#bd3786"
             ],
             [
              0.5555555555555556,
              "#d8576b"
             ],
             [
              0.6666666666666666,
              "#ed7953"
             ],
             [
              0.7777777777777778,
              "#fb9f3a"
             ],
             [
              0.8888888888888888,
              "#fdca26"
             ],
             [
              1,
              "#f0f921"
             ]
            ],
            "type": "histogram2dcontour"
           }
          ],
          "mesh3d": [
           {
            "colorbar": {
             "outlinewidth": 0,
             "ticks": ""
            },
            "type": "mesh3d"
           }
          ],
          "parcoords": [
           {
            "line": {
             "colorbar": {
              "outlinewidth": 0,
              "ticks": ""
             }
            },
            "type": "parcoords"
           }
          ],
          "pie": [
           {
            "automargin": true,
            "type": "pie"
           }
          ],
          "scatter": [
           {
            "fillpattern": {
             "fillmode": "overlay",
             "size": 10,
             "solidity": 0.2
            },
            "type": "scatter"
           }
          ],
          "scatter3d": [
           {
            "line": {
             "colorbar": {
              "outlinewidth": 0,
              "ticks": ""
             }
            },
            "marker": {
             "colorbar": {
              "outlinewidth": 0,
              "ticks": ""
             }
            },
            "type": "scatter3d"
           }
          ],
          "scattercarpet": [
           {
            "marker": {
             "colorbar": {
              "outlinewidth": 0,
              "ticks": ""
             }
            },
            "type": "scattercarpet"
           }
          ],
          "scattergeo": [
           {
            "marker": {
             "colorbar": {
              "outlinewidth": 0,
              "ticks": ""
             }
            },
            "type": "scattergeo"
           }
          ],
          "scattergl": [
           {
            "marker": {
             "colorbar": {
              "outlinewidth": 0,
              "ticks": ""
             }
            },
            "type": "scattergl"
           }
          ],
          "scattermapbox": [
           {
            "marker": {
             "colorbar": {
              "outlinewidth": 0,
              "ticks": ""
             }
            },
            "type": "scattermapbox"
           }
          ],
          "scatterpolar": [
           {
            "marker": {
             "colorbar": {
              "outlinewidth": 0,
              "ticks": ""
             }
            },
            "type": "scatterpolar"
           }
          ],
          "scatterpolargl": [
           {
            "marker": {
             "colorbar": {
              "outlinewidth": 0,
              "ticks": ""
             }
            },
            "type": "scatterpolargl"
           }
          ],
          "scatterternary": [
           {
            "marker": {
             "colorbar": {
              "outlinewidth": 0,
              "ticks": ""
             }
            },
            "type": "scatterternary"
           }
          ],
          "surface": [
           {
            "colorbar": {
             "outlinewidth": 0,
             "ticks": ""
            },
            "colorscale": [
             [
              0,
              "#0d0887"
             ],
             [
              0.1111111111111111,
              "#46039f"
             ],
             [
              0.2222222222222222,
              "#7201a8"
             ],
             [
              0.3333333333333333,
              "#9c179e"
             ],
             [
              0.4444444444444444,
              "#bd3786"
             ],
             [
              0.5555555555555556,
              "#d8576b"
             ],
             [
              0.6666666666666666,
              "#ed7953"
             ],
             [
              0.7777777777777778,
              "#fb9f3a"
             ],
             [
              0.8888888888888888,
              "#fdca26"
             ],
             [
              1,
              "#f0f921"
             ]
            ],
            "type": "surface"
           }
          ],
          "table": [
           {
            "cells": {
             "fill": {
              "color": "#EBF0F8"
             },
             "line": {
              "color": "white"
             }
            },
            "header": {
             "fill": {
              "color": "#C8D4E3"
             },
             "line": {
              "color": "white"
             }
            },
            "type": "table"
           }
          ]
         },
         "layout": {
          "annotationdefaults": {
           "arrowcolor": "#2a3f5f",
           "arrowhead": 0,
           "arrowwidth": 1
          },
          "autotypenumbers": "strict",
          "coloraxis": {
           "colorbar": {
            "outlinewidth": 0,
            "ticks": ""
           }
          },
          "colorscale": {
           "diverging": [
            [
             0,
             "#8e0152"
            ],
            [
             0.1,
             "#c51b7d"
            ],
            [
             0.2,
             "#de77ae"
            ],
            [
             0.3,
             "#f1b6da"
            ],
            [
             0.4,
             "#fde0ef"
            ],
            [
             0.5,
             "#f7f7f7"
            ],
            [
             0.6,
             "#e6f5d0"
            ],
            [
             0.7,
             "#b8e186"
            ],
            [
             0.8,
             "#7fbc41"
            ],
            [
             0.9,
             "#4d9221"
            ],
            [
             1,
             "#276419"
            ]
           ],
           "sequential": [
            [
             0,
             "#0d0887"
            ],
            [
             0.1111111111111111,
             "#46039f"
            ],
            [
             0.2222222222222222,
             "#7201a8"
            ],
            [
             0.3333333333333333,
             "#9c179e"
            ],
            [
             0.4444444444444444,
             "#bd3786"
            ],
            [
             0.5555555555555556,
             "#d8576b"
            ],
            [
             0.6666666666666666,
             "#ed7953"
            ],
            [
             0.7777777777777778,
             "#fb9f3a"
            ],
            [
             0.8888888888888888,
             "#fdca26"
            ],
            [
             1,
             "#f0f921"
            ]
           ],
           "sequentialminus": [
            [
             0,
             "#0d0887"
            ],
            [
             0.1111111111111111,
             "#46039f"
            ],
            [
             0.2222222222222222,
             "#7201a8"
            ],
            [
             0.3333333333333333,
             "#9c179e"
            ],
            [
             0.4444444444444444,
             "#bd3786"
            ],
            [
             0.5555555555555556,
             "#d8576b"
            ],
            [
             0.6666666666666666,
             "#ed7953"
            ],
            [
             0.7777777777777778,
             "#fb9f3a"
            ],
            [
             0.8888888888888888,
             "#fdca26"
            ],
            [
             1,
             "#f0f921"
            ]
           ]
          },
          "colorway": [
           "#636efa",
           "#EF553B",
           "#00cc96",
           "#ab63fa",
           "#FFA15A",
           "#19d3f3",
           "#FF6692",
           "#B6E880",
           "#FF97FF",
           "#FECB52"
          ],
          "font": {
           "color": "#2a3f5f"
          },
          "geo": {
           "bgcolor": "white",
           "lakecolor": "white",
           "landcolor": "#E5ECF6",
           "showlakes": true,
           "showland": true,
           "subunitcolor": "white"
          },
          "hoverlabel": {
           "align": "left"
          },
          "hovermode": "closest",
          "mapbox": {
           "style": "light"
          },
          "paper_bgcolor": "white",
          "plot_bgcolor": "#E5ECF6",
          "polar": {
           "angularaxis": {
            "gridcolor": "white",
            "linecolor": "white",
            "ticks": ""
           },
           "bgcolor": "#E5ECF6",
           "radialaxis": {
            "gridcolor": "white",
            "linecolor": "white",
            "ticks": ""
           }
          },
          "scene": {
           "xaxis": {
            "backgroundcolor": "#E5ECF6",
            "gridcolor": "white",
            "gridwidth": 2,
            "linecolor": "white",
            "showbackground": true,
            "ticks": "",
            "zerolinecolor": "white"
           },
           "yaxis": {
            "backgroundcolor": "#E5ECF6",
            "gridcolor": "white",
            "gridwidth": 2,
            "linecolor": "white",
            "showbackground": true,
            "ticks": "",
            "zerolinecolor": "white"
           },
           "zaxis": {
            "backgroundcolor": "#E5ECF6",
            "gridcolor": "white",
            "gridwidth": 2,
            "linecolor": "white",
            "showbackground": true,
            "ticks": "",
            "zerolinecolor": "white"
           }
          },
          "shapedefaults": {
           "line": {
            "color": "#2a3f5f"
           }
          },
          "ternary": {
           "aaxis": {
            "gridcolor": "white",
            "linecolor": "white",
            "ticks": ""
           },
           "baxis": {
            "gridcolor": "white",
            "linecolor": "white",
            "ticks": ""
           },
           "bgcolor": "#E5ECF6",
           "caxis": {
            "gridcolor": "white",
            "linecolor": "white",
            "ticks": ""
           }
          },
          "title": {
           "x": 0.05
          },
          "xaxis": {
           "automargin": true,
           "gridcolor": "white",
           "linecolor": "white",
           "ticks": "",
           "title": {
            "standoff": 15
           },
           "zerolinecolor": "white",
           "zerolinewidth": 2
          },
          "yaxis": {
           "automargin": true,
           "gridcolor": "white",
           "linecolor": "white",
           "ticks": "",
           "title": {
            "standoff": 15
           },
           "zerolinecolor": "white",
           "zerolinewidth": 2
          }
         }
        },
        "xaxis": {
         "anchor": "y",
         "domain": [
          0,
          1
         ],
         "title": {
          "text": "Day_Length(Minutes)"
         }
        },
        "yaxis": {
         "anchor": "x",
         "domain": [
          0,
          1
         ],
         "title": {
          "text": "Temperature_Avg"
         }
        }
       }
      }
     },
     "metadata": {},
     "output_type": "display_data"
    }
   ],
   "source": [
    "fig1 = px.scatter(df, x='Day_Length(Minutes)', y='Temperature_Avg')\n",
    "fig1.show()"
   ]
  },
  {
   "cell_type": "markdown",
   "metadata": {},
   "source": [
    "Clearly there is a positive relationship"
   ]
  },
  {
   "cell_type": "markdown",
   "metadata": {},
   "source": [
    "#### Q15: Are there any specific days of the week where certain weather conditions are more likely?"
   ]
  },
  {
   "cell_type": "code",
   "execution_count": 283,
   "metadata": {},
   "outputs": [
    {
     "name": "stderr",
     "output_type": "stream",
     "text": [
      "c:\\Users\\User\\AppData\\Local\\Programs\\Python\\Python311\\Lib\\site-packages\\plotly\\express\\_core.py:2065: FutureWarning:\n",
      "\n",
      "When grouping with a length-1 list-like, you will need to pass a length-1 tuple to get_group in a future version of pandas. Pass `(name,)` instead of `name` to silence this warning.\n",
      "\n"
     ]
    },
    {
     "data": {
      "application/vnd.plotly.v1+json": {
       "config": {
        "plotlyServerURL": "https://plot.ly"
       },
       "data": [
        {
         "alignmentgroup": "True",
         "hovertemplate": "Condition=Cloudy<br>Day_of_weak=%{x}<br>Counts=%{y}<extra></extra>",
         "legendgroup": "Cloudy",
         "marker": {
          "color": "#636efa",
          "pattern": {
           "shape": ""
          }
         },
         "name": "Cloudy",
         "offsetgroup": "Cloudy",
         "orientation": "v",
         "showlegend": true,
         "textposition": "auto",
         "type": "bar",
         "x": [
          0,
          1,
          2,
          3,
          4,
          5,
          6
         ],
         "xaxis": "x",
         "y": [
          196,
          233,
          217,
          231,
          226,
          174,
          131
         ],
         "yaxis": "y"
        },
        {
         "alignmentgroup": "True",
         "hovertemplate": "Condition=Fair<br>Day_of_weak=%{x}<br>Counts=%{y}<extra></extra>",
         "legendgroup": "Fair",
         "marker": {
          "color": "#EF553B",
          "pattern": {
           "shape": ""
          }
         },
         "name": "Fair",
         "offsetgroup": "Fair",
         "orientation": "v",
         "showlegend": true,
         "textposition": "auto",
         "type": "bar",
         "x": [
          0,
          1,
          2,
          3,
          4,
          5,
          6
         ],
         "xaxis": "x",
         "y": [
          199,
          188,
          189,
          195,
          205,
          177,
          140
         ],
         "yaxis": "y"
        },
        {
         "alignmentgroup": "True",
         "hovertemplate": "Condition=Fog<br>Day_of_weak=%{x}<br>Counts=%{y}<extra></extra>",
         "legendgroup": "Fog",
         "marker": {
          "color": "#00cc96",
          "pattern": {
           "shape": ""
          }
         },
         "name": "Fog",
         "offsetgroup": "Fog",
         "orientation": "v",
         "showlegend": true,
         "textposition": "auto",
         "type": "bar",
         "x": [
          0,
          1,
          2,
          3,
          4,
          5,
          6
         ],
         "xaxis": "x",
         "y": [
          4,
          7,
          9,
          4,
          3,
          8,
          6
         ],
         "yaxis": "y"
        },
        {
         "alignmentgroup": "True",
         "hovertemplate": "Condition=Light Drizzle<br>Day_of_weak=%{x}<br>Counts=%{y}<extra></extra>",
         "legendgroup": "Light Drizzle",
         "marker": {
          "color": "#ab63fa",
          "pattern": {
           "shape": ""
          }
         },
         "name": "Light Drizzle",
         "offsetgroup": "Light Drizzle",
         "orientation": "v",
         "showlegend": true,
         "textposition": "auto",
         "type": "bar",
         "x": [
          0,
          1,
          2,
          3,
          4,
          5,
          6
         ],
         "xaxis": "x",
         "y": [
          1,
          1,
          5,
          2,
          1,
          1,
          1
         ],
         "yaxis": "y"
        },
        {
         "alignmentgroup": "True",
         "hovertemplate": "Condition=Light Rain<br>Day_of_weak=%{x}<br>Counts=%{y}<extra></extra>",
         "legendgroup": "Light Rain",
         "marker": {
          "color": "#FFA15A",
          "pattern": {
           "shape": ""
          }
         },
         "name": "Light Rain",
         "offsetgroup": "Light Rain",
         "orientation": "v",
         "showlegend": true,
         "textposition": "auto",
         "type": "bar",
         "x": [
          0,
          1,
          2,
          3,
          4,
          5,
          6
         ],
         "xaxis": "x",
         "y": [
          39,
          38,
          21,
          31,
          32,
          39,
          38
         ],
         "yaxis": "y"
        },
        {
         "alignmentgroup": "True",
         "hovertemplate": "Condition=Light Snow<br>Day_of_weak=%{x}<br>Counts=%{y}<extra></extra>",
         "legendgroup": "Light Snow",
         "marker": {
          "color": "#19d3f3",
          "pattern": {
           "shape": ""
          }
         },
         "name": "Light Snow",
         "offsetgroup": "Light Snow",
         "orientation": "v",
         "showlegend": true,
         "textposition": "auto",
         "type": "bar",
         "x": [
          0,
          1,
          2,
          3,
          4,
          5,
          6
         ],
         "xaxis": "x",
         "y": [
          7,
          10,
          7,
          4,
          11,
          10,
          5
         ],
         "yaxis": "y"
        },
        {
         "alignmentgroup": "True",
         "hovertemplate": "Condition=Mostly Cloudy<br>Day_of_weak=%{x}<br>Counts=%{y}<extra></extra>",
         "legendgroup": "Mostly Cloudy",
         "marker": {
          "color": "#FF6692",
          "pattern": {
           "shape": ""
          }
         },
         "name": "Mostly Cloudy",
         "offsetgroup": "Mostly Cloudy",
         "orientation": "v",
         "showlegend": true,
         "textposition": "auto",
         "type": "bar",
         "x": [
          0,
          1,
          2,
          3,
          4,
          5,
          6
         ],
         "xaxis": "x",
         "y": [
          261,
          228,
          250,
          220,
          219,
          281,
          323
         ],
         "yaxis": "y"
        },
        {
         "alignmentgroup": "True",
         "hovertemplate": "Condition=Partly Cloudy<br>Day_of_weak=%{x}<br>Counts=%{y}<extra></extra>",
         "legendgroup": "Partly Cloudy",
         "marker": {
          "color": "#B6E880",
          "pattern": {
           "shape": ""
          }
         },
         "name": "Partly Cloudy",
         "offsetgroup": "Partly Cloudy",
         "orientation": "v",
         "showlegend": true,
         "textposition": "auto",
         "type": "bar",
         "x": [
          0,
          1,
          2,
          3,
          4,
          5,
          6
         ],
         "xaxis": "x",
         "y": [
          54,
          62,
          61,
          66,
          62,
          64,
          113
         ],
         "yaxis": "y"
        },
        {
         "alignmentgroup": "True",
         "hovertemplate": "Condition=Rain<br>Day_of_weak=%{x}<br>Counts=%{y}<extra></extra>",
         "legendgroup": "Rain",
         "marker": {
          "color": "#FF97FF",
          "pattern": {
           "shape": ""
          }
         },
         "name": "Rain",
         "offsetgroup": "Rain",
         "orientation": "v",
         "showlegend": true,
         "textposition": "auto",
         "type": "bar",
         "x": [
          0,
          4,
          6
         ],
         "xaxis": "x",
         "y": [
          1,
          1,
          1
         ],
         "yaxis": "y"
        },
        {
         "alignmentgroup": "True",
         "hovertemplate": "Condition=Haze<br>Day_of_weak=%{x}<br>Counts=%{y}<extra></extra>",
         "legendgroup": "Haze",
         "marker": {
          "color": "#FECB52",
          "pattern": {
           "shape": ""
          }
         },
         "name": "Haze",
         "offsetgroup": "Haze",
         "orientation": "v",
         "showlegend": true,
         "textposition": "auto",
         "type": "bar",
         "x": [
          1,
          3
         ],
         "xaxis": "x",
         "y": [
          2,
          1
         ],
         "yaxis": "y"
        },
        {
         "alignmentgroup": "True",
         "hovertemplate": "Condition=Wintry Mix<br>Day_of_weak=%{x}<br>Counts=%{y}<extra></extra>",
         "legendgroup": "Wintry Mix",
         "marker": {
          "color": "#636efa",
          "pattern": {
           "shape": ""
          }
         },
         "name": "Wintry Mix",
         "offsetgroup": "Wintry Mix",
         "orientation": "v",
         "showlegend": true,
         "textposition": "auto",
         "type": "bar",
         "x": [
          1,
          2,
          4,
          6
         ],
         "xaxis": "x",
         "y": [
          1,
          1,
          2,
          1
         ],
         "yaxis": "y"
        },
        {
         "alignmentgroup": "True",
         "hovertemplate": "Condition=Heavy Rain<br>Day_of_weak=%{x}<br>Counts=%{y}<extra></extra>",
         "legendgroup": "Heavy Rain",
         "marker": {
          "color": "#EF553B",
          "pattern": {
           "shape": ""
          }
         },
         "name": "Heavy Rain",
         "offsetgroup": "Heavy Rain",
         "orientation": "v",
         "showlegend": true,
         "textposition": "auto",
         "type": "bar",
         "x": [
          2,
          6
         ],
         "xaxis": "x",
         "y": [
          1,
          1
         ],
         "yaxis": "y"
        },
        {
         "alignmentgroup": "True",
         "hovertemplate": "Condition=Rain and<br>Day_of_weak=%{x}<br>Counts=%{y}<extra></extra>",
         "legendgroup": "Rain and",
         "marker": {
          "color": "#00cc96",
          "pattern": {
           "shape": ""
          }
         },
         "name": "Rain and",
         "offsetgroup": "Rain and",
         "orientation": "v",
         "showlegend": true,
         "textposition": "auto",
         "type": "bar",
         "x": [
          2
         ],
         "xaxis": "x",
         "y": [
          1
         ],
         "yaxis": "y"
        },
        {
         "alignmentgroup": "True",
         "hovertemplate": "Condition=Smoke<br>Day_of_weak=%{x}<br>Counts=%{y}<extra></extra>",
         "legendgroup": "Smoke",
         "marker": {
          "color": "#ab63fa",
          "pattern": {
           "shape": ""
          }
         },
         "name": "Smoke",
         "offsetgroup": "Smoke",
         "orientation": "v",
         "showlegend": true,
         "textposition": "auto",
         "type": "bar",
         "x": [
          2,
          3,
          4
         ],
         "xaxis": "x",
         "y": [
          1,
          1,
          1
         ],
         "yaxis": "y"
        },
        {
         "alignmentgroup": "True",
         "hovertemplate": "Condition=Snow<br>Day_of_weak=%{x}<br>Counts=%{y}<extra></extra>",
         "legendgroup": "Snow",
         "marker": {
          "color": "#FFA15A",
          "pattern": {
           "shape": ""
          }
         },
         "name": "Snow",
         "offsetgroup": "Snow",
         "orientation": "v",
         "showlegend": true,
         "textposition": "auto",
         "type": "bar",
         "x": [
          3,
          5
         ],
         "xaxis": "x",
         "y": [
          2,
          1
         ],
         "yaxis": "y"
        },
        {
         "alignmentgroup": "True",
         "hovertemplate": "Condition=Mist<br>Day_of_weak=%{x}<br>Counts=%{y}<extra></extra>",
         "legendgroup": "Mist",
         "marker": {
          "color": "#19d3f3",
          "pattern": {
           "shape": ""
          }
         },
         "name": "Mist",
         "offsetgroup": "Mist",
         "orientation": "v",
         "showlegend": true,
         "textposition": "auto",
         "type": "bar",
         "x": [
          4
         ],
         "xaxis": "x",
         "y": [
          1
         ],
         "yaxis": "y"
        }
       ],
       "layout": {
        "barmode": "group",
        "legend": {
         "title": {
          "text": "Condition"
         },
         "tracegroupgap": 0
        },
        "margin": {
         "t": 60
        },
        "template": {
         "data": {
          "bar": [
           {
            "error_x": {
             "color": "#2a3f5f"
            },
            "error_y": {
             "color": "#2a3f5f"
            },
            "marker": {
             "line": {
              "color": "#E5ECF6",
              "width": 0.5
             },
             "pattern": {
              "fillmode": "overlay",
              "size": 10,
              "solidity": 0.2
             }
            },
            "type": "bar"
           }
          ],
          "barpolar": [
           {
            "marker": {
             "line": {
              "color": "#E5ECF6",
              "width": 0.5
             },
             "pattern": {
              "fillmode": "overlay",
              "size": 10,
              "solidity": 0.2
             }
            },
            "type": "barpolar"
           }
          ],
          "carpet": [
           {
            "aaxis": {
             "endlinecolor": "#2a3f5f",
             "gridcolor": "white",
             "linecolor": "white",
             "minorgridcolor": "white",
             "startlinecolor": "#2a3f5f"
            },
            "baxis": {
             "endlinecolor": "#2a3f5f",
             "gridcolor": "white",
             "linecolor": "white",
             "minorgridcolor": "white",
             "startlinecolor": "#2a3f5f"
            },
            "type": "carpet"
           }
          ],
          "choropleth": [
           {
            "colorbar": {
             "outlinewidth": 0,
             "ticks": ""
            },
            "type": "choropleth"
           }
          ],
          "contour": [
           {
            "colorbar": {
             "outlinewidth": 0,
             "ticks": ""
            },
            "colorscale": [
             [
              0,
              "#0d0887"
             ],
             [
              0.1111111111111111,
              "#46039f"
             ],
             [
              0.2222222222222222,
              "#7201a8"
             ],
             [
              0.3333333333333333,
              "#9c179e"
             ],
             [
              0.4444444444444444,
              "#bd3786"
             ],
             [
              0.5555555555555556,
              "#d8576b"
             ],
             [
              0.6666666666666666,
              "#ed7953"
             ],
             [
              0.7777777777777778,
              "#fb9f3a"
             ],
             [
              0.8888888888888888,
              "#fdca26"
             ],
             [
              1,
              "#f0f921"
             ]
            ],
            "type": "contour"
           }
          ],
          "contourcarpet": [
           {
            "colorbar": {
             "outlinewidth": 0,
             "ticks": ""
            },
            "type": "contourcarpet"
           }
          ],
          "heatmap": [
           {
            "colorbar": {
             "outlinewidth": 0,
             "ticks": ""
            },
            "colorscale": [
             [
              0,
              "#0d0887"
             ],
             [
              0.1111111111111111,
              "#46039f"
             ],
             [
              0.2222222222222222,
              "#7201a8"
             ],
             [
              0.3333333333333333,
              "#9c179e"
             ],
             [
              0.4444444444444444,
              "#bd3786"
             ],
             [
              0.5555555555555556,
              "#d8576b"
             ],
             [
              0.6666666666666666,
              "#ed7953"
             ],
             [
              0.7777777777777778,
              "#fb9f3a"
             ],
             [
              0.8888888888888888,
              "#fdca26"
             ],
             [
              1,
              "#f0f921"
             ]
            ],
            "type": "heatmap"
           }
          ],
          "heatmapgl": [
           {
            "colorbar": {
             "outlinewidth": 0,
             "ticks": ""
            },
            "colorscale": [
             [
              0,
              "#0d0887"
             ],
             [
              0.1111111111111111,
              "#46039f"
             ],
             [
              0.2222222222222222,
              "#7201a8"
             ],
             [
              0.3333333333333333,
              "#9c179e"
             ],
             [
              0.4444444444444444,
              "#bd3786"
             ],
             [
              0.5555555555555556,
              "#d8576b"
             ],
             [
              0.6666666666666666,
              "#ed7953"
             ],
             [
              0.7777777777777778,
              "#fb9f3a"
             ],
             [
              0.8888888888888888,
              "#fdca26"
             ],
             [
              1,
              "#f0f921"
             ]
            ],
            "type": "heatmapgl"
           }
          ],
          "histogram": [
           {
            "marker": {
             "pattern": {
              "fillmode": "overlay",
              "size": 10,
              "solidity": 0.2
             }
            },
            "type": "histogram"
           }
          ],
          "histogram2d": [
           {
            "colorbar": {
             "outlinewidth": 0,
             "ticks": ""
            },
            "colorscale": [
             [
              0,
              "#0d0887"
             ],
             [
              0.1111111111111111,
              "#46039f"
             ],
             [
              0.2222222222222222,
              "#7201a8"
             ],
             [
              0.3333333333333333,
              "#9c179e"
             ],
             [
              0.4444444444444444,
              "#bd3786"
             ],
             [
              0.5555555555555556,
              "#d8576b"
             ],
             [
              0.6666666666666666,
              "#ed7953"
             ],
             [
              0.7777777777777778,
              "#fb9f3a"
             ],
             [
              0.8888888888888888,
              "#fdca26"
             ],
             [
              1,
              "#f0f921"
             ]
            ],
            "type": "histogram2d"
           }
          ],
          "histogram2dcontour": [
           {
            "colorbar": {
             "outlinewidth": 0,
             "ticks": ""
            },
            "colorscale": [
             [
              0,
              "#0d0887"
             ],
             [
              0.1111111111111111,
              "#46039f"
             ],
             [
              0.2222222222222222,
              "#7201a8"
             ],
             [
              0.3333333333333333,
              "#9c179e"
             ],
             [
              0.4444444444444444,
              "#bd3786"
             ],
             [
              0.5555555555555556,
              "#d8576b"
             ],
             [
              0.6666666666666666,
              "#ed7953"
             ],
             [
              0.7777777777777778,
              "#fb9f3a"
             ],
             [
              0.8888888888888888,
              "#fdca26"
             ],
             [
              1,
              "#f0f921"
             ]
            ],
            "type": "histogram2dcontour"
           }
          ],
          "mesh3d": [
           {
            "colorbar": {
             "outlinewidth": 0,
             "ticks": ""
            },
            "type": "mesh3d"
           }
          ],
          "parcoords": [
           {
            "line": {
             "colorbar": {
              "outlinewidth": 0,
              "ticks": ""
             }
            },
            "type": "parcoords"
           }
          ],
          "pie": [
           {
            "automargin": true,
            "type": "pie"
           }
          ],
          "scatter": [
           {
            "fillpattern": {
             "fillmode": "overlay",
             "size": 10,
             "solidity": 0.2
            },
            "type": "scatter"
           }
          ],
          "scatter3d": [
           {
            "line": {
             "colorbar": {
              "outlinewidth": 0,
              "ticks": ""
             }
            },
            "marker": {
             "colorbar": {
              "outlinewidth": 0,
              "ticks": ""
             }
            },
            "type": "scatter3d"
           }
          ],
          "scattercarpet": [
           {
            "marker": {
             "colorbar": {
              "outlinewidth": 0,
              "ticks": ""
             }
            },
            "type": "scattercarpet"
           }
          ],
          "scattergeo": [
           {
            "marker": {
             "colorbar": {
              "outlinewidth": 0,
              "ticks": ""
             }
            },
            "type": "scattergeo"
           }
          ],
          "scattergl": [
           {
            "marker": {
             "colorbar": {
              "outlinewidth": 0,
              "ticks": ""
             }
            },
            "type": "scattergl"
           }
          ],
          "scattermapbox": [
           {
            "marker": {
             "colorbar": {
              "outlinewidth": 0,
              "ticks": ""
             }
            },
            "type": "scattermapbox"
           }
          ],
          "scatterpolar": [
           {
            "marker": {
             "colorbar": {
              "outlinewidth": 0,
              "ticks": ""
             }
            },
            "type": "scatterpolar"
           }
          ],
          "scatterpolargl": [
           {
            "marker": {
             "colorbar": {
              "outlinewidth": 0,
              "ticks": ""
             }
            },
            "type": "scatterpolargl"
           }
          ],
          "scatterternary": [
           {
            "marker": {
             "colorbar": {
              "outlinewidth": 0,
              "ticks": ""
             }
            },
            "type": "scatterternary"
           }
          ],
          "surface": [
           {
            "colorbar": {
             "outlinewidth": 0,
             "ticks": ""
            },
            "colorscale": [
             [
              0,
              "#0d0887"
             ],
             [
              0.1111111111111111,
              "#46039f"
             ],
             [
              0.2222222222222222,
              "#7201a8"
             ],
             [
              0.3333333333333333,
              "#9c179e"
             ],
             [
              0.4444444444444444,
              "#bd3786"
             ],
             [
              0.5555555555555556,
              "#d8576b"
             ],
             [
              0.6666666666666666,
              "#ed7953"
             ],
             [
              0.7777777777777778,
              "#fb9f3a"
             ],
             [
              0.8888888888888888,
              "#fdca26"
             ],
             [
              1,
              "#f0f921"
             ]
            ],
            "type": "surface"
           }
          ],
          "table": [
           {
            "cells": {
             "fill": {
              "color": "#EBF0F8"
             },
             "line": {
              "color": "white"
             }
            },
            "header": {
             "fill": {
              "color": "#C8D4E3"
             },
             "line": {
              "color": "white"
             }
            },
            "type": "table"
           }
          ]
         },
         "layout": {
          "annotationdefaults": {
           "arrowcolor": "#2a3f5f",
           "arrowhead": 0,
           "arrowwidth": 1
          },
          "autotypenumbers": "strict",
          "coloraxis": {
           "colorbar": {
            "outlinewidth": 0,
            "ticks": ""
           }
          },
          "colorscale": {
           "diverging": [
            [
             0,
             "#8e0152"
            ],
            [
             0.1,
             "#c51b7d"
            ],
            [
             0.2,
             "#de77ae"
            ],
            [
             0.3,
             "#f1b6da"
            ],
            [
             0.4,
             "#fde0ef"
            ],
            [
             0.5,
             "#f7f7f7"
            ],
            [
             0.6,
             "#e6f5d0"
            ],
            [
             0.7,
             "#b8e186"
            ],
            [
             0.8,
             "#7fbc41"
            ],
            [
             0.9,
             "#4d9221"
            ],
            [
             1,
             "#276419"
            ]
           ],
           "sequential": [
            [
             0,
             "#0d0887"
            ],
            [
             0.1111111111111111,
             "#46039f"
            ],
            [
             0.2222222222222222,
             "#7201a8"
            ],
            [
             0.3333333333333333,
             "#9c179e"
            ],
            [
             0.4444444444444444,
             "#bd3786"
            ],
            [
             0.5555555555555556,
             "#d8576b"
            ],
            [
             0.6666666666666666,
             "#ed7953"
            ],
            [
             0.7777777777777778,
             "#fb9f3a"
            ],
            [
             0.8888888888888888,
             "#fdca26"
            ],
            [
             1,
             "#f0f921"
            ]
           ],
           "sequentialminus": [
            [
             0,
             "#0d0887"
            ],
            [
             0.1111111111111111,
             "#46039f"
            ],
            [
             0.2222222222222222,
             "#7201a8"
            ],
            [
             0.3333333333333333,
             "#9c179e"
            ],
            [
             0.4444444444444444,
             "#bd3786"
            ],
            [
             0.5555555555555556,
             "#d8576b"
            ],
            [
             0.6666666666666666,
             "#ed7953"
            ],
            [
             0.7777777777777778,
             "#fb9f3a"
            ],
            [
             0.8888888888888888,
             "#fdca26"
            ],
            [
             1,
             "#f0f921"
            ]
           ]
          },
          "colorway": [
           "#636efa",
           "#EF553B",
           "#00cc96",
           "#ab63fa",
           "#FFA15A",
           "#19d3f3",
           "#FF6692",
           "#B6E880",
           "#FF97FF",
           "#FECB52"
          ],
          "font": {
           "color": "#2a3f5f"
          },
          "geo": {
           "bgcolor": "white",
           "lakecolor": "white",
           "landcolor": "#E5ECF6",
           "showlakes": true,
           "showland": true,
           "subunitcolor": "white"
          },
          "hoverlabel": {
           "align": "left"
          },
          "hovermode": "closest",
          "mapbox": {
           "style": "light"
          },
          "paper_bgcolor": "white",
          "plot_bgcolor": "#E5ECF6",
          "polar": {
           "angularaxis": {
            "gridcolor": "white",
            "linecolor": "white",
            "ticks": ""
           },
           "bgcolor": "#E5ECF6",
           "radialaxis": {
            "gridcolor": "white",
            "linecolor": "white",
            "ticks": ""
           }
          },
          "scene": {
           "xaxis": {
            "backgroundcolor": "#E5ECF6",
            "gridcolor": "white",
            "gridwidth": 2,
            "linecolor": "white",
            "showbackground": true,
            "ticks": "",
            "zerolinecolor": "white"
           },
           "yaxis": {
            "backgroundcolor": "#E5ECF6",
            "gridcolor": "white",
            "gridwidth": 2,
            "linecolor": "white",
            "showbackground": true,
            "ticks": "",
            "zerolinecolor": "white"
           },
           "zaxis": {
            "backgroundcolor": "#E5ECF6",
            "gridcolor": "white",
            "gridwidth": 2,
            "linecolor": "white",
            "showbackground": true,
            "ticks": "",
            "zerolinecolor": "white"
           }
          },
          "shapedefaults": {
           "line": {
            "color": "#2a3f5f"
           }
          },
          "ternary": {
           "aaxis": {
            "gridcolor": "white",
            "linecolor": "white",
            "ticks": ""
           },
           "baxis": {
            "gridcolor": "white",
            "linecolor": "white",
            "ticks": ""
           },
           "bgcolor": "#E5ECF6",
           "caxis": {
            "gridcolor": "white",
            "linecolor": "white",
            "ticks": ""
           }
          },
          "title": {
           "x": 0.05
          },
          "xaxis": {
           "automargin": true,
           "gridcolor": "white",
           "linecolor": "white",
           "ticks": "",
           "title": {
            "standoff": 15
           },
           "zerolinecolor": "white",
           "zerolinewidth": 2
          },
          "yaxis": {
           "automargin": true,
           "gridcolor": "white",
           "linecolor": "white",
           "ticks": "",
           "title": {
            "standoff": 15
           },
           "zerolinecolor": "white",
           "zerolinewidth": 2
          }
         }
        },
        "xaxis": {
         "anchor": "y",
         "domain": [
          0,
          1
         ],
         "title": {
          "text": "Day_of_weak"
         }
        },
        "yaxis": {
         "anchor": "x",
         "domain": [
          0,
          1
         ],
         "title": {
          "text": "Counts"
         }
        }
       }
      }
     },
     "metadata": {},
     "output_type": "display_data"
    }
   ],
   "source": [
    "df_condition = df.groupby(['Day_of_weak', 'Condition']).size().reset_index(name='Counts')\n",
    "df_condition.index.map(day_dict)\n",
    "fig = px.bar(df_condition, x='Day_of_weak', y='Counts', color='Condition', barmode='group')\n",
    "fig.show()"
   ]
  },
  {
   "cell_type": "markdown",
   "metadata": {},
   "source": [
    "- The weather condition that occurs most frequently in New York is **Mostly Cloudy**, especially on **Sunday** with **323 occurrences**.\n",
    "\n",
    "- **Cloudy** and **Fair** conditions also occur quite frequently throughout the week.\n",
    "\n",
    "- **Fog**, **Light Drizzle**, **Light Rain**, and **Light Snow** conditions occur less frequently, but still have a noticeable presence, especially on certain days of the week.\n",
    "\n",
    "- Conditions like **Heavy Rain**, **Rain and**, **Smoke**, and **Wintry Mix** are relatively rare.\n",
    "\n",
    "- **Rain** is very rare and only appears once in the dataset on **Monday** and **Sunday**.\n"
   ]
  },
  {
   "cell_type": "markdown",
   "metadata": {},
   "source": [
    "#### Q16: How does weather Property interact with another?"
   ]
  },
  {
   "cell_type": "code",
   "execution_count": 284,
   "metadata": {},
   "outputs": [
    {
     "data": {
      "text/html": [
       "<div>\n",
       "<style scoped>\n",
       "    .dataframe tbody tr th:only-of-type {\n",
       "        vertical-align: middle;\n",
       "    }\n",
       "\n",
       "    .dataframe tbody tr th {\n",
       "        vertical-align: top;\n",
       "    }\n",
       "\n",
       "    .dataframe thead th {\n",
       "        text-align: right;\n",
       "    }\n",
       "</style>\n",
       "<table border=\"1\" class=\"dataframe\">\n",
       "  <thead>\n",
       "    <tr style=\"text-align: right;\">\n",
       "      <th></th>\n",
       "      <th>Humidity_Avg(%)</th>\n",
       "      <th>Pressure_Avg(in)</th>\n",
       "      <th>Temperature_Avg</th>\n",
       "      <th>Temperature_Historic</th>\n",
       "      <th>Precipitation_Actual</th>\n",
       "      <th>Precipitation_Historic</th>\n",
       "      <th>Dew_Point</th>\n",
       "      <th>Max_Wind_Speed</th>\n",
       "      <th>Sea_Level_Pressure</th>\n",
       "      <th>Day_Length(Minutes)</th>\n",
       "    </tr>\n",
       "  </thead>\n",
       "  <tbody>\n",
       "    <tr>\n",
       "      <th>Humidity_Avg(%)</th>\n",
       "      <td>1.000000</td>\n",
       "      <td>-0.118016</td>\n",
       "      <td>0.143744</td>\n",
       "      <td>0.111938</td>\n",
       "      <td>0.215499</td>\n",
       "      <td>-0.097096</td>\n",
       "      <td>0.446326</td>\n",
       "      <td>-0.007941</td>\n",
       "      <td>-0.216279</td>\n",
       "      <td>0.055055</td>\n",
       "    </tr>\n",
       "    <tr>\n",
       "      <th>Pressure_Avg(in)</th>\n",
       "      <td>-0.118016</td>\n",
       "      <td>1.000000</td>\n",
       "      <td>-0.044640</td>\n",
       "      <td>-0.029677</td>\n",
       "      <td>-0.098341</td>\n",
       "      <td>-0.018088</td>\n",
       "      <td>-0.071730</td>\n",
       "      <td>-0.117755</td>\n",
       "      <td>0.291991</td>\n",
       "      <td>-0.050919</td>\n",
       "    </tr>\n",
       "    <tr>\n",
       "      <th>Temperature_Avg</th>\n",
       "      <td>0.143744</td>\n",
       "      <td>-0.044640</td>\n",
       "      <td>1.000000</td>\n",
       "      <td>0.911861</td>\n",
       "      <td>0.008520</td>\n",
       "      <td>-0.550913</td>\n",
       "      <td>0.924765</td>\n",
       "      <td>-0.254526</td>\n",
       "      <td>-0.349898</td>\n",
       "      <td>0.744666</td>\n",
       "    </tr>\n",
       "    <tr>\n",
       "      <th>Temperature_Historic</th>\n",
       "      <td>0.111938</td>\n",
       "      <td>-0.029677</td>\n",
       "      <td>0.911861</td>\n",
       "      <td>1.000000</td>\n",
       "      <td>0.017827</td>\n",
       "      <td>-0.597343</td>\n",
       "      <td>0.842881</td>\n",
       "      <td>-0.232976</td>\n",
       "      <td>-0.288147</td>\n",
       "      <td>0.828998</td>\n",
       "    </tr>\n",
       "    <tr>\n",
       "      <th>Precipitation_Actual</th>\n",
       "      <td>0.215499</td>\n",
       "      <td>-0.098341</td>\n",
       "      <td>0.008520</td>\n",
       "      <td>0.017827</td>\n",
       "      <td>1.000000</td>\n",
       "      <td>-0.010623</td>\n",
       "      <td>0.078980</td>\n",
       "      <td>0.165337</td>\n",
       "      <td>-0.166463</td>\n",
       "      <td>0.007052</td>\n",
       "    </tr>\n",
       "    <tr>\n",
       "      <th>Precipitation_Historic</th>\n",
       "      <td>-0.097096</td>\n",
       "      <td>-0.018088</td>\n",
       "      <td>-0.550913</td>\n",
       "      <td>-0.597343</td>\n",
       "      <td>-0.010623</td>\n",
       "      <td>1.000000</td>\n",
       "      <td>-0.522892</td>\n",
       "      <td>0.173906</td>\n",
       "      <td>0.100025</td>\n",
       "      <td>-0.322254</td>\n",
       "    </tr>\n",
       "    <tr>\n",
       "      <th>Dew_Point</th>\n",
       "      <td>0.446326</td>\n",
       "      <td>-0.071730</td>\n",
       "      <td>0.924765</td>\n",
       "      <td>0.842881</td>\n",
       "      <td>0.078980</td>\n",
       "      <td>-0.522892</td>\n",
       "      <td>1.000000</td>\n",
       "      <td>-0.237273</td>\n",
       "      <td>-0.382446</td>\n",
       "      <td>0.655774</td>\n",
       "    </tr>\n",
       "    <tr>\n",
       "      <th>Max_Wind_Speed</th>\n",
       "      <td>-0.007941</td>\n",
       "      <td>-0.117755</td>\n",
       "      <td>-0.254526</td>\n",
       "      <td>-0.232976</td>\n",
       "      <td>0.165337</td>\n",
       "      <td>0.173906</td>\n",
       "      <td>-0.237273</td>\n",
       "      <td>1.000000</td>\n",
       "      <td>-0.178149</td>\n",
       "      <td>-0.140198</td>\n",
       "    </tr>\n",
       "    <tr>\n",
       "      <th>Sea_Level_Pressure</th>\n",
       "      <td>-0.216279</td>\n",
       "      <td>0.291991</td>\n",
       "      <td>-0.349898</td>\n",
       "      <td>-0.288147</td>\n",
       "      <td>-0.166463</td>\n",
       "      <td>0.100025</td>\n",
       "      <td>-0.382446</td>\n",
       "      <td>-0.178149</td>\n",
       "      <td>1.000000</td>\n",
       "      <td>-0.304120</td>\n",
       "    </tr>\n",
       "    <tr>\n",
       "      <th>Day_Length(Minutes)</th>\n",
       "      <td>0.055055</td>\n",
       "      <td>-0.050919</td>\n",
       "      <td>0.744666</td>\n",
       "      <td>0.828998</td>\n",
       "      <td>0.007052</td>\n",
       "      <td>-0.322254</td>\n",
       "      <td>0.655774</td>\n",
       "      <td>-0.140198</td>\n",
       "      <td>-0.304120</td>\n",
       "      <td>1.000000</td>\n",
       "    </tr>\n",
       "  </tbody>\n",
       "</table>\n",
       "</div>"
      ],
      "text/plain": [
       "                        Humidity_Avg(%)  Pressure_Avg(in)  Temperature_Avg  \\\n",
       "Humidity_Avg(%)                1.000000         -0.118016         0.143744   \n",
       "Pressure_Avg(in)              -0.118016          1.000000        -0.044640   \n",
       "Temperature_Avg                0.143744         -0.044640         1.000000   \n",
       "Temperature_Historic           0.111938         -0.029677         0.911861   \n",
       "Precipitation_Actual           0.215499         -0.098341         0.008520   \n",
       "Precipitation_Historic        -0.097096         -0.018088        -0.550913   \n",
       "Dew_Point                      0.446326         -0.071730         0.924765   \n",
       "Max_Wind_Speed                -0.007941         -0.117755        -0.254526   \n",
       "Sea_Level_Pressure            -0.216279          0.291991        -0.349898   \n",
       "Day_Length(Minutes)            0.055055         -0.050919         0.744666   \n",
       "\n",
       "                        Temperature_Historic  Precipitation_Actual  \\\n",
       "Humidity_Avg(%)                     0.111938              0.215499   \n",
       "Pressure_Avg(in)                   -0.029677             -0.098341   \n",
       "Temperature_Avg                     0.911861              0.008520   \n",
       "Temperature_Historic                1.000000              0.017827   \n",
       "Precipitation_Actual                0.017827              1.000000   \n",
       "Precipitation_Historic             -0.597343             -0.010623   \n",
       "Dew_Point                           0.842881              0.078980   \n",
       "Max_Wind_Speed                     -0.232976              0.165337   \n",
       "Sea_Level_Pressure                 -0.288147             -0.166463   \n",
       "Day_Length(Minutes)                 0.828998              0.007052   \n",
       "\n",
       "                        Precipitation_Historic  Dew_Point  Max_Wind_Speed  \\\n",
       "Humidity_Avg(%)                      -0.097096   0.446326       -0.007941   \n",
       "Pressure_Avg(in)                     -0.018088  -0.071730       -0.117755   \n",
       "Temperature_Avg                      -0.550913   0.924765       -0.254526   \n",
       "Temperature_Historic                 -0.597343   0.842881       -0.232976   \n",
       "Precipitation_Actual                 -0.010623   0.078980        0.165337   \n",
       "Precipitation_Historic                1.000000  -0.522892        0.173906   \n",
       "Dew_Point                            -0.522892   1.000000       -0.237273   \n",
       "Max_Wind_Speed                        0.173906  -0.237273        1.000000   \n",
       "Sea_Level_Pressure                    0.100025  -0.382446       -0.178149   \n",
       "Day_Length(Minutes)                  -0.322254   0.655774       -0.140198   \n",
       "\n",
       "                        Sea_Level_Pressure  Day_Length(Minutes)  \n",
       "Humidity_Avg(%)                  -0.216279             0.055055  \n",
       "Pressure_Avg(in)                  0.291991            -0.050919  \n",
       "Temperature_Avg                  -0.349898             0.744666  \n",
       "Temperature_Historic             -0.288147             0.828998  \n",
       "Precipitation_Actual             -0.166463             0.007052  \n",
       "Precipitation_Historic            0.100025            -0.322254  \n",
       "Dew_Point                        -0.382446             0.655774  \n",
       "Max_Wind_Speed                   -0.178149            -0.140198  \n",
       "Sea_Level_Pressure                1.000000            -0.304120  \n",
       "Day_Length(Minutes)              -0.304120             1.000000  "
      ]
     },
     "execution_count": 284,
     "metadata": {},
     "output_type": "execute_result"
    }
   ],
   "source": [
    "corr = df[numeric_columns[:10]].corr()\n",
    "corr"
   ]
  },
  {
   "cell_type": "code",
   "execution_count": 285,
   "metadata": {},
   "outputs": [
    {
     "data": {
      "application/vnd.plotly.v1+json": {
       "config": {
        "plotlyServerURL": "https://plot.ly"
       },
       "data": [
        {
         "coloraxis": "coloraxis",
         "hovertemplate": "x: %{x}<br>y: %{y}<br>color: %{z}<extra></extra>",
         "name": "0",
         "type": "heatmap",
         "x": [
          "Humidity_Avg(%)",
          "Pressure_Avg(in)",
          "Temperature_Avg",
          "Temperature_Historic",
          "Precipitation_Actual",
          "Precipitation_Historic",
          "Dew_Point",
          "Max_Wind_Speed",
          "Sea_Level_Pressure",
          "Day_Length(Minutes)"
         ],
         "xaxis": "x",
         "y": [
          "Humidity_Avg(%)",
          "Pressure_Avg(in)",
          "Temperature_Avg",
          "Temperature_Historic",
          "Precipitation_Actual",
          "Precipitation_Historic",
          "Dew_Point",
          "Max_Wind_Speed",
          "Sea_Level_Pressure",
          "Day_Length(Minutes)"
         ],
         "yaxis": "y",
         "z": [
          [
           1,
           -0.11801615582203129,
           0.14374373404954724,
           0.11193814786705898,
           0.21549895417973236,
           -0.09709586981693759,
           0.44632645368599233,
           -0.00794083953395556,
           -0.21627939210553387,
           0.05505457121108915
          ],
          [
           -0.11801615582203129,
           1,
           -0.04464022499941322,
           -0.029676698775655125,
           -0.09834091817707054,
           -0.01808839643865215,
           -0.07172997608775068,
           -0.11775523020310001,
           0.2919912569407879,
           -0.05091921928861466
          ],
          [
           0.14374373404954724,
           -0.04464022499941322,
           1,
           0.9118610826369875,
           0.008520342036511874,
           -0.550913169105389,
           0.9247649891301752,
           -0.2545258414092195,
           -0.34989787363273395,
           0.7446658266718699
          ],
          [
           0.11193814786705898,
           -0.029676698775655125,
           0.9118610826369875,
           1,
           0.01782695660285047,
           -0.5973430697924077,
           0.8428808976947515,
           -0.23297557000704605,
           -0.28814675958234004,
           0.828997606581001
          ],
          [
           0.21549895417973236,
           -0.09834091817707054,
           0.008520342036511874,
           0.01782695660285047,
           1,
           -0.01062268926772518,
           0.07898027212273806,
           0.1653373829051617,
           -0.1664628101609939,
           0.007052069445284756
          ],
          [
           -0.09709586981693759,
           -0.01808839643865215,
           -0.550913169105389,
           -0.5973430697924077,
           -0.01062268926772518,
           1,
           -0.5228918642839206,
           0.17390556245339767,
           0.10002536715730606,
           -0.3222544687708248
          ],
          [
           0.44632645368599233,
           -0.07172997608775068,
           0.9247649891301752,
           0.8428808976947515,
           0.07898027212273806,
           -0.5228918642839206,
           1,
           -0.2372725032257081,
           -0.3824464934071492,
           0.6557737101408986
          ],
          [
           -0.00794083953395556,
           -0.11775523020310001,
           -0.2545258414092195,
           -0.23297557000704605,
           0.1653373829051617,
           0.17390556245339767,
           -0.2372725032257081,
           1,
           -0.17814945420130865,
           -0.1401983393190143
          ],
          [
           -0.21627939210553387,
           0.2919912569407879,
           -0.34989787363273395,
           -0.28814675958234004,
           -0.1664628101609939,
           0.10002536715730606,
           -0.3824464934071492,
           -0.17814945420130865,
           1,
           -0.3041195056894511
          ],
          [
           0.05505457121108915,
           -0.05091921928861466,
           0.7446658266718699,
           0.828997606581001,
           0.007052069445284756,
           -0.3222544687708248,
           0.6557737101408986,
           -0.1401983393190143,
           -0.3041195056894511,
           1
          ]
         ]
        }
       ],
       "layout": {
        "coloraxis": {
         "colorscale": [
          [
           0,
           "#0d0887"
          ],
          [
           0.1111111111111111,
           "#46039f"
          ],
          [
           0.2222222222222222,
           "#7201a8"
          ],
          [
           0.3333333333333333,
           "#9c179e"
          ],
          [
           0.4444444444444444,
           "#bd3786"
          ],
          [
           0.5555555555555556,
           "#d8576b"
          ],
          [
           0.6666666666666666,
           "#ed7953"
          ],
          [
           0.7777777777777778,
           "#fb9f3a"
          ],
          [
           0.8888888888888888,
           "#fdca26"
          ],
          [
           1,
           "#f0f921"
          ]
         ]
        },
        "margin": {
         "t": 60
        },
        "template": {
         "data": {
          "bar": [
           {
            "error_x": {
             "color": "#2a3f5f"
            },
            "error_y": {
             "color": "#2a3f5f"
            },
            "marker": {
             "line": {
              "color": "#E5ECF6",
              "width": 0.5
             },
             "pattern": {
              "fillmode": "overlay",
              "size": 10,
              "solidity": 0.2
             }
            },
            "type": "bar"
           }
          ],
          "barpolar": [
           {
            "marker": {
             "line": {
              "color": "#E5ECF6",
              "width": 0.5
             },
             "pattern": {
              "fillmode": "overlay",
              "size": 10,
              "solidity": 0.2
             }
            },
            "type": "barpolar"
           }
          ],
          "carpet": [
           {
            "aaxis": {
             "endlinecolor": "#2a3f5f",
             "gridcolor": "white",
             "linecolor": "white",
             "minorgridcolor": "white",
             "startlinecolor": "#2a3f5f"
            },
            "baxis": {
             "endlinecolor": "#2a3f5f",
             "gridcolor": "white",
             "linecolor": "white",
             "minorgridcolor": "white",
             "startlinecolor": "#2a3f5f"
            },
            "type": "carpet"
           }
          ],
          "choropleth": [
           {
            "colorbar": {
             "outlinewidth": 0,
             "ticks": ""
            },
            "type": "choropleth"
           }
          ],
          "contour": [
           {
            "colorbar": {
             "outlinewidth": 0,
             "ticks": ""
            },
            "colorscale": [
             [
              0,
              "#0d0887"
             ],
             [
              0.1111111111111111,
              "#46039f"
             ],
             [
              0.2222222222222222,
              "#7201a8"
             ],
             [
              0.3333333333333333,
              "#9c179e"
             ],
             [
              0.4444444444444444,
              "#bd3786"
             ],
             [
              0.5555555555555556,
              "#d8576b"
             ],
             [
              0.6666666666666666,
              "#ed7953"
             ],
             [
              0.7777777777777778,
              "#fb9f3a"
             ],
             [
              0.8888888888888888,
              "#fdca26"
             ],
             [
              1,
              "#f0f921"
             ]
            ],
            "type": "contour"
           }
          ],
          "contourcarpet": [
           {
            "colorbar": {
             "outlinewidth": 0,
             "ticks": ""
            },
            "type": "contourcarpet"
           }
          ],
          "heatmap": [
           {
            "colorbar": {
             "outlinewidth": 0,
             "ticks": ""
            },
            "colorscale": [
             [
              0,
              "#0d0887"
             ],
             [
              0.1111111111111111,
              "#46039f"
             ],
             [
              0.2222222222222222,
              "#7201a8"
             ],
             [
              0.3333333333333333,
              "#9c179e"
             ],
             [
              0.4444444444444444,
              "#bd3786"
             ],
             [
              0.5555555555555556,
              "#d8576b"
             ],
             [
              0.6666666666666666,
              "#ed7953"
             ],
             [
              0.7777777777777778,
              "#fb9f3a"
             ],
             [
              0.8888888888888888,
              "#fdca26"
             ],
             [
              1,
              "#f0f921"
             ]
            ],
            "type": "heatmap"
           }
          ],
          "heatmapgl": [
           {
            "colorbar": {
             "outlinewidth": 0,
             "ticks": ""
            },
            "colorscale": [
             [
              0,
              "#0d0887"
             ],
             [
              0.1111111111111111,
              "#46039f"
             ],
             [
              0.2222222222222222,
              "#7201a8"
             ],
             [
              0.3333333333333333,
              "#9c179e"
             ],
             [
              0.4444444444444444,
              "#bd3786"
             ],
             [
              0.5555555555555556,
              "#d8576b"
             ],
             [
              0.6666666666666666,
              "#ed7953"
             ],
             [
              0.7777777777777778,
              "#fb9f3a"
             ],
             [
              0.8888888888888888,
              "#fdca26"
             ],
             [
              1,
              "#f0f921"
             ]
            ],
            "type": "heatmapgl"
           }
          ],
          "histogram": [
           {
            "marker": {
             "pattern": {
              "fillmode": "overlay",
              "size": 10,
              "solidity": 0.2
             }
            },
            "type": "histogram"
           }
          ],
          "histogram2d": [
           {
            "colorbar": {
             "outlinewidth": 0,
             "ticks": ""
            },
            "colorscale": [
             [
              0,
              "#0d0887"
             ],
             [
              0.1111111111111111,
              "#46039f"
             ],
             [
              0.2222222222222222,
              "#7201a8"
             ],
             [
              0.3333333333333333,
              "#9c179e"
             ],
             [
              0.4444444444444444,
              "#bd3786"
             ],
             [
              0.5555555555555556,
              "#d8576b"
             ],
             [
              0.6666666666666666,
              "#ed7953"
             ],
             [
              0.7777777777777778,
              "#fb9f3a"
             ],
             [
              0.8888888888888888,
              "#fdca26"
             ],
             [
              1,
              "#f0f921"
             ]
            ],
            "type": "histogram2d"
           }
          ],
          "histogram2dcontour": [
           {
            "colorbar": {
             "outlinewidth": 0,
             "ticks": ""
            },
            "colorscale": [
             [
              0,
              "#0d0887"
             ],
             [
              0.1111111111111111,
              "#46039f"
             ],
             [
              0.2222222222222222,
              "#7201a8"
             ],
             [
              0.3333333333333333,
              "#9c179e"
             ],
             [
              0.4444444444444444,
              "#bd3786"
             ],
             [
              0.5555555555555556,
              "#d8576b"
             ],
             [
              0.6666666666666666,
              "#ed7953"
             ],
             [
              0.7777777777777778,
              "#fb9f3a"
             ],
             [
              0.8888888888888888,
              "#fdca26"
             ],
             [
              1,
              "#f0f921"
             ]
            ],
            "type": "histogram2dcontour"
           }
          ],
          "mesh3d": [
           {
            "colorbar": {
             "outlinewidth": 0,
             "ticks": ""
            },
            "type": "mesh3d"
           }
          ],
          "parcoords": [
           {
            "line": {
             "colorbar": {
              "outlinewidth": 0,
              "ticks": ""
             }
            },
            "type": "parcoords"
           }
          ],
          "pie": [
           {
            "automargin": true,
            "type": "pie"
           }
          ],
          "scatter": [
           {
            "fillpattern": {
             "fillmode": "overlay",
             "size": 10,
             "solidity": 0.2
            },
            "type": "scatter"
           }
          ],
          "scatter3d": [
           {
            "line": {
             "colorbar": {
              "outlinewidth": 0,
              "ticks": ""
             }
            },
            "marker": {
             "colorbar": {
              "outlinewidth": 0,
              "ticks": ""
             }
            },
            "type": "scatter3d"
           }
          ],
          "scattercarpet": [
           {
            "marker": {
             "colorbar": {
              "outlinewidth": 0,
              "ticks": ""
             }
            },
            "type": "scattercarpet"
           }
          ],
          "scattergeo": [
           {
            "marker": {
             "colorbar": {
              "outlinewidth": 0,
              "ticks": ""
             }
            },
            "type": "scattergeo"
           }
          ],
          "scattergl": [
           {
            "marker": {
             "colorbar": {
              "outlinewidth": 0,
              "ticks": ""
             }
            },
            "type": "scattergl"
           }
          ],
          "scattermapbox": [
           {
            "marker": {
             "colorbar": {
              "outlinewidth": 0,
              "ticks": ""
             }
            },
            "type": "scattermapbox"
           }
          ],
          "scatterpolar": [
           {
            "marker": {
             "colorbar": {
              "outlinewidth": 0,
              "ticks": ""
             }
            },
            "type": "scatterpolar"
           }
          ],
          "scatterpolargl": [
           {
            "marker": {
             "colorbar": {
              "outlinewidth": 0,
              "ticks": ""
             }
            },
            "type": "scatterpolargl"
           }
          ],
          "scatterternary": [
           {
            "marker": {
             "colorbar": {
              "outlinewidth": 0,
              "ticks": ""
             }
            },
            "type": "scatterternary"
           }
          ],
          "surface": [
           {
            "colorbar": {
             "outlinewidth": 0,
             "ticks": ""
            },
            "colorscale": [
             [
              0,
              "#0d0887"
             ],
             [
              0.1111111111111111,
              "#46039f"
             ],
             [
              0.2222222222222222,
              "#7201a8"
             ],
             [
              0.3333333333333333,
              "#9c179e"
             ],
             [
              0.4444444444444444,
              "#bd3786"
             ],
             [
              0.5555555555555556,
              "#d8576b"
             ],
             [
              0.6666666666666666,
              "#ed7953"
             ],
             [
              0.7777777777777778,
              "#fb9f3a"
             ],
             [
              0.8888888888888888,
              "#fdca26"
             ],
             [
              1,
              "#f0f921"
             ]
            ],
            "type": "surface"
           }
          ],
          "table": [
           {
            "cells": {
             "fill": {
              "color": "#EBF0F8"
             },
             "line": {
              "color": "white"
             }
            },
            "header": {
             "fill": {
              "color": "#C8D4E3"
             },
             "line": {
              "color": "white"
             }
            },
            "type": "table"
           }
          ]
         },
         "layout": {
          "annotationdefaults": {
           "arrowcolor": "#2a3f5f",
           "arrowhead": 0,
           "arrowwidth": 1
          },
          "autotypenumbers": "strict",
          "coloraxis": {
           "colorbar": {
            "outlinewidth": 0,
            "ticks": ""
           }
          },
          "colorscale": {
           "diverging": [
            [
             0,
             "#8e0152"
            ],
            [
             0.1,
             "#c51b7d"
            ],
            [
             0.2,
             "#de77ae"
            ],
            [
             0.3,
             "#f1b6da"
            ],
            [
             0.4,
             "#fde0ef"
            ],
            [
             0.5,
             "#f7f7f7"
            ],
            [
             0.6,
             "#e6f5d0"
            ],
            [
             0.7,
             "#b8e186"
            ],
            [
             0.8,
             "#7fbc41"
            ],
            [
             0.9,
             "#4d9221"
            ],
            [
             1,
             "#276419"
            ]
           ],
           "sequential": [
            [
             0,
             "#0d0887"
            ],
            [
             0.1111111111111111,
             "#46039f"
            ],
            [
             0.2222222222222222,
             "#7201a8"
            ],
            [
             0.3333333333333333,
             "#9c179e"
            ],
            [
             0.4444444444444444,
             "#bd3786"
            ],
            [
             0.5555555555555556,
             "#d8576b"
            ],
            [
             0.6666666666666666,
             "#ed7953"
            ],
            [
             0.7777777777777778,
             "#fb9f3a"
            ],
            [
             0.8888888888888888,
             "#fdca26"
            ],
            [
             1,
             "#f0f921"
            ]
           ],
           "sequentialminus": [
            [
             0,
             "#0d0887"
            ],
            [
             0.1111111111111111,
             "#46039f"
            ],
            [
             0.2222222222222222,
             "#7201a8"
            ],
            [
             0.3333333333333333,
             "#9c179e"
            ],
            [
             0.4444444444444444,
             "#bd3786"
            ],
            [
             0.5555555555555556,
             "#d8576b"
            ],
            [
             0.6666666666666666,
             "#ed7953"
            ],
            [
             0.7777777777777778,
             "#fb9f3a"
            ],
            [
             0.8888888888888888,
             "#fdca26"
            ],
            [
             1,
             "#f0f921"
            ]
           ]
          },
          "colorway": [
           "#636efa",
           "#EF553B",
           "#00cc96",
           "#ab63fa",
           "#FFA15A",
           "#19d3f3",
           "#FF6692",
           "#B6E880",
           "#FF97FF",
           "#FECB52"
          ],
          "font": {
           "color": "#2a3f5f"
          },
          "geo": {
           "bgcolor": "white",
           "lakecolor": "white",
           "landcolor": "#E5ECF6",
           "showlakes": true,
           "showland": true,
           "subunitcolor": "white"
          },
          "hoverlabel": {
           "align": "left"
          },
          "hovermode": "closest",
          "mapbox": {
           "style": "light"
          },
          "paper_bgcolor": "white",
          "plot_bgcolor": "#E5ECF6",
          "polar": {
           "angularaxis": {
            "gridcolor": "white",
            "linecolor": "white",
            "ticks": ""
           },
           "bgcolor": "#E5ECF6",
           "radialaxis": {
            "gridcolor": "white",
            "linecolor": "white",
            "ticks": ""
           }
          },
          "scene": {
           "xaxis": {
            "backgroundcolor": "#E5ECF6",
            "gridcolor": "white",
            "gridwidth": 2,
            "linecolor": "white",
            "showbackground": true,
            "ticks": "",
            "zerolinecolor": "white"
           },
           "yaxis": {
            "backgroundcolor": "#E5ECF6",
            "gridcolor": "white",
            "gridwidth": 2,
            "linecolor": "white",
            "showbackground": true,
            "ticks": "",
            "zerolinecolor": "white"
           },
           "zaxis": {
            "backgroundcolor": "#E5ECF6",
            "gridcolor": "white",
            "gridwidth": 2,
            "linecolor": "white",
            "showbackground": true,
            "ticks": "",
            "zerolinecolor": "white"
           }
          },
          "shapedefaults": {
           "line": {
            "color": "#2a3f5f"
           }
          },
          "ternary": {
           "aaxis": {
            "gridcolor": "white",
            "linecolor": "white",
            "ticks": ""
           },
           "baxis": {
            "gridcolor": "white",
            "linecolor": "white",
            "ticks": ""
           },
           "bgcolor": "#E5ECF6",
           "caxis": {
            "gridcolor": "white",
            "linecolor": "white",
            "ticks": ""
           }
          },
          "title": {
           "x": 0.05
          },
          "xaxis": {
           "automargin": true,
           "gridcolor": "white",
           "linecolor": "white",
           "ticks": "",
           "title": {
            "standoff": 15
           },
           "zerolinecolor": "white",
           "zerolinewidth": 2
          },
          "yaxis": {
           "automargin": true,
           "gridcolor": "white",
           "linecolor": "white",
           "ticks": "",
           "title": {
            "standoff": 15
           },
           "zerolinecolor": "white",
           "zerolinewidth": 2
          }
         }
        },
        "xaxis": {
         "anchor": "y",
         "constrain": "domain",
         "domain": [
          0,
          1
         ],
         "scaleanchor": "y"
        },
        "yaxis": {
         "anchor": "x",
         "autorange": "reversed",
         "constrain": "domain",
         "domain": [
          0,
          1
         ]
        }
       }
      }
     },
     "metadata": {},
     "output_type": "display_data"
    }
   ],
   "source": [
    "fig = px.imshow(corr)\n",
    "fig.show()"
   ]
  },
  {
   "cell_type": "markdown",
   "metadata": {},
   "source": [
    "1. **Temperature_Avg** and **Dew_Point** have a very strong positive correlation of 0.924765. \n",
    "\n",
    "2. **Temperature_Avg** and **Temperature_Historic** also have a strong positive correlation of 0.911861. This indicates that the current average temperature is strongly influenced by the historic temperature data.\n",
    "\n",
    "3. **Temperature_Avg** and **Precipitatio_Actual** have a strong negative correlation of -0.550913. \n",
    "\n",
    "4. **Sea_Level_Pressure** and **Temperature_Avg** have a negative correlation of -0.349898. \n",
    "\n",
    "5. **Day_Length(Minutes)** and **Temperature_Avg** have a strong positive correlation of 0.744666. \n",
    "\n",
    "6. **Max_Wind_Speed** does not seem to have a strong correlation with any of the other variables. The strongest correlation it has is a weak positive correlation with **Precipitatio_Actual** (0.173906) and **Precipitation_Historic** (0.165337).\n",
    "\n",
    "7. **Humidity_Avg(%)** and **Dew_Point** have a moderate positive correlation of 0.446326. This suggests that when the average humidity increases, the dew point also tends to increase.\n",
    "\n",
    "8. **Precipitation_Actual** and **Humidity_Avg(%)** have a weak positive correlation of 0.215499. \n",
    "\n"
   ]
  },
  {
   "cell_type": "markdown",
   "metadata": {},
   "source": [
    "#### Q17: What is the relationship between the type of wind and other properties?"
   ]
  },
  {
   "cell_type": "code",
   "execution_count": 286,
   "metadata": {},
   "outputs": [
    {
     "data": {
      "text/html": [
       "<div>\n",
       "<style scoped>\n",
       "    .dataframe tbody tr th:only-of-type {\n",
       "        vertical-align: middle;\n",
       "    }\n",
       "\n",
       "    .dataframe tbody tr th {\n",
       "        vertical-align: top;\n",
       "    }\n",
       "\n",
       "    .dataframe thead th {\n",
       "        text-align: right;\n",
       "    }\n",
       "</style>\n",
       "<table border=\"1\" class=\"dataframe\">\n",
       "  <thead>\n",
       "    <tr style=\"text-align: right;\">\n",
       "      <th></th>\n",
       "      <th>Wind_Type</th>\n",
       "      <th>Humidity_Avg(%)</th>\n",
       "      <th>Pressure_Avg(in)</th>\n",
       "      <th>Temperature_Avg</th>\n",
       "      <th>Temperature_Historic</th>\n",
       "      <th>Precipitation_Actual</th>\n",
       "      <th>Precipitation_Historic</th>\n",
       "      <th>Dew_Point</th>\n",
       "      <th>Max_Wind_Speed</th>\n",
       "      <th>Sea_Level_Pressure</th>\n",
       "    </tr>\n",
       "  </thead>\n",
       "  <tbody>\n",
       "    <tr>\n",
       "      <th>0</th>\n",
       "      <td>CALM</td>\n",
       "      <td>67.197917</td>\n",
       "      <td>30.050469</td>\n",
       "      <td>62.874948</td>\n",
       "      <td>59.528125</td>\n",
       "      <td>0.047292</td>\n",
       "      <td>4.579167</td>\n",
       "      <td>47.501250</td>\n",
       "      <td>13.520833</td>\n",
       "      <td>30.115313</td>\n",
       "    </tr>\n",
       "    <tr>\n",
       "      <th>1</th>\n",
       "      <td>E</td>\n",
       "      <td>74.671233</td>\n",
       "      <td>30.068356</td>\n",
       "      <td>57.139315</td>\n",
       "      <td>59.384932</td>\n",
       "      <td>0.052603</td>\n",
       "      <td>4.391781</td>\n",
       "      <td>47.265205</td>\n",
       "      <td>16.986301</td>\n",
       "      <td>30.164110</td>\n",
       "    </tr>\n",
       "    <tr>\n",
       "      <th>2</th>\n",
       "      <td>ENE</td>\n",
       "      <td>76.657895</td>\n",
       "      <td>30.030677</td>\n",
       "      <td>53.676353</td>\n",
       "      <td>56.457895</td>\n",
       "      <td>0.115602</td>\n",
       "      <td>4.746241</td>\n",
       "      <td>43.879586</td>\n",
       "      <td>18.345865</td>\n",
       "      <td>30.134474</td>\n",
       "    </tr>\n",
       "    <tr>\n",
       "      <th>3</th>\n",
       "      <td>ESE</td>\n",
       "      <td>75.900000</td>\n",
       "      <td>30.043000</td>\n",
       "      <td>60.441667</td>\n",
       "      <td>61.540000</td>\n",
       "      <td>0.012333</td>\n",
       "      <td>4.440000</td>\n",
       "      <td>50.811333</td>\n",
       "      <td>17.200000</td>\n",
       "      <td>30.131333</td>\n",
       "    </tr>\n",
       "    <tr>\n",
       "      <th>4</th>\n",
       "      <td>N</td>\n",
       "      <td>62.918079</td>\n",
       "      <td>30.036017</td>\n",
       "      <td>51.766017</td>\n",
       "      <td>54.691808</td>\n",
       "      <td>0.104181</td>\n",
       "      <td>4.658192</td>\n",
       "      <td>35.657316</td>\n",
       "      <td>17.166667</td>\n",
       "      <td>30.140960</td>\n",
       "    </tr>\n",
       "    <tr>\n",
       "      <th>5</th>\n",
       "      <td>NE</td>\n",
       "      <td>75.855263</td>\n",
       "      <td>29.998086</td>\n",
       "      <td>56.734067</td>\n",
       "      <td>58.321292</td>\n",
       "      <td>0.105179</td>\n",
       "      <td>4.708134</td>\n",
       "      <td>46.576986</td>\n",
       "      <td>16.519139</td>\n",
       "      <td>30.123852</td>\n",
       "    </tr>\n",
       "    <tr>\n",
       "      <th>6</th>\n",
       "      <td>NNE</td>\n",
       "      <td>66.033898</td>\n",
       "      <td>30.112458</td>\n",
       "      <td>52.860424</td>\n",
       "      <td>57.621186</td>\n",
       "      <td>0.108814</td>\n",
       "      <td>4.281356</td>\n",
       "      <td>39.149407</td>\n",
       "      <td>17.288136</td>\n",
       "      <td>30.204492</td>\n",
       "    </tr>\n",
       "    <tr>\n",
       "      <th>7</th>\n",
       "      <td>NNW</td>\n",
       "      <td>58.429719</td>\n",
       "      <td>29.902008</td>\n",
       "      <td>50.789759</td>\n",
       "      <td>53.547791</td>\n",
       "      <td>0.119880</td>\n",
       "      <td>4.737349</td>\n",
       "      <td>32.337992</td>\n",
       "      <td>18.630522</td>\n",
       "      <td>30.146747</td>\n",
       "    </tr>\n",
       "    <tr>\n",
       "      <th>8</th>\n",
       "      <td>NW</td>\n",
       "      <td>57.480149</td>\n",
       "      <td>29.956377</td>\n",
       "      <td>52.113859</td>\n",
       "      <td>53.721960</td>\n",
       "      <td>0.084194</td>\n",
       "      <td>4.921836</td>\n",
       "      <td>33.319280</td>\n",
       "      <td>20.615385</td>\n",
       "      <td>30.085211</td>\n",
       "    </tr>\n",
       "    <tr>\n",
       "      <th>9</th>\n",
       "      <td>S</td>\n",
       "      <td>70.606349</td>\n",
       "      <td>29.994201</td>\n",
       "      <td>65.720011</td>\n",
       "      <td>62.886243</td>\n",
       "      <td>0.062317</td>\n",
       "      <td>4.633545</td>\n",
       "      <td>52.860921</td>\n",
       "      <td>17.197884</td>\n",
       "      <td>30.079672</td>\n",
       "    </tr>\n",
       "    <tr>\n",
       "      <th>10</th>\n",
       "      <td>SE</td>\n",
       "      <td>74.820000</td>\n",
       "      <td>30.075800</td>\n",
       "      <td>60.191200</td>\n",
       "      <td>60.134000</td>\n",
       "      <td>0.035200</td>\n",
       "      <td>4.634000</td>\n",
       "      <td>50.191800</td>\n",
       "      <td>16.820000</td>\n",
       "      <td>30.170200</td>\n",
       "    </tr>\n",
       "    <tr>\n",
       "      <th>11</th>\n",
       "      <td>SSE</td>\n",
       "      <td>76.500000</td>\n",
       "      <td>30.017419</td>\n",
       "      <td>64.403710</td>\n",
       "      <td>62.203226</td>\n",
       "      <td>0.044516</td>\n",
       "      <td>4.414516</td>\n",
       "      <td>53.772742</td>\n",
       "      <td>17.903226</td>\n",
       "      <td>30.120000</td>\n",
       "    </tr>\n",
       "    <tr>\n",
       "      <th>12</th>\n",
       "      <td>SSW</td>\n",
       "      <td>65.495455</td>\n",
       "      <td>30.023455</td>\n",
       "      <td>60.561227</td>\n",
       "      <td>57.368182</td>\n",
       "      <td>0.040091</td>\n",
       "      <td>4.765000</td>\n",
       "      <td>45.617818</td>\n",
       "      <td>16.281818</td>\n",
       "      <td>30.121636</td>\n",
       "    </tr>\n",
       "    <tr>\n",
       "      <th>13</th>\n",
       "      <td>SW</td>\n",
       "      <td>59.352941</td>\n",
       "      <td>30.006993</td>\n",
       "      <td>63.168039</td>\n",
       "      <td>58.596405</td>\n",
       "      <td>0.033791</td>\n",
       "      <td>4.712745</td>\n",
       "      <td>45.368529</td>\n",
       "      <td>16.640523</td>\n",
       "      <td>30.087810</td>\n",
       "    </tr>\n",
       "    <tr>\n",
       "      <th>14</th>\n",
       "      <td>VAR</td>\n",
       "      <td>76.000000</td>\n",
       "      <td>29.991111</td>\n",
       "      <td>64.463333</td>\n",
       "      <td>64.977778</td>\n",
       "      <td>0.157778</td>\n",
       "      <td>4.533333</td>\n",
       "      <td>52.602222</td>\n",
       "      <td>11.666667</td>\n",
       "      <td>30.082222</td>\n",
       "    </tr>\n",
       "    <tr>\n",
       "      <th>15</th>\n",
       "      <td>W</td>\n",
       "      <td>56.052632</td>\n",
       "      <td>29.850766</td>\n",
       "      <td>51.420957</td>\n",
       "      <td>50.780622</td>\n",
       "      <td>0.134091</td>\n",
       "      <td>4.995215</td>\n",
       "      <td>32.494091</td>\n",
       "      <td>21.021531</td>\n",
       "      <td>29.985670</td>\n",
       "    </tr>\n",
       "    <tr>\n",
       "      <th>16</th>\n",
       "      <td>WNW</td>\n",
       "      <td>55.885993</td>\n",
       "      <td>29.825603</td>\n",
       "      <td>48.036775</td>\n",
       "      <td>50.272638</td>\n",
       "      <td>0.094560</td>\n",
       "      <td>4.964169</td>\n",
       "      <td>29.028958</td>\n",
       "      <td>21.185668</td>\n",
       "      <td>30.073876</td>\n",
       "    </tr>\n",
       "    <tr>\n",
       "      <th>17</th>\n",
       "      <td>WSW</td>\n",
       "      <td>57.533333</td>\n",
       "      <td>29.898889</td>\n",
       "      <td>61.947667</td>\n",
       "      <td>57.632222</td>\n",
       "      <td>0.071667</td>\n",
       "      <td>4.761111</td>\n",
       "      <td>41.238889</td>\n",
       "      <td>19.200000</td>\n",
       "      <td>30.015111</td>\n",
       "    </tr>\n",
       "  </tbody>\n",
       "</table>\n",
       "</div>"
      ],
      "text/plain": [
       "   Wind_Type  Humidity_Avg(%)  Pressure_Avg(in)  Temperature_Avg  \\\n",
       "0       CALM        67.197917         30.050469        62.874948   \n",
       "1          E        74.671233         30.068356        57.139315   \n",
       "2        ENE        76.657895         30.030677        53.676353   \n",
       "3        ESE        75.900000         30.043000        60.441667   \n",
       "4          N        62.918079         30.036017        51.766017   \n",
       "5         NE        75.855263         29.998086        56.734067   \n",
       "6        NNE        66.033898         30.112458        52.860424   \n",
       "7        NNW        58.429719         29.902008        50.789759   \n",
       "8         NW        57.480149         29.956377        52.113859   \n",
       "9          S        70.606349         29.994201        65.720011   \n",
       "10        SE        74.820000         30.075800        60.191200   \n",
       "11       SSE        76.500000         30.017419        64.403710   \n",
       "12       SSW        65.495455         30.023455        60.561227   \n",
       "13        SW        59.352941         30.006993        63.168039   \n",
       "14       VAR        76.000000         29.991111        64.463333   \n",
       "15         W        56.052632         29.850766        51.420957   \n",
       "16       WNW        55.885993         29.825603        48.036775   \n",
       "17       WSW        57.533333         29.898889        61.947667   \n",
       "\n",
       "    Temperature_Historic  Precipitation_Actual  Precipitation_Historic  \\\n",
       "0              59.528125              0.047292                4.579167   \n",
       "1              59.384932              0.052603                4.391781   \n",
       "2              56.457895              0.115602                4.746241   \n",
       "3              61.540000              0.012333                4.440000   \n",
       "4              54.691808              0.104181                4.658192   \n",
       "5              58.321292              0.105179                4.708134   \n",
       "6              57.621186              0.108814                4.281356   \n",
       "7              53.547791              0.119880                4.737349   \n",
       "8              53.721960              0.084194                4.921836   \n",
       "9              62.886243              0.062317                4.633545   \n",
       "10             60.134000              0.035200                4.634000   \n",
       "11             62.203226              0.044516                4.414516   \n",
       "12             57.368182              0.040091                4.765000   \n",
       "13             58.596405              0.033791                4.712745   \n",
       "14             64.977778              0.157778                4.533333   \n",
       "15             50.780622              0.134091                4.995215   \n",
       "16             50.272638              0.094560                4.964169   \n",
       "17             57.632222              0.071667                4.761111   \n",
       "\n",
       "    Dew_Point  Max_Wind_Speed  Sea_Level_Pressure  \n",
       "0   47.501250       13.520833           30.115313  \n",
       "1   47.265205       16.986301           30.164110  \n",
       "2   43.879586       18.345865           30.134474  \n",
       "3   50.811333       17.200000           30.131333  \n",
       "4   35.657316       17.166667           30.140960  \n",
       "5   46.576986       16.519139           30.123852  \n",
       "6   39.149407       17.288136           30.204492  \n",
       "7   32.337992       18.630522           30.146747  \n",
       "8   33.319280       20.615385           30.085211  \n",
       "9   52.860921       17.197884           30.079672  \n",
       "10  50.191800       16.820000           30.170200  \n",
       "11  53.772742       17.903226           30.120000  \n",
       "12  45.617818       16.281818           30.121636  \n",
       "13  45.368529       16.640523           30.087810  \n",
       "14  52.602222       11.666667           30.082222  \n",
       "15  32.494091       21.021531           29.985670  \n",
       "16  29.028958       21.185668           30.073876  \n",
       "17  41.238889       19.200000           30.015111  "
      ]
     },
     "execution_count": 286,
     "metadata": {},
     "output_type": "execute_result"
    }
   ],
   "source": [
    "groupby_wind_type = df.groupby(['Wind_Type'])[numeric_columns[:9]].mean().reset_index()\n",
    "groupby_wind_type"
   ]
  },
  {
   "cell_type": "code",
   "execution_count": 287,
   "metadata": {},
   "outputs": [
    {
     "data": {
      "application/vnd.plotly.v1+json": {
       "config": {
        "plotlyServerURL": "https://plot.ly"
       },
       "data": [
        {
         "mode": "lines+markers",
         "name": "Humidity_Avg(%)",
         "type": "scatter",
         "x": [
          "CALM",
          "E",
          "ENE",
          "ESE",
          "N",
          "NE",
          "NNE",
          "NNW",
          "NW",
          "S",
          "SE",
          "SSE",
          "SSW",
          "SW",
          "VAR",
          "W",
          "WNW",
          "WSW"
         ],
         "y": [
          67.19791666666667,
          74.67123287671232,
          76.65789473684211,
          75.9,
          62.9180790960452,
          75.85526315789474,
          66.03389830508475,
          58.429718875502004,
          57.48014888337469,
          70.60634920634921,
          74.82,
          76.5,
          65.49545454545455,
          59.35294117647059,
          76,
          56.05263157894737,
          55.88599348534202,
          57.53333333333333
         ]
        },
        {
         "mode": "lines+markers",
         "name": "Pressure_Avg(in)",
         "type": "scatter",
         "x": [
          "CALM",
          "E",
          "ENE",
          "ESE",
          "N",
          "NE",
          "NNE",
          "NNW",
          "NW",
          "S",
          "SE",
          "SSE",
          "SSW",
          "SW",
          "VAR",
          "W",
          "WNW",
          "WSW"
         ],
         "y": [
          30.050468749999997,
          30.068356164383566,
          30.030676691729322,
          30.043,
          30.036016949152543,
          29.998086124401915,
          30.112457627118644,
          29.902008032128517,
          29.95637717121588,
          29.99420105820106,
          30.0758,
          30.017419354838708,
          30.023454545454545,
          30.006993464052286,
          29.991111111111113,
          29.850765550239235,
          29.82560260586319,
          29.89888888888889
         ]
        },
        {
         "mode": "lines+markers",
         "name": "Temperature_Avg",
         "type": "scatter",
         "x": [
          "CALM",
          "E",
          "ENE",
          "ESE",
          "N",
          "NE",
          "NNE",
          "NNW",
          "NW",
          "S",
          "SE",
          "SSE",
          "SSW",
          "SW",
          "VAR",
          "W",
          "WNW",
          "WSW"
         ],
         "y": [
          62.87494791666666,
          57.139315068493154,
          53.67635338345865,
          60.44166666666667,
          51.76601694915254,
          56.73406698564593,
          52.86042372881356,
          50.789759036144574,
          52.11385856079404,
          65.72001058201057,
          60.1912,
          64.40370967741936,
          60.56122727272727,
          63.16803921568627,
          64.46333333333334,
          51.42095693779904,
          48.03677524429967,
          61.94766666666666
         ]
        },
        {
         "mode": "lines+markers",
         "name": "Temperature_Historic",
         "type": "scatter",
         "x": [
          "CALM",
          "E",
          "ENE",
          "ESE",
          "N",
          "NE",
          "NNE",
          "NNW",
          "NW",
          "S",
          "SE",
          "SSE",
          "SSW",
          "SW",
          "VAR",
          "W",
          "WNW",
          "WSW"
         ],
         "y": [
          59.528124999999996,
          59.38493150684932,
          56.4578947368421,
          61.54,
          54.69180790960452,
          58.32129186602871,
          57.62118644067797,
          53.54779116465863,
          53.72196029776675,
          62.886243386243386,
          60.13399999999999,
          62.20322580645161,
          57.36818181818182,
          58.59640522875817,
          64.97777777777777,
          50.78062200956938,
          50.27263843648209,
          57.63222222222222
         ]
        },
        {
         "mode": "lines+markers",
         "name": "Precipitation_Actual",
         "type": "scatter",
         "x": [
          "CALM",
          "E",
          "ENE",
          "ESE",
          "N",
          "NE",
          "NNE",
          "NNW",
          "NW",
          "S",
          "SE",
          "SSE",
          "SSW",
          "SW",
          "VAR",
          "W",
          "WNW",
          "WSW"
         ],
         "y": [
          0.04729166666666667,
          0.052602739726027394,
          0.1156015037593985,
          0.012333333333333333,
          0.10418079096045199,
          0.10517942583732058,
          0.1088135593220339,
          0.11987951807228917,
          0.08419354838709678,
          0.06231746031746032,
          0.0352,
          0.04451612903225806,
          0.040090909090909094,
          0.033790849673202616,
          0.1577777777777778,
          0.1340909090909091,
          0.09456026058631922,
          0.07166666666666667
         ]
        },
        {
         "mode": "lines+markers",
         "name": "Precipitation_Historic",
         "type": "scatter",
         "x": [
          "CALM",
          "E",
          "ENE",
          "ESE",
          "N",
          "NE",
          "NNE",
          "NNW",
          "NW",
          "S",
          "SE",
          "SSE",
          "SSW",
          "SW",
          "VAR",
          "W",
          "WNW",
          "WSW"
         ],
         "y": [
          4.579166666666667,
          4.391780821917808,
          4.746240601503759,
          4.4399999999999995,
          4.65819209039548,
          4.708133971291866,
          4.28135593220339,
          4.737349397590361,
          4.921836228287841,
          4.633544973544973,
          4.6339999999999995,
          4.414516129032258,
          4.765,
          4.712745098039216,
          4.533333333333333,
          4.9952153110047846,
          4.964169381107492,
          4.761111111111111
         ]
        },
        {
         "mode": "lines+markers",
         "name": "Dew_Point",
         "type": "scatter",
         "x": [
          "CALM",
          "E",
          "ENE",
          "ESE",
          "N",
          "NE",
          "NNE",
          "NNW",
          "NW",
          "S",
          "SE",
          "SSE",
          "SSW",
          "SW",
          "VAR",
          "W",
          "WNW",
          "WSW"
         ],
         "y": [
          47.50125,
          47.26520547945206,
          43.879586466165414,
          50.81133333333333,
          35.657316384180795,
          46.576985645933014,
          39.14940677966102,
          32.33799196787149,
          33.31928039702233,
          52.86092063492063,
          50.1918,
          53.77274193548387,
          45.61781818181818,
          45.368529411764705,
          52.602222222222224,
          32.49409090909091,
          29.028957654723126,
          41.23888888888889
         ]
        },
        {
         "mode": "lines+markers",
         "name": "Max_Wind_Speed",
         "type": "scatter",
         "x": [
          "CALM",
          "E",
          "ENE",
          "ESE",
          "N",
          "NE",
          "NNE",
          "NNW",
          "NW",
          "S",
          "SE",
          "SSE",
          "SSW",
          "SW",
          "VAR",
          "W",
          "WNW",
          "WSW"
         ],
         "y": [
          13.520833333333334,
          16.986301369863014,
          18.345864661654137,
          17.2,
          17.166666666666668,
          16.519138755980862,
          17.28813559322034,
          18.630522088353413,
          20.615384615384617,
          17.1978835978836,
          16.82,
          17.903225806451612,
          16.28181818181818,
          16.640522875816995,
          11.666666666666666,
          21.02153110047847,
          21.185667752442995,
          19.2
         ]
        },
        {
         "mode": "lines+markers",
         "name": "Sea_Level_Pressure",
         "type": "scatter",
         "x": [
          "CALM",
          "E",
          "ENE",
          "ESE",
          "N",
          "NE",
          "NNE",
          "NNW",
          "NW",
          "S",
          "SE",
          "SSE",
          "SSW",
          "SW",
          "VAR",
          "W",
          "WNW",
          "WSW"
         ],
         "y": [
          30.1153125,
          30.164109589041097,
          30.134473684210526,
          30.131333333333334,
          30.1409604519774,
          30.12385167464115,
          30.20449152542373,
          30.146746987951808,
          30.085210918114143,
          30.07967195767196,
          30.1702,
          30.12,
          30.121636363636366,
          30.087810457516344,
          30.082222222222224,
          29.98566985645933,
          30.073876221498374,
          30.015111111111114
         ]
        }
       ],
       "layout": {
        "legend": {
         "title": {
          "text": "Parameter"
         }
        },
        "template": {
         "data": {
          "bar": [
           {
            "error_x": {
             "color": "#2a3f5f"
            },
            "error_y": {
             "color": "#2a3f5f"
            },
            "marker": {
             "line": {
              "color": "#E5ECF6",
              "width": 0.5
             },
             "pattern": {
              "fillmode": "overlay",
              "size": 10,
              "solidity": 0.2
             }
            },
            "type": "bar"
           }
          ],
          "barpolar": [
           {
            "marker": {
             "line": {
              "color": "#E5ECF6",
              "width": 0.5
             },
             "pattern": {
              "fillmode": "overlay",
              "size": 10,
              "solidity": 0.2
             }
            },
            "type": "barpolar"
           }
          ],
          "carpet": [
           {
            "aaxis": {
             "endlinecolor": "#2a3f5f",
             "gridcolor": "white",
             "linecolor": "white",
             "minorgridcolor": "white",
             "startlinecolor": "#2a3f5f"
            },
            "baxis": {
             "endlinecolor": "#2a3f5f",
             "gridcolor": "white",
             "linecolor": "white",
             "minorgridcolor": "white",
             "startlinecolor": "#2a3f5f"
            },
            "type": "carpet"
           }
          ],
          "choropleth": [
           {
            "colorbar": {
             "outlinewidth": 0,
             "ticks": ""
            },
            "type": "choropleth"
           }
          ],
          "contour": [
           {
            "colorbar": {
             "outlinewidth": 0,
             "ticks": ""
            },
            "colorscale": [
             [
              0,
              "#0d0887"
             ],
             [
              0.1111111111111111,
              "#46039f"
             ],
             [
              0.2222222222222222,
              "#7201a8"
             ],
             [
              0.3333333333333333,
              "#9c179e"
             ],
             [
              0.4444444444444444,
              "#bd3786"
             ],
             [
              0.5555555555555556,
              "#d8576b"
             ],
             [
              0.6666666666666666,
              "#ed7953"
             ],
             [
              0.7777777777777778,
              "#fb9f3a"
             ],
             [
              0.8888888888888888,
              "#fdca26"
             ],
             [
              1,
              "#f0f921"
             ]
            ],
            "type": "contour"
           }
          ],
          "contourcarpet": [
           {
            "colorbar": {
             "outlinewidth": 0,
             "ticks": ""
            },
            "type": "contourcarpet"
           }
          ],
          "heatmap": [
           {
            "colorbar": {
             "outlinewidth": 0,
             "ticks": ""
            },
            "colorscale": [
             [
              0,
              "#0d0887"
             ],
             [
              0.1111111111111111,
              "#46039f"
             ],
             [
              0.2222222222222222,
              "#7201a8"
             ],
             [
              0.3333333333333333,
              "#9c179e"
             ],
             [
              0.4444444444444444,
              "#bd3786"
             ],
             [
              0.5555555555555556,
              "#d8576b"
             ],
             [
              0.6666666666666666,
              "#ed7953"
             ],
             [
              0.7777777777777778,
              "#fb9f3a"
             ],
             [
              0.8888888888888888,
              "#fdca26"
             ],
             [
              1,
              "#f0f921"
             ]
            ],
            "type": "heatmap"
           }
          ],
          "heatmapgl": [
           {
            "colorbar": {
             "outlinewidth": 0,
             "ticks": ""
            },
            "colorscale": [
             [
              0,
              "#0d0887"
             ],
             [
              0.1111111111111111,
              "#46039f"
             ],
             [
              0.2222222222222222,
              "#7201a8"
             ],
             [
              0.3333333333333333,
              "#9c179e"
             ],
             [
              0.4444444444444444,
              "#bd3786"
             ],
             [
              0.5555555555555556,
              "#d8576b"
             ],
             [
              0.6666666666666666,
              "#ed7953"
             ],
             [
              0.7777777777777778,
              "#fb9f3a"
             ],
             [
              0.8888888888888888,
              "#fdca26"
             ],
             [
              1,
              "#f0f921"
             ]
            ],
            "type": "heatmapgl"
           }
          ],
          "histogram": [
           {
            "marker": {
             "pattern": {
              "fillmode": "overlay",
              "size": 10,
              "solidity": 0.2
             }
            },
            "type": "histogram"
           }
          ],
          "histogram2d": [
           {
            "colorbar": {
             "outlinewidth": 0,
             "ticks": ""
            },
            "colorscale": [
             [
              0,
              "#0d0887"
             ],
             [
              0.1111111111111111,
              "#46039f"
             ],
             [
              0.2222222222222222,
              "#7201a8"
             ],
             [
              0.3333333333333333,
              "#9c179e"
             ],
             [
              0.4444444444444444,
              "#bd3786"
             ],
             [
              0.5555555555555556,
              "#d8576b"
             ],
             [
              0.6666666666666666,
              "#ed7953"
             ],
             [
              0.7777777777777778,
              "#fb9f3a"
             ],
             [
              0.8888888888888888,
              "#fdca26"
             ],
             [
              1,
              "#f0f921"
             ]
            ],
            "type": "histogram2d"
           }
          ],
          "histogram2dcontour": [
           {
            "colorbar": {
             "outlinewidth": 0,
             "ticks": ""
            },
            "colorscale": [
             [
              0,
              "#0d0887"
             ],
             [
              0.1111111111111111,
              "#46039f"
             ],
             [
              0.2222222222222222,
              "#7201a8"
             ],
             [
              0.3333333333333333,
              "#9c179e"
             ],
             [
              0.4444444444444444,
              "#bd3786"
             ],
             [
              0.5555555555555556,
              "#d8576b"
             ],
             [
              0.6666666666666666,
              "#ed7953"
             ],
             [
              0.7777777777777778,
              "#fb9f3a"
             ],
             [
              0.8888888888888888,
              "#fdca26"
             ],
             [
              1,
              "#f0f921"
             ]
            ],
            "type": "histogram2dcontour"
           }
          ],
          "mesh3d": [
           {
            "colorbar": {
             "outlinewidth": 0,
             "ticks": ""
            },
            "type": "mesh3d"
           }
          ],
          "parcoords": [
           {
            "line": {
             "colorbar": {
              "outlinewidth": 0,
              "ticks": ""
             }
            },
            "type": "parcoords"
           }
          ],
          "pie": [
           {
            "automargin": true,
            "type": "pie"
           }
          ],
          "scatter": [
           {
            "fillpattern": {
             "fillmode": "overlay",
             "size": 10,
             "solidity": 0.2
            },
            "type": "scatter"
           }
          ],
          "scatter3d": [
           {
            "line": {
             "colorbar": {
              "outlinewidth": 0,
              "ticks": ""
             }
            },
            "marker": {
             "colorbar": {
              "outlinewidth": 0,
              "ticks": ""
             }
            },
            "type": "scatter3d"
           }
          ],
          "scattercarpet": [
           {
            "marker": {
             "colorbar": {
              "outlinewidth": 0,
              "ticks": ""
             }
            },
            "type": "scattercarpet"
           }
          ],
          "scattergeo": [
           {
            "marker": {
             "colorbar": {
              "outlinewidth": 0,
              "ticks": ""
             }
            },
            "type": "scattergeo"
           }
          ],
          "scattergl": [
           {
            "marker": {
             "colorbar": {
              "outlinewidth": 0,
              "ticks": ""
             }
            },
            "type": "scattergl"
           }
          ],
          "scattermapbox": [
           {
            "marker": {
             "colorbar": {
              "outlinewidth": 0,
              "ticks": ""
             }
            },
            "type": "scattermapbox"
           }
          ],
          "scatterpolar": [
           {
            "marker": {
             "colorbar": {
              "outlinewidth": 0,
              "ticks": ""
             }
            },
            "type": "scatterpolar"
           }
          ],
          "scatterpolargl": [
           {
            "marker": {
             "colorbar": {
              "outlinewidth": 0,
              "ticks": ""
             }
            },
            "type": "scatterpolargl"
           }
          ],
          "scatterternary": [
           {
            "marker": {
             "colorbar": {
              "outlinewidth": 0,
              "ticks": ""
             }
            },
            "type": "scatterternary"
           }
          ],
          "surface": [
           {
            "colorbar": {
             "outlinewidth": 0,
             "ticks": ""
            },
            "colorscale": [
             [
              0,
              "#0d0887"
             ],
             [
              0.1111111111111111,
              "#46039f"
             ],
             [
              0.2222222222222222,
              "#7201a8"
             ],
             [
              0.3333333333333333,
              "#9c179e"
             ],
             [
              0.4444444444444444,
              "#bd3786"
             ],
             [
              0.5555555555555556,
              "#d8576b"
             ],
             [
              0.6666666666666666,
              "#ed7953"
             ],
             [
              0.7777777777777778,
              "#fb9f3a"
             ],
             [
              0.8888888888888888,
              "#fdca26"
             ],
             [
              1,
              "#f0f921"
             ]
            ],
            "type": "surface"
           }
          ],
          "table": [
           {
            "cells": {
             "fill": {
              "color": "#EBF0F8"
             },
             "line": {
              "color": "white"
             }
            },
            "header": {
             "fill": {
              "color": "#C8D4E3"
             },
             "line": {
              "color": "white"
             }
            },
            "type": "table"
           }
          ]
         },
         "layout": {
          "annotationdefaults": {
           "arrowcolor": "#2a3f5f",
           "arrowhead": 0,
           "arrowwidth": 1
          },
          "autotypenumbers": "strict",
          "coloraxis": {
           "colorbar": {
            "outlinewidth": 0,
            "ticks": ""
           }
          },
          "colorscale": {
           "diverging": [
            [
             0,
             "#8e0152"
            ],
            [
             0.1,
             "#c51b7d"
            ],
            [
             0.2,
             "#de77ae"
            ],
            [
             0.3,
             "#f1b6da"
            ],
            [
             0.4,
             "#fde0ef"
            ],
            [
             0.5,
             "#f7f7f7"
            ],
            [
             0.6,
             "#e6f5d0"
            ],
            [
             0.7,
             "#b8e186"
            ],
            [
             0.8,
             "#7fbc41"
            ],
            [
             0.9,
             "#4d9221"
            ],
            [
             1,
             "#276419"
            ]
           ],
           "sequential": [
            [
             0,
             "#0d0887"
            ],
            [
             0.1111111111111111,
             "#46039f"
            ],
            [
             0.2222222222222222,
             "#7201a8"
            ],
            [
             0.3333333333333333,
             "#9c179e"
            ],
            [
             0.4444444444444444,
             "#bd3786"
            ],
            [
             0.5555555555555556,
             "#d8576b"
            ],
            [
             0.6666666666666666,
             "#ed7953"
            ],
            [
             0.7777777777777778,
             "#fb9f3a"
            ],
            [
             0.8888888888888888,
             "#fdca26"
            ],
            [
             1,
             "#f0f921"
            ]
           ],
           "sequentialminus": [
            [
             0,
             "#0d0887"
            ],
            [
             0.1111111111111111,
             "#46039f"
            ],
            [
             0.2222222222222222,
             "#7201a8"
            ],
            [
             0.3333333333333333,
             "#9c179e"
            ],
            [
             0.4444444444444444,
             "#bd3786"
            ],
            [
             0.5555555555555556,
             "#d8576b"
            ],
            [
             0.6666666666666666,
             "#ed7953"
            ],
            [
             0.7777777777777778,
             "#fb9f3a"
            ],
            [
             0.8888888888888888,
             "#fdca26"
            ],
            [
             1,
             "#f0f921"
            ]
           ]
          },
          "colorway": [
           "#636efa",
           "#EF553B",
           "#00cc96",
           "#ab63fa",
           "#FFA15A",
           "#19d3f3",
           "#FF6692",
           "#B6E880",
           "#FF97FF",
           "#FECB52"
          ],
          "font": {
           "color": "#2a3f5f"
          },
          "geo": {
           "bgcolor": "white",
           "lakecolor": "white",
           "landcolor": "#E5ECF6",
           "showlakes": true,
           "showland": true,
           "subunitcolor": "white"
          },
          "hoverlabel": {
           "align": "left"
          },
          "hovermode": "closest",
          "mapbox": {
           "style": "light"
          },
          "paper_bgcolor": "white",
          "plot_bgcolor": "#E5ECF6",
          "polar": {
           "angularaxis": {
            "gridcolor": "white",
            "linecolor": "white",
            "ticks": ""
           },
           "bgcolor": "#E5ECF6",
           "radialaxis": {
            "gridcolor": "white",
            "linecolor": "white",
            "ticks": ""
           }
          },
          "scene": {
           "xaxis": {
            "backgroundcolor": "#E5ECF6",
            "gridcolor": "white",
            "gridwidth": 2,
            "linecolor": "white",
            "showbackground": true,
            "ticks": "",
            "zerolinecolor": "white"
           },
           "yaxis": {
            "backgroundcolor": "#E5ECF6",
            "gridcolor": "white",
            "gridwidth": 2,
            "linecolor": "white",
            "showbackground": true,
            "ticks": "",
            "zerolinecolor": "white"
           },
           "zaxis": {
            "backgroundcolor": "#E5ECF6",
            "gridcolor": "white",
            "gridwidth": 2,
            "linecolor": "white",
            "showbackground": true,
            "ticks": "",
            "zerolinecolor": "white"
           }
          },
          "shapedefaults": {
           "line": {
            "color": "#2a3f5f"
           }
          },
          "ternary": {
           "aaxis": {
            "gridcolor": "white",
            "linecolor": "white",
            "ticks": ""
           },
           "baxis": {
            "gridcolor": "white",
            "linecolor": "white",
            "ticks": ""
           },
           "bgcolor": "#E5ECF6",
           "caxis": {
            "gridcolor": "white",
            "linecolor": "white",
            "ticks": ""
           }
          },
          "title": {
           "x": 0.05
          },
          "xaxis": {
           "automargin": true,
           "gridcolor": "white",
           "linecolor": "white",
           "ticks": "",
           "title": {
            "standoff": 15
           },
           "zerolinecolor": "white",
           "zerolinewidth": 2
          },
          "yaxis": {
           "automargin": true,
           "gridcolor": "white",
           "linecolor": "white",
           "ticks": "",
           "title": {
            "standoff": 15
           },
           "zerolinecolor": "white",
           "zerolinewidth": 2
          }
         }
        },
        "title": {
         "text": "Weather Parameters by Wind Type"
        },
        "xaxis": {
         "title": {
          "text": "Wind Type"
         }
        },
        "yaxis": {
         "title": {
          "text": "Value"
         }
        }
       }
      }
     },
     "metadata": {},
     "output_type": "display_data"
    }
   ],
   "source": [
    "fig = go.Figure()\n",
    "\n",
    "columns = groupby_wind_type.select_dtypes(include=np.number).columns\n",
    "\n",
    "for col in columns:\n",
    "    fig.add_trace(go.Scatter(x=groupby_wind_type['Wind_Type'], y=groupby_wind_type[col], mode='lines+markers', name=col))\n",
    "\n",
    "# Update layout\n",
    "fig.update_layout(\n",
    "    title='Weather Parameters by Wind Type',\n",
    "    xaxis=dict(title='Wind Type'),\n",
    "    yaxis=dict(title='Value'),\n",
    "    legend=dict(title='Parameter')\n",
    ")\n",
    "\n",
    "fig.show()"
   ]
  },
  {
   "cell_type": "markdown",
   "metadata": {},
   "source": [
    "- **Temperature**: There is noticeable variation in average temperatures across different wind types. Wind types such as \"CALM,\" \"S,\" and \"SE\" tend to be associated with higher average temperatures, while \"N,\" \"NNW,\" and \"WNW\" show lower average temperatures.\n",
    "\n",
    "- **Humidity**: Wind types like \"ENE,\" \"NE,\" and \"E\" exhibit higher average humidity levels compared to others, while \"N,\" \"NW,\" \"W,\" and \"WNW\" tend to have lower humidity levels.\n",
    "\n",
    "- **Precipitation**: Certain wind types, such as \"ENE,\" \"N,\" and \"NE,\" show higher average precipitation levels compared to others. Conversely, wind types like \"W,\" \"WNW,\" and \"WSW\" have lower average precipitation.\n",
    "\n",
    "- **Wind Speed**: There is variation in average maximum wind speeds across different wind types. For instance, \"NE,\" \"SE,\" and \"VAR\" show lower average maximum wind speeds, while \"NW\" and \"W\" exhibit higher speeds.\n",
    "\n",
    "- **Pressure**: Average pressure values show less consistent patterns across wind types, with some variation but no clear trends."
   ]
  },
  {
   "cell_type": "markdown",
   "metadata": {},
   "source": [
    "#### Q18: What is the relationship between the condition and other properties?"
   ]
  },
  {
   "cell_type": "code",
   "execution_count": 288,
   "metadata": {},
   "outputs": [
    {
     "data": {
      "text/html": [
       "<div>\n",
       "<style scoped>\n",
       "    .dataframe tbody tr th:only-of-type {\n",
       "        vertical-align: middle;\n",
       "    }\n",
       "\n",
       "    .dataframe tbody tr th {\n",
       "        vertical-align: top;\n",
       "    }\n",
       "\n",
       "    .dataframe thead th {\n",
       "        text-align: right;\n",
       "    }\n",
       "</style>\n",
       "<table border=\"1\" class=\"dataframe\">\n",
       "  <thead>\n",
       "    <tr style=\"text-align: right;\">\n",
       "      <th></th>\n",
       "      <th>Condition</th>\n",
       "      <th>Humidity_Avg(%)</th>\n",
       "      <th>Pressure_Avg(in)</th>\n",
       "      <th>Temperature_Avg</th>\n",
       "      <th>Temperature_Historic</th>\n",
       "      <th>Precipitation_Actual</th>\n",
       "      <th>Precipitation_Historic</th>\n",
       "      <th>Dew_Point</th>\n",
       "      <th>Max_Wind_Speed</th>\n",
       "      <th>Sea_Level_Pressure</th>\n",
       "    </tr>\n",
       "  </thead>\n",
       "  <tbody>\n",
       "    <tr>\n",
       "      <th>0</th>\n",
       "      <td>Cloudy</td>\n",
       "      <td>75.760653</td>\n",
       "      <td>29.933018</td>\n",
       "      <td>52.742344</td>\n",
       "      <td>52.888565</td>\n",
       "      <td>0.077926</td>\n",
       "      <td>4.841122</td>\n",
       "      <td>42.738239</td>\n",
       "      <td>18.080256</td>\n",
       "      <td>30.075774</td>\n",
       "    </tr>\n",
       "    <tr>\n",
       "      <th>1</th>\n",
       "      <td>Fair</td>\n",
       "      <td>53.963650</td>\n",
       "      <td>30.083279</td>\n",
       "      <td>54.216976</td>\n",
       "      <td>55.352900</td>\n",
       "      <td>0.052003</td>\n",
       "      <td>4.703712</td>\n",
       "      <td>33.864695</td>\n",
       "      <td>17.936582</td>\n",
       "      <td>30.175367</td>\n",
       "    </tr>\n",
       "    <tr>\n",
       "      <th>2</th>\n",
       "      <td>Fog</td>\n",
       "      <td>92.585366</td>\n",
       "      <td>29.946829</td>\n",
       "      <td>57.499512</td>\n",
       "      <td>54.048780</td>\n",
       "      <td>0.140732</td>\n",
       "      <td>4.853659</td>\n",
       "      <td>52.497073</td>\n",
       "      <td>17.219512</td>\n",
       "      <td>30.091951</td>\n",
       "    </tr>\n",
       "    <tr>\n",
       "      <th>3</th>\n",
       "      <td>Haze</td>\n",
       "      <td>55.000000</td>\n",
       "      <td>29.760000</td>\n",
       "      <td>71.236667</td>\n",
       "      <td>71.800000</td>\n",
       "      <td>0.093333</td>\n",
       "      <td>4.800000</td>\n",
       "      <td>55.303333</td>\n",
       "      <td>14.333333</td>\n",
       "      <td>29.840000</td>\n",
       "    </tr>\n",
       "    <tr>\n",
       "      <th>4</th>\n",
       "      <td>Heavy Rain</td>\n",
       "      <td>93.000000</td>\n",
       "      <td>30.070000</td>\n",
       "      <td>48.975000</td>\n",
       "      <td>46.750000</td>\n",
       "      <td>0.590000</td>\n",
       "      <td>5.100000</td>\n",
       "      <td>45.040000</td>\n",
       "      <td>23.500000</td>\n",
       "      <td>30.185000</td>\n",
       "    </tr>\n",
       "    <tr>\n",
       "      <th>5</th>\n",
       "      <td>Light Drizzle</td>\n",
       "      <td>89.583333</td>\n",
       "      <td>29.964167</td>\n",
       "      <td>46.402500</td>\n",
       "      <td>44.683333</td>\n",
       "      <td>0.499167</td>\n",
       "      <td>5.225000</td>\n",
       "      <td>40.991667</td>\n",
       "      <td>19.166667</td>\n",
       "      <td>30.094167</td>\n",
       "    </tr>\n",
       "    <tr>\n",
       "      <th>6</th>\n",
       "      <td>Light Rain</td>\n",
       "      <td>86.533613</td>\n",
       "      <td>29.853992</td>\n",
       "      <td>51.749412</td>\n",
       "      <td>51.748319</td>\n",
       "      <td>0.349244</td>\n",
       "      <td>4.800420</td>\n",
       "      <td>45.693824</td>\n",
       "      <td>21.331933</td>\n",
       "      <td>30.055420</td>\n",
       "    </tr>\n",
       "    <tr>\n",
       "      <th>7</th>\n",
       "      <td>Light Snow</td>\n",
       "      <td>79.814815</td>\n",
       "      <td>29.347778</td>\n",
       "      <td>31.403333</td>\n",
       "      <td>37.774074</td>\n",
       "      <td>0.174444</td>\n",
       "      <td>5.498148</td>\n",
       "      <td>23.129444</td>\n",
       "      <td>22.944444</td>\n",
       "      <td>30.081481</td>\n",
       "    </tr>\n",
       "    <tr>\n",
       "      <th>8</th>\n",
       "      <td>Mist</td>\n",
       "      <td>93.000000</td>\n",
       "      <td>30.030000</td>\n",
       "      <td>68.410000</td>\n",
       "      <td>63.300000</td>\n",
       "      <td>0.000000</td>\n",
       "      <td>3.100000</td>\n",
       "      <td>65.970000</td>\n",
       "      <td>10.000000</td>\n",
       "      <td>30.100000</td>\n",
       "    </tr>\n",
       "    <tr>\n",
       "      <th>9</th>\n",
       "      <td>Mostly Cloudy</td>\n",
       "      <td>63.352413</td>\n",
       "      <td>29.968827</td>\n",
       "      <td>61.978401</td>\n",
       "      <td>61.201066</td>\n",
       "      <td>0.079994</td>\n",
       "      <td>4.672671</td>\n",
       "      <td>46.084590</td>\n",
       "      <td>17.621212</td>\n",
       "      <td>30.073300</td>\n",
       "    </tr>\n",
       "    <tr>\n",
       "      <th>10</th>\n",
       "      <td>Partly Cloudy</td>\n",
       "      <td>59.771784</td>\n",
       "      <td>29.974959</td>\n",
       "      <td>63.094108</td>\n",
       "      <td>62.633817</td>\n",
       "      <td>0.055643</td>\n",
       "      <td>4.675726</td>\n",
       "      <td>44.794440</td>\n",
       "      <td>17.989627</td>\n",
       "      <td>30.066100</td>\n",
       "    </tr>\n",
       "    <tr>\n",
       "      <th>11</th>\n",
       "      <td>Rain</td>\n",
       "      <td>89.666667</td>\n",
       "      <td>30.030000</td>\n",
       "      <td>39.093333</td>\n",
       "      <td>39.900000</td>\n",
       "      <td>0.000000</td>\n",
       "      <td>5.366667</td>\n",
       "      <td>34.726667</td>\n",
       "      <td>18.666667</td>\n",
       "      <td>30.473333</td>\n",
       "    </tr>\n",
       "    <tr>\n",
       "      <th>12</th>\n",
       "      <td>Rain and</td>\n",
       "      <td>93.000000</td>\n",
       "      <td>29.770000</td>\n",
       "      <td>38.420000</td>\n",
       "      <td>45.700000</td>\n",
       "      <td>0.000000</td>\n",
       "      <td>5.300000</td>\n",
       "      <td>32.920000</td>\n",
       "      <td>24.000000</td>\n",
       "      <td>30.180000</td>\n",
       "    </tr>\n",
       "    <tr>\n",
       "      <th>13</th>\n",
       "      <td>Smoke</td>\n",
       "      <td>60.333333</td>\n",
       "      <td>29.766667</td>\n",
       "      <td>68.173333</td>\n",
       "      <td>73.100000</td>\n",
       "      <td>0.013333</td>\n",
       "      <td>5.000000</td>\n",
       "      <td>50.070000</td>\n",
       "      <td>17.000000</td>\n",
       "      <td>29.803333</td>\n",
       "    </tr>\n",
       "    <tr>\n",
       "      <th>14</th>\n",
       "      <td>Snow</td>\n",
       "      <td>85.000000</td>\n",
       "      <td>29.680000</td>\n",
       "      <td>24.803333</td>\n",
       "      <td>36.500000</td>\n",
       "      <td>0.256667</td>\n",
       "      <td>5.566667</td>\n",
       "      <td>17.600000</td>\n",
       "      <td>30.333333</td>\n",
       "      <td>30.050000</td>\n",
       "    </tr>\n",
       "    <tr>\n",
       "      <th>15</th>\n",
       "      <td>Wintry Mix</td>\n",
       "      <td>87.600000</td>\n",
       "      <td>29.952000</td>\n",
       "      <td>34.586000</td>\n",
       "      <td>37.980000</td>\n",
       "      <td>0.404000</td>\n",
       "      <td>5.520000</td>\n",
       "      <td>28.714000</td>\n",
       "      <td>24.000000</td>\n",
       "      <td>30.144000</td>\n",
       "    </tr>\n",
       "  </tbody>\n",
       "</table>\n",
       "</div>"
      ],
      "text/plain": [
       "        Condition  Humidity_Avg(%)  Pressure_Avg(in)  Temperature_Avg  \\\n",
       "0          Cloudy        75.760653         29.933018        52.742344   \n",
       "1            Fair        53.963650         30.083279        54.216976   \n",
       "2             Fog        92.585366         29.946829        57.499512   \n",
       "3            Haze        55.000000         29.760000        71.236667   \n",
       "4      Heavy Rain        93.000000         30.070000        48.975000   \n",
       "5   Light Drizzle        89.583333         29.964167        46.402500   \n",
       "6      Light Rain        86.533613         29.853992        51.749412   \n",
       "7      Light Snow        79.814815         29.347778        31.403333   \n",
       "8            Mist        93.000000         30.030000        68.410000   \n",
       "9   Mostly Cloudy        63.352413         29.968827        61.978401   \n",
       "10  Partly Cloudy        59.771784         29.974959        63.094108   \n",
       "11           Rain        89.666667         30.030000        39.093333   \n",
       "12       Rain and        93.000000         29.770000        38.420000   \n",
       "13          Smoke        60.333333         29.766667        68.173333   \n",
       "14           Snow        85.000000         29.680000        24.803333   \n",
       "15     Wintry Mix        87.600000         29.952000        34.586000   \n",
       "\n",
       "    Temperature_Historic  Precipitation_Actual  Precipitation_Historic  \\\n",
       "0              52.888565              0.077926                4.841122   \n",
       "1              55.352900              0.052003                4.703712   \n",
       "2              54.048780              0.140732                4.853659   \n",
       "3              71.800000              0.093333                4.800000   \n",
       "4              46.750000              0.590000                5.100000   \n",
       "5              44.683333              0.499167                5.225000   \n",
       "6              51.748319              0.349244                4.800420   \n",
       "7              37.774074              0.174444                5.498148   \n",
       "8              63.300000              0.000000                3.100000   \n",
       "9              61.201066              0.079994                4.672671   \n",
       "10             62.633817              0.055643                4.675726   \n",
       "11             39.900000              0.000000                5.366667   \n",
       "12             45.700000              0.000000                5.300000   \n",
       "13             73.100000              0.013333                5.000000   \n",
       "14             36.500000              0.256667                5.566667   \n",
       "15             37.980000              0.404000                5.520000   \n",
       "\n",
       "    Dew_Point  Max_Wind_Speed  Sea_Level_Pressure  \n",
       "0   42.738239       18.080256           30.075774  \n",
       "1   33.864695       17.936582           30.175367  \n",
       "2   52.497073       17.219512           30.091951  \n",
       "3   55.303333       14.333333           29.840000  \n",
       "4   45.040000       23.500000           30.185000  \n",
       "5   40.991667       19.166667           30.094167  \n",
       "6   45.693824       21.331933           30.055420  \n",
       "7   23.129444       22.944444           30.081481  \n",
       "8   65.970000       10.000000           30.100000  \n",
       "9   46.084590       17.621212           30.073300  \n",
       "10  44.794440       17.989627           30.066100  \n",
       "11  34.726667       18.666667           30.473333  \n",
       "12  32.920000       24.000000           30.180000  \n",
       "13  50.070000       17.000000           29.803333  \n",
       "14  17.600000       30.333333           30.050000  \n",
       "15  28.714000       24.000000           30.144000  "
      ]
     },
     "execution_count": 288,
     "metadata": {},
     "output_type": "execute_result"
    }
   ],
   "source": [
    "groupby_condition = df.groupby(['Condition'])[numeric_columns[:9]].mean().reset_index()\n",
    "groupby_condition"
   ]
  },
  {
   "cell_type": "code",
   "execution_count": 289,
   "metadata": {},
   "outputs": [
    {
     "data": {
      "application/vnd.plotly.v1+json": {
       "config": {
        "plotlyServerURL": "https://plot.ly"
       },
       "data": [
        {
         "mode": "lines+markers",
         "name": "Humidity_Avg(%)",
         "type": "scatter",
         "x": [
          "Cloudy",
          "Fair",
          "Fog",
          "Haze",
          "Heavy Rain",
          "Light Drizzle",
          "Light Rain",
          "Light Snow",
          "Mist",
          "Mostly Cloudy",
          "Partly Cloudy",
          "Rain",
          "Rain and",
          "Smoke",
          "Snow",
          "Wintry Mix"
         ],
         "y": [
          75.7606534090909,
          53.96365042536736,
          92.58536585365853,
          55,
          93,
          89.58333333333333,
          86.53361344537815,
          79.81481481481481,
          93,
          63.352413019079684,
          59.77178423236514,
          89.66666666666667,
          93,
          60.333333333333336,
          85,
          87.6
         ]
        },
        {
         "mode": "lines+markers",
         "name": "Pressure_Avg(in)",
         "type": "scatter",
         "x": [
          "Cloudy",
          "Fair",
          "Fog",
          "Haze",
          "Heavy Rain",
          "Light Drizzle",
          "Light Rain",
          "Light Snow",
          "Mist",
          "Mostly Cloudy",
          "Partly Cloudy",
          "Rain",
          "Rain and",
          "Smoke",
          "Snow",
          "Wintry Mix"
         ],
         "y": [
          29.933018465909093,
          30.083279195668986,
          29.94682926829268,
          29.76,
          30.07,
          29.964166666666667,
          29.853991596638654,
          29.34777777777778,
          30.03,
          29.968827160493827,
          29.974958506224066,
          30.03,
          29.77,
          29.766666666666666,
          29.679999999999996,
          29.951999999999998
         ]
        },
        {
         "mode": "lines+markers",
         "name": "Temperature_Avg",
         "type": "scatter",
         "x": [
          "Cloudy",
          "Fair",
          "Fog",
          "Haze",
          "Heavy Rain",
          "Light Drizzle",
          "Light Rain",
          "Light Snow",
          "Mist",
          "Mostly Cloudy",
          "Partly Cloudy",
          "Rain",
          "Rain and",
          "Smoke",
          "Snow",
          "Wintry Mix"
         ],
         "y": [
          52.74234375,
          54.21697602474865,
          57.49951219512195,
          71.23666666666666,
          48.975,
          46.4025,
          51.74941176470588,
          31.403333333333332,
          68.41,
          61.97840067340067,
          63.09410788381743,
          39.093333333333334,
          38.42,
          68.17333333333333,
          24.80333333333333,
          34.586
         ]
        },
        {
         "mode": "lines+markers",
         "name": "Temperature_Historic",
         "type": "scatter",
         "x": [
          "Cloudy",
          "Fair",
          "Fog",
          "Haze",
          "Heavy Rain",
          "Light Drizzle",
          "Light Rain",
          "Light Snow",
          "Mist",
          "Mostly Cloudy",
          "Partly Cloudy",
          "Rain",
          "Rain and",
          "Smoke",
          "Snow",
          "Wintry Mix"
         ],
         "y": [
          52.888565340909096,
          55.35290023201856,
          54.048780487804876,
          71.8,
          46.75,
          44.68333333333334,
          51.748319327731096,
          37.77407407407407,
          63.3,
          61.20106621773289,
          62.63381742738589,
          39.9,
          45.7,
          73.10000000000001,
          36.5,
          37.980000000000004
         ]
        },
        {
         "mode": "lines+markers",
         "name": "Precipitation_Actual",
         "type": "scatter",
         "x": [
          "Cloudy",
          "Fair",
          "Fog",
          "Haze",
          "Heavy Rain",
          "Light Drizzle",
          "Light Rain",
          "Light Snow",
          "Mist",
          "Mostly Cloudy",
          "Partly Cloudy",
          "Rain",
          "Rain and",
          "Smoke",
          "Snow",
          "Wintry Mix"
         ],
         "y": [
          0.07792613636363636,
          0.052003093580819795,
          0.14073170731707318,
          0.09333333333333334,
          0.5900000000000001,
          0.4991666666666667,
          0.3492436974789916,
          0.17444444444444443,
          0,
          0.07999438832772167,
          0.055643153526970954,
          0,
          0,
          0.013333333333333334,
          0.25666666666666665,
          0.404
         ]
        },
        {
         "mode": "lines+markers",
         "name": "Precipitation_Historic",
         "type": "scatter",
         "x": [
          "Cloudy",
          "Fair",
          "Fog",
          "Haze",
          "Heavy Rain",
          "Light Drizzle",
          "Light Rain",
          "Light Snow",
          "Mist",
          "Mostly Cloudy",
          "Partly Cloudy",
          "Rain",
          "Rain and",
          "Smoke",
          "Snow",
          "Wintry Mix"
         ],
         "y": [
          4.841122159090909,
          4.703712296983759,
          4.853658536585366,
          4.8,
          5.1,
          5.225,
          4.800420168067227,
          5.498148148148148,
          3.1,
          4.67267115600449,
          4.6757261410788375,
          5.366666666666667,
          5.3,
          5,
          5.566666666666666,
          5.5200000000000005
         ]
        },
        {
         "mode": "lines+markers",
         "name": "Dew_Point",
         "type": "scatter",
         "x": [
          "Cloudy",
          "Fair",
          "Fog",
          "Haze",
          "Heavy Rain",
          "Light Drizzle",
          "Light Rain",
          "Light Snow",
          "Mist",
          "Mostly Cloudy",
          "Partly Cloudy",
          "Rain",
          "Rain and",
          "Smoke",
          "Snow",
          "Wintry Mix"
         ],
         "y": [
          42.73823863636364,
          33.86469450889405,
          52.49707317073171,
          55.303333333333335,
          45.04,
          40.99166666666667,
          45.69382352941176,
          23.129444444444445,
          65.97,
          46.08459034792369,
          44.79443983402489,
          34.72666666666667,
          32.92,
          50.07,
          17.599999999999998,
          28.714
         ]
        },
        {
         "mode": "lines+markers",
         "name": "Max_Wind_Speed",
         "type": "scatter",
         "x": [
          "Cloudy",
          "Fair",
          "Fog",
          "Haze",
          "Heavy Rain",
          "Light Drizzle",
          "Light Rain",
          "Light Snow",
          "Mist",
          "Mostly Cloudy",
          "Partly Cloudy",
          "Rain",
          "Rain and",
          "Smoke",
          "Snow",
          "Wintry Mix"
         ],
         "y": [
          18.080255681818183,
          17.936581593194123,
          17.21951219512195,
          14.333333333333334,
          23.5,
          19.166666666666668,
          21.331932773109244,
          22.944444444444443,
          10,
          17.62121212121212,
          17.989626556016596,
          18.666666666666668,
          24,
          17,
          30.333333333333332,
          24
         ]
        },
        {
         "mode": "lines+markers",
         "name": "Sea_Level_Pressure",
         "type": "scatter",
         "x": [
          "Cloudy",
          "Fair",
          "Fog",
          "Haze",
          "Heavy Rain",
          "Light Drizzle",
          "Light Rain",
          "Light Snow",
          "Mist",
          "Mostly Cloudy",
          "Partly Cloudy",
          "Rain",
          "Rain and",
          "Smoke",
          "Snow",
          "Wintry Mix"
         ],
         "y": [
          30.075774147727273,
          30.17536736272235,
          30.091951219512193,
          29.84,
          30.185,
          30.094166666666666,
          30.055420168067226,
          30.081481481481482,
          30.1,
          30.073299663299665,
          30.066099585062243,
          30.473333333333333,
          30.18,
          29.80333333333333,
          30.05,
          30.144
         ]
        }
       ],
       "layout": {
        "legend": {
         "title": {
          "text": "Parameter"
         }
        },
        "template": {
         "data": {
          "bar": [
           {
            "error_x": {
             "color": "#2a3f5f"
            },
            "error_y": {
             "color": "#2a3f5f"
            },
            "marker": {
             "line": {
              "color": "#E5ECF6",
              "width": 0.5
             },
             "pattern": {
              "fillmode": "overlay",
              "size": 10,
              "solidity": 0.2
             }
            },
            "type": "bar"
           }
          ],
          "barpolar": [
           {
            "marker": {
             "line": {
              "color": "#E5ECF6",
              "width": 0.5
             },
             "pattern": {
              "fillmode": "overlay",
              "size": 10,
              "solidity": 0.2
             }
            },
            "type": "barpolar"
           }
          ],
          "carpet": [
           {
            "aaxis": {
             "endlinecolor": "#2a3f5f",
             "gridcolor": "white",
             "linecolor": "white",
             "minorgridcolor": "white",
             "startlinecolor": "#2a3f5f"
            },
            "baxis": {
             "endlinecolor": "#2a3f5f",
             "gridcolor": "white",
             "linecolor": "white",
             "minorgridcolor": "white",
             "startlinecolor": "#2a3f5f"
            },
            "type": "carpet"
           }
          ],
          "choropleth": [
           {
            "colorbar": {
             "outlinewidth": 0,
             "ticks": ""
            },
            "type": "choropleth"
           }
          ],
          "contour": [
           {
            "colorbar": {
             "outlinewidth": 0,
             "ticks": ""
            },
            "colorscale": [
             [
              0,
              "#0d0887"
             ],
             [
              0.1111111111111111,
              "#46039f"
             ],
             [
              0.2222222222222222,
              "#7201a8"
             ],
             [
              0.3333333333333333,
              "#9c179e"
             ],
             [
              0.4444444444444444,
              "#bd3786"
             ],
             [
              0.5555555555555556,
              "#d8576b"
             ],
             [
              0.6666666666666666,
              "#ed7953"
             ],
             [
              0.7777777777777778,
              "#fb9f3a"
             ],
             [
              0.8888888888888888,
              "#fdca26"
             ],
             [
              1,
              "#f0f921"
             ]
            ],
            "type": "contour"
           }
          ],
          "contourcarpet": [
           {
            "colorbar": {
             "outlinewidth": 0,
             "ticks": ""
            },
            "type": "contourcarpet"
           }
          ],
          "heatmap": [
           {
            "colorbar": {
             "outlinewidth": 0,
             "ticks": ""
            },
            "colorscale": [
             [
              0,
              "#0d0887"
             ],
             [
              0.1111111111111111,
              "#46039f"
             ],
             [
              0.2222222222222222,
              "#7201a8"
             ],
             [
              0.3333333333333333,
              "#9c179e"
             ],
             [
              0.4444444444444444,
              "#bd3786"
             ],
             [
              0.5555555555555556,
              "#d8576b"
             ],
             [
              0.6666666666666666,
              "#ed7953"
             ],
             [
              0.7777777777777778,
              "#fb9f3a"
             ],
             [
              0.8888888888888888,
              "#fdca26"
             ],
             [
              1,
              "#f0f921"
             ]
            ],
            "type": "heatmap"
           }
          ],
          "heatmapgl": [
           {
            "colorbar": {
             "outlinewidth": 0,
             "ticks": ""
            },
            "colorscale": [
             [
              0,
              "#0d0887"
             ],
             [
              0.1111111111111111,
              "#46039f"
             ],
             [
              0.2222222222222222,
              "#7201a8"
             ],
             [
              0.3333333333333333,
              "#9c179e"
             ],
             [
              0.4444444444444444,
              "#bd3786"
             ],
             [
              0.5555555555555556,
              "#d8576b"
             ],
             [
              0.6666666666666666,
              "#ed7953"
             ],
             [
              0.7777777777777778,
              "#fb9f3a"
             ],
             [
              0.8888888888888888,
              "#fdca26"
             ],
             [
              1,
              "#f0f921"
             ]
            ],
            "type": "heatmapgl"
           }
          ],
          "histogram": [
           {
            "marker": {
             "pattern": {
              "fillmode": "overlay",
              "size": 10,
              "solidity": 0.2
             }
            },
            "type": "histogram"
           }
          ],
          "histogram2d": [
           {
            "colorbar": {
             "outlinewidth": 0,
             "ticks": ""
            },
            "colorscale": [
             [
              0,
              "#0d0887"
             ],
             [
              0.1111111111111111,
              "#46039f"
             ],
             [
              0.2222222222222222,
              "#7201a8"
             ],
             [
              0.3333333333333333,
              "#9c179e"
             ],
             [
              0.4444444444444444,
              "#bd3786"
             ],
             [
              0.5555555555555556,
              "#d8576b"
             ],
             [
              0.6666666666666666,
              "#ed7953"
             ],
             [
              0.7777777777777778,
              "#fb9f3a"
             ],
             [
              0.8888888888888888,
              "#fdca26"
             ],
             [
              1,
              "#f0f921"
             ]
            ],
            "type": "histogram2d"
           }
          ],
          "histogram2dcontour": [
           {
            "colorbar": {
             "outlinewidth": 0,
             "ticks": ""
            },
            "colorscale": [
             [
              0,
              "#0d0887"
             ],
             [
              0.1111111111111111,
              "#46039f"
             ],
             [
              0.2222222222222222,
              "#7201a8"
             ],
             [
              0.3333333333333333,
              "#9c179e"
             ],
             [
              0.4444444444444444,
              "#bd3786"
             ],
             [
              0.5555555555555556,
              "#d8576b"
             ],
             [
              0.6666666666666666,
              "#ed7953"
             ],
             [
              0.7777777777777778,
              "#fb9f3a"
             ],
             [
              0.8888888888888888,
              "#fdca26"
             ],
             [
              1,
              "#f0f921"
             ]
            ],
            "type": "histogram2dcontour"
           }
          ],
          "mesh3d": [
           {
            "colorbar": {
             "outlinewidth": 0,
             "ticks": ""
            },
            "type": "mesh3d"
           }
          ],
          "parcoords": [
           {
            "line": {
             "colorbar": {
              "outlinewidth": 0,
              "ticks": ""
             }
            },
            "type": "parcoords"
           }
          ],
          "pie": [
           {
            "automargin": true,
            "type": "pie"
           }
          ],
          "scatter": [
           {
            "fillpattern": {
             "fillmode": "overlay",
             "size": 10,
             "solidity": 0.2
            },
            "type": "scatter"
           }
          ],
          "scatter3d": [
           {
            "line": {
             "colorbar": {
              "outlinewidth": 0,
              "ticks": ""
             }
            },
            "marker": {
             "colorbar": {
              "outlinewidth": 0,
              "ticks": ""
             }
            },
            "type": "scatter3d"
           }
          ],
          "scattercarpet": [
           {
            "marker": {
             "colorbar": {
              "outlinewidth": 0,
              "ticks": ""
             }
            },
            "type": "scattercarpet"
           }
          ],
          "scattergeo": [
           {
            "marker": {
             "colorbar": {
              "outlinewidth": 0,
              "ticks": ""
             }
            },
            "type": "scattergeo"
           }
          ],
          "scattergl": [
           {
            "marker": {
             "colorbar": {
              "outlinewidth": 0,
              "ticks": ""
             }
            },
            "type": "scattergl"
           }
          ],
          "scattermapbox": [
           {
            "marker": {
             "colorbar": {
              "outlinewidth": 0,
              "ticks": ""
             }
            },
            "type": "scattermapbox"
           }
          ],
          "scatterpolar": [
           {
            "marker": {
             "colorbar": {
              "outlinewidth": 0,
              "ticks": ""
             }
            },
            "type": "scatterpolar"
           }
          ],
          "scatterpolargl": [
           {
            "marker": {
             "colorbar": {
              "outlinewidth": 0,
              "ticks": ""
             }
            },
            "type": "scatterpolargl"
           }
          ],
          "scatterternary": [
           {
            "marker": {
             "colorbar": {
              "outlinewidth": 0,
              "ticks": ""
             }
            },
            "type": "scatterternary"
           }
          ],
          "surface": [
           {
            "colorbar": {
             "outlinewidth": 0,
             "ticks": ""
            },
            "colorscale": [
             [
              0,
              "#0d0887"
             ],
             [
              0.1111111111111111,
              "#46039f"
             ],
             [
              0.2222222222222222,
              "#7201a8"
             ],
             [
              0.3333333333333333,
              "#9c179e"
             ],
             [
              0.4444444444444444,
              "#bd3786"
             ],
             [
              0.5555555555555556,
              "#d8576b"
             ],
             [
              0.6666666666666666,
              "#ed7953"
             ],
             [
              0.7777777777777778,
              "#fb9f3a"
             ],
             [
              0.8888888888888888,
              "#fdca26"
             ],
             [
              1,
              "#f0f921"
             ]
            ],
            "type": "surface"
           }
          ],
          "table": [
           {
            "cells": {
             "fill": {
              "color": "#EBF0F8"
             },
             "line": {
              "color": "white"
             }
            },
            "header": {
             "fill": {
              "color": "#C8D4E3"
             },
             "line": {
              "color": "white"
             }
            },
            "type": "table"
           }
          ]
         },
         "layout": {
          "annotationdefaults": {
           "arrowcolor": "#2a3f5f",
           "arrowhead": 0,
           "arrowwidth": 1
          },
          "autotypenumbers": "strict",
          "coloraxis": {
           "colorbar": {
            "outlinewidth": 0,
            "ticks": ""
           }
          },
          "colorscale": {
           "diverging": [
            [
             0,
             "#8e0152"
            ],
            [
             0.1,
             "#c51b7d"
            ],
            [
             0.2,
             "#de77ae"
            ],
            [
             0.3,
             "#f1b6da"
            ],
            [
             0.4,
             "#fde0ef"
            ],
            [
             0.5,
             "#f7f7f7"
            ],
            [
             0.6,
             "#e6f5d0"
            ],
            [
             0.7,
             "#b8e186"
            ],
            [
             0.8,
             "#7fbc41"
            ],
            [
             0.9,
             "#4d9221"
            ],
            [
             1,
             "#276419"
            ]
           ],
           "sequential": [
            [
             0,
             "#0d0887"
            ],
            [
             0.1111111111111111,
             "#46039f"
            ],
            [
             0.2222222222222222,
             "#7201a8"
            ],
            [
             0.3333333333333333,
             "#9c179e"
            ],
            [
             0.4444444444444444,
             "#bd3786"
            ],
            [
             0.5555555555555556,
             "#d8576b"
            ],
            [
             0.6666666666666666,
             "#ed7953"
            ],
            [
             0.7777777777777778,
             "#fb9f3a"
            ],
            [
             0.8888888888888888,
             "#fdca26"
            ],
            [
             1,
             "#f0f921"
            ]
           ],
           "sequentialminus": [
            [
             0,
             "#0d0887"
            ],
            [
             0.1111111111111111,
             "#46039f"
            ],
            [
             0.2222222222222222,
             "#7201a8"
            ],
            [
             0.3333333333333333,
             "#9c179e"
            ],
            [
             0.4444444444444444,
             "#bd3786"
            ],
            [
             0.5555555555555556,
             "#d8576b"
            ],
            [
             0.6666666666666666,
             "#ed7953"
            ],
            [
             0.7777777777777778,
             "#fb9f3a"
            ],
            [
             0.8888888888888888,
             "#fdca26"
            ],
            [
             1,
             "#f0f921"
            ]
           ]
          },
          "colorway": [
           "#636efa",
           "#EF553B",
           "#00cc96",
           "#ab63fa",
           "#FFA15A",
           "#19d3f3",
           "#FF6692",
           "#B6E880",
           "#FF97FF",
           "#FECB52"
          ],
          "font": {
           "color": "#2a3f5f"
          },
          "geo": {
           "bgcolor": "white",
           "lakecolor": "white",
           "landcolor": "#E5ECF6",
           "showlakes": true,
           "showland": true,
           "subunitcolor": "white"
          },
          "hoverlabel": {
           "align": "left"
          },
          "hovermode": "closest",
          "mapbox": {
           "style": "light"
          },
          "paper_bgcolor": "white",
          "plot_bgcolor": "#E5ECF6",
          "polar": {
           "angularaxis": {
            "gridcolor": "white",
            "linecolor": "white",
            "ticks": ""
           },
           "bgcolor": "#E5ECF6",
           "radialaxis": {
            "gridcolor": "white",
            "linecolor": "white",
            "ticks": ""
           }
          },
          "scene": {
           "xaxis": {
            "backgroundcolor": "#E5ECF6",
            "gridcolor": "white",
            "gridwidth": 2,
            "linecolor": "white",
            "showbackground": true,
            "ticks": "",
            "zerolinecolor": "white"
           },
           "yaxis": {
            "backgroundcolor": "#E5ECF6",
            "gridcolor": "white",
            "gridwidth": 2,
            "linecolor": "white",
            "showbackground": true,
            "ticks": "",
            "zerolinecolor": "white"
           },
           "zaxis": {
            "backgroundcolor": "#E5ECF6",
            "gridcolor": "white",
            "gridwidth": 2,
            "linecolor": "white",
            "showbackground": true,
            "ticks": "",
            "zerolinecolor": "white"
           }
          },
          "shapedefaults": {
           "line": {
            "color": "#2a3f5f"
           }
          },
          "ternary": {
           "aaxis": {
            "gridcolor": "white",
            "linecolor": "white",
            "ticks": ""
           },
           "baxis": {
            "gridcolor": "white",
            "linecolor": "white",
            "ticks": ""
           },
           "bgcolor": "#E5ECF6",
           "caxis": {
            "gridcolor": "white",
            "linecolor": "white",
            "ticks": ""
           }
          },
          "title": {
           "x": 0.05
          },
          "xaxis": {
           "automargin": true,
           "gridcolor": "white",
           "linecolor": "white",
           "ticks": "",
           "title": {
            "standoff": 15
           },
           "zerolinecolor": "white",
           "zerolinewidth": 2
          },
          "yaxis": {
           "automargin": true,
           "gridcolor": "white",
           "linecolor": "white",
           "ticks": "",
           "title": {
            "standoff": 15
           },
           "zerolinecolor": "white",
           "zerolinewidth": 2
          }
         }
        },
        "title": {
         "text": "Weather Parameters by Condition "
        },
        "xaxis": {
         "title": {
          "text": "Condtion"
         }
        },
        "yaxis": {
         "title": {
          "text": "Value"
         }
        }
       }
      }
     },
     "metadata": {},
     "output_type": "display_data"
    }
   ],
   "source": [
    "fig = go.Figure()\n",
    "\n",
    "columns = groupby_condition.select_dtypes(include=np.number).columns\n",
    "\n",
    "for col in columns:\n",
    "    fig.add_trace(go.Scatter(x=groupby_condition['Condition'], y=groupby_condition[col], mode='lines+markers', name=col))\n",
    "\n",
    "# Update layout\n",
    "fig.update_layout(\n",
    "    title='Weather Parameters by Condition ',\n",
    "    xaxis=dict(title='Condtion'),\n",
    "    yaxis=dict(title='Value'),\n",
    "    legend=dict(title='Parameter')\n",
    ")\n",
    "\n",
    "fig.show()"
   ]
  },
  {
   "cell_type": "markdown",
   "metadata": {},
   "source": [
    "\n",
    "- **Temperature**: Different weather conditions exhibit significant variation in average temperatures. For instance, \"Haze\" and \"Heavy Rain\" have notably different average temperatures compared to \"Light Snow\" or \"Snow.\" \"Fair\" weather conditions tend to have moderate temperatures.\n",
    "\n",
    "- **Humidity**: Weather conditions such as \"Fog,\" \"Mist,\" \"Heavy Rain,\" and \"Light Drizzle\" are associated with higher average humidity levels, indicating moist atmospheric conditions. Conversely, \"Fair\" and \"Partly Cloudy\" conditions tend to have lower humidity levels.\n",
    "\n",
    "- **Wind Speed**: There is variability in average maximum wind speeds across different weather conditions. Conditions such as \"Heavy Rain\" and \"Rain\" tend to have higher average maximum wind speeds compared to conditions like \"Light Drizzle\" or \"Fair.\"\n",
    "\n",
    "- **Sea Level Pressure**: Sea level pressure also varies among different weather conditions. \"Rain\" and \"Rain and\" conditions show slightly higher average sea level pressures compared to conditions like \"Heavy Rain\" or \"Mist.\"\n",
    "\n",
    "- **Dew Point**: Weather conditions such as \"Fog,\" \"Mist,\" and \"Light Drizzle\" exhibit higher average dew points, indicating higher moisture content in the air. Conversely, conditions like \"Haze\" and \"Snow\" have lower average dew points.\n"
   ]
  },
  {
   "cell_type": "markdown",
   "metadata": {},
   "source": [
    "#### Q19: Is there relationship between wind type and weather conditions?"
   ]
  },
  {
   "cell_type": "markdown",
   "metadata": {},
   "source": [
    "The significance level is 0.05 and the null hypothesis that there is no relationship between the two features"
   ]
  },
  {
   "cell_type": "code",
   "execution_count": 290,
   "metadata": {},
   "outputs": [
    {
     "name": "stdout",
     "output_type": "stream",
     "text": [
      "P-value: 9.623057028373488e-159\n"
     ]
    }
   ],
   "source": [
    "import scipy.stats as stats\n",
    "\n",
    "contingency_table = pd.crosstab(df['Wind_Type'], df['Condition'])\n",
    "chi2, p, dof, expected = stats.chi2_contingency(contingency_table)\n",
    "\n",
    "print(f\"P-value: {p}\")"
   ]
  },
  {
   "cell_type": "markdown",
   "metadata": {},
   "source": [
    "the p-value is much smaller than 0.05, so the null hypothesis reject at the 0.05 significance level, concluding that there is a significant relationship between the two featur"
   ]
  },
  {
   "cell_type": "markdown",
   "metadata": {},
   "source": [
    "### Indexing with Time Series Data"
   ]
  },
  {
   "cell_type": "code",
   "execution_count": 291,
   "metadata": {},
   "outputs": [],
   "source": [
    "df.set_index('Date',inplace=True)"
   ]
  },
  {
   "cell_type": "code",
   "execution_count": 292,
   "metadata": {},
   "outputs": [
    {
     "data": {
      "text/plain": [
       "DatetimeIndex(['2009-01-01', '2009-01-02', '2009-01-03', '2009-01-04',\n",
       "               '2009-01-05', '2009-01-06', '2009-01-07', '2009-01-08',\n",
       "               '2009-01-09', '2009-01-10',\n",
       "               ...\n",
       "               '2023-12-21', '2023-12-22', '2023-12-23', '2023-12-24',\n",
       "               '2023-12-25', '2023-12-26', '2023-12-27', '2023-12-28',\n",
       "               '2023-12-29', '2023-12-30'],\n",
       "              dtype='datetime64[ns]', name='Date', length=5331, freq=None)"
      ]
     },
     "execution_count": 292,
     "metadata": {},
     "output_type": "execute_result"
    }
   ],
   "source": [
    "# check\n",
    "df.index"
   ]
  },
  {
   "cell_type": "markdown",
   "metadata": {},
   "source": [
    "### Normalization "
   ]
  },
  {
   "cell_type": "code",
   "execution_count": 293,
   "metadata": {},
   "outputs": [],
   "source": [
    "numerical_columns = df.select_dtypes(include='number').columns\n",
    "\n",
    "# Apply normalization  only to numerical columns\n",
    "scaler = MinMaxScaler()\n",
    "df[numerical_columns] = scaler.fit_transform(df[numerical_columns])"
   ]
  },
  {
   "cell_type": "code",
   "execution_count": 294,
   "metadata": {},
   "outputs": [
    {
     "data": {
      "text/html": [
       "<div>\n",
       "<style scoped>\n",
       "    .dataframe tbody tr th:only-of-type {\n",
       "        vertical-align: middle;\n",
       "    }\n",
       "\n",
       "    .dataframe tbody tr th {\n",
       "        vertical-align: top;\n",
       "    }\n",
       "\n",
       "    .dataframe thead th {\n",
       "        text-align: right;\n",
       "    }\n",
       "</style>\n",
       "<table border=\"1\" class=\"dataframe\">\n",
       "  <thead>\n",
       "    <tr style=\"text-align: right;\">\n",
       "      <th></th>\n",
       "      <th>Humidity_Avg(%)</th>\n",
       "      <th>Wind_Type</th>\n",
       "      <th>Pressure_Avg(in)</th>\n",
       "      <th>Condition</th>\n",
       "      <th>Temperature_Avg</th>\n",
       "      <th>Temperature_Historic</th>\n",
       "      <th>Precipitation_Actual</th>\n",
       "      <th>Precipitation_Historic</th>\n",
       "      <th>Dew_Point</th>\n",
       "      <th>Max_Wind_Speed</th>\n",
       "      <th>Sea_Level_Pressure</th>\n",
       "      <th>Day_Length(Minutes)</th>\n",
       "      <th>Year</th>\n",
       "      <th>Month</th>\n",
       "      <th>Day_of_weak</th>\n",
       "      <th>DayOfYear</th>\n",
       "    </tr>\n",
       "    <tr>\n",
       "      <th>Date</th>\n",
       "      <th></th>\n",
       "      <th></th>\n",
       "      <th></th>\n",
       "      <th></th>\n",
       "      <th></th>\n",
       "      <th></th>\n",
       "      <th></th>\n",
       "      <th></th>\n",
       "      <th></th>\n",
       "      <th></th>\n",
       "      <th></th>\n",
       "      <th></th>\n",
       "      <th></th>\n",
       "      <th></th>\n",
       "      <th></th>\n",
       "      <th></th>\n",
       "    </tr>\n",
       "  </thead>\n",
       "  <tbody>\n",
       "    <tr>\n",
       "      <th>2009-01-01</th>\n",
       "      <td>0.511364</td>\n",
       "      <td>NW</td>\n",
       "      <td>0.982137</td>\n",
       "      <td>Fair</td>\n",
       "      <td>0.149067</td>\n",
       "      <td>0.050218</td>\n",
       "      <td>0.0</td>\n",
       "      <td>1.0</td>\n",
       "      <td>0.187131</td>\n",
       "      <td>0.448980</td>\n",
       "      <td>0.631579</td>\n",
       "      <td>0.011396</td>\n",
       "      <td>0.0</td>\n",
       "      <td>0.0</td>\n",
       "      <td>0.500000</td>\n",
       "      <td>0.000000</td>\n",
       "    </tr>\n",
       "    <tr>\n",
       "      <th>2009-01-02</th>\n",
       "      <td>0.715909</td>\n",
       "      <td>SW</td>\n",
       "      <td>0.965898</td>\n",
       "      <td>Cloudy</td>\n",
       "      <td>0.260572</td>\n",
       "      <td>0.045852</td>\n",
       "      <td>0.0</td>\n",
       "      <td>1.0</td>\n",
       "      <td>0.346749</td>\n",
       "      <td>0.224490</td>\n",
       "      <td>0.578947</td>\n",
       "      <td>0.014245</td>\n",
       "      <td>0.0</td>\n",
       "      <td>0.0</td>\n",
       "      <td>0.666667</td>\n",
       "      <td>0.002740</td>\n",
       "    </tr>\n",
       "    <tr>\n",
       "      <th>2009-01-03</th>\n",
       "      <td>0.386364</td>\n",
       "      <td>WNW</td>\n",
       "      <td>0.972718</td>\n",
       "      <td>Fair</td>\n",
       "      <td>0.297189</td>\n",
       "      <td>0.041485</td>\n",
       "      <td>0.0</td>\n",
       "      <td>1.0</td>\n",
       "      <td>0.334470</td>\n",
       "      <td>0.367347</td>\n",
       "      <td>0.493421</td>\n",
       "      <td>0.017094</td>\n",
       "      <td>0.0</td>\n",
       "      <td>0.0</td>\n",
       "      <td>0.833333</td>\n",
       "      <td>0.005479</td>\n",
       "    </tr>\n",
       "    <tr>\n",
       "      <th>2009-01-04</th>\n",
       "      <td>0.465909</td>\n",
       "      <td>WNW</td>\n",
       "      <td>0.974667</td>\n",
       "      <td>Fair</td>\n",
       "      <td>0.293763</td>\n",
       "      <td>0.037118</td>\n",
       "      <td>0.0</td>\n",
       "      <td>1.0</td>\n",
       "      <td>0.287176</td>\n",
       "      <td>0.326531</td>\n",
       "      <td>0.519737</td>\n",
       "      <td>0.019943</td>\n",
       "      <td>0.0</td>\n",
       "      <td>0.0</td>\n",
       "      <td>1.000000</td>\n",
       "      <td>0.008219</td>\n",
       "    </tr>\n",
       "    <tr>\n",
       "      <th>2009-01-05</th>\n",
       "      <td>0.465909</td>\n",
       "      <td>NW</td>\n",
       "      <td>0.971095</td>\n",
       "      <td>Cloudy</td>\n",
       "      <td>0.386487</td>\n",
       "      <td>0.034934</td>\n",
       "      <td>0.0</td>\n",
       "      <td>1.0</td>\n",
       "      <td>0.391769</td>\n",
       "      <td>0.224490</td>\n",
       "      <td>0.447368</td>\n",
       "      <td>0.022792</td>\n",
       "      <td>0.0</td>\n",
       "      <td>0.0</td>\n",
       "      <td>0.000000</td>\n",
       "      <td>0.010959</td>\n",
       "    </tr>\n",
       "  </tbody>\n",
       "</table>\n",
       "</div>"
      ],
      "text/plain": [
       "            Humidity_Avg(%) Wind_Type  Pressure_Avg(in) Condition  \\\n",
       "Date                                                                \n",
       "2009-01-01         0.511364        NW          0.982137      Fair   \n",
       "2009-01-02         0.715909        SW          0.965898    Cloudy   \n",
       "2009-01-03         0.386364       WNW          0.972718      Fair   \n",
       "2009-01-04         0.465909       WNW          0.974667      Fair   \n",
       "2009-01-05         0.465909        NW          0.971095    Cloudy   \n",
       "\n",
       "            Temperature_Avg  Temperature_Historic  Precipitation_Actual  \\\n",
       "Date                                                                      \n",
       "2009-01-01         0.149067              0.050218                   0.0   \n",
       "2009-01-02         0.260572              0.045852                   0.0   \n",
       "2009-01-03         0.297189              0.041485                   0.0   \n",
       "2009-01-04         0.293763              0.037118                   0.0   \n",
       "2009-01-05         0.386487              0.034934                   0.0   \n",
       "\n",
       "            Precipitation_Historic  Dew_Point  Max_Wind_Speed  \\\n",
       "Date                                                            \n",
       "2009-01-01                     1.0   0.187131        0.448980   \n",
       "2009-01-02                     1.0   0.346749        0.224490   \n",
       "2009-01-03                     1.0   0.334470        0.367347   \n",
       "2009-01-04                     1.0   0.287176        0.326531   \n",
       "2009-01-05                     1.0   0.391769        0.224490   \n",
       "\n",
       "            Sea_Level_Pressure  Day_Length(Minutes)  Year  Month  Day_of_weak  \\\n",
       "Date                                                                            \n",
       "2009-01-01            0.631579             0.011396   0.0    0.0     0.500000   \n",
       "2009-01-02            0.578947             0.014245   0.0    0.0     0.666667   \n",
       "2009-01-03            0.493421             0.017094   0.0    0.0     0.833333   \n",
       "2009-01-04            0.519737             0.019943   0.0    0.0     1.000000   \n",
       "2009-01-05            0.447368             0.022792   0.0    0.0     0.000000   \n",
       "\n",
       "            DayOfYear  \n",
       "Date                   \n",
       "2009-01-01   0.000000  \n",
       "2009-01-02   0.002740  \n",
       "2009-01-03   0.005479  \n",
       "2009-01-04   0.008219  \n",
       "2009-01-05   0.010959  "
      ]
     },
     "execution_count": 294,
     "metadata": {},
     "output_type": "execute_result"
    }
   ],
   "source": [
    "#check\n",
    "df.head()"
   ]
  },
  {
   "cell_type": "markdown",
   "metadata": {},
   "source": [
    "#### Feature Selection"
   ]
  },
  {
   "cell_type": "code",
   "execution_count": 295,
   "metadata": {},
   "outputs": [],
   "source": [
    "df.drop(['Year','Month','Day_of_weak','DayOfYear'],axis=1,inplace=True)"
   ]
  },
  {
   "cell_type": "markdown",
   "metadata": {},
   "source": [
    "### Encoding"
   ]
  },
  {
   "cell_type": "code",
   "execution_count": 296,
   "metadata": {},
   "outputs": [
    {
     "data": {
      "text/html": [
       "<div>\n",
       "<style scoped>\n",
       "    .dataframe tbody tr th:only-of-type {\n",
       "        vertical-align: middle;\n",
       "    }\n",
       "\n",
       "    .dataframe tbody tr th {\n",
       "        vertical-align: top;\n",
       "    }\n",
       "\n",
       "    .dataframe thead th {\n",
       "        text-align: right;\n",
       "    }\n",
       "</style>\n",
       "<table border=\"1\" class=\"dataframe\">\n",
       "  <thead>\n",
       "    <tr style=\"text-align: right;\">\n",
       "      <th></th>\n",
       "      <th>Humidity_Avg(%)</th>\n",
       "      <th>Pressure_Avg(in)</th>\n",
       "      <th>Temperature_Avg</th>\n",
       "      <th>Temperature_Historic</th>\n",
       "      <th>Precipitation_Actual</th>\n",
       "      <th>Precipitation_Historic</th>\n",
       "      <th>Dew_Point</th>\n",
       "      <th>Max_Wind_Speed</th>\n",
       "      <th>Sea_Level_Pressure</th>\n",
       "      <th>Day_Length(Minutes)</th>\n",
       "      <th>...</th>\n",
       "      <th>Condition_Light Rain</th>\n",
       "      <th>Condition_Light Snow</th>\n",
       "      <th>Condition_Mist</th>\n",
       "      <th>Condition_Mostly Cloudy</th>\n",
       "      <th>Condition_Partly Cloudy</th>\n",
       "      <th>Condition_Rain</th>\n",
       "      <th>Condition_Rain and</th>\n",
       "      <th>Condition_Smoke</th>\n",
       "      <th>Condition_Snow</th>\n",
       "      <th>Condition_Wintry Mix</th>\n",
       "    </tr>\n",
       "    <tr>\n",
       "      <th>Date</th>\n",
       "      <th></th>\n",
       "      <th></th>\n",
       "      <th></th>\n",
       "      <th></th>\n",
       "      <th></th>\n",
       "      <th></th>\n",
       "      <th></th>\n",
       "      <th></th>\n",
       "      <th></th>\n",
       "      <th></th>\n",
       "      <th></th>\n",
       "      <th></th>\n",
       "      <th></th>\n",
       "      <th></th>\n",
       "      <th></th>\n",
       "      <th></th>\n",
       "      <th></th>\n",
       "      <th></th>\n",
       "      <th></th>\n",
       "      <th></th>\n",
       "      <th></th>\n",
       "    </tr>\n",
       "  </thead>\n",
       "  <tbody>\n",
       "    <tr>\n",
       "      <th>2009-01-01</th>\n",
       "      <td>0.511364</td>\n",
       "      <td>0.982137</td>\n",
       "      <td>0.149067</td>\n",
       "      <td>0.050218</td>\n",
       "      <td>0.0</td>\n",
       "      <td>1.0</td>\n",
       "      <td>0.187131</td>\n",
       "      <td>0.448980</td>\n",
       "      <td>0.631579</td>\n",
       "      <td>0.011396</td>\n",
       "      <td>...</td>\n",
       "      <td>0</td>\n",
       "      <td>0</td>\n",
       "      <td>0</td>\n",
       "      <td>0</td>\n",
       "      <td>0</td>\n",
       "      <td>0</td>\n",
       "      <td>0</td>\n",
       "      <td>0</td>\n",
       "      <td>0</td>\n",
       "      <td>0</td>\n",
       "    </tr>\n",
       "    <tr>\n",
       "      <th>2009-01-02</th>\n",
       "      <td>0.715909</td>\n",
       "      <td>0.965898</td>\n",
       "      <td>0.260572</td>\n",
       "      <td>0.045852</td>\n",
       "      <td>0.0</td>\n",
       "      <td>1.0</td>\n",
       "      <td>0.346749</td>\n",
       "      <td>0.224490</td>\n",
       "      <td>0.578947</td>\n",
       "      <td>0.014245</td>\n",
       "      <td>...</td>\n",
       "      <td>0</td>\n",
       "      <td>0</td>\n",
       "      <td>0</td>\n",
       "      <td>0</td>\n",
       "      <td>0</td>\n",
       "      <td>0</td>\n",
       "      <td>0</td>\n",
       "      <td>0</td>\n",
       "      <td>0</td>\n",
       "      <td>0</td>\n",
       "    </tr>\n",
       "    <tr>\n",
       "      <th>2009-01-03</th>\n",
       "      <td>0.386364</td>\n",
       "      <td>0.972718</td>\n",
       "      <td>0.297189</td>\n",
       "      <td>0.041485</td>\n",
       "      <td>0.0</td>\n",
       "      <td>1.0</td>\n",
       "      <td>0.334470</td>\n",
       "      <td>0.367347</td>\n",
       "      <td>0.493421</td>\n",
       "      <td>0.017094</td>\n",
       "      <td>...</td>\n",
       "      <td>0</td>\n",
       "      <td>0</td>\n",
       "      <td>0</td>\n",
       "      <td>0</td>\n",
       "      <td>0</td>\n",
       "      <td>0</td>\n",
       "      <td>0</td>\n",
       "      <td>0</td>\n",
       "      <td>0</td>\n",
       "      <td>0</td>\n",
       "    </tr>\n",
       "    <tr>\n",
       "      <th>2009-01-04</th>\n",
       "      <td>0.465909</td>\n",
       "      <td>0.974667</td>\n",
       "      <td>0.293763</td>\n",
       "      <td>0.037118</td>\n",
       "      <td>0.0</td>\n",
       "      <td>1.0</td>\n",
       "      <td>0.287176</td>\n",
       "      <td>0.326531</td>\n",
       "      <td>0.519737</td>\n",
       "      <td>0.019943</td>\n",
       "      <td>...</td>\n",
       "      <td>0</td>\n",
       "      <td>0</td>\n",
       "      <td>0</td>\n",
       "      <td>0</td>\n",
       "      <td>0</td>\n",
       "      <td>0</td>\n",
       "      <td>0</td>\n",
       "      <td>0</td>\n",
       "      <td>0</td>\n",
       "      <td>0</td>\n",
       "    </tr>\n",
       "    <tr>\n",
       "      <th>2009-01-05</th>\n",
       "      <td>0.465909</td>\n",
       "      <td>0.971095</td>\n",
       "      <td>0.386487</td>\n",
       "      <td>0.034934</td>\n",
       "      <td>0.0</td>\n",
       "      <td>1.0</td>\n",
       "      <td>0.391769</td>\n",
       "      <td>0.224490</td>\n",
       "      <td>0.447368</td>\n",
       "      <td>0.022792</td>\n",
       "      <td>...</td>\n",
       "      <td>0</td>\n",
       "      <td>0</td>\n",
       "      <td>0</td>\n",
       "      <td>0</td>\n",
       "      <td>0</td>\n",
       "      <td>0</td>\n",
       "      <td>0</td>\n",
       "      <td>0</td>\n",
       "      <td>0</td>\n",
       "      <td>0</td>\n",
       "    </tr>\n",
       "  </tbody>\n",
       "</table>\n",
       "<p>5 rows × 44 columns</p>\n",
       "</div>"
      ],
      "text/plain": [
       "            Humidity_Avg(%)  Pressure_Avg(in)  Temperature_Avg  \\\n",
       "Date                                                             \n",
       "2009-01-01         0.511364          0.982137         0.149067   \n",
       "2009-01-02         0.715909          0.965898         0.260572   \n",
       "2009-01-03         0.386364          0.972718         0.297189   \n",
       "2009-01-04         0.465909          0.974667         0.293763   \n",
       "2009-01-05         0.465909          0.971095         0.386487   \n",
       "\n",
       "            Temperature_Historic  Precipitation_Actual  \\\n",
       "Date                                                     \n",
       "2009-01-01              0.050218                   0.0   \n",
       "2009-01-02              0.045852                   0.0   \n",
       "2009-01-03              0.041485                   0.0   \n",
       "2009-01-04              0.037118                   0.0   \n",
       "2009-01-05              0.034934                   0.0   \n",
       "\n",
       "            Precipitation_Historic  Dew_Point  Max_Wind_Speed  \\\n",
       "Date                                                            \n",
       "2009-01-01                     1.0   0.187131        0.448980   \n",
       "2009-01-02                     1.0   0.346749        0.224490   \n",
       "2009-01-03                     1.0   0.334470        0.367347   \n",
       "2009-01-04                     1.0   0.287176        0.326531   \n",
       "2009-01-05                     1.0   0.391769        0.224490   \n",
       "\n",
       "            Sea_Level_Pressure  Day_Length(Minutes)  ...  \\\n",
       "Date                                                 ...   \n",
       "2009-01-01            0.631579             0.011396  ...   \n",
       "2009-01-02            0.578947             0.014245  ...   \n",
       "2009-01-03            0.493421             0.017094  ...   \n",
       "2009-01-04            0.519737             0.019943  ...   \n",
       "2009-01-05            0.447368             0.022792  ...   \n",
       "\n",
       "            Condition_Light Rain  Condition_Light Snow  Condition_Mist  \\\n",
       "Date                                                                     \n",
       "2009-01-01                     0                     0               0   \n",
       "2009-01-02                     0                     0               0   \n",
       "2009-01-03                     0                     0               0   \n",
       "2009-01-04                     0                     0               0   \n",
       "2009-01-05                     0                     0               0   \n",
       "\n",
       "            Condition_Mostly Cloudy  Condition_Partly Cloudy  Condition_Rain  \\\n",
       "Date                                                                           \n",
       "2009-01-01                        0                        0               0   \n",
       "2009-01-02                        0                        0               0   \n",
       "2009-01-03                        0                        0               0   \n",
       "2009-01-04                        0                        0               0   \n",
       "2009-01-05                        0                        0               0   \n",
       "\n",
       "            Condition_Rain and  Condition_Smoke  Condition_Snow  \\\n",
       "Date                                                              \n",
       "2009-01-01                   0                0               0   \n",
       "2009-01-02                   0                0               0   \n",
       "2009-01-03                   0                0               0   \n",
       "2009-01-04                   0                0               0   \n",
       "2009-01-05                   0                0               0   \n",
       "\n",
       "            Condition_Wintry Mix  \n",
       "Date                              \n",
       "2009-01-01                     0  \n",
       "2009-01-02                     0  \n",
       "2009-01-03                     0  \n",
       "2009-01-04                     0  \n",
       "2009-01-05                     0  \n",
       "\n",
       "[5 rows x 44 columns]"
      ]
     },
     "execution_count": 296,
     "metadata": {},
     "output_type": "execute_result"
    }
   ],
   "source": [
    "one_hot_encoder = OneHotEncoder(sparse=False)\n",
    "df = pd.get_dummies(df, columns=['Wind_Type','Condition'], dtype=int)\n",
    "# check\n",
    "df.head()"
   ]
  },
  {
   "cell_type": "markdown",
   "metadata": {},
   "source": [
    "## Trend And Seasonality"
   ]
  },
  {
   "cell_type": "markdown",
   "metadata": {},
   "source": [
    "#### Check For Stationarity"
   ]
  },
  {
   "cell_type": "code",
   "execution_count": 297,
   "metadata": {},
   "outputs": [],
   "source": [
    "def check_stationarity(series):\n",
    "    \"\"\" \n",
    "    Checks the stationarity of a given time series.\n",
    "\n",
    "    Args:\n",
    "        series (pd.Series): The time series to check for stationarity.\n",
    "\n",
    "    Returns:\n",
    "        bool: True if the series is stationary (p-value < 0.05), False otherwise.\n",
    "    \"\"\"\n",
    "    result = adfuller(series)\n",
    "    p_value = result[1]\n",
    "    return p_value < 0.05 "
   ]
  },
  {
   "cell_type": "code",
   "execution_count": 298,
   "metadata": {},
   "outputs": [],
   "source": [
    "stationary_data = pd.DataFrame(index=df.index)\n",
    "for col in df.columns:\n",
    "    differenced_series = df[col].diff().dropna()  \n",
    "    if check_stationarity(differenced_series):\n",
    "        stationary_data[col] = differenced_series\n",
    "\n",
    "stationary_data = stationary_data.dropna()"
   ]
  },
  {
   "cell_type": "markdown",
   "metadata": {},
   "source": [
    "## Modeling"
   ]
  },
  {
   "cell_type": "markdown",
   "metadata": {},
   "source": [
    "### Split The Data (80% train, 20% test)"
   ]
  },
  {
   "cell_type": "code",
   "execution_count": 299,
   "metadata": {},
   "outputs": [],
   "source": [
    "train_data, test_data = train_test_split(stationary_data, test_size=0.2, random_state=False)\n"
   ]
  },
  {
   "cell_type": "code",
   "execution_count": 300,
   "metadata": {},
   "outputs": [
    {
     "name": "stderr",
     "output_type": "stream",
     "text": [
      "c:\\Users\\User\\AppData\\Local\\Programs\\Python\\Python311\\Lib\\site-packages\\statsmodels\\tsa\\base\\tsa_model.py:473: ValueWarning:\n",
      "\n",
      "A date index has been provided, but it has no associated frequency information and so will be ignored when e.g. forecasting.\n",
      "\n",
      "c:\\Users\\User\\AppData\\Local\\Programs\\Python\\Python311\\Lib\\site-packages\\statsmodels\\tsa\\base\\tsa_model.py:473: ValueWarning:\n",
      "\n",
      "A date index has been provided, but it is not monotonic and so will be ignored when e.g. forecasting.\n",
      "\n"
     ]
    }
   ],
   "source": [
    "model = VAR(train_data)"
   ]
  },
  {
   "cell_type": "code",
   "execution_count": 301,
   "metadata": {},
   "outputs": [],
   "source": [
    "results = model.fit()"
   ]
  },
  {
   "cell_type": "code",
   "execution_count": 302,
   "metadata": {},
   "outputs": [
    {
     "data": {
      "text/html": [
       "<div>\n",
       "<style scoped>\n",
       "    .dataframe tbody tr th:only-of-type {\n",
       "        vertical-align: middle;\n",
       "    }\n",
       "\n",
       "    .dataframe tbody tr th {\n",
       "        vertical-align: top;\n",
       "    }\n",
       "\n",
       "    .dataframe thead th {\n",
       "        text-align: right;\n",
       "    }\n",
       "</style>\n",
       "<table border=\"1\" class=\"dataframe\">\n",
       "  <thead>\n",
       "    <tr style=\"text-align: right;\">\n",
       "      <th></th>\n",
       "      <th>Humidity_Avg(%)</th>\n",
       "      <th>Pressure_Avg(in)</th>\n",
       "      <th>Temperature_Avg</th>\n",
       "      <th>Temperature_Historic</th>\n",
       "      <th>Precipitation_Actual</th>\n",
       "      <th>Precipitation_Historic</th>\n",
       "      <th>Dew_Point</th>\n",
       "      <th>Max_Wind_Speed</th>\n",
       "      <th>Sea_Level_Pressure</th>\n",
       "      <th>Day_Length(Minutes)</th>\n",
       "      <th>...</th>\n",
       "      <th>Condition_Light Rain</th>\n",
       "      <th>Condition_Light Snow</th>\n",
       "      <th>Condition_Mist</th>\n",
       "      <th>Condition_Mostly Cloudy</th>\n",
       "      <th>Condition_Partly Cloudy</th>\n",
       "      <th>Condition_Rain</th>\n",
       "      <th>Condition_Rain and</th>\n",
       "      <th>Condition_Smoke</th>\n",
       "      <th>Condition_Snow</th>\n",
       "      <th>Condition_Wintry Mix</th>\n",
       "    </tr>\n",
       "    <tr>\n",
       "      <th>Date</th>\n",
       "      <th></th>\n",
       "      <th></th>\n",
       "      <th></th>\n",
       "      <th></th>\n",
       "      <th></th>\n",
       "      <th></th>\n",
       "      <th></th>\n",
       "      <th></th>\n",
       "      <th></th>\n",
       "      <th></th>\n",
       "      <th></th>\n",
       "      <th></th>\n",
       "      <th></th>\n",
       "      <th></th>\n",
       "      <th></th>\n",
       "      <th></th>\n",
       "      <th></th>\n",
       "      <th></th>\n",
       "      <th></th>\n",
       "      <th></th>\n",
       "      <th></th>\n",
       "    </tr>\n",
       "  </thead>\n",
       "  <tbody>\n",
       "    <tr>\n",
       "      <th>2021-04-11</th>\n",
       "      <td>0.006910</td>\n",
       "      <td>0.000598</td>\n",
       "      <td>-0.000775</td>\n",
       "      <td>-0.000212</td>\n",
       "      <td>-0.000349</td>\n",
       "      <td>-0.000167</td>\n",
       "      <td>0.001747</td>\n",
       "      <td>-0.002293</td>\n",
       "      <td>0.001971</td>\n",
       "      <td>-0.000012</td>\n",
       "      <td>...</td>\n",
       "      <td>0.001023</td>\n",
       "      <td>-0.005136</td>\n",
       "      <td>2.034327e-04</td>\n",
       "      <td>-0.017841</td>\n",
       "      <td>0.010657</td>\n",
       "      <td>-0.000128</td>\n",
       "      <td>2.742846e-04</td>\n",
       "      <td>0.000411</td>\n",
       "      <td>-0.000020</td>\n",
       "      <td>-0.001512</td>\n",
       "    </tr>\n",
       "    <tr>\n",
       "      <th>2017-06-17</th>\n",
       "      <td>0.001597</td>\n",
       "      <td>-0.000222</td>\n",
       "      <td>-0.000003</td>\n",
       "      <td>-0.000035</td>\n",
       "      <td>0.000042</td>\n",
       "      <td>-0.000038</td>\n",
       "      <td>0.001028</td>\n",
       "      <td>-0.000334</td>\n",
       "      <td>-0.000467</td>\n",
       "      <td>0.000001</td>\n",
       "      <td>...</td>\n",
       "      <td>0.000251</td>\n",
       "      <td>0.000201</td>\n",
       "      <td>1.685914e-04</td>\n",
       "      <td>-0.001675</td>\n",
       "      <td>0.002606</td>\n",
       "      <td>0.000272</td>\n",
       "      <td>-6.626830e-06</td>\n",
       "      <td>0.000481</td>\n",
       "      <td>-0.000223</td>\n",
       "      <td>0.000025</td>\n",
       "    </tr>\n",
       "    <tr>\n",
       "      <th>2023-09-23</th>\n",
       "      <td>0.001476</td>\n",
       "      <td>-0.000267</td>\n",
       "      <td>0.000249</td>\n",
       "      <td>-0.000068</td>\n",
       "      <td>0.000081</td>\n",
       "      <td>-0.000018</td>\n",
       "      <td>0.001124</td>\n",
       "      <td>0.000264</td>\n",
       "      <td>-0.000857</td>\n",
       "      <td>-0.000048</td>\n",
       "      <td>...</td>\n",
       "      <td>-0.000305</td>\n",
       "      <td>-0.000776</td>\n",
       "      <td>-6.947810e-06</td>\n",
       "      <td>-0.000671</td>\n",
       "      <td>0.003645</td>\n",
       "      <td>0.000240</td>\n",
       "      <td>3.516363e-06</td>\n",
       "      <td>0.000472</td>\n",
       "      <td>-0.000238</td>\n",
       "      <td>0.000024</td>\n",
       "    </tr>\n",
       "    <tr>\n",
       "      <th>2019-11-15</th>\n",
       "      <td>0.001619</td>\n",
       "      <td>-0.000255</td>\n",
       "      <td>0.000239</td>\n",
       "      <td>-0.000067</td>\n",
       "      <td>0.000071</td>\n",
       "      <td>-0.000026</td>\n",
       "      <td>0.001143</td>\n",
       "      <td>0.000220</td>\n",
       "      <td>-0.000833</td>\n",
       "      <td>-0.000047</td>\n",
       "      <td>...</td>\n",
       "      <td>-0.000234</td>\n",
       "      <td>-0.000705</td>\n",
       "      <td>-1.266179e-08</td>\n",
       "      <td>-0.000537</td>\n",
       "      <td>0.003518</td>\n",
       "      <td>0.000234</td>\n",
       "      <td>4.982850e-07</td>\n",
       "      <td>0.000469</td>\n",
       "      <td>-0.000234</td>\n",
       "      <td>0.000003</td>\n",
       "    </tr>\n",
       "    <tr>\n",
       "      <th>2012-04-29</th>\n",
       "      <td>0.001621</td>\n",
       "      <td>-0.000255</td>\n",
       "      <td>0.000236</td>\n",
       "      <td>-0.000067</td>\n",
       "      <td>0.000070</td>\n",
       "      <td>-0.000026</td>\n",
       "      <td>0.001142</td>\n",
       "      <td>0.000221</td>\n",
       "      <td>-0.000832</td>\n",
       "      <td>-0.000047</td>\n",
       "      <td>...</td>\n",
       "      <td>-0.000231</td>\n",
       "      <td>-0.000703</td>\n",
       "      <td>-1.674012e-07</td>\n",
       "      <td>-0.000529</td>\n",
       "      <td>0.003516</td>\n",
       "      <td>0.000235</td>\n",
       "      <td>1.017143e-06</td>\n",
       "      <td>0.000469</td>\n",
       "      <td>-0.000235</td>\n",
       "      <td>0.000003</td>\n",
       "    </tr>\n",
       "  </tbody>\n",
       "</table>\n",
       "<p>5 rows × 44 columns</p>\n",
       "</div>"
      ],
      "text/plain": [
       "            Humidity_Avg(%)  Pressure_Avg(in)  Temperature_Avg  \\\n",
       "Date                                                             \n",
       "2021-04-11         0.006910          0.000598        -0.000775   \n",
       "2017-06-17         0.001597         -0.000222        -0.000003   \n",
       "2023-09-23         0.001476         -0.000267         0.000249   \n",
       "2019-11-15         0.001619         -0.000255         0.000239   \n",
       "2012-04-29         0.001621         -0.000255         0.000236   \n",
       "\n",
       "            Temperature_Historic  Precipitation_Actual  \\\n",
       "Date                                                     \n",
       "2021-04-11             -0.000212             -0.000349   \n",
       "2017-06-17             -0.000035              0.000042   \n",
       "2023-09-23             -0.000068              0.000081   \n",
       "2019-11-15             -0.000067              0.000071   \n",
       "2012-04-29             -0.000067              0.000070   \n",
       "\n",
       "            Precipitation_Historic  Dew_Point  Max_Wind_Speed  \\\n",
       "Date                                                            \n",
       "2021-04-11               -0.000167   0.001747       -0.002293   \n",
       "2017-06-17               -0.000038   0.001028       -0.000334   \n",
       "2023-09-23               -0.000018   0.001124        0.000264   \n",
       "2019-11-15               -0.000026   0.001143        0.000220   \n",
       "2012-04-29               -0.000026   0.001142        0.000221   \n",
       "\n",
       "            Sea_Level_Pressure  Day_Length(Minutes)  ...  \\\n",
       "Date                                                 ...   \n",
       "2021-04-11            0.001971            -0.000012  ...   \n",
       "2017-06-17           -0.000467             0.000001  ...   \n",
       "2023-09-23           -0.000857            -0.000048  ...   \n",
       "2019-11-15           -0.000833            -0.000047  ...   \n",
       "2012-04-29           -0.000832            -0.000047  ...   \n",
       "\n",
       "            Condition_Light Rain  Condition_Light Snow  Condition_Mist  \\\n",
       "Date                                                                     \n",
       "2021-04-11              0.001023             -0.005136    2.034327e-04   \n",
       "2017-06-17              0.000251              0.000201    1.685914e-04   \n",
       "2023-09-23             -0.000305             -0.000776   -6.947810e-06   \n",
       "2019-11-15             -0.000234             -0.000705   -1.266179e-08   \n",
       "2012-04-29             -0.000231             -0.000703   -1.674012e-07   \n",
       "\n",
       "            Condition_Mostly Cloudy  Condition_Partly Cloudy  Condition_Rain  \\\n",
       "Date                                                                           \n",
       "2021-04-11                -0.017841                 0.010657       -0.000128   \n",
       "2017-06-17                -0.001675                 0.002606        0.000272   \n",
       "2023-09-23                -0.000671                 0.003645        0.000240   \n",
       "2019-11-15                -0.000537                 0.003518        0.000234   \n",
       "2012-04-29                -0.000529                 0.003516        0.000235   \n",
       "\n",
       "            Condition_Rain and  Condition_Smoke  Condition_Snow  \\\n",
       "Date                                                              \n",
       "2021-04-11        2.742846e-04         0.000411       -0.000020   \n",
       "2017-06-17       -6.626830e-06         0.000481       -0.000223   \n",
       "2023-09-23        3.516363e-06         0.000472       -0.000238   \n",
       "2019-11-15        4.982850e-07         0.000469       -0.000234   \n",
       "2012-04-29        1.017143e-06         0.000469       -0.000235   \n",
       "\n",
       "            Condition_Wintry Mix  \n",
       "Date                              \n",
       "2021-04-11             -0.001512  \n",
       "2017-06-17              0.000025  \n",
       "2023-09-23              0.000024  \n",
       "2019-11-15              0.000003  \n",
       "2012-04-29              0.000003  \n",
       "\n",
       "[5 rows x 44 columns]"
      ]
     },
     "execution_count": 302,
     "metadata": {},
     "output_type": "execute_result"
    }
   ],
   "source": [
    "forecast = results.forecast(test_data.values, len(test_data))\n",
    "forecast = pd.DataFrame(forecast,columns = test_data.columns,index=test_data.index)\n",
    "forecast.head()"
   ]
  },
  {
   "cell_type": "markdown",
   "metadata": {},
   "source": [
    "## Model evaluation"
   ]
  },
  {
   "cell_type": "code",
   "execution_count": 303,
   "metadata": {},
   "outputs": [
    {
     "name": "stdout",
     "output_type": "stream",
     "text": [
      "MSE on test data: 0.06771102207327336\n",
      "RMSE on test data: 0.19527102518439765\n"
     ]
    }
   ],
   "source": [
    "mse_test = mean_squared_error(test_data, forecast)\n",
    "rmse_test = rmse = mean_squared_error(test_data, forecast, squared=False)  \n",
    "print(f'MSE on test data: {mse_test}')\n",
    "print(f'RMSE on test data: {rmse_test }')"
   ]
  }
 ],
 "metadata": {
  "kernelspec": {
   "display_name": "Python 3.11.4 64-bit",
   "language": "python",
   "name": "python3"
  },
  "language_info": {
   "codemirror_mode": {
    "name": "ipython",
    "version": 3
   },
   "file_extension": ".py",
   "mimetype": "text/x-python",
   "name": "python",
   "nbconvert_exporter": "python",
   "pygments_lexer": "ipython3",
   "version": "3.11.4"
  },
  "orig_nbformat": 4,
  "vscode": {
   "interpreter": {
    "hash": "ebfc0a8d552866b0d59eba665220a57de3bc06f3ac643b8bef38dd8f66781fdd"
   }
  }
 },
 "nbformat": 4,
 "nbformat_minor": 2
}
